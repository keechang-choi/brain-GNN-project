{
 "cells": [
  {
   "cell_type": "code",
   "execution_count": 20,
   "metadata": {},
   "outputs": [],
   "source": [
    "import torch\n",
    "\n",
    "from model.GCN_classifier import TimeDiffClassifier\n",
    "from model.GCN_classifier import TimeDiffClassifier_sagpooling\n",
    "\n",
    "import pytorch_lightning as pl\n",
    "\n",
    "import os.path as osp\n",
    "import matplotlib.pyplot as plt\n"
   ]
  },
  {
   "cell_type": "code",
   "execution_count": 2,
   "metadata": {},
   "outputs": [],
   "source": [
    "%load_ext autoreload\n",
    "%autoreload 2"
   ]
  },
  {
   "cell_type": "code",
   "execution_count": 3,
   "metadata": {},
   "outputs": [
    {
     "name": "stdout",
     "output_type": "stream",
     "text": [
      "cpu\n"
     ]
    }
   ],
   "source": [
    "device = torch.device(\"cuda\" if torch.cuda.is_available() else \"cpu\")\n",
    "print(device)\n",
    "hparams = {}\n",
    "hparams['batch_size'] = 32\n",
    "hparams['num_classes'] = 2\n",
    "hparams['hidden_channels'] = 64\n",
    "#hparams['num_node_features'] = 149\n",
    "hparams['batch_size'] = 32\n",
    "hparams['lr'] = 1.0e-03\n",
    "hparams['weight_decay'] = 5.0e-06\n",
    "\n",
    "s='./data_diff'\n",
    "hparams['s_data'] = osp.join(*(s.split('/')))\n",
    "s='./data/DT_File_MAP.xlsx'\n",
    "hparams['s_node'] = osp.join(*(s.split('/')))\n",
    "s='./data/[UNC]ADNI-network/dataTS.csv'\n",
    "hparams['s_date'] = osp.join(*(s.split('/')))\n",
    "s = './sparsification/data'\n",
    "hparams['s_sparsified'] = osp.join(*(s.split('/'))) + osp.sep\n",
    "\n",
    "\n",
    "#model.prepare_data()\n",
    "\n",
    "\n",
    "\n"
   ]
  },
  {
   "cell_type": "code",
   "execution_count": 4,
   "metadata": {},
   "outputs": [],
   "source": [
    "model = TimeDiffClassifier(hparams)\n",
    "model = model.to(device)\n",
    "\n",
    "trainer = None\n",
    "\n",
    "epochs = 300\n",
    "\n",
    "logdir = './lightning_logs'\n",
    "network_logger = pl.loggers.TensorBoardLogger(\n",
    "    save_dir=logdir,\n",
    "    name='TimeDiffClassify_logs'\n",
    ")\n",
    "logger = network_logger\n",
    "\n",
    "early_stopping = pl.callbacks.EarlyStopping(\n",
    "    monitor='val_loss',\n",
    "    patience=30,\n",
    ")"
   ]
  },
  {
   "cell_type": "code",
   "execution_count": 5,
   "metadata": {
    "scrolled": true
   },
   "outputs": [
    {
     "name": "stderr",
     "output_type": "stream",
     "text": [
      "GPU available: False, used: False\n",
      "No environment variable for node rank defined. Set as 0.\n",
      "C:\\Users\\rlckd\\Anaconda3\\envs\\graph_matching\\lib\\site-packages\\pytorch_lightning\\utilities\\distributed.py:23: RuntimeWarning: You have defined a `val_dataloader()` and have defined a `validation_step()`, you may also want to define `validation_epoch_end()` for accumulating stats.\n",
      "  warnings.warn(*args, **kwargs)\n",
      "\n",
      "  | Name              | Type           | Params\n",
      "-------------------------------------------------\n",
      "0 | model             | GCN            | 22 K  \n",
      "1 | model.conv1       | GCNConv        | 9 K   \n",
      "2 | model.conv2       | GCNConv        | 4 K   \n",
      "3 | model.conv3       | GCNConv        | 4 K   \n",
      "4 | model.att         | GlobalAtt_gate | 65    \n",
      "5 | model.att.gate_nn | Linear         | 65    \n",
      "6 | model.lin1        | Linear         | 4 K   \n",
      "7 | model.lin2        | Linear         | 130   \n"
     ]
    },
    {
     "name": "stdout",
     "output_type": "stream",
     "text": [
      "Number of training graphs: 103\n",
      "Number of validation graphs: 12\n",
      "Number of test graphs: 14\n"
     ]
    },
    {
     "data": {
      "application/vnd.jupyter.widget-view+json": {
       "model_id": "7833c6fcf3c84e90902ed767bda42ee2",
       "version_major": 2,
       "version_minor": 0
      },
      "text/plain": [
       "HBox(children=(HTML(value='Validation sanity check'), FloatProgress(value=1.0, bar_style='info', layout=Layout…"
      ]
     },
     "metadata": {},
     "output_type": "display_data"
    },
    {
     "data": {
      "application/vnd.jupyter.widget-view+json": {
       "model_id": "0d03591baf174df7af45e25f53fb41a0",
       "version_major": 2,
       "version_minor": 0
      },
      "text/plain": [
       "HBox(children=(HTML(value='Training'), FloatProgress(value=1.0, bar_style='info', layout=Layout(flex='2'), max…"
      ]
     },
     "metadata": {},
     "output_type": "display_data"
    },
    {
     "data": {
      "application/vnd.jupyter.widget-view+json": {
       "model_id": "",
       "version_major": 2,
       "version_minor": 0
      },
      "text/plain": [
       "HBox(children=(HTML(value='Validating'), FloatProgress(value=1.0, bar_style='info', layout=Layout(flex='2'), m…"
      ]
     },
     "metadata": {},
     "output_type": "display_data"
    },
    {
     "data": {
      "application/vnd.jupyter.widget-view+json": {
       "model_id": "",
       "version_major": 2,
       "version_minor": 0
      },
      "text/plain": [
       "HBox(children=(HTML(value='Validating'), FloatProgress(value=1.0, bar_style='info', layout=Layout(flex='2'), m…"
      ]
     },
     "metadata": {},
     "output_type": "display_data"
    },
    {
     "data": {
      "application/vnd.jupyter.widget-view+json": {
       "model_id": "",
       "version_major": 2,
       "version_minor": 0
      },
      "text/plain": [
       "HBox(children=(HTML(value='Validating'), FloatProgress(value=1.0, bar_style='info', layout=Layout(flex='2'), m…"
      ]
     },
     "metadata": {},
     "output_type": "display_data"
    },
    {
     "data": {
      "application/vnd.jupyter.widget-view+json": {
       "model_id": "",
       "version_major": 2,
       "version_minor": 0
      },
      "text/plain": [
       "HBox(children=(HTML(value='Validating'), FloatProgress(value=1.0, bar_style='info', layout=Layout(flex='2'), m…"
      ]
     },
     "metadata": {},
     "output_type": "display_data"
    },
    {
     "data": {
      "application/vnd.jupyter.widget-view+json": {
       "model_id": "",
       "version_major": 2,
       "version_minor": 0
      },
      "text/plain": [
       "HBox(children=(HTML(value='Validating'), FloatProgress(value=1.0, bar_style='info', layout=Layout(flex='2'), m…"
      ]
     },
     "metadata": {},
     "output_type": "display_data"
    },
    {
     "data": {
      "application/vnd.jupyter.widget-view+json": {
       "model_id": "",
       "version_major": 2,
       "version_minor": 0
      },
      "text/plain": [
       "HBox(children=(HTML(value='Validating'), FloatProgress(value=1.0, bar_style='info', layout=Layout(flex='2'), m…"
      ]
     },
     "metadata": {},
     "output_type": "display_data"
    },
    {
     "data": {
      "application/vnd.jupyter.widget-view+json": {
       "model_id": "",
       "version_major": 2,
       "version_minor": 0
      },
      "text/plain": [
       "HBox(children=(HTML(value='Validating'), FloatProgress(value=1.0, bar_style='info', layout=Layout(flex='2'), m…"
      ]
     },
     "metadata": {},
     "output_type": "display_data"
    },
    {
     "data": {
      "application/vnd.jupyter.widget-view+json": {
       "model_id": "",
       "version_major": 2,
       "version_minor": 0
      },
      "text/plain": [
       "HBox(children=(HTML(value='Validating'), FloatProgress(value=1.0, bar_style='info', layout=Layout(flex='2'), m…"
      ]
     },
     "metadata": {},
     "output_type": "display_data"
    },
    {
     "data": {
      "application/vnd.jupyter.widget-view+json": {
       "model_id": "",
       "version_major": 2,
       "version_minor": 0
      },
      "text/plain": [
       "HBox(children=(HTML(value='Validating'), FloatProgress(value=1.0, bar_style='info', layout=Layout(flex='2'), m…"
      ]
     },
     "metadata": {},
     "output_type": "display_data"
    },
    {
     "data": {
      "application/vnd.jupyter.widget-view+json": {
       "model_id": "",
       "version_major": 2,
       "version_minor": 0
      },
      "text/plain": [
       "HBox(children=(HTML(value='Validating'), FloatProgress(value=1.0, bar_style='info', layout=Layout(flex='2'), m…"
      ]
     },
     "metadata": {},
     "output_type": "display_data"
    },
    {
     "data": {
      "application/vnd.jupyter.widget-view+json": {
       "model_id": "",
       "version_major": 2,
       "version_minor": 0
      },
      "text/plain": [
       "HBox(children=(HTML(value='Validating'), FloatProgress(value=1.0, bar_style='info', layout=Layout(flex='2'), m…"
      ]
     },
     "metadata": {},
     "output_type": "display_data"
    },
    {
     "data": {
      "application/vnd.jupyter.widget-view+json": {
       "model_id": "",
       "version_major": 2,
       "version_minor": 0
      },
      "text/plain": [
       "HBox(children=(HTML(value='Validating'), FloatProgress(value=1.0, bar_style='info', layout=Layout(flex='2'), m…"
      ]
     },
     "metadata": {},
     "output_type": "display_data"
    },
    {
     "data": {
      "application/vnd.jupyter.widget-view+json": {
       "model_id": "",
       "version_major": 2,
       "version_minor": 0
      },
      "text/plain": [
       "HBox(children=(HTML(value='Validating'), FloatProgress(value=1.0, bar_style='info', layout=Layout(flex='2'), m…"
      ]
     },
     "metadata": {},
     "output_type": "display_data"
    },
    {
     "data": {
      "application/vnd.jupyter.widget-view+json": {
       "model_id": "",
       "version_major": 2,
       "version_minor": 0
      },
      "text/plain": [
       "HBox(children=(HTML(value='Validating'), FloatProgress(value=1.0, bar_style='info', layout=Layout(flex='2'), m…"
      ]
     },
     "metadata": {},
     "output_type": "display_data"
    },
    {
     "data": {
      "application/vnd.jupyter.widget-view+json": {
       "model_id": "",
       "version_major": 2,
       "version_minor": 0
      },
      "text/plain": [
       "HBox(children=(HTML(value='Validating'), FloatProgress(value=1.0, bar_style='info', layout=Layout(flex='2'), m…"
      ]
     },
     "metadata": {},
     "output_type": "display_data"
    },
    {
     "data": {
      "application/vnd.jupyter.widget-view+json": {
       "model_id": "",
       "version_major": 2,
       "version_minor": 0
      },
      "text/plain": [
       "HBox(children=(HTML(value='Validating'), FloatProgress(value=1.0, bar_style='info', layout=Layout(flex='2'), m…"
      ]
     },
     "metadata": {},
     "output_type": "display_data"
    },
    {
     "data": {
      "application/vnd.jupyter.widget-view+json": {
       "model_id": "",
       "version_major": 2,
       "version_minor": 0
      },
      "text/plain": [
       "HBox(children=(HTML(value='Validating'), FloatProgress(value=1.0, bar_style='info', layout=Layout(flex='2'), m…"
      ]
     },
     "metadata": {},
     "output_type": "display_data"
    },
    {
     "data": {
      "application/vnd.jupyter.widget-view+json": {
       "model_id": "",
       "version_major": 2,
       "version_minor": 0
      },
      "text/plain": [
       "HBox(children=(HTML(value='Validating'), FloatProgress(value=1.0, bar_style='info', layout=Layout(flex='2'), m…"
      ]
     },
     "metadata": {},
     "output_type": "display_data"
    },
    {
     "data": {
      "application/vnd.jupyter.widget-view+json": {
       "model_id": "",
       "version_major": 2,
       "version_minor": 0
      },
      "text/plain": [
       "HBox(children=(HTML(value='Validating'), FloatProgress(value=1.0, bar_style='info', layout=Layout(flex='2'), m…"
      ]
     },
     "metadata": {},
     "output_type": "display_data"
    },
    {
     "data": {
      "application/vnd.jupyter.widget-view+json": {
       "model_id": "",
       "version_major": 2,
       "version_minor": 0
      },
      "text/plain": [
       "HBox(children=(HTML(value='Validating'), FloatProgress(value=1.0, bar_style='info', layout=Layout(flex='2'), m…"
      ]
     },
     "metadata": {},
     "output_type": "display_data"
    },
    {
     "data": {
      "application/vnd.jupyter.widget-view+json": {
       "model_id": "",
       "version_major": 2,
       "version_minor": 0
      },
      "text/plain": [
       "HBox(children=(HTML(value='Validating'), FloatProgress(value=1.0, bar_style='info', layout=Layout(flex='2'), m…"
      ]
     },
     "metadata": {},
     "output_type": "display_data"
    },
    {
     "data": {
      "application/vnd.jupyter.widget-view+json": {
       "model_id": "",
       "version_major": 2,
       "version_minor": 0
      },
      "text/plain": [
       "HBox(children=(HTML(value='Validating'), FloatProgress(value=1.0, bar_style='info', layout=Layout(flex='2'), m…"
      ]
     },
     "metadata": {},
     "output_type": "display_data"
    },
    {
     "data": {
      "application/vnd.jupyter.widget-view+json": {
       "model_id": "",
       "version_major": 2,
       "version_minor": 0
      },
      "text/plain": [
       "HBox(children=(HTML(value='Validating'), FloatProgress(value=1.0, bar_style='info', layout=Layout(flex='2'), m…"
      ]
     },
     "metadata": {},
     "output_type": "display_data"
    },
    {
     "data": {
      "application/vnd.jupyter.widget-view+json": {
       "model_id": "",
       "version_major": 2,
       "version_minor": 0
      },
      "text/plain": [
       "HBox(children=(HTML(value='Validating'), FloatProgress(value=1.0, bar_style='info', layout=Layout(flex='2'), m…"
      ]
     },
     "metadata": {},
     "output_type": "display_data"
    },
    {
     "data": {
      "application/vnd.jupyter.widget-view+json": {
       "model_id": "",
       "version_major": 2,
       "version_minor": 0
      },
      "text/plain": [
       "HBox(children=(HTML(value='Validating'), FloatProgress(value=1.0, bar_style='info', layout=Layout(flex='2'), m…"
      ]
     },
     "metadata": {},
     "output_type": "display_data"
    },
    {
     "data": {
      "application/vnd.jupyter.widget-view+json": {
       "model_id": "",
       "version_major": 2,
       "version_minor": 0
      },
      "text/plain": [
       "HBox(children=(HTML(value='Validating'), FloatProgress(value=1.0, bar_style='info', layout=Layout(flex='2'), m…"
      ]
     },
     "metadata": {},
     "output_type": "display_data"
    },
    {
     "data": {
      "application/vnd.jupyter.widget-view+json": {
       "model_id": "",
       "version_major": 2,
       "version_minor": 0
      },
      "text/plain": [
       "HBox(children=(HTML(value='Validating'), FloatProgress(value=1.0, bar_style='info', layout=Layout(flex='2'), m…"
      ]
     },
     "metadata": {},
     "output_type": "display_data"
    },
    {
     "data": {
      "application/vnd.jupyter.widget-view+json": {
       "model_id": "",
       "version_major": 2,
       "version_minor": 0
      },
      "text/plain": [
       "HBox(children=(HTML(value='Validating'), FloatProgress(value=1.0, bar_style='info', layout=Layout(flex='2'), m…"
      ]
     },
     "metadata": {},
     "output_type": "display_data"
    },
    {
     "data": {
      "application/vnd.jupyter.widget-view+json": {
       "model_id": "",
       "version_major": 2,
       "version_minor": 0
      },
      "text/plain": [
       "HBox(children=(HTML(value='Validating'), FloatProgress(value=1.0, bar_style='info', layout=Layout(flex='2'), m…"
      ]
     },
     "metadata": {},
     "output_type": "display_data"
    },
    {
     "data": {
      "application/vnd.jupyter.widget-view+json": {
       "model_id": "",
       "version_major": 2,
       "version_minor": 0
      },
      "text/plain": [
       "HBox(children=(HTML(value='Validating'), FloatProgress(value=1.0, bar_style='info', layout=Layout(flex='2'), m…"
      ]
     },
     "metadata": {},
     "output_type": "display_data"
    },
    {
     "data": {
      "application/vnd.jupyter.widget-view+json": {
       "model_id": "",
       "version_major": 2,
       "version_minor": 0
      },
      "text/plain": [
       "HBox(children=(HTML(value='Validating'), FloatProgress(value=1.0, bar_style='info', layout=Layout(flex='2'), m…"
      ]
     },
     "metadata": {},
     "output_type": "display_data"
    },
    {
     "data": {
      "application/vnd.jupyter.widget-view+json": {
       "model_id": "",
       "version_major": 2,
       "version_minor": 0
      },
      "text/plain": [
       "HBox(children=(HTML(value='Validating'), FloatProgress(value=1.0, bar_style='info', layout=Layout(flex='2'), m…"
      ]
     },
     "metadata": {},
     "output_type": "display_data"
    },
    {
     "data": {
      "application/vnd.jupyter.widget-view+json": {
       "model_id": "",
       "version_major": 2,
       "version_minor": 0
      },
      "text/plain": [
       "HBox(children=(HTML(value='Validating'), FloatProgress(value=1.0, bar_style='info', layout=Layout(flex='2'), m…"
      ]
     },
     "metadata": {},
     "output_type": "display_data"
    },
    {
     "data": {
      "application/vnd.jupyter.widget-view+json": {
       "model_id": "",
       "version_major": 2,
       "version_minor": 0
      },
      "text/plain": [
       "HBox(children=(HTML(value='Validating'), FloatProgress(value=1.0, bar_style='info', layout=Layout(flex='2'), m…"
      ]
     },
     "metadata": {},
     "output_type": "display_data"
    },
    {
     "data": {
      "application/vnd.jupyter.widget-view+json": {
       "model_id": "",
       "version_major": 2,
       "version_minor": 0
      },
      "text/plain": [
       "HBox(children=(HTML(value='Validating'), FloatProgress(value=1.0, bar_style='info', layout=Layout(flex='2'), m…"
      ]
     },
     "metadata": {},
     "output_type": "display_data"
    },
    {
     "data": {
      "application/vnd.jupyter.widget-view+json": {
       "model_id": "",
       "version_major": 2,
       "version_minor": 0
      },
      "text/plain": [
       "HBox(children=(HTML(value='Validating'), FloatProgress(value=1.0, bar_style='info', layout=Layout(flex='2'), m…"
      ]
     },
     "metadata": {},
     "output_type": "display_data"
    },
    {
     "data": {
      "application/vnd.jupyter.widget-view+json": {
       "model_id": "",
       "version_major": 2,
       "version_minor": 0
      },
      "text/plain": [
       "HBox(children=(HTML(value='Validating'), FloatProgress(value=1.0, bar_style='info', layout=Layout(flex='2'), m…"
      ]
     },
     "metadata": {},
     "output_type": "display_data"
    },
    {
     "data": {
      "application/vnd.jupyter.widget-view+json": {
       "model_id": "",
       "version_major": 2,
       "version_minor": 0
      },
      "text/plain": [
       "HBox(children=(HTML(value='Validating'), FloatProgress(value=1.0, bar_style='info', layout=Layout(flex='2'), m…"
      ]
     },
     "metadata": {},
     "output_type": "display_data"
    },
    {
     "data": {
      "application/vnd.jupyter.widget-view+json": {
       "model_id": "",
       "version_major": 2,
       "version_minor": 0
      },
      "text/plain": [
       "HBox(children=(HTML(value='Validating'), FloatProgress(value=1.0, bar_style='info', layout=Layout(flex='2'), m…"
      ]
     },
     "metadata": {},
     "output_type": "display_data"
    },
    {
     "data": {
      "application/vnd.jupyter.widget-view+json": {
       "model_id": "",
       "version_major": 2,
       "version_minor": 0
      },
      "text/plain": [
       "HBox(children=(HTML(value='Validating'), FloatProgress(value=1.0, bar_style='info', layout=Layout(flex='2'), m…"
      ]
     },
     "metadata": {},
     "output_type": "display_data"
    },
    {
     "data": {
      "application/vnd.jupyter.widget-view+json": {
       "model_id": "",
       "version_major": 2,
       "version_minor": 0
      },
      "text/plain": [
       "HBox(children=(HTML(value='Validating'), FloatProgress(value=1.0, bar_style='info', layout=Layout(flex='2'), m…"
      ]
     },
     "metadata": {},
     "output_type": "display_data"
    },
    {
     "data": {
      "application/vnd.jupyter.widget-view+json": {
       "model_id": "",
       "version_major": 2,
       "version_minor": 0
      },
      "text/plain": [
       "HBox(children=(HTML(value='Validating'), FloatProgress(value=1.0, bar_style='info', layout=Layout(flex='2'), m…"
      ]
     },
     "metadata": {},
     "output_type": "display_data"
    },
    {
     "data": {
      "application/vnd.jupyter.widget-view+json": {
       "model_id": "",
       "version_major": 2,
       "version_minor": 0
      },
      "text/plain": [
       "HBox(children=(HTML(value='Validating'), FloatProgress(value=1.0, bar_style='info', layout=Layout(flex='2'), m…"
      ]
     },
     "metadata": {},
     "output_type": "display_data"
    },
    {
     "data": {
      "application/vnd.jupyter.widget-view+json": {
       "model_id": "",
       "version_major": 2,
       "version_minor": 0
      },
      "text/plain": [
       "HBox(children=(HTML(value='Validating'), FloatProgress(value=1.0, bar_style='info', layout=Layout(flex='2'), m…"
      ]
     },
     "metadata": {},
     "output_type": "display_data"
    },
    {
     "data": {
      "application/vnd.jupyter.widget-view+json": {
       "model_id": "",
       "version_major": 2,
       "version_minor": 0
      },
      "text/plain": [
       "HBox(children=(HTML(value='Validating'), FloatProgress(value=1.0, bar_style='info', layout=Layout(flex='2'), m…"
      ]
     },
     "metadata": {},
     "output_type": "display_data"
    },
    {
     "data": {
      "application/vnd.jupyter.widget-view+json": {
       "model_id": "",
       "version_major": 2,
       "version_minor": 0
      },
      "text/plain": [
       "HBox(children=(HTML(value='Validating'), FloatProgress(value=1.0, bar_style='info', layout=Layout(flex='2'), m…"
      ]
     },
     "metadata": {},
     "output_type": "display_data"
    },
    {
     "data": {
      "application/vnd.jupyter.widget-view+json": {
       "model_id": "",
       "version_major": 2,
       "version_minor": 0
      },
      "text/plain": [
       "HBox(children=(HTML(value='Validating'), FloatProgress(value=1.0, bar_style='info', layout=Layout(flex='2'), m…"
      ]
     },
     "metadata": {},
     "output_type": "display_data"
    },
    {
     "data": {
      "application/vnd.jupyter.widget-view+json": {
       "model_id": "",
       "version_major": 2,
       "version_minor": 0
      },
      "text/plain": [
       "HBox(children=(HTML(value='Validating'), FloatProgress(value=1.0, bar_style='info', layout=Layout(flex='2'), m…"
      ]
     },
     "metadata": {},
     "output_type": "display_data"
    },
    {
     "data": {
      "application/vnd.jupyter.widget-view+json": {
       "model_id": "",
       "version_major": 2,
       "version_minor": 0
      },
      "text/plain": [
       "HBox(children=(HTML(value='Validating'), FloatProgress(value=1.0, bar_style='info', layout=Layout(flex='2'), m…"
      ]
     },
     "metadata": {},
     "output_type": "display_data"
    },
    {
     "data": {
      "application/vnd.jupyter.widget-view+json": {
       "model_id": "",
       "version_major": 2,
       "version_minor": 0
      },
      "text/plain": [
       "HBox(children=(HTML(value='Validating'), FloatProgress(value=1.0, bar_style='info', layout=Layout(flex='2'), m…"
      ]
     },
     "metadata": {},
     "output_type": "display_data"
    },
    {
     "data": {
      "application/vnd.jupyter.widget-view+json": {
       "model_id": "",
       "version_major": 2,
       "version_minor": 0
      },
      "text/plain": [
       "HBox(children=(HTML(value='Validating'), FloatProgress(value=1.0, bar_style='info', layout=Layout(flex='2'), m…"
      ]
     },
     "metadata": {},
     "output_type": "display_data"
    },
    {
     "data": {
      "application/vnd.jupyter.widget-view+json": {
       "model_id": "",
       "version_major": 2,
       "version_minor": 0
      },
      "text/plain": [
       "HBox(children=(HTML(value='Validating'), FloatProgress(value=1.0, bar_style='info', layout=Layout(flex='2'), m…"
      ]
     },
     "metadata": {},
     "output_type": "display_data"
    },
    {
     "data": {
      "application/vnd.jupyter.widget-view+json": {
       "model_id": "",
       "version_major": 2,
       "version_minor": 0
      },
      "text/plain": [
       "HBox(children=(HTML(value='Validating'), FloatProgress(value=1.0, bar_style='info', layout=Layout(flex='2'), m…"
      ]
     },
     "metadata": {},
     "output_type": "display_data"
    },
    {
     "data": {
      "application/vnd.jupyter.widget-view+json": {
       "model_id": "",
       "version_major": 2,
       "version_minor": 0
      },
      "text/plain": [
       "HBox(children=(HTML(value='Validating'), FloatProgress(value=1.0, bar_style='info', layout=Layout(flex='2'), m…"
      ]
     },
     "metadata": {},
     "output_type": "display_data"
    },
    {
     "data": {
      "application/vnd.jupyter.widget-view+json": {
       "model_id": "",
       "version_major": 2,
       "version_minor": 0
      },
      "text/plain": [
       "HBox(children=(HTML(value='Validating'), FloatProgress(value=1.0, bar_style='info', layout=Layout(flex='2'), m…"
      ]
     },
     "metadata": {},
     "output_type": "display_data"
    },
    {
     "data": {
      "application/vnd.jupyter.widget-view+json": {
       "model_id": "",
       "version_major": 2,
       "version_minor": 0
      },
      "text/plain": [
       "HBox(children=(HTML(value='Validating'), FloatProgress(value=1.0, bar_style='info', layout=Layout(flex='2'), m…"
      ]
     },
     "metadata": {},
     "output_type": "display_data"
    },
    {
     "data": {
      "application/vnd.jupyter.widget-view+json": {
       "model_id": "",
       "version_major": 2,
       "version_minor": 0
      },
      "text/plain": [
       "HBox(children=(HTML(value='Validating'), FloatProgress(value=1.0, bar_style='info', layout=Layout(flex='2'), m…"
      ]
     },
     "metadata": {},
     "output_type": "display_data"
    },
    {
     "data": {
      "application/vnd.jupyter.widget-view+json": {
       "model_id": "",
       "version_major": 2,
       "version_minor": 0
      },
      "text/plain": [
       "HBox(children=(HTML(value='Validating'), FloatProgress(value=1.0, bar_style='info', layout=Layout(flex='2'), m…"
      ]
     },
     "metadata": {},
     "output_type": "display_data"
    },
    {
     "data": {
      "application/vnd.jupyter.widget-view+json": {
       "model_id": "",
       "version_major": 2,
       "version_minor": 0
      },
      "text/plain": [
       "HBox(children=(HTML(value='Validating'), FloatProgress(value=1.0, bar_style='info', layout=Layout(flex='2'), m…"
      ]
     },
     "metadata": {},
     "output_type": "display_data"
    },
    {
     "data": {
      "application/vnd.jupyter.widget-view+json": {
       "model_id": "",
       "version_major": 2,
       "version_minor": 0
      },
      "text/plain": [
       "HBox(children=(HTML(value='Validating'), FloatProgress(value=1.0, bar_style='info', layout=Layout(flex='2'), m…"
      ]
     },
     "metadata": {},
     "output_type": "display_data"
    },
    {
     "data": {
      "application/vnd.jupyter.widget-view+json": {
       "model_id": "",
       "version_major": 2,
       "version_minor": 0
      },
      "text/plain": [
       "HBox(children=(HTML(value='Validating'), FloatProgress(value=1.0, bar_style='info', layout=Layout(flex='2'), m…"
      ]
     },
     "metadata": {},
     "output_type": "display_data"
    },
    {
     "data": {
      "application/vnd.jupyter.widget-view+json": {
       "model_id": "",
       "version_major": 2,
       "version_minor": 0
      },
      "text/plain": [
       "HBox(children=(HTML(value='Validating'), FloatProgress(value=1.0, bar_style='info', layout=Layout(flex='2'), m…"
      ]
     },
     "metadata": {},
     "output_type": "display_data"
    },
    {
     "data": {
      "application/vnd.jupyter.widget-view+json": {
       "model_id": "",
       "version_major": 2,
       "version_minor": 0
      },
      "text/plain": [
       "HBox(children=(HTML(value='Validating'), FloatProgress(value=1.0, bar_style='info', layout=Layout(flex='2'), m…"
      ]
     },
     "metadata": {},
     "output_type": "display_data"
    },
    {
     "data": {
      "application/vnd.jupyter.widget-view+json": {
       "model_id": "",
       "version_major": 2,
       "version_minor": 0
      },
      "text/plain": [
       "HBox(children=(HTML(value='Validating'), FloatProgress(value=1.0, bar_style='info', layout=Layout(flex='2'), m…"
      ]
     },
     "metadata": {},
     "output_type": "display_data"
    },
    {
     "data": {
      "application/vnd.jupyter.widget-view+json": {
       "model_id": "",
       "version_major": 2,
       "version_minor": 0
      },
      "text/plain": [
       "HBox(children=(HTML(value='Validating'), FloatProgress(value=1.0, bar_style='info', layout=Layout(flex='2'), m…"
      ]
     },
     "metadata": {},
     "output_type": "display_data"
    },
    {
     "data": {
      "application/vnd.jupyter.widget-view+json": {
       "model_id": "",
       "version_major": 2,
       "version_minor": 0
      },
      "text/plain": [
       "HBox(children=(HTML(value='Validating'), FloatProgress(value=1.0, bar_style='info', layout=Layout(flex='2'), m…"
      ]
     },
     "metadata": {},
     "output_type": "display_data"
    },
    {
     "data": {
      "application/vnd.jupyter.widget-view+json": {
       "model_id": "",
       "version_major": 2,
       "version_minor": 0
      },
      "text/plain": [
       "HBox(children=(HTML(value='Validating'), FloatProgress(value=1.0, bar_style='info', layout=Layout(flex='2'), m…"
      ]
     },
     "metadata": {},
     "output_type": "display_data"
    },
    {
     "data": {
      "application/vnd.jupyter.widget-view+json": {
       "model_id": "",
       "version_major": 2,
       "version_minor": 0
      },
      "text/plain": [
       "HBox(children=(HTML(value='Validating'), FloatProgress(value=1.0, bar_style='info', layout=Layout(flex='2'), m…"
      ]
     },
     "metadata": {},
     "output_type": "display_data"
    },
    {
     "data": {
      "application/vnd.jupyter.widget-view+json": {
       "model_id": "",
       "version_major": 2,
       "version_minor": 0
      },
      "text/plain": [
       "HBox(children=(HTML(value='Validating'), FloatProgress(value=1.0, bar_style='info', layout=Layout(flex='2'), m…"
      ]
     },
     "metadata": {},
     "output_type": "display_data"
    },
    {
     "data": {
      "application/vnd.jupyter.widget-view+json": {
       "model_id": "",
       "version_major": 2,
       "version_minor": 0
      },
      "text/plain": [
       "HBox(children=(HTML(value='Validating'), FloatProgress(value=1.0, bar_style='info', layout=Layout(flex='2'), m…"
      ]
     },
     "metadata": {},
     "output_type": "display_data"
    },
    {
     "data": {
      "application/vnd.jupyter.widget-view+json": {
       "model_id": "",
       "version_major": 2,
       "version_minor": 0
      },
      "text/plain": [
       "HBox(children=(HTML(value='Validating'), FloatProgress(value=1.0, bar_style='info', layout=Layout(flex='2'), m…"
      ]
     },
     "metadata": {},
     "output_type": "display_data"
    },
    {
     "data": {
      "application/vnd.jupyter.widget-view+json": {
       "model_id": "",
       "version_major": 2,
       "version_minor": 0
      },
      "text/plain": [
       "HBox(children=(HTML(value='Validating'), FloatProgress(value=1.0, bar_style='info', layout=Layout(flex='2'), m…"
      ]
     },
     "metadata": {},
     "output_type": "display_data"
    },
    {
     "data": {
      "application/vnd.jupyter.widget-view+json": {
       "model_id": "",
       "version_major": 2,
       "version_minor": 0
      },
      "text/plain": [
       "HBox(children=(HTML(value='Validating'), FloatProgress(value=1.0, bar_style='info', layout=Layout(flex='2'), m…"
      ]
     },
     "metadata": {},
     "output_type": "display_data"
    },
    {
     "data": {
      "application/vnd.jupyter.widget-view+json": {
       "model_id": "",
       "version_major": 2,
       "version_minor": 0
      },
      "text/plain": [
       "HBox(children=(HTML(value='Validating'), FloatProgress(value=1.0, bar_style='info', layout=Layout(flex='2'), m…"
      ]
     },
     "metadata": {},
     "output_type": "display_data"
    },
    {
     "data": {
      "application/vnd.jupyter.widget-view+json": {
       "model_id": "",
       "version_major": 2,
       "version_minor": 0
      },
      "text/plain": [
       "HBox(children=(HTML(value='Validating'), FloatProgress(value=1.0, bar_style='info', layout=Layout(flex='2'), m…"
      ]
     },
     "metadata": {},
     "output_type": "display_data"
    },
    {
     "data": {
      "application/vnd.jupyter.widget-view+json": {
       "model_id": "",
       "version_major": 2,
       "version_minor": 0
      },
      "text/plain": [
       "HBox(children=(HTML(value='Validating'), FloatProgress(value=1.0, bar_style='info', layout=Layout(flex='2'), m…"
      ]
     },
     "metadata": {},
     "output_type": "display_data"
    },
    {
     "data": {
      "application/vnd.jupyter.widget-view+json": {
       "model_id": "",
       "version_major": 2,
       "version_minor": 0
      },
      "text/plain": [
       "HBox(children=(HTML(value='Validating'), FloatProgress(value=1.0, bar_style='info', layout=Layout(flex='2'), m…"
      ]
     },
     "metadata": {},
     "output_type": "display_data"
    },
    {
     "data": {
      "application/vnd.jupyter.widget-view+json": {
       "model_id": "",
       "version_major": 2,
       "version_minor": 0
      },
      "text/plain": [
       "HBox(children=(HTML(value='Validating'), FloatProgress(value=1.0, bar_style='info', layout=Layout(flex='2'), m…"
      ]
     },
     "metadata": {},
     "output_type": "display_data"
    },
    {
     "data": {
      "application/vnd.jupyter.widget-view+json": {
       "model_id": "",
       "version_major": 2,
       "version_minor": 0
      },
      "text/plain": [
       "HBox(children=(HTML(value='Validating'), FloatProgress(value=1.0, bar_style='info', layout=Layout(flex='2'), m…"
      ]
     },
     "metadata": {},
     "output_type": "display_data"
    },
    {
     "data": {
      "application/vnd.jupyter.widget-view+json": {
       "model_id": "",
       "version_major": 2,
       "version_minor": 0
      },
      "text/plain": [
       "HBox(children=(HTML(value='Validating'), FloatProgress(value=1.0, bar_style='info', layout=Layout(flex='2'), m…"
      ]
     },
     "metadata": {},
     "output_type": "display_data"
    },
    {
     "data": {
      "application/vnd.jupyter.widget-view+json": {
       "model_id": "",
       "version_major": 2,
       "version_minor": 0
      },
      "text/plain": [
       "HBox(children=(HTML(value='Validating'), FloatProgress(value=1.0, bar_style='info', layout=Layout(flex='2'), m…"
      ]
     },
     "metadata": {},
     "output_type": "display_data"
    },
    {
     "data": {
      "application/vnd.jupyter.widget-view+json": {
       "model_id": "",
       "version_major": 2,
       "version_minor": 0
      },
      "text/plain": [
       "HBox(children=(HTML(value='Validating'), FloatProgress(value=1.0, bar_style='info', layout=Layout(flex='2'), m…"
      ]
     },
     "metadata": {},
     "output_type": "display_data"
    },
    {
     "data": {
      "application/vnd.jupyter.widget-view+json": {
       "model_id": "",
       "version_major": 2,
       "version_minor": 0
      },
      "text/plain": [
       "HBox(children=(HTML(value='Validating'), FloatProgress(value=1.0, bar_style='info', layout=Layout(flex='2'), m…"
      ]
     },
     "metadata": {},
     "output_type": "display_data"
    },
    {
     "data": {
      "application/vnd.jupyter.widget-view+json": {
       "model_id": "",
       "version_major": 2,
       "version_minor": 0
      },
      "text/plain": [
       "HBox(children=(HTML(value='Validating'), FloatProgress(value=1.0, bar_style='info', layout=Layout(flex='2'), m…"
      ]
     },
     "metadata": {},
     "output_type": "display_data"
    },
    {
     "data": {
      "application/vnd.jupyter.widget-view+json": {
       "model_id": "",
       "version_major": 2,
       "version_minor": 0
      },
      "text/plain": [
       "HBox(children=(HTML(value='Validating'), FloatProgress(value=1.0, bar_style='info', layout=Layout(flex='2'), m…"
      ]
     },
     "metadata": {},
     "output_type": "display_data"
    },
    {
     "data": {
      "application/vnd.jupyter.widget-view+json": {
       "model_id": "",
       "version_major": 2,
       "version_minor": 0
      },
      "text/plain": [
       "HBox(children=(HTML(value='Validating'), FloatProgress(value=1.0, bar_style='info', layout=Layout(flex='2'), m…"
      ]
     },
     "metadata": {},
     "output_type": "display_data"
    },
    {
     "data": {
      "application/vnd.jupyter.widget-view+json": {
       "model_id": "",
       "version_major": 2,
       "version_minor": 0
      },
      "text/plain": [
       "HBox(children=(HTML(value='Validating'), FloatProgress(value=1.0, bar_style='info', layout=Layout(flex='2'), m…"
      ]
     },
     "metadata": {},
     "output_type": "display_data"
    },
    {
     "data": {
      "application/vnd.jupyter.widget-view+json": {
       "model_id": "",
       "version_major": 2,
       "version_minor": 0
      },
      "text/plain": [
       "HBox(children=(HTML(value='Validating'), FloatProgress(value=1.0, bar_style='info', layout=Layout(flex='2'), m…"
      ]
     },
     "metadata": {},
     "output_type": "display_data"
    },
    {
     "data": {
      "application/vnd.jupyter.widget-view+json": {
       "model_id": "",
       "version_major": 2,
       "version_minor": 0
      },
      "text/plain": [
       "HBox(children=(HTML(value='Validating'), FloatProgress(value=1.0, bar_style='info', layout=Layout(flex='2'), m…"
      ]
     },
     "metadata": {},
     "output_type": "display_data"
    },
    {
     "data": {
      "application/vnd.jupyter.widget-view+json": {
       "model_id": "",
       "version_major": 2,
       "version_minor": 0
      },
      "text/plain": [
       "HBox(children=(HTML(value='Validating'), FloatProgress(value=1.0, bar_style='info', layout=Layout(flex='2'), m…"
      ]
     },
     "metadata": {},
     "output_type": "display_data"
    },
    {
     "data": {
      "application/vnd.jupyter.widget-view+json": {
       "model_id": "",
       "version_major": 2,
       "version_minor": 0
      },
      "text/plain": [
       "HBox(children=(HTML(value='Validating'), FloatProgress(value=1.0, bar_style='info', layout=Layout(flex='2'), m…"
      ]
     },
     "metadata": {},
     "output_type": "display_data"
    },
    {
     "data": {
      "application/vnd.jupyter.widget-view+json": {
       "model_id": "",
       "version_major": 2,
       "version_minor": 0
      },
      "text/plain": [
       "HBox(children=(HTML(value='Validating'), FloatProgress(value=1.0, bar_style='info', layout=Layout(flex='2'), m…"
      ]
     },
     "metadata": {},
     "output_type": "display_data"
    },
    {
     "data": {
      "application/vnd.jupyter.widget-view+json": {
       "model_id": "",
       "version_major": 2,
       "version_minor": 0
      },
      "text/plain": [
       "HBox(children=(HTML(value='Validating'), FloatProgress(value=1.0, bar_style='info', layout=Layout(flex='2'), m…"
      ]
     },
     "metadata": {},
     "output_type": "display_data"
    },
    {
     "data": {
      "application/vnd.jupyter.widget-view+json": {
       "model_id": "",
       "version_major": 2,
       "version_minor": 0
      },
      "text/plain": [
       "HBox(children=(HTML(value='Validating'), FloatProgress(value=1.0, bar_style='info', layout=Layout(flex='2'), m…"
      ]
     },
     "metadata": {},
     "output_type": "display_data"
    },
    {
     "data": {
      "application/vnd.jupyter.widget-view+json": {
       "model_id": "",
       "version_major": 2,
       "version_minor": 0
      },
      "text/plain": [
       "HBox(children=(HTML(value='Validating'), FloatProgress(value=1.0, bar_style='info', layout=Layout(flex='2'), m…"
      ]
     },
     "metadata": {},
     "output_type": "display_data"
    },
    {
     "data": {
      "application/vnd.jupyter.widget-view+json": {
       "model_id": "",
       "version_major": 2,
       "version_minor": 0
      },
      "text/plain": [
       "HBox(children=(HTML(value='Validating'), FloatProgress(value=1.0, bar_style='info', layout=Layout(flex='2'), m…"
      ]
     },
     "metadata": {},
     "output_type": "display_data"
    },
    {
     "data": {
      "application/vnd.jupyter.widget-view+json": {
       "model_id": "",
       "version_major": 2,
       "version_minor": 0
      },
      "text/plain": [
       "HBox(children=(HTML(value='Validating'), FloatProgress(value=1.0, bar_style='info', layout=Layout(flex='2'), m…"
      ]
     },
     "metadata": {},
     "output_type": "display_data"
    },
    {
     "data": {
      "application/vnd.jupyter.widget-view+json": {
       "model_id": "",
       "version_major": 2,
       "version_minor": 0
      },
      "text/plain": [
       "HBox(children=(HTML(value='Validating'), FloatProgress(value=1.0, bar_style='info', layout=Layout(flex='2'), m…"
      ]
     },
     "metadata": {},
     "output_type": "display_data"
    },
    {
     "data": {
      "application/vnd.jupyter.widget-view+json": {
       "model_id": "",
       "version_major": 2,
       "version_minor": 0
      },
      "text/plain": [
       "HBox(children=(HTML(value='Validating'), FloatProgress(value=1.0, bar_style='info', layout=Layout(flex='2'), m…"
      ]
     },
     "metadata": {},
     "output_type": "display_data"
    },
    {
     "data": {
      "application/vnd.jupyter.widget-view+json": {
       "model_id": "",
       "version_major": 2,
       "version_minor": 0
      },
      "text/plain": [
       "HBox(children=(HTML(value='Validating'), FloatProgress(value=1.0, bar_style='info', layout=Layout(flex='2'), m…"
      ]
     },
     "metadata": {},
     "output_type": "display_data"
    },
    {
     "data": {
      "application/vnd.jupyter.widget-view+json": {
       "model_id": "",
       "version_major": 2,
       "version_minor": 0
      },
      "text/plain": [
       "HBox(children=(HTML(value='Validating'), FloatProgress(value=1.0, bar_style='info', layout=Layout(flex='2'), m…"
      ]
     },
     "metadata": {},
     "output_type": "display_data"
    },
    {
     "data": {
      "application/vnd.jupyter.widget-view+json": {
       "model_id": "",
       "version_major": 2,
       "version_minor": 0
      },
      "text/plain": [
       "HBox(children=(HTML(value='Validating'), FloatProgress(value=1.0, bar_style='info', layout=Layout(flex='2'), m…"
      ]
     },
     "metadata": {},
     "output_type": "display_data"
    },
    {
     "data": {
      "application/vnd.jupyter.widget-view+json": {
       "model_id": "",
       "version_major": 2,
       "version_minor": 0
      },
      "text/plain": [
       "HBox(children=(HTML(value='Validating'), FloatProgress(value=1.0, bar_style='info', layout=Layout(flex='2'), m…"
      ]
     },
     "metadata": {},
     "output_type": "display_data"
    },
    {
     "data": {
      "application/vnd.jupyter.widget-view+json": {
       "model_id": "",
       "version_major": 2,
       "version_minor": 0
      },
      "text/plain": [
       "HBox(children=(HTML(value='Validating'), FloatProgress(value=1.0, bar_style='info', layout=Layout(flex='2'), m…"
      ]
     },
     "metadata": {},
     "output_type": "display_data"
    },
    {
     "data": {
      "application/vnd.jupyter.widget-view+json": {
       "model_id": "",
       "version_major": 2,
       "version_minor": 0
      },
      "text/plain": [
       "HBox(children=(HTML(value='Validating'), FloatProgress(value=1.0, bar_style='info', layout=Layout(flex='2'), m…"
      ]
     },
     "metadata": {},
     "output_type": "display_data"
    },
    {
     "data": {
      "application/vnd.jupyter.widget-view+json": {
       "model_id": "",
       "version_major": 2,
       "version_minor": 0
      },
      "text/plain": [
       "HBox(children=(HTML(value='Validating'), FloatProgress(value=1.0, bar_style='info', layout=Layout(flex='2'), m…"
      ]
     },
     "metadata": {},
     "output_type": "display_data"
    },
    {
     "data": {
      "application/vnd.jupyter.widget-view+json": {
       "model_id": "",
       "version_major": 2,
       "version_minor": 0
      },
      "text/plain": [
       "HBox(children=(HTML(value='Validating'), FloatProgress(value=1.0, bar_style='info', layout=Layout(flex='2'), m…"
      ]
     },
     "metadata": {},
     "output_type": "display_data"
    },
    {
     "data": {
      "application/vnd.jupyter.widget-view+json": {
       "model_id": "",
       "version_major": 2,
       "version_minor": 0
      },
      "text/plain": [
       "HBox(children=(HTML(value='Validating'), FloatProgress(value=1.0, bar_style='info', layout=Layout(flex='2'), m…"
      ]
     },
     "metadata": {},
     "output_type": "display_data"
    },
    {
     "data": {
      "application/vnd.jupyter.widget-view+json": {
       "model_id": "",
       "version_major": 2,
       "version_minor": 0
      },
      "text/plain": [
       "HBox(children=(HTML(value='Validating'), FloatProgress(value=1.0, bar_style='info', layout=Layout(flex='2'), m…"
      ]
     },
     "metadata": {},
     "output_type": "display_data"
    },
    {
     "data": {
      "application/vnd.jupyter.widget-view+json": {
       "model_id": "",
       "version_major": 2,
       "version_minor": 0
      },
      "text/plain": [
       "HBox(children=(HTML(value='Validating'), FloatProgress(value=1.0, bar_style='info', layout=Layout(flex='2'), m…"
      ]
     },
     "metadata": {},
     "output_type": "display_data"
    },
    {
     "data": {
      "application/vnd.jupyter.widget-view+json": {
       "model_id": "",
       "version_major": 2,
       "version_minor": 0
      },
      "text/plain": [
       "HBox(children=(HTML(value='Validating'), FloatProgress(value=1.0, bar_style='info', layout=Layout(flex='2'), m…"
      ]
     },
     "metadata": {},
     "output_type": "display_data"
    },
    {
     "data": {
      "application/vnd.jupyter.widget-view+json": {
       "model_id": "",
       "version_major": 2,
       "version_minor": 0
      },
      "text/plain": [
       "HBox(children=(HTML(value='Validating'), FloatProgress(value=1.0, bar_style='info', layout=Layout(flex='2'), m…"
      ]
     },
     "metadata": {},
     "output_type": "display_data"
    },
    {
     "data": {
      "application/vnd.jupyter.widget-view+json": {
       "model_id": "",
       "version_major": 2,
       "version_minor": 0
      },
      "text/plain": [
       "HBox(children=(HTML(value='Validating'), FloatProgress(value=1.0, bar_style='info', layout=Layout(flex='2'), m…"
      ]
     },
     "metadata": {},
     "output_type": "display_data"
    },
    {
     "data": {
      "application/vnd.jupyter.widget-view+json": {
       "model_id": "",
       "version_major": 2,
       "version_minor": 0
      },
      "text/plain": [
       "HBox(children=(HTML(value='Validating'), FloatProgress(value=1.0, bar_style='info', layout=Layout(flex='2'), m…"
      ]
     },
     "metadata": {},
     "output_type": "display_data"
    },
    {
     "data": {
      "application/vnd.jupyter.widget-view+json": {
       "model_id": "",
       "version_major": 2,
       "version_minor": 0
      },
      "text/plain": [
       "HBox(children=(HTML(value='Validating'), FloatProgress(value=1.0, bar_style='info', layout=Layout(flex='2'), m…"
      ]
     },
     "metadata": {},
     "output_type": "display_data"
    },
    {
     "data": {
      "application/vnd.jupyter.widget-view+json": {
       "model_id": "",
       "version_major": 2,
       "version_minor": 0
      },
      "text/plain": [
       "HBox(children=(HTML(value='Validating'), FloatProgress(value=1.0, bar_style='info', layout=Layout(flex='2'), m…"
      ]
     },
     "metadata": {},
     "output_type": "display_data"
    },
    {
     "data": {
      "application/vnd.jupyter.widget-view+json": {
       "model_id": "",
       "version_major": 2,
       "version_minor": 0
      },
      "text/plain": [
       "HBox(children=(HTML(value='Validating'), FloatProgress(value=1.0, bar_style='info', layout=Layout(flex='2'), m…"
      ]
     },
     "metadata": {},
     "output_type": "display_data"
    },
    {
     "data": {
      "application/vnd.jupyter.widget-view+json": {
       "model_id": "",
       "version_major": 2,
       "version_minor": 0
      },
      "text/plain": [
       "HBox(children=(HTML(value='Validating'), FloatProgress(value=1.0, bar_style='info', layout=Layout(flex='2'), m…"
      ]
     },
     "metadata": {},
     "output_type": "display_data"
    },
    {
     "data": {
      "application/vnd.jupyter.widget-view+json": {
       "model_id": "",
       "version_major": 2,
       "version_minor": 0
      },
      "text/plain": [
       "HBox(children=(HTML(value='Validating'), FloatProgress(value=1.0, bar_style='info', layout=Layout(flex='2'), m…"
      ]
     },
     "metadata": {},
     "output_type": "display_data"
    },
    {
     "data": {
      "application/vnd.jupyter.widget-view+json": {
       "model_id": "",
       "version_major": 2,
       "version_minor": 0
      },
      "text/plain": [
       "HBox(children=(HTML(value='Validating'), FloatProgress(value=1.0, bar_style='info', layout=Layout(flex='2'), m…"
      ]
     },
     "metadata": {},
     "output_type": "display_data"
    },
    {
     "data": {
      "application/vnd.jupyter.widget-view+json": {
       "model_id": "",
       "version_major": 2,
       "version_minor": 0
      },
      "text/plain": [
       "HBox(children=(HTML(value='Validating'), FloatProgress(value=1.0, bar_style='info', layout=Layout(flex='2'), m…"
      ]
     },
     "metadata": {},
     "output_type": "display_data"
    },
    {
     "data": {
      "application/vnd.jupyter.widget-view+json": {
       "model_id": "",
       "version_major": 2,
       "version_minor": 0
      },
      "text/plain": [
       "HBox(children=(HTML(value='Validating'), FloatProgress(value=1.0, bar_style='info', layout=Layout(flex='2'), m…"
      ]
     },
     "metadata": {},
     "output_type": "display_data"
    },
    {
     "data": {
      "application/vnd.jupyter.widget-view+json": {
       "model_id": "",
       "version_major": 2,
       "version_minor": 0
      },
      "text/plain": [
       "HBox(children=(HTML(value='Validating'), FloatProgress(value=1.0, bar_style='info', layout=Layout(flex='2'), m…"
      ]
     },
     "metadata": {},
     "output_type": "display_data"
    },
    {
     "data": {
      "application/vnd.jupyter.widget-view+json": {
       "model_id": "",
       "version_major": 2,
       "version_minor": 0
      },
      "text/plain": [
       "HBox(children=(HTML(value='Validating'), FloatProgress(value=1.0, bar_style='info', layout=Layout(flex='2'), m…"
      ]
     },
     "metadata": {},
     "output_type": "display_data"
    },
    {
     "data": {
      "application/vnd.jupyter.widget-view+json": {
       "model_id": "",
       "version_major": 2,
       "version_minor": 0
      },
      "text/plain": [
       "HBox(children=(HTML(value='Validating'), FloatProgress(value=1.0, bar_style='info', layout=Layout(flex='2'), m…"
      ]
     },
     "metadata": {},
     "output_type": "display_data"
    },
    {
     "data": {
      "application/vnd.jupyter.widget-view+json": {
       "model_id": "",
       "version_major": 2,
       "version_minor": 0
      },
      "text/plain": [
       "HBox(children=(HTML(value='Validating'), FloatProgress(value=1.0, bar_style='info', layout=Layout(flex='2'), m…"
      ]
     },
     "metadata": {},
     "output_type": "display_data"
    },
    {
     "data": {
      "application/vnd.jupyter.widget-view+json": {
       "model_id": "",
       "version_major": 2,
       "version_minor": 0
      },
      "text/plain": [
       "HBox(children=(HTML(value='Validating'), FloatProgress(value=1.0, bar_style='info', layout=Layout(flex='2'), m…"
      ]
     },
     "metadata": {},
     "output_type": "display_data"
    },
    {
     "data": {
      "application/vnd.jupyter.widget-view+json": {
       "model_id": "",
       "version_major": 2,
       "version_minor": 0
      },
      "text/plain": [
       "HBox(children=(HTML(value='Validating'), FloatProgress(value=1.0, bar_style='info', layout=Layout(flex='2'), m…"
      ]
     },
     "metadata": {},
     "output_type": "display_data"
    },
    {
     "data": {
      "application/vnd.jupyter.widget-view+json": {
       "model_id": "",
       "version_major": 2,
       "version_minor": 0
      },
      "text/plain": [
       "HBox(children=(HTML(value='Validating'), FloatProgress(value=1.0, bar_style='info', layout=Layout(flex='2'), m…"
      ]
     },
     "metadata": {},
     "output_type": "display_data"
    },
    {
     "data": {
      "application/vnd.jupyter.widget-view+json": {
       "model_id": "",
       "version_major": 2,
       "version_minor": 0
      },
      "text/plain": [
       "HBox(children=(HTML(value='Validating'), FloatProgress(value=1.0, bar_style='info', layout=Layout(flex='2'), m…"
      ]
     },
     "metadata": {},
     "output_type": "display_data"
    },
    {
     "data": {
      "application/vnd.jupyter.widget-view+json": {
       "model_id": "",
       "version_major": 2,
       "version_minor": 0
      },
      "text/plain": [
       "HBox(children=(HTML(value='Validating'), FloatProgress(value=1.0, bar_style='info', layout=Layout(flex='2'), m…"
      ]
     },
     "metadata": {},
     "output_type": "display_data"
    },
    {
     "data": {
      "application/vnd.jupyter.widget-view+json": {
       "model_id": "",
       "version_major": 2,
       "version_minor": 0
      },
      "text/plain": [
       "HBox(children=(HTML(value='Validating'), FloatProgress(value=1.0, bar_style='info', layout=Layout(flex='2'), m…"
      ]
     },
     "metadata": {},
     "output_type": "display_data"
    },
    {
     "data": {
      "application/vnd.jupyter.widget-view+json": {
       "model_id": "",
       "version_major": 2,
       "version_minor": 0
      },
      "text/plain": [
       "HBox(children=(HTML(value='Validating'), FloatProgress(value=1.0, bar_style='info', layout=Layout(flex='2'), m…"
      ]
     },
     "metadata": {},
     "output_type": "display_data"
    },
    {
     "data": {
      "application/vnd.jupyter.widget-view+json": {
       "model_id": "",
       "version_major": 2,
       "version_minor": 0
      },
      "text/plain": [
       "HBox(children=(HTML(value='Validating'), FloatProgress(value=1.0, bar_style='info', layout=Layout(flex='2'), m…"
      ]
     },
     "metadata": {},
     "output_type": "display_data"
    },
    {
     "data": {
      "application/vnd.jupyter.widget-view+json": {
       "model_id": "",
       "version_major": 2,
       "version_minor": 0
      },
      "text/plain": [
       "HBox(children=(HTML(value='Validating'), FloatProgress(value=1.0, bar_style='info', layout=Layout(flex='2'), m…"
      ]
     },
     "metadata": {},
     "output_type": "display_data"
    },
    {
     "data": {
      "application/vnd.jupyter.widget-view+json": {
       "model_id": "",
       "version_major": 2,
       "version_minor": 0
      },
      "text/plain": [
       "HBox(children=(HTML(value='Validating'), FloatProgress(value=1.0, bar_style='info', layout=Layout(flex='2'), m…"
      ]
     },
     "metadata": {},
     "output_type": "display_data"
    },
    {
     "data": {
      "application/vnd.jupyter.widget-view+json": {
       "model_id": "",
       "version_major": 2,
       "version_minor": 0
      },
      "text/plain": [
       "HBox(children=(HTML(value='Validating'), FloatProgress(value=1.0, bar_style='info', layout=Layout(flex='2'), m…"
      ]
     },
     "metadata": {},
     "output_type": "display_data"
    },
    {
     "data": {
      "application/vnd.jupyter.widget-view+json": {
       "model_id": "",
       "version_major": 2,
       "version_minor": 0
      },
      "text/plain": [
       "HBox(children=(HTML(value='Validating'), FloatProgress(value=1.0, bar_style='info', layout=Layout(flex='2'), m…"
      ]
     },
     "metadata": {},
     "output_type": "display_data"
    },
    {
     "name": "stdout",
     "output_type": "stream",
     "text": [
      "\n"
     ]
    },
    {
     "data": {
      "text/plain": [
       "1"
      ]
     },
     "execution_count": 5,
     "metadata": {},
     "output_type": "execute_result"
    }
   ],
   "source": [
    "trainer = pl.Trainer(max_epochs=epochs, early_stop_callback=early_stopping)\n",
    "\n",
    "trainer.fit(model)"
   ]
  },
  {
   "cell_type": "code",
   "execution_count": 65,
   "metadata": {},
   "outputs": [
    {
     "data": {
      "text/plain": [
       "0.7142857142857143"
      ]
     },
     "execution_count": 65,
     "metadata": {},
     "output_type": "execute_result"
    }
   ],
   "source": [
    "model.eval()\n",
    "_, acc =  model.getTestAcc()\n",
    "acc"
   ]
  },
  {
   "cell_type": "code",
   "execution_count": 6,
   "metadata": {},
   "outputs": [
    {
     "name": "stdout",
     "output_type": "stream",
     "text": [
      "Number of training graphs: 103\n",
      "Number of validation graphs: 12\n",
      "Number of test graphs: 14\n"
     ]
    },
    {
     "data": {
      "application/vnd.jupyter.widget-view+json": {
       "model_id": "255f8ab82af64520a29c597ba0a9f468",
       "version_major": 2,
       "version_minor": 0
      },
      "text/plain": [
       "HBox(children=(HTML(value='Testing'), FloatProgress(value=1.0, bar_style='info', layout=Layout(flex='2'), max=…"
      ]
     },
     "metadata": {},
     "output_type": "display_data"
    },
    {
     "name": "stdout",
     "output_type": "stream",
     "text": [
      "--------------------------------------------------------------------------------\n",
      "TEST RESULTS\n",
      "{'test_acc': 0.7142857142857143, 'test_loss': tensor(0.3407)}\n",
      "--------------------------------------------------------------------------------\n",
      "\n"
     ]
    }
   ],
   "source": [
    "trainer.test(model)"
   ]
  },
  {
   "cell_type": "code",
   "execution_count": 58,
   "metadata": {},
   "outputs": [
    {
     "data": {
      "text/plain": [
       "<BarContainer object of 148 artists>"
      ]
     },
     "execution_count": 58,
     "metadata": {},
     "output_type": "execute_result"
    },
    {
     "data": {
      "image/png": "[encoded data removed]",
      "text/plain": [
       "<Figure size 432x288 with 1 Axes>"
      ]
     },
     "metadata": {
      "needs_background": "light"
     },
     "output_type": "display_data"
    },
    {
     "data": {
      "image/png": "[encoded data removed]",
      "text/plain": [
       "<Figure size 432x288 with 1 Axes>"
      ]
     },
     "metadata": {
      "needs_background": "light"
     },
     "output_type": "display_data"
    }
   ],
   "source": [
    "topk = 5\n",
    "model.model.eval()\n",
    "cnt_dict = []\n",
    "cnt_dict.append({i+1:0 for i in range(148)})\n",
    "cnt_dict.append({i+1:0 for i in range(148)})\n",
    "for d  in model.dataset['test']:\n",
    "    #print(d.y)\n",
    "    att = model.model.get_att(x=d.x, edge_index = d.edge_index, edge_attr = d.edge_attr)\n",
    "    #att.shape\n",
    "    att_values = {}\n",
    "    att_values = {i+1:v[0] for i,v in enumerate(att.tolist())}\n",
    "    \n",
    "    #att_values\n",
    "    l = list({k: v for k, v in sorted(att_values.items(), key=lambda item: item[1], reverse = True)}.keys())\n",
    "    for tk in l[:topk]:\n",
    "        cnt_dict[d.y][tk] = cnt_dict[d.y][tk]+1\n",
    "plt.figure(0)\n",
    "plt.bar(cnt_dict[0].keys(),cnt_dict[0].values())\n",
    "plt.figure(1)\n",
    "plt.bar(cnt_dict[1].keys(),cnt_dict[1].values())"
   ]
  },
  {
   "cell_type": "code",
   "execution_count": 87,
   "metadata": {},
   "outputs": [
    {
     "data": {
      "text/plain": [
       "<BarContainer object of 148 artists>"
      ]
     },
     "execution_count": 87,
     "metadata": {},
     "output_type": "execute_result"
    },
    {
     "data": {
      "image/png": "[encoded data removed]",
      "text/plain": [
       "<Figure size 1080x1080 with 9 Axes>"
      ]
     },
     "metadata": {
      "needs_background": "light"
     },
     "output_type": "display_data"
    },
    {
     "data": {
      "image/png": "[encoded data removed]",
      "text/plain": [
       "<Figure size 432x288 with 1 Axes>"
      ]
     },
     "metadata": {
      "needs_background": "light"
     },
     "output_type": "display_data"
    }
   ],
   "source": [
    "model.model.eval()\n",
    "nrows = 3\n",
    "ncols = 3\n",
    "fig, axes = plt.subplots(figsize=(15, 15) , nrows = nrows, ncols = ncols, sharex='all', sharey='all')\n",
    "fig.tight_layout()\n",
    "\n",
    "cnt = 0\n",
    "avg_dict0 = {i+1:0 for i in range(148)}\n",
    "for tc,d  in enumerate(model.dataset['test']):\n",
    "    #print(d.y)\n",
    "    if(d.y == 0) :\n",
    "        ax = axes[cnt//ncols][cnt%ncols]\n",
    "        cnt = cnt+1\n",
    "        att = model.model.get_att(x=d.x, edge_index = d.edge_index, edge_attr = d.edge_attr)\n",
    "        #att.shape\n",
    "        att_values = {}\n",
    "        att_values = {i+1:v[0] for i,v in enumerate(att.tolist())}\n",
    "        for j in range(148):\n",
    "            i=j+1\n",
    "            avg_dict0[i] = avg_dict0[i] + att_values[i]\n",
    "        ax.bar(att_values.keys(),att_values.values())\n",
    "\n",
    "avg_dict0 = {i+1:(avg_dict0[i+1]/cnt) for i in range(148)}\n",
    "plt.figure(0)\n",
    "plt.bar(avg_dict0.keys(),avg_dict0.values())"
   ]
  },
  {
   "cell_type": "code",
   "execution_count": 93,
   "metadata": {},
   "outputs": [
    {
     "data": {
      "text/plain": [
       "<BarContainer object of 148 artists>"
      ]
     },
     "execution_count": 93,
     "metadata": {},
     "output_type": "execute_result"
    },
    {
     "data": {
      "image/png": "[encoded data removed]",
      "text/plain": [
       "<Figure size 1080x1080 with 9 Axes>"
      ]
     },
     "metadata": {
      "needs_background": "light"
     },
     "output_type": "display_data"
    },
    {
     "data": {
      "image/png": "[encoded data removed]",
      "text/plain": [
       "<Figure size 432x288 with 1 Axes>"
      ]
     },
     "metadata": {
      "needs_background": "light"
     },
     "output_type": "display_data"
    }
   ],
   "source": [
    "model.model.eval()\n",
    "nrows = 3\n",
    "ncols = 3\n",
    "fig, axes = plt.subplots(figsize=(15, 15) , nrows = nrows, ncols = ncols, sharex='all', sharey='all')\n",
    "fig.tight_layout()\n",
    "\n",
    "cnt = 0\n",
    "avg_dict1 = {i+1:0 for i in range(148)}\n",
    "for tc,d  in enumerate(model.dataset['test']):\n",
    "    #print(d.y)\n",
    "    if(d.y == 1) :\n",
    "        ax = axes[cnt//ncols][cnt%ncols]\n",
    "        cnt = cnt+1\n",
    "        att = model.model.get_att(x=d.x, edge_index = d.edge_index, edge_attr = d.edge_attr)\n",
    "        #att.shape\n",
    "        att_values = {}\n",
    "        att_values = {i+1:v[0] for i,v in enumerate(att.tolist())}\n",
    "        for j in range(148):\n",
    "            i=j+1\n",
    "            avg_dict1[i] = avg_dict1[i] + att_values[i]\n",
    "        ax.bar(att_values.keys(),att_values.values())\n",
    "\n",
    "avg_dict1 = {i+1:(avg_dict1[i+1]/cnt) for i in range(148)}\n",
    "plt.figure(0)\n",
    "plt.bar(avg_dict1.keys(),avg_dict1.values())"
   ]
  },
  {
   "cell_type": "code",
   "execution_count": null,
   "metadata": {},
   "outputs": [],
   "source": []
  },
  {
   "cell_type": "code",
   "execution_count": null,
   "metadata": {},
   "outputs": [],
   "source": []
  },
  {
   "cell_type": "code",
   "execution_count": null,
   "metadata": {},
   "outputs": [],
   "source": []
  },
  {
   "cell_type": "code",
   "execution_count": null,
   "metadata": {},
   "outputs": [],
   "source": []
  },
  {
   "cell_type": "code",
   "execution_count": null,
   "metadata": {},
   "outputs": [],
   "source": []
  },
  {
   "cell_type": "code",
   "execution_count": 23,
   "metadata": {},
   "outputs": [
    {
     "name": "stdout",
     "output_type": "stream",
     "text": [
      "cpu\n"
     ]
    }
   ],
   "source": [
    "device = torch.device(\"cuda\" if torch.cuda.is_available() else \"cpu\")\n",
    "print(device)\n",
    "hparams = {}\n",
    "hparams['split_train'] = 0.7\n",
    "hparams['split_val'] = 0.2\n",
    "\n",
    "\n",
    "hparams['batch_size'] = 32\n",
    "hparams['num_classes'] = 2\n",
    "#hparams['num_classes'] = 3\n",
    "\n",
    "hparams['hidden_channels'] = 64\n",
    "hparams['num_node_features'] = 149\n",
    "hparams['num_layers'] = 6\n",
    "## 6 --> 2\n",
    "## 8 --> 3개가 쓰인다.\n",
    "hparams['ratio'] = 0.8\n",
    "#hparams['ratio'] = 0.5\n",
    "\n",
    "hparams['batch_size'] = 32\n",
    "hparams['lr'] = 3.0e-04\n",
    "#hparams['lr'] = 5.0e-05\n",
    "\n",
    "hparams['weight_decay'] = 1.0e-6\n",
    "#hparams['weight_decay'] = 1.0e-4\n",
    "\n",
    "#hparams['use_base_edge'] = True\n",
    "hparams['use_base_edge'] = False\n",
    "\n",
    "\n",
    "s='./data_diff'\n",
    "#s='./data_diff_base'\n",
    "#s='./data_50_diff'\n",
    "#s='./data_05_diff_base'\n",
    "\n",
    "hparams['s_data'] = osp.join(*(s.split('/')))\n",
    "s='./data/DT_File_MAP.xlsx'\n",
    "hparams['s_node'] = osp.join(*(s.split('/')))\n",
    "s='./data/[UNC]ADNI-network/dataTS.csv'\n",
    "hparams['s_date'] = osp.join(*(s.split('/')))\n",
    "s = './sparsification/data'\n",
    "#s = './sparsification/data_05'\n",
    "hparams['s_sparsified'] = osp.join(*(s.split('/'))) + osp.sep\n",
    "\n",
    "hparams['min_score'] = None\n",
    "hparams['use_weight'] = True\n",
    "hparams['nonlinearity'] = torch.sigmoid\n",
    "\n"
   ]
  },
  {
   "cell_type": "code",
   "execution_count": null,
   "metadata": {},
   "outputs": [],
   "source": []
  },
  {
   "cell_type": "code",
   "execution_count": 24,
   "metadata": {},
   "outputs": [
    {
     "data": {
      "text/plain": [
       "SAGPool(\n",
       "  (conv1): GCNConv(149, 64)\n",
       "  (convs): ModuleList(\n",
       "    (0): GCNConv(64, 64)\n",
       "    (1): GCNConv(64, 64)\n",
       "    (2): GCNConv(64, 64)\n",
       "    (3): GCNConv(64, 64)\n",
       "    (4): GCNConv(64, 64)\n",
       "  )\n",
       "  (pools): ModuleList(\n",
       "    (0): SAGPooling(GCNConv, 64, ratio=0.8, multiplier=1)\n",
       "    (1): SAGPooling(GCNConv, 64, ratio=0.8, multiplier=1)\n",
       "  )\n",
       "  (jump): JumpingKnowledge(cat)\n",
       "  (lin1): Linear(in_features=384, out_features=64, bias=True)\n",
       "  (lin2): Linear(in_features=64, out_features=2, bias=True)\n",
       ")"
      ]
     },
     "execution_count": 24,
     "metadata": {},
     "output_type": "execute_result"
    }
   ],
   "source": [
    "model = TimeDiffClassifier_sagpooling(hparams)\n",
    "model = model.to(device)\n",
    "\n",
    "trainer = None\n",
    "\n",
    "epochs = 300\n",
    "min_epochs = 10#100\n",
    "\n",
    "logdir = './lightning_logs'\n",
    "network_logger = pl.loggers.TensorBoardLogger(\n",
    "    save_dir=logdir,\n",
    "    name='TimeDiffClassify_logs'\n",
    ")\n",
    "logger = network_logger\n",
    "\n",
    "early_stopping = pl.callbacks.EarlyStopping(\n",
    "    monitor='val_loss',\n",
    "    patience=50,\n",
    ")\n",
    "model.model"
   ]
  },
  {
   "cell_type": "code",
   "execution_count": 25,
   "metadata": {},
   "outputs": [
    {
     "data": {
      "text/plain": [
       "<function _VariableFunctionsClass.sigmoid>"
      ]
     },
     "execution_count": 25,
     "metadata": {},
     "output_type": "execute_result"
    }
   ],
   "source": [
    "model.model.nonlinearity"
   ]
  },
  {
   "cell_type": "code",
   "execution_count": 26,
   "metadata": {},
   "outputs": [
    {
     "name": "stdout",
     "output_type": "stream",
     "text": [
      "Number of training graphs: 90\n",
      "Number of validation graphs: 25\n",
      "Number of test graphs: 14\n"
     ]
    }
   ],
   "source": [
    "model.prepare_data()\n"
   ]
  },
  {
   "cell_type": "code",
   "execution_count": null,
   "metadata": {},
   "outputs": [
    {
     "name": "stderr",
     "output_type": "stream",
     "text": [
      "GPU available: False, used: False\n",
      "No environment variable for node rank defined. Set as 0.\n",
      "\n",
      "   | Name              | Type             | Params\n",
      "---------------------------------------------------\n",
      "0  | model             | SAGPool          | 55 K  \n",
      "1  | model.conv1       | GCNConv          | 9 K   \n",
      "2  | model.convs       | ModuleList       | 20 K  \n",
      "3  | model.convs.0     | GCNConv          | 4 K   \n",
      "4  | model.convs.1     | GCNConv          | 4 K   \n",
      "5  | model.convs.2     | GCNConv          | 4 K   \n",
      "6  | model.convs.3     | GCNConv          | 4 K   \n",
      "7  | model.convs.4     | GCNConv          | 4 K   \n",
      "8  | model.pools       | ModuleList       | 130   \n",
      "9  | model.pools.0     | SAGPooling       | 65    \n",
      "10 | model.pools.0.gnn | GCNConv          | 65    \n",
      "11 | model.pools.1     | SAGPooling       | 65    \n",
      "12 | model.pools.1.gnn | GCNConv          | 65    \n",
      "13 | model.jump        | JumpingKnowledge | 0     \n",
      "14 | model.lin1        | Linear           | 24 K  \n",
      "15 | model.lin2        | Linear           | 130   \n"
     ]
    },
    {
     "name": "stdout",
     "output_type": "stream",
     "text": [
      "Number of training graphs: 90\n",
      "Number of validation graphs: 25\n",
      "Number of test graphs: 14\n"
     ]
    },
    {
     "data": {
      "application/vnd.jupyter.widget-view+json": {
       "model_id": "aa5c322f96734d7a80549941ebd4bd2d",
       "version_major": 2,
       "version_minor": 0
      },
      "text/plain": [
       "HBox(children=(HTML(value='Validation sanity check'), FloatProgress(value=1.0, bar_style='info', layout=Layout…"
      ]
     },
     "metadata": {},
     "output_type": "display_data"
    },
    {
     "data": {
      "application/vnd.jupyter.widget-view+json": {
       "model_id": "da9ef5d0d12140558c25b56c2024bd6c",
       "version_major": 2,
       "version_minor": 0
      },
      "text/plain": [
       "HBox(children=(HTML(value='Training'), FloatProgress(value=1.0, bar_style='info', layout=Layout(flex='2'), max…"
      ]
     },
     "metadata": {},
     "output_type": "display_data"
    },
    {
     "data": {
      "application/vnd.jupyter.widget-view+json": {
       "model_id": "",
       "version_major": 2,
       "version_minor": 0
      },
      "text/plain": [
       "HBox(children=(HTML(value='Validating'), FloatProgress(value=1.0, bar_style='info', layout=Layout(flex='2'), m…"
      ]
     },
     "metadata": {},
     "output_type": "display_data"
    },
    {
     "data": {
      "application/vnd.jupyter.widget-view+json": {
       "model_id": "",
       "version_major": 2,
       "version_minor": 0
      },
      "text/plain": [
       "HBox(children=(HTML(value='Validating'), FloatProgress(value=1.0, bar_style='info', layout=Layout(flex='2'), m…"
      ]
     },
     "metadata": {},
     "output_type": "display_data"
    },
    {
     "data": {
      "application/vnd.jupyter.widget-view+json": {
       "model_id": "",
       "version_major": 2,
       "version_minor": 0
      },
      "text/plain": [
       "HBox(children=(HTML(value='Validating'), FloatProgress(value=1.0, bar_style='info', layout=Layout(flex='2'), m…"
      ]
     },
     "metadata": {},
     "output_type": "display_data"
    },
    {
     "data": {
      "application/vnd.jupyter.widget-view+json": {
       "model_id": "",
       "version_major": 2,
       "version_minor": 0
      },
      "text/plain": [
       "HBox(children=(HTML(value='Validating'), FloatProgress(value=1.0, bar_style='info', layout=Layout(flex='2'), m…"
      ]
     },
     "metadata": {},
     "output_type": "display_data"
    },
    {
     "data": {
      "application/vnd.jupyter.widget-view+json": {
       "model_id": "",
       "version_major": 2,
       "version_minor": 0
      },
      "text/plain": [
       "HBox(children=(HTML(value='Validating'), FloatProgress(value=1.0, bar_style='info', layout=Layout(flex='2'), m…"
      ]
     },
     "metadata": {},
     "output_type": "display_data"
    },
    {
     "data": {
      "application/vnd.jupyter.widget-view+json": {
       "model_id": "",
       "version_major": 2,
       "version_minor": 0
      },
      "text/plain": [
       "HBox(children=(HTML(value='Validating'), FloatProgress(value=1.0, bar_style='info', layout=Layout(flex='2'), m…"
      ]
     },
     "metadata": {},
     "output_type": "display_data"
    },
    {
     "data": {
      "application/vnd.jupyter.widget-view+json": {
       "model_id": "",
       "version_major": 2,
       "version_minor": 0
      },
      "text/plain": [
       "HBox(children=(HTML(value='Validating'), FloatProgress(value=1.0, bar_style='info', layout=Layout(flex='2'), m…"
      ]
     },
     "metadata": {},
     "output_type": "display_data"
    },
    {
     "data": {
      "application/vnd.jupyter.widget-view+json": {
       "model_id": "",
       "version_major": 2,
       "version_minor": 0
      },
      "text/plain": [
       "HBox(children=(HTML(value='Validating'), FloatProgress(value=1.0, bar_style='info', layout=Layout(flex='2'), m…"
      ]
     },
     "metadata": {},
     "output_type": "display_data"
    },
    {
     "data": {
      "application/vnd.jupyter.widget-view+json": {
       "model_id": "",
       "version_major": 2,
       "version_minor": 0
      },
      "text/plain": [
       "HBox(children=(HTML(value='Validating'), FloatProgress(value=1.0, bar_style='info', layout=Layout(flex='2'), m…"
      ]
     },
     "metadata": {},
     "output_type": "display_data"
    },
    {
     "data": {
      "application/vnd.jupyter.widget-view+json": {
       "model_id": "",
       "version_major": 2,
       "version_minor": 0
      },
      "text/plain": [
       "HBox(children=(HTML(value='Validating'), FloatProgress(value=1.0, bar_style='info', layout=Layout(flex='2'), m…"
      ]
     },
     "metadata": {},
     "output_type": "display_data"
    },
    {
     "data": {
      "application/vnd.jupyter.widget-view+json": {
       "model_id": "",
       "version_major": 2,
       "version_minor": 0
      },
      "text/plain": [
       "HBox(children=(HTML(value='Validating'), FloatProgress(value=1.0, bar_style='info', layout=Layout(flex='2'), m…"
      ]
     },
     "metadata": {},
     "output_type": "display_data"
    },
    {
     "data": {
      "application/vnd.jupyter.widget-view+json": {
       "model_id": "",
       "version_major": 2,
       "version_minor": 0
      },
      "text/plain": [
       "HBox(children=(HTML(value='Validating'), FloatProgress(value=1.0, bar_style='info', layout=Layout(flex='2'), m…"
      ]
     },
     "metadata": {},
     "output_type": "display_data"
    },
    {
     "data": {
      "application/vnd.jupyter.widget-view+json": {
       "model_id": "",
       "version_major": 2,
       "version_minor": 0
      },
      "text/plain": [
       "HBox(children=(HTML(value='Validating'), FloatProgress(value=1.0, bar_style='info', layout=Layout(flex='2'), m…"
      ]
     },
     "metadata": {},
     "output_type": "display_data"
    },
    {
     "data": {
      "application/vnd.jupyter.widget-view+json": {
       "model_id": "",
       "version_major": 2,
       "version_minor": 0
      },
      "text/plain": [
       "HBox(children=(HTML(value='Validating'), FloatProgress(value=1.0, bar_style='info', layout=Layout(flex='2'), m…"
      ]
     },
     "metadata": {},
     "output_type": "display_data"
    },
    {
     "data": {
      "application/vnd.jupyter.widget-view+json": {
       "model_id": "",
       "version_major": 2,
       "version_minor": 0
      },
      "text/plain": [
       "HBox(children=(HTML(value='Validating'), FloatProgress(value=1.0, bar_style='info', layout=Layout(flex='2'), m…"
      ]
     },
     "metadata": {},
     "output_type": "display_data"
    },
    {
     "data": {
      "application/vnd.jupyter.widget-view+json": {
       "model_id": "",
       "version_major": 2,
       "version_minor": 0
      },
      "text/plain": [
       "HBox(children=(HTML(value='Validating'), FloatProgress(value=1.0, bar_style='info', layout=Layout(flex='2'), m…"
      ]
     },
     "metadata": {},
     "output_type": "display_data"
    },
    {
     "data": {
      "application/vnd.jupyter.widget-view+json": {
       "model_id": "",
       "version_major": 2,
       "version_minor": 0
      },
      "text/plain": [
       "HBox(children=(HTML(value='Validating'), FloatProgress(value=1.0, bar_style='info', layout=Layout(flex='2'), m…"
      ]
     },
     "metadata": {},
     "output_type": "display_data"
    },
    {
     "data": {
      "application/vnd.jupyter.widget-view+json": {
       "model_id": "7a202f614a0e4e1aa588c4987ae3c709",
       "version_major": 2,
       "version_minor": 0
      },
      "text/plain": [
       "HBox(children=(HTML(value='Validating'), FloatProgress(value=1.0, bar_style='info', layout=Layout(flex='2'), m…"
      ]
     },
     "metadata": {},
     "output_type": "display_data"
    }
   ],
   "source": [
    "trainer = pl.Trainer(max_epochs=epochs, early_stop_callback=early_stopping, min_epochs = min_epochs)\n",
    "\n",
    "trainer.fit(model)"
   ]
  },
  {
   "cell_type": "code",
   "execution_count": 9,
   "metadata": {},
   "outputs": [
    {
     "name": "stdout",
     "output_type": "stream",
     "text": [
      "Number of training graphs: 90\n",
      "Number of validation graphs: 25\n",
      "Number of test graphs: 14\n"
     ]
    },
    {
     "data": {
      "application/vnd.jupyter.widget-view+json": {
       "model_id": "afe0faec23a248f9b8f6bd8472a9251c",
       "version_major": 2,
       "version_minor": 0
      },
      "text/plain": [
       "HBox(children=(HTML(value='Testing'), FloatProgress(value=1.0, bar_style='info', layout=Layout(flex='2'), max=…"
      ]
     },
     "metadata": {},
     "output_type": "display_data"
    },
    {
     "name": "stdout",
     "output_type": "stream",
     "text": [
      "--------------------------------------------------------------------------------\n",
      "TEST RESULTS\n",
      "{'test_acc': 0.5, 'test_loss': tensor(0.7446)}\n",
      "--------------------------------------------------------------------------------\n",
      "\n"
     ]
    }
   ],
   "source": [
    "\n",
    "trainer.test(model)"
   ]
  },
  {
   "cell_type": "code",
   "execution_count": 10,
   "metadata": {},
   "outputs": [
    {
     "data": {
      "text/plain": [
       "0.5724334022399462"
      ]
     },
     "execution_count": 10,
     "metadata": {},
     "output_type": "execute_result"
    }
   ],
   "source": [
    "hparams['ratio']**((hparams['num_layers']-1)/2)"
   ]
  },
  {
   "cell_type": "code",
   "execution_count": 11,
   "metadata": {},
   "outputs": [
    {
     "data": {
      "text/plain": [
       "75.77600000000002"
      ]
     },
     "execution_count": 11,
     "metadata": {},
     "output_type": "execute_result"
    }
   ],
   "source": [
    "0.8**3*148"
   ]
  },
  {
   "cell_type": "code",
   "execution_count": 12,
   "metadata": {},
   "outputs": [
    {
     "data": {
      "text/plain": [
       "118.4"
      ]
     },
     "execution_count": 12,
     "metadata": {},
     "output_type": "execute_result"
    }
   ],
   "source": [
    "148*0.8"
   ]
  },
  {
   "cell_type": "code",
   "execution_count": 77,
   "metadata": {},
   "outputs": [
    {
     "data": {
      "text/plain": [
       "<torch.utils.data.dataset.Subset at 0x29f091aafd0>"
      ]
     },
     "execution_count": 77,
     "metadata": {},
     "output_type": "execute_result"
    }
   ],
   "source": [
    "model.dataset['test']"
   ]
  },
  {
   "cell_type": "code",
   "execution_count": 13,
   "metadata": {},
   "outputs": [
    {
     "name": "stdout",
     "output_type": "stream",
     "text": [
      "~~~~~~~~~~~~~~~~~~~~~~~~~~~~\n",
      "tensor([1])\n",
      "-----node-----\n",
      "@@@@@@@@@@@@@@@@@@@@@@@@@@@@\n",
      "tensor([ 72,   0,  15,  43, 146,  44,  96,  48,  23,  40,  97,  64,  55,   1,\n",
      "         47,  56,  33,  67, 114, 115,  79,  51,  58,   7,  22,  92,  66,  60,\n",
      "        110, 139,  25,  13,  18,  21, 145, 125, 117, 108,  36, 123, 134,  71,\n",
      "         24,  89,  37, 129,   3,  12,  99,  73, 118, 121, 138,  57, 107,  75,\n",
      "          2,  50,  46, 127,  41, 122,  19,  87,  28,  20,  63,  49, 131,  35,\n",
      "         74,  14,  65, 109,  53,  68, 136, 120,  16,  45,  62, 119,  81,  95,\n",
      "         29,  88,  94,  59,  90, 126, 141,  32, 133, 103,  42,  77,   5,  34,\n",
      "         27, 143,  84, 135,  17,  11, 116,  85, 111,  31,  39,  30,  26, 105,\n",
      "        102,  69,  80,  91,  98, 140, 100])\n",
      "tensor([0.3442, 0.3367, 0.3196, 0.3173, 0.3152, 0.3087, 0.3083, 0.3080, 0.3024,\n",
      "        0.2957, 0.2913, 0.2904, 0.2867, 0.2865, 0.2863, 0.2851, 0.2834, 0.2828,\n",
      "        0.2821, 0.2793, 0.2771, 0.2733, 0.2732, 0.2724, 0.2700, 0.2692, 0.2681,\n",
      "        0.2652, 0.2649, 0.2648, 0.2642, 0.2630, 0.2598, 0.2574, 0.2571, 0.2569,\n",
      "        0.2562, 0.2557, 0.2538, 0.2532, 0.2518, 0.2513, 0.2506, 0.2500, 0.2492,\n",
      "        0.2491, 0.2487, 0.2479, 0.2474, 0.2461, 0.2461, 0.2453, 0.2447, 0.2435,\n",
      "        0.2433, 0.2425, 0.2418, 0.2413, 0.2408, 0.2406, 0.2403, 0.2397, 0.2381,\n",
      "        0.2378, 0.2359, 0.2358, 0.2323, 0.2318, 0.2317, 0.2310, 0.2299, 0.2298,\n",
      "        0.2298, 0.2297, 0.2297, 0.2296, 0.2292, 0.2291, 0.2268, 0.2255, 0.2252,\n",
      "        0.2234, 0.2232, 0.2230, 0.2206, 0.2199, 0.2187, 0.2185, 0.2169, 0.2167,\n",
      "        0.2164, 0.2160, 0.2158, 0.2157, 0.2153, 0.2151, 0.2145, 0.2141, 0.2134,\n",
      "        0.2126, 0.2124, 0.2117, 0.2099, 0.2095, 0.2078, 0.2073, 0.2037, 0.2027,\n",
      "        0.2008, 0.1995, 0.1991, 0.1991, 0.1989, 0.1985, 0.1967, 0.1961, 0.1958,\n",
      "        0.1951, 0.1938], grad_fn=<IndexBackward>)\n",
      "@@@@@@@@@@@@@@@@@@@@@@@@@@@@\n",
      "tensor([  1,  31, 109,  81, 111, 112,  47,  91,  76, 100,  68,  77,  92,  72,\n",
      "         99,  71,  94, 110,  97, 104,  83,  84,  69,  54,  98, 115, 103,  88,\n",
      "         93, 108,  66,  63,  49, 106,  73,  45, 101,  62,  51, 105,  79,  86,\n",
      "         78,  96, 117,  82,  65,  48,  43, 116, 102, 114, 118,  90,  60,  52,\n",
      "         40,  29,  89,  70,  37,  19,  55,  36,  57, 107,  87,  61,  85,  53,\n",
      "         25, 113,  42,  67,  46,  44,  74,  50,  30,  34,  95,  33,  64,   2,\n",
      "         75,  35,  28,   8,  27,  16,  32,  38,  41,  10,  18,   9])\n",
      "tensor([-0.0493, -0.0637, -0.0676, -0.0696, -0.0731, -0.0734, -0.0743, -0.0749,\n",
      "        -0.0752, -0.0755, -0.0755, -0.0759, -0.0760, -0.0783, -0.0788, -0.0790,\n",
      "        -0.0791, -0.0793, -0.0794, -0.0800, -0.0801, -0.0803, -0.0803, -0.0807,\n",
      "        -0.0808, -0.0810, -0.0810, -0.0810, -0.0811, -0.0812, -0.0813, -0.0814,\n",
      "        -0.0822, -0.0823, -0.0827, -0.0827, -0.0828, -0.0831, -0.0831, -0.0840,\n",
      "        -0.0843, -0.0843, -0.0844, -0.0844, -0.0845, -0.0848, -0.0848, -0.0849,\n",
      "        -0.0849, -0.0849, -0.0850, -0.0851, -0.0851, -0.0852, -0.0859, -0.0860,\n",
      "        -0.0864, -0.0865, -0.0869, -0.0869, -0.0871, -0.0875, -0.0876, -0.0879,\n",
      "        -0.0879, -0.0880, -0.0880, -0.0884, -0.0891, -0.0896, -0.0902, -0.0902,\n",
      "        -0.0902, -0.0908, -0.0908, -0.0912, -0.0913, -0.0915, -0.0917, -0.0920,\n",
      "        -0.0924, -0.0927, -0.0928, -0.0929, -0.0929, -0.0941, -0.0944, -0.0946,\n",
      "        -0.0947, -0.0949, -0.0950, -0.0952, -0.0955, -0.0962, -0.0963, -0.0967],\n",
      "       grad_fn=<IndexBackward>)\n",
      "tensor([  1,  14,  31, 120, 106, 103,  13,  33, 137,  85, 132, 121, 134,  66,\n",
      "        144,  15,  43,  27,  35, 117,  96,  30,  36, 108,  28,  92,  12,  91,\n",
      "        104,  40,  64,  88,  74, 112, 110, 130, 136,  20, 122,  86,  46,  95,\n",
      "         17,   6, 141,  82,  21, 100,  90,  99,  18,  81, 101, 142,  42, 139,\n",
      "        135, 140, 127,  75, 109, 116,  76, 118,  51,  32,  60, 123,  89,  58,\n",
      "         93,  70,  25,  50,   4,  38,  54, 119,  26, 146,  78,  22,  29,  16,\n",
      "         69, 126, 111,  24,  61,  34,  19,  37,  72,  98, 115,  41])\n",
      "tensor([], dtype=torch.int64)\n",
      "~~~~~~~~~~~~~~~~~~~~~~~~~~~~\n",
      "tensor([0])\n",
      "-----node-----\n",
      "@@@@@@@@@@@@@@@@@@@@@@@@@@@@\n",
      "tensor([ 72, 146,  43,  21,  56,  96,  87,  89, 114, 122, 138, 117,  97, 108,\n",
      "         71, 129,  64, 145,  15,  40,  79, 136, 105,  47,  25,  44, 110,  91,\n",
      "         49,  20,  48,  50, 121, 107, 139, 118,   3,  99,  92,  77,  33, 134,\n",
      "         85,  55,   5,  18,  22,  67,  14,  41, 112,  88,   1, 123,  66,  19,\n",
      "         53,  75,  95,  17, 115,  57,  29,   2,  51, 124,   0, 125, 131, 120,\n",
      "         35,  60, 141,   8,  62,  94,  65, 142,  23,   7,  74, 127, 119,  45,\n",
      "         68, 137,  11,  86,  59,  93,  34,  90, 103, 104,  24,  98,  36, 109,\n",
      "         81,  42,  13, 133,  26, 106,  84,  32, 100,  82, 140, 126, 147,  52,\n",
      "        116, 135,  61, 111,  16,  37, 144])\n",
      "tensor([0.3971, 0.3860, 0.3338, 0.3071, 0.3047, 0.3035, 0.3025, 0.3021, 0.3007,\n",
      "        0.2941, 0.2894, 0.2886, 0.2878, 0.2790, 0.2765, 0.2742, 0.2735, 0.2732,\n",
      "        0.2731, 0.2723, 0.2711, 0.2705, 0.2699, 0.2685, 0.2669, 0.2669, 0.2662,\n",
      "        0.2652, 0.2642, 0.2637, 0.2635, 0.2635, 0.2632, 0.2628, 0.2627, 0.2614,\n",
      "        0.2613, 0.2609, 0.2602, 0.2587, 0.2579, 0.2561, 0.2547, 0.2537, 0.2536,\n",
      "        0.2535, 0.2530, 0.2519, 0.2485, 0.2482, 0.2466, 0.2465, 0.2452, 0.2444,\n",
      "        0.2439, 0.2426, 0.2411, 0.2382, 0.2381, 0.2374, 0.2364, 0.2363, 0.2357,\n",
      "        0.2355, 0.2345, 0.2327, 0.2326, 0.2316, 0.2312, 0.2310, 0.2307, 0.2302,\n",
      "        0.2289, 0.2283, 0.2267, 0.2249, 0.2246, 0.2230, 0.2217, 0.2211, 0.2205,\n",
      "        0.2187, 0.2184, 0.2173, 0.2170, 0.2164, 0.2157, 0.2155, 0.2146, 0.2140,\n",
      "        0.2120, 0.2111, 0.2105, 0.2103, 0.2102, 0.2099, 0.2097, 0.2086, 0.2071,\n",
      "        0.2064, 0.2063, 0.2062, 0.2058, 0.2039, 0.2034, 0.2024, 0.2016, 0.2016,\n",
      "        0.1997, 0.1992, 0.1985, 0.1979, 0.1953, 0.1952, 0.1945, 0.1932, 0.1927,\n",
      "        0.1925, 0.1921], grad_fn=<IndexBackward>)\n",
      "@@@@@@@@@@@@@@@@@@@@@@@@@@@@\n",
      "tensor([ 80, 105,  93, 117, 112,  78, 103, 100, 110,  91, 107, 104, 115,  68,\n",
      "        108,  94, 109,  97,  87,  76,  65, 116, 101,  99,  85, 102,  60,  92,\n",
      "         74, 106,  70,  89, 118,  90,  52,  96,  98,  50,  69,  63,  38,  55,\n",
      "         59,  82,  84,  77, 113,  57,  58,  95,  36,  45, 111,  86,  83,  72,\n",
      "         73,  66,  53,  61,  88,  81,  75,  71,   7,  29,  79,  40, 114,  39,\n",
      "         41,  20,  62,  21,  34,  51,  24,  42,  35,  22,  32,  11,  18,  49,\n",
      "         17,  27,  25,  33,  54,  13,  37,  46,  30,  19,  67,  47])\n",
      "tensor([-0.0655, -0.0694, -0.0706, -0.0710, -0.0722, -0.0724, -0.0736, -0.0740,\n",
      "        -0.0749, -0.0749, -0.0754, -0.0757, -0.0763, -0.0765, -0.0766, -0.0767,\n",
      "        -0.0770, -0.0772, -0.0777, -0.0789, -0.0790, -0.0795, -0.0797, -0.0798,\n",
      "        -0.0802, -0.0802, -0.0802, -0.0803, -0.0805, -0.0807, -0.0808, -0.0808,\n",
      "        -0.0811, -0.0817, -0.0818, -0.0821, -0.0823, -0.0826, -0.0832, -0.0833,\n",
      "        -0.0834, -0.0834, -0.0834, -0.0835, -0.0836, -0.0836, -0.0841, -0.0845,\n",
      "        -0.0846, -0.0848, -0.0848, -0.0850, -0.0851, -0.0855, -0.0864, -0.0869,\n",
      "        -0.0875, -0.0875, -0.0876, -0.0877, -0.0877, -0.0878, -0.0879, -0.0883,\n",
      "        -0.0885, -0.0886, -0.0888, -0.0889, -0.0889, -0.0891, -0.0896, -0.0897,\n",
      "        -0.0902, -0.0904, -0.0907, -0.0908, -0.0909, -0.0910, -0.0918, -0.0921,\n",
      "        -0.0922, -0.0922, -0.0928, -0.0931, -0.0932, -0.0933, -0.0933, -0.0934,\n",
      "        -0.0935, -0.0939, -0.0940, -0.0941, -0.0949, -0.0951, -0.0952, -0.0955],\n",
      "       grad_fn=<IndexBackward>)\n",
      "tensor([ 75,  33, 105,  38, 117,  24, 107,  14, 148,  91,  83,  85, 112, 132,\n",
      "        141,  25, 127, 110,  87,  66, 125,  17, 134,  43, 138,  27, 116, 104,\n",
      "         63, 101,  36,  94, 145,  35,   2,  37,  82, 113, 121,   3,  93,  20,\n",
      "         18, 120,  69, 143, 136,  76,  96,  99,   4,  19,  53,  12,  46, 142,\n",
      "          9,   1, 124,  58,  60, 128,  95,  61,  90,  21,   8,  34,  62,  78,\n",
      "        135,  80,  30, 137, 140,  89,  26,  86, 119, 106, 122, 118,  16,  42,\n",
      "        146,  92,  45, 108,  67, 109, 100,  23,  49,  41, 126,  68])\n",
      "tensor([], dtype=torch.int64)\n",
      "~~~~~~~~~~~~~~~~~~~~~~~~~~~~\n",
      "tensor([1])\n",
      "-----node-----\n",
      "@@@@@@@@@@@@@@@@@@@@@@@@@@@@\n",
      "tensor([ 89, 103,  15,  74,  26,  29,  28,  90, 139,  47,  24,  91,   3,   1,\n",
      "         96,  97,  65,  33,  19, 102,  93,  25, 108,  88,  18,  20,  41,  17,\n",
      "         14, 141,  42,  85,  78,  36, 120,   2, 115,  79,  92,  34,   5, 116,\n",
      "         16,  13,  58,  21,   4,  48,  31,  99,  86,   9,  11,  67,  23,  98,\n",
      "         40,  22,  37,   0,  72, 104, 110, 107, 127,  43,  27, 100,  94,  76,\n",
      "        114,  61,  71,  77,  59,  10,  35,  95, 136,  57,  81,  53, 111,  66,\n",
      "         55, 146,  68, 122,  87,  60,   7,  51, 135,  83,  84, 117,   6, 140,\n",
      "         64, 105,  30,  73, 144, 129,  50, 132,  52, 101, 134, 143, 138, 123,\n",
      "        119,  12,  80, 125, 106,  49, 126])\n",
      "tensor([0.4533, 0.4343, 0.4286, 0.3883, 0.3627, 0.3616, 0.3610, 0.3603, 0.3578,\n",
      "        0.3487, 0.3425, 0.3398, 0.3342, 0.3340, 0.3329, 0.3240, 0.3205, 0.3189,\n",
      "        0.3160, 0.3149, 0.3044, 0.3037, 0.3035, 0.3028, 0.3015, 0.3011, 0.2972,\n",
      "        0.2959, 0.2952, 0.2952, 0.2940, 0.2935, 0.2932, 0.2926, 0.2903, 0.2902,\n",
      "        0.2898, 0.2891, 0.2875, 0.2862, 0.2861, 0.2847, 0.2845, 0.2840, 0.2817,\n",
      "        0.2804, 0.2800, 0.2799, 0.2775, 0.2749, 0.2740, 0.2737, 0.2732, 0.2675,\n",
      "        0.2650, 0.2623, 0.2615, 0.2601, 0.2593, 0.2576, 0.2575, 0.2569, 0.2552,\n",
      "        0.2549, 0.2546, 0.2542, 0.2535, 0.2477, 0.2443, 0.2382, 0.2380, 0.2375,\n",
      "        0.2367, 0.2358, 0.2356, 0.2336, 0.2319, 0.2317, 0.2316, 0.2309, 0.2289,\n",
      "        0.2272, 0.2251, 0.2249, 0.2248, 0.2213, 0.2184, 0.2182, 0.2163, 0.2162,\n",
      "        0.2154, 0.2145, 0.2138, 0.2134, 0.2131, 0.2117, 0.2114, 0.2112, 0.2112,\n",
      "        0.2108, 0.2092, 0.2068, 0.2046, 0.2034, 0.2026, 0.2020, 0.2008, 0.2003,\n",
      "        0.1999, 0.1993, 0.1993, 0.1992, 0.1989, 0.1987, 0.1971, 0.1966, 0.1936,\n",
      "        0.1922, 0.1914], grad_fn=<IndexBackward>)\n",
      "@@@@@@@@@@@@@@@@@@@@@@@@@@@@\n",
      "tensor([116, 105, 109,  79, 100, 113, 107, 118, 101, 102,  90, 112,  76,  68,\n",
      "        104,  99,  88, 114, 108, 115, 117,  78, 106, 111, 103,  93,  92, 110,\n",
      "         70,  83,  66,  50,  87,  95,  94,  77,  98,  89,  81,  91,  84,  80,\n",
      "         86,  97,  71,  61,  56,  63,  60,  96,  69,  34,  73,  74,  75,  85,\n",
      "         82,  64,  52,  48,  72,  65,  54,  62,  67,  47,  40,  42,  37,  25,\n",
      "         36,  59,  27,  29,  44,  11,  26,  33,  46,  35,  32,  43,  51,  53,\n",
      "         58,  57,  39,  55,  20,  38,  49,  41,  45,  22,  23,  28])\n",
      "tensor([-0.0638, -0.0675, -0.0695, -0.0697, -0.0703, -0.0706, -0.0707, -0.0724,\n",
      "        -0.0727, -0.0732, -0.0732, -0.0734, -0.0746, -0.0754, -0.0755, -0.0755,\n",
      "        -0.0756, -0.0760, -0.0763, -0.0766, -0.0767, -0.0768, -0.0780, -0.0782,\n",
      "        -0.0782, -0.0782, -0.0785, -0.0788, -0.0798, -0.0800, -0.0807, -0.0807,\n",
      "        -0.0807, -0.0810, -0.0811, -0.0818, -0.0820, -0.0825, -0.0826, -0.0837,\n",
      "        -0.0838, -0.0850, -0.0851, -0.0852, -0.0855, -0.0859, -0.0864, -0.0865,\n",
      "        -0.0867, -0.0867, -0.0874, -0.0878, -0.0880, -0.0882, -0.0884, -0.0888,\n",
      "        -0.0888, -0.0903, -0.0904, -0.0914, -0.0922, -0.0925, -0.0926, -0.0927,\n",
      "        -0.0927, -0.0929, -0.0930, -0.0932, -0.0937, -0.0939, -0.0940, -0.0948,\n",
      "        -0.0948, -0.0952, -0.0954, -0.0959, -0.0960, -0.0962, -0.0973, -0.0974,\n",
      "        -0.0980, -0.0983, -0.0984, -0.0988, -0.0988, -0.0990, -0.0992, -0.0993,\n",
      "        -0.1003, -0.1007, -0.1008, -0.1015, -0.1017, -0.1019, -0.1019, -0.1030],\n",
      "       grad_fn=<IndexBackward>)\n",
      "tensor([107, 133, 144,  58,  31,  13, 102, 127,  74, 145,   8, 120,  36,  95,\n",
      "         51, 106,  88,  81, 135, 126,  50, 137,  53, 124, 130,  84, 136, 139,\n",
      "        115,  67,  28,  87, 123, 118,  85,  96,  65,  61,  54,  52,  56,  82,\n",
      "         69, 141,  62, 105,  41, 108,  73,   7,  77, 121,  78,  60,  11, 147,\n",
      "        112, 128,  12,  32,  72,  44,  24, 111, 101,  49,   6,  17,  80,  21,\n",
      "        116,   1,  18, 142,  59,  92,  42,  37,   5,   3,  79,  14,  10,  68,\n",
      "         38,  23,  35,  99,  94,  93, 100, 117,  22, 109,  89,  15])\n",
      "tensor([], dtype=torch.int64)\n",
      "~~~~~~~~~~~~~~~~~~~~~~~~~~~~\n",
      "tensor([0])\n",
      "-----node-----\n",
      "@@@@@@@@@@@@@@@@@@@@@@@@@@@@\n",
      "tensor([ 29,  89,  15,  24, 103,  96,  19,  33,   2,  28,  26,  25,  75,  18,\n",
      "         99,  77, 102,  20,  42,  87, 108,   3,  47,  74,  88, 139,  97,   0,\n",
      "         41,  98,  85,  14,  72,  94,  91,   1, 111,  48,  49,  65,  17, 115,\n",
      "         37,  66,  21, 116, 110,  34,  93, 121,  60, 107, 122,  36,  79,  92,\n",
      "         23,   9,   5,  71,  40,  10, 146,  22, 120,  43,  51, 114,  83, 117,\n",
      "         58, 138,  95, 100,  55,  11,  13,  78, 129,  27,  35,  57,  16,  86,\n",
      "         82, 106,  80, 145,  76, 101,  90,  45, 125, 109,  30, 143,  64, 135,\n",
      "         56,   7, 124,  59,  62,  84,  67,  50, 140,  32, 127,  73, 144, 132,\n",
      "         46, 134, 136,   4,   6, 104, 128])\n",
      "tensor([0.3905, 0.3805, 0.3454, 0.3444, 0.3429, 0.3388, 0.3288, 0.3134, 0.3080,\n",
      "        0.2999, 0.2936, 0.2927, 0.2923, 0.2864, 0.2857, 0.2843, 0.2839, 0.2796,\n",
      "        0.2784, 0.2776, 0.2772, 0.2771, 0.2769, 0.2758, 0.2753, 0.2745, 0.2741,\n",
      "        0.2725, 0.2720, 0.2705, 0.2695, 0.2686, 0.2684, 0.2681, 0.2654, 0.2654,\n",
      "        0.2640, 0.2632, 0.2601, 0.2589, 0.2585, 0.2551, 0.2550, 0.2546, 0.2540,\n",
      "        0.2524, 0.2513, 0.2512, 0.2505, 0.2499, 0.2423, 0.2418, 0.2408, 0.2399,\n",
      "        0.2399, 0.2381, 0.2377, 0.2356, 0.2351, 0.2344, 0.2337, 0.2329, 0.2316,\n",
      "        0.2295, 0.2291, 0.2286, 0.2262, 0.2260, 0.2251, 0.2225, 0.2177, 0.2167,\n",
      "        0.2161, 0.2158, 0.2151, 0.2147, 0.2134, 0.2131, 0.2125, 0.2119, 0.2111,\n",
      "        0.2108, 0.2105, 0.2091, 0.2083, 0.2068, 0.2065, 0.2044, 0.2039, 0.2021,\n",
      "        0.2019, 0.2012, 0.2004, 0.1997, 0.1981, 0.1979, 0.1966, 0.1961, 0.1959,\n",
      "        0.1952, 0.1949, 0.1945, 0.1926, 0.1922, 0.1908, 0.1906, 0.1868, 0.1860,\n",
      "        0.1851, 0.1826, 0.1824, 0.1799, 0.1796, 0.1777, 0.1768, 0.1757, 0.1754,\n",
      "        0.1741, 0.1728], grad_fn=<IndexBackward>)\n",
      "@@@@@@@@@@@@@@@@@@@@@@@@@@@@\n",
      "tensor([112, 108, 109, 115,  93, 102, 107,  64, 111, 117, 113,  85, 110, 105,\n",
      "        103,  79,  84, 100, 114, 106,  91, 116,  98,  92,  96,  80,  81,  83,\n",
      "         99, 101,  90, 104,  97,  89, 118,  76,  67,  72,  87,  95,  74,  70,\n",
      "         88,  86,  60,  71,  66,  51,  52,  69,  61,  94,  68,  55,  50,  78,\n",
      "         65,  43,  82,  57,  73,  33,  45,  59,  77,  56,  42,  41,  75,  53,\n",
      "         46,  37,  44,  48,  26,  49,  62,  24,  32,  30,  34,  54,  19,  63,\n",
      "         58,  12,  20,  40,  31,  36,  35,  23,  15,  28,  38,  47])\n",
      "tensor([-0.0647, -0.0664, -0.0670, -0.0673, -0.0691, -0.0697, -0.0697, -0.0697,\n",
      "        -0.0698, -0.0706, -0.0709, -0.0714, -0.0725, -0.0727, -0.0727, -0.0730,\n",
      "        -0.0731, -0.0731, -0.0733, -0.0736, -0.0740, -0.0742, -0.0747, -0.0758,\n",
      "        -0.0758, -0.0760, -0.0768, -0.0769, -0.0772, -0.0773, -0.0786, -0.0789,\n",
      "        -0.0794, -0.0800, -0.0802, -0.0805, -0.0814, -0.0814, -0.0817, -0.0819,\n",
      "        -0.0819, -0.0823, -0.0825, -0.0825, -0.0827, -0.0828, -0.0838, -0.0839,\n",
      "        -0.0843, -0.0845, -0.0846, -0.0846, -0.0846, -0.0847, -0.0848, -0.0849,\n",
      "        -0.0850, -0.0863, -0.0870, -0.0871, -0.0872, -0.0875, -0.0884, -0.0887,\n",
      "        -0.0888, -0.0890, -0.0899, -0.0907, -0.0917, -0.0917, -0.0918, -0.0920,\n",
      "        -0.0920, -0.0922, -0.0925, -0.0929, -0.0929, -0.0931, -0.0932, -0.0934,\n",
      "        -0.0941, -0.0946, -0.0947, -0.0947, -0.0947, -0.0948, -0.0952, -0.0953,\n",
      "        -0.0953, -0.0956, -0.0958, -0.0958, -0.0963, -0.0965, -0.0968, -0.0972],\n",
      "       grad_fn=<IndexBackward>)\n",
      "tensor([ 47, 128,  74,   5, 110,  63,  33, 121, 133, 105, 135, 107, 145,  51,\n",
      "         85,  28,  83, 125, 137, 141,  46,   7,  57, 126,  65,  36,  58,  87,\n",
      "          8,  60,  91,  68, 136, 102, 129,  14, 115,  96, 146, 144,  56,  59,\n",
      "         77,  81,  41, 139,  52, 108, 123, 118,  11,  31,  84,  93,  61, 130,\n",
      "         44,  67,  17,  10, 101,  95, 117,  72,  79,  24,  38, 116,  12,  37,\n",
      "        111,  49,  22,  94,  98, 122, 147,  89,  73,  86,  92,  80,  88,  23,\n",
      "          6,  76, 109,  18,  15, 112,   2,  75,  78,  42,  50,  35])\n",
      "tensor([], dtype=torch.int64)\n",
      "~~~~~~~~~~~~~~~~~~~~~~~~~~~~\n",
      "tensor([1])\n",
      "-----node-----\n",
      "@@@@@@@@@@@@@@@@@@@@@@@@@@@@\n",
      "tensor([ 72,  66, 146,  89,  58,  64, 139,  79, 129,  43,  77,   3,  15, 134,\n",
      "         96,  40,   5, 122,  60,  48,  41,  97,  36,  21, 116,  45,  20,  18,\n",
      "         33, 144, 117,  88, 125,  59,  67,  62,  19, 114,  24,   1,  65, 103,\n",
      "         49, 140,  55,  14,  34,  25, 137,  22,  93, 107,  37,   2,  42,  44,\n",
      "         57,   7,  56, 124,  26, 126,  50, 108,  95, 120,  80,   0, 115, 136,\n",
      "         99,  92, 132, 118, 141,  53,  46, 110, 106,  74,  63,  75, 119, 138,\n",
      "         32, 121,  29,   8,  35, 109,  30, 100,  82,  83,  81,  90,  73, 131,\n",
      "         84,  10,  27,  68,  76,  16,  91,  11, 145,  94,  61, 112,   6,  52,\n",
      "         13, 142, 123,  85, 104,  23,  51])\n",
      "tensor([0.4118, 0.3115, 0.3050, 0.3037, 0.3006, 0.2973, 0.2935, 0.2933, 0.2912,\n",
      "        0.2858, 0.2857, 0.2856, 0.2855, 0.2837, 0.2768, 0.2705, 0.2693, 0.2668,\n",
      "        0.2666, 0.2620, 0.2620, 0.2617, 0.2599, 0.2594, 0.2572, 0.2563, 0.2556,\n",
      "        0.2503, 0.2488, 0.2475, 0.2470, 0.2455, 0.2445, 0.2437, 0.2427, 0.2425,\n",
      "        0.2424, 0.2421, 0.2420, 0.2413, 0.2391, 0.2384, 0.2377, 0.2376, 0.2374,\n",
      "        0.2367, 0.2365, 0.2364, 0.2356, 0.2345, 0.2333, 0.2330, 0.2312, 0.2309,\n",
      "        0.2296, 0.2293, 0.2285, 0.2257, 0.2246, 0.2245, 0.2239, 0.2232, 0.2229,\n",
      "        0.2222, 0.2214, 0.2208, 0.2206, 0.2199, 0.2196, 0.2170, 0.2166, 0.2152,\n",
      "        0.2149, 0.2148, 0.2140, 0.2132, 0.2122, 0.2111, 0.2102, 0.2086, 0.2082,\n",
      "        0.2081, 0.2076, 0.2076, 0.2066, 0.2064, 0.2064, 0.2058, 0.2045, 0.2034,\n",
      "        0.2010, 0.1999, 0.1997, 0.1995, 0.1993, 0.1983, 0.1982, 0.1970, 0.1964,\n",
      "        0.1951, 0.1944, 0.1932, 0.1915, 0.1903, 0.1896, 0.1890, 0.1878, 0.1870,\n",
      "        0.1862, 0.1847, 0.1832, 0.1820, 0.1819, 0.1819, 0.1816, 0.1816, 0.1809,\n",
      "        0.1807, 0.1805], grad_fn=<IndexBackward>)\n",
      "@@@@@@@@@@@@@@@@@@@@@@@@@@@@\n",
      "tensor([116, 109, 103, 112, 113,  84,  89,  93, 114, 102, 105,  88, 115,  96,\n",
      "         90,  70,  78,  98,  87,  72,  99, 117, 106,  69,  92,  71,  86, 100,\n",
      "        111, 101, 107,  61,  97, 110,  52,  85,  83,  62,  95, 104,  68,  77,\n",
      "        108,  79,  80,  33,  82,  28,  74,  46,  58,  94,  76,  63,  81,  91,\n",
      "         66,  59, 118,  64,  39,  73,  51,  56,  32,  38,  35,  48,  65,  50,\n",
      "         22,  44,  55,  31,  47,  49,  53,  41,  25,  57,  54,  36,  30,  24,\n",
      "         29,  15,  20,  27,  43,  40,  60,  42,  75,  21,  67,  26])\n",
      "tensor([-0.0631, -0.0642, -0.0646, -0.0650, -0.0652, -0.0667, -0.0705, -0.0720,\n",
      "        -0.0721, -0.0729, -0.0730, -0.0741, -0.0742, -0.0742, -0.0744, -0.0754,\n",
      "        -0.0756, -0.0758, -0.0763, -0.0765, -0.0766, -0.0769, -0.0771, -0.0776,\n",
      "        -0.0776, -0.0776, -0.0782, -0.0787, -0.0788, -0.0790, -0.0791, -0.0792,\n",
      "        -0.0795, -0.0799, -0.0800, -0.0800, -0.0806, -0.0806, -0.0810, -0.0813,\n",
      "        -0.0817, -0.0819, -0.0819, -0.0819, -0.0825, -0.0825, -0.0827, -0.0829,\n",
      "        -0.0829, -0.0830, -0.0830, -0.0839, -0.0840, -0.0843, -0.0845, -0.0848,\n",
      "        -0.0849, -0.0851, -0.0854, -0.0855, -0.0856, -0.0859, -0.0861, -0.0864,\n",
      "        -0.0864, -0.0871, -0.0873, -0.0873, -0.0874, -0.0877, -0.0877, -0.0885,\n",
      "        -0.0886, -0.0887, -0.0895, -0.0898, -0.0900, -0.0903, -0.0903, -0.0905,\n",
      "        -0.0908, -0.0910, -0.0918, -0.0925, -0.0925, -0.0926, -0.0926, -0.0927,\n",
      "        -0.0930, -0.0931, -0.0931, -0.0931, -0.0932, -0.0936, -0.0937, -0.0942],\n",
      "       grad_fn=<IndexBackward>)\n",
      "tensor([105, 113,  17,  14, 143,  33, 110,  84, 124,  77,  12,  36,  86,  74,\n",
      "         31, 100, 107,  85,   9, 133,  11,  24, 146, 137,  83,  93,  30,  28,\n",
      "         53,  69,  95, 127, 132,   7,  38, 122, 139,  51,  91,  92, 116, 111,\n",
      "         62,  75,  64,  60, 120,  34, 142,  35,  57,  82,  47, 109,  76, 101,\n",
      "         81, 125,  52,  96,   2, 119, 108,  58, 126,  25,  63, 138, 121,  94,\n",
      "         37,  56,  45,  89,  26,  23,   3, 104,  46,   8,  43,  20, 118, 117,\n"
     ]
    },
    {
     "name": "stdout",
     "output_type": "stream",
     "text": [
      "        145,  41,  42,  19, 141,  66,  27,  50,  54,  98,   1,  21])\n",
      "tensor([], dtype=torch.int64)\n",
      "~~~~~~~~~~~~~~~~~~~~~~~~~~~~\n",
      "tensor([1])\n",
      "-----node-----\n",
      "@@@@@@@@@@@@@@@@@@@@@@@@@@@@\n",
      "tensor([ 26,  89,  15,  21, 139,  18,  33, 107, 103, 111,  11,  93, 100,  65,\n",
      "         88,  29,  87,  20,  97,  37,  95,  25,  28,  24,  19,  92,   1,  34,\n",
      "         99,  96,  23, 116,  98,  14,  94, 117,  42,  75, 115,  41,  85,  43,\n",
      "        108, 102,  84, 121,  40,  78,  55,  13,  10,  83,  48,  35,  74,   3,\n",
      "        110, 129,  36, 114,  91,  82,   2,  79,  12,  76,  16,   9, 120,  22,\n",
      "         58,  77, 138, 136,  27,  64, 122,  60,  72, 119,  17, 133,  49,  47,\n",
      "          5, 132, 146, 134,  71,  59, 109,  90,   8, 105,  38, 124,  30, 104,\n",
      "        125, 123,   4,  32, 147,  45, 106,  80,  31,  50,   6,  57, 130,  62,\n",
      "        101,   0,  66,  67,  51,  61, 135])\n",
      "tensor([0.3910, 0.3501, 0.3371, 0.3202, 0.3035, 0.2999, 0.2944, 0.2939, 0.2915,\n",
      "        0.2847, 0.2841, 0.2828, 0.2823, 0.2773, 0.2747, 0.2724, 0.2717, 0.2713,\n",
      "        0.2706, 0.2700, 0.2699, 0.2696, 0.2680, 0.2642, 0.2633, 0.2604, 0.2601,\n",
      "        0.2555, 0.2543, 0.2516, 0.2486, 0.2482, 0.2482, 0.2452, 0.2445, 0.2439,\n",
      "        0.2428, 0.2417, 0.2401, 0.2384, 0.2356, 0.2345, 0.2330, 0.2320, 0.2320,\n",
      "        0.2298, 0.2297, 0.2292, 0.2289, 0.2281, 0.2250, 0.2243, 0.2237, 0.2219,\n",
      "        0.2214, 0.2143, 0.2135, 0.2129, 0.2109, 0.2108, 0.2083, 0.2076, 0.2074,\n",
      "        0.2042, 0.2041, 0.2035, 0.2033, 0.2031, 0.2029, 0.2027, 0.2019, 0.2008,\n",
      "        0.1995, 0.1979, 0.1976, 0.1974, 0.1972, 0.1969, 0.1966, 0.1963, 0.1948,\n",
      "        0.1946, 0.1943, 0.1940, 0.1935, 0.1926, 0.1920, 0.1913, 0.1912, 0.1908,\n",
      "        0.1907, 0.1899, 0.1898, 0.1893, 0.1886, 0.1861, 0.1852, 0.1836, 0.1824,\n",
      "        0.1820, 0.1811, 0.1805, 0.1804, 0.1792, 0.1787, 0.1782, 0.1754, 0.1742,\n",
      "        0.1729, 0.1705, 0.1695, 0.1689, 0.1683, 0.1683, 0.1662, 0.1623, 0.1614,\n",
      "        0.1608, 0.1602], grad_fn=<IndexBackward>)\n",
      "@@@@@@@@@@@@@@@@@@@@@@@@@@@@\n",
      "tensor([ 79, 110, 101,  61, 113, 103, 112, 109,  94,  73, 118, 104, 107, 102,\n",
      "        105, 108, 116,  81,  90, 115, 114,  87,  92, 117,  93, 100,  68,  99,\n",
      "        111,  77,  95,  98,  85,  72,  83,  74,  89,  64,  51,  76,  97,  88,\n",
      "         80,  57,  75,  86,  82, 106,  56,  54,  78,  71,  39,  53,  46,  66,\n",
      "         96,  55,  70,  44,  47,  60,  58,  67,  69,  84,  52,  62,  50,  91,\n",
      "         59,  48,  45,  63,  26,  65,  35,  37,  38,  34,  41,  43,  40,  49,\n",
      "         31,  42,  23,  25,   8,  32,  33,  20,  19,  28,  29,  24])\n",
      "tensor([-0.0623, -0.0647, -0.0652, -0.0675, -0.0695, -0.0695, -0.0700, -0.0701,\n",
      "        -0.0705, -0.0709, -0.0710, -0.0713, -0.0714, -0.0715, -0.0721, -0.0728,\n",
      "        -0.0728, -0.0731, -0.0737, -0.0738, -0.0740, -0.0744, -0.0750, -0.0752,\n",
      "        -0.0753, -0.0753, -0.0758, -0.0759, -0.0761, -0.0767, -0.0768, -0.0772,\n",
      "        -0.0775, -0.0775, -0.0775, -0.0776, -0.0782, -0.0786, -0.0786, -0.0787,\n",
      "        -0.0787, -0.0787, -0.0789, -0.0792, -0.0794, -0.0796, -0.0802, -0.0803,\n",
      "        -0.0808, -0.0810, -0.0811, -0.0819, -0.0822, -0.0824, -0.0825, -0.0827,\n",
      "        -0.0829, -0.0833, -0.0838, -0.0839, -0.0844, -0.0845, -0.0846, -0.0850,\n",
      "        -0.0853, -0.0858, -0.0859, -0.0862, -0.0865, -0.0867, -0.0873, -0.0878,\n",
      "        -0.0883, -0.0886, -0.0887, -0.0888, -0.0898, -0.0901, -0.0910, -0.0913,\n",
      "        -0.0915, -0.0922, -0.0923, -0.0929, -0.0931, -0.0950, -0.0968, -0.0968,\n",
      "        -0.0969, -0.0970, -0.0971, -0.0983, -0.0986, -0.0988, -0.0994, -0.1007],\n",
      "       grad_fn=<IndexBackward>)\n",
      "tensor([120, 131,  33,  83,   1,  46, 102,  58,  39, 137, 136, 107,  51, 148,\n",
      "         81,   7,  52, 134, 110,  68,  67, 135,   9,  62, 106,   5, 121, 124,\n",
      "         63,  61, 125, 126, 133, 139,  48,  28,  60,  13,  84, 123, 105,  72,\n",
      "         18, 130,  65, 147,  50,  32, 111,  75,  73,  78,  42,  36,  41,  17,\n",
      "         31,   4,  59,  85,  79,  92,  37,  10,  23,   6,  49,   3,  11,  91,\n",
      "        115,  56, 122,  80,   2,  77, 118,  76, 116,  95,  44, 103,  86,  14,\n",
      "        117, 109,  25,  93, 104,  99,  15,  96,  38, 100,  97,  20])\n",
      "tensor([], dtype=torch.int64)\n",
      "~~~~~~~~~~~~~~~~~~~~~~~~~~~~\n",
      "tensor([1])\n",
      "-----node-----\n",
      "@@@@@@@@@@@@@@@@@@@@@@@@@@@@\n",
      "tensor([ 65, 103,  89,  48,  42,  26, 116,  15, 139,  72,  18,  25,   3,  29,\n",
      "         97,  33,  47,  20,  96, 100,  11, 122,  93,  14,  19,  28,  98,  17,\n",
      "         23,  94,  71,  41,   1,  21, 115,  95,   5,  24, 146,  36,  37, 121,\n",
      "         99,  88,   4,  10,  92,  22, 110,  43,  27,   2, 102,  77,  75, 111,\n",
      "        107,  79,   9,  55,  16,  35,  87,  34,  57,   0,  58,  83,  40, 117,\n",
      "         62,  13,  90,  66,  60, 129, 104,  85, 105, 132,  80,  73, 119,  59,\n",
      "         82,  64,   8, 138,  54,  67,  49,  56,  68,  12, 141,  76,  91,  84,\n",
      "         32, 114, 134,  31, 136,  30, 145,  51, 108,  78, 101, 140,  50,  74,\n",
      "        126, 124,   6, 123,  53, 128, 106])\n",
      "tensor([0.4082, 0.3864, 0.3843, 0.3694, 0.3580, 0.3528, 0.3490, 0.3400, 0.3310,\n",
      "        0.3244, 0.3237, 0.3205, 0.3195, 0.3185, 0.3153, 0.3141, 0.3121, 0.3087,\n",
      "        0.3034, 0.3011, 0.2990, 0.2972, 0.2949, 0.2937, 0.2925, 0.2916, 0.2888,\n",
      "        0.2867, 0.2854, 0.2843, 0.2835, 0.2826, 0.2765, 0.2762, 0.2760, 0.2754,\n",
      "        0.2734, 0.2732, 0.2726, 0.2699, 0.2696, 0.2672, 0.2653, 0.2653, 0.2643,\n",
      "        0.2638, 0.2620, 0.2603, 0.2601, 0.2535, 0.2530, 0.2527, 0.2522, 0.2520,\n",
      "        0.2518, 0.2512, 0.2506, 0.2505, 0.2500, 0.2498, 0.2491, 0.2489, 0.2471,\n",
      "        0.2469, 0.2462, 0.2416, 0.2397, 0.2369, 0.2357, 0.2355, 0.2347, 0.2324,\n",
      "        0.2301, 0.2290, 0.2281, 0.2268, 0.2200, 0.2186, 0.2169, 0.2165, 0.2154,\n",
      "        0.2134, 0.2134, 0.2132, 0.2119, 0.2114, 0.2104, 0.2099, 0.2091, 0.2086,\n",
      "        0.2076, 0.2074, 0.2058, 0.2051, 0.2027, 0.2016, 0.2001, 0.1995, 0.1994,\n",
      "        0.1993, 0.1992, 0.1992, 0.1964, 0.1959, 0.1956, 0.1931, 0.1926, 0.1905,\n",
      "        0.1903, 0.1901, 0.1894, 0.1878, 0.1868, 0.1861, 0.1860, 0.1846, 0.1837,\n",
      "        0.1829, 0.1827], grad_fn=<IndexBackward>)\n",
      "@@@@@@@@@@@@@@@@@@@@@@@@@@@@\n",
      "tensor([ 86, 118,  82, 112, 115,  93,  98,  84, 116,  81, 110,  97, 114,  78,\n",
      "        113,  76,  99,  79, 108, 117,  91,  80, 100, 106,  88, 104, 101,  94,\n",
      "         87,  54,  68, 111,  77,  85,  90, 102, 109, 103,  83,  95,  73,  96,\n",
      "         62,  74, 105,  89,  50,  67,  61,  70,  75,  46,  69,  71,  92,  51,\n",
      "         64,  44,  57,  65,  66, 107,  59,  72,  56,  60,  63,  29,  52,  43,\n",
      "         58,  49,  34,  55,  45,  32,  48,  39,  37,  22,  42,  40,  27,  53,\n",
      "         47,  38,  35,  33,  31,  21,  30,  36,  41,  25,  15,  12])\n",
      "tensor([-0.0650, -0.0666, -0.0671, -0.0682, -0.0689, -0.0693, -0.0700, -0.0706,\n",
      "        -0.0711, -0.0719, -0.0724, -0.0731, -0.0733, -0.0735, -0.0738, -0.0743,\n",
      "        -0.0746, -0.0747, -0.0748, -0.0749, -0.0752, -0.0761, -0.0762, -0.0765,\n",
      "        -0.0766, -0.0766, -0.0771, -0.0772, -0.0783, -0.0784, -0.0786, -0.0792,\n",
      "        -0.0794, -0.0796, -0.0797, -0.0797, -0.0803, -0.0805, -0.0808, -0.0812,\n",
      "        -0.0819, -0.0826, -0.0830, -0.0831, -0.0832, -0.0833, -0.0834, -0.0835,\n",
      "        -0.0837, -0.0842, -0.0846, -0.0855, -0.0856, -0.0868, -0.0869, -0.0870,\n",
      "        -0.0870, -0.0876, -0.0880, -0.0880, -0.0885, -0.0893, -0.0895, -0.0905,\n",
      "        -0.0907, -0.0918, -0.0919, -0.0923, -0.0923, -0.0927, -0.0931, -0.0936,\n",
      "        -0.0944, -0.0957, -0.0959, -0.0961, -0.0964, -0.0966, -0.0966, -0.0970,\n",
      "        -0.0970, -0.0971, -0.0973, -0.0976, -0.0979, -0.0983, -0.0984, -0.0990,\n",
      "        -0.0994, -0.1005, -0.1012, -0.1012, -0.1023, -0.1031, -0.1039, -0.1039],\n",
      "       grad_fn=<IndexBackward>)\n",
      "tensor([  9, 107, 120, 127, 124,  13,  33,  83,  54,  74,  51,  85,   7, 106,\n",
      "        125, 105, 115, 133, 102, 129,  57,  81, 135, 109,  55, 146,  32, 142,\n",
      "        139,  76,  41,  75,  86,  65,  50, 137, 141,  31,  60,  77,  67,  92,\n",
      "         88,  61,  52,  68,  28,  84,  36,  63, 130,  93, 118,  14,  69,   3,\n",
      "         58,   5,  80,   1,  59,  79,  56,  91, 108,  17,  35,  95, 103,  89,\n",
      "         10,  44, 116, 112,  11,   2, 111,  37,  25,  94, 100,  38,  18,  78,\n",
      "         23, 147,  96,  22,  42, 123,  72,   6, 122,  29,  34,   4])\n",
      "tensor([], dtype=torch.int64)\n",
      "~~~~~~~~~~~~~~~~~~~~~~~~~~~~\n",
      "tensor([0])\n",
      "-----node-----\n",
      "@@@@@@@@@@@@@@@@@@@@@@@@@@@@\n",
      "tensor([ 89,  97,  15,  29,  33,   1,  19,  25,  93,  23, 103, 139,  24,  18,\n",
      "         74,  21, 111, 100,  95,  26,  76,  92,  20,  28,  79,  36,   9,  65,\n",
      "         91,  14, 116,  85, 102, 107,  11, 121,   2,  42,  99,  48,  75,  17,\n",
      "         41,   0,  94,  22,   3,  96, 115,  88,  43,  58,  30,  40,  37, 122,\n",
      "         98,   4,  34,  66,  32,  90,  87, 114, 108,  81,  77,  83,  80,  57,\n",
      "          5, 110,  13,  82, 120,  53, 117, 146,  10, 109,  84, 106,  35,  12,\n",
      "         51, 104,  78,  60, 145,  67,  16,  69, 132,  64, 101, 138,  47, 134,\n",
      "         72,  55,  59,   6, 147, 123,   7,  86, 133,  27, 135, 129, 136,  31,\n",
      "        141,  50, 112, 127, 119,  49,  73])\n",
      "tensor([0.4086, 0.3855, 0.3796, 0.3669, 0.3314, 0.3310, 0.3302, 0.3258, 0.3248,\n",
      "        0.3124, 0.3109, 0.3097, 0.3095, 0.3091, 0.3052, 0.3047, 0.2970, 0.2950,\n",
      "        0.2942, 0.2931, 0.2901, 0.2884, 0.2877, 0.2866, 0.2861, 0.2852, 0.2825,\n",
      "        0.2820, 0.2810, 0.2803, 0.2803, 0.2793, 0.2774, 0.2773, 0.2754, 0.2748,\n",
      "        0.2747, 0.2722, 0.2650, 0.2648, 0.2642, 0.2636, 0.2620, 0.2604, 0.2595,\n",
      "        0.2567, 0.2520, 0.2497, 0.2488, 0.2482, 0.2461, 0.2453, 0.2437, 0.2422,\n",
      "        0.2389, 0.2360, 0.2357, 0.2345, 0.2324, 0.2319, 0.2296, 0.2296, 0.2291,\n",
      "        0.2286, 0.2285, 0.2267, 0.2262, 0.2253, 0.2251, 0.2246, 0.2221, 0.2207,\n",
      "        0.2193, 0.2189, 0.2168, 0.2152, 0.2151, 0.2138, 0.2122, 0.2099, 0.2088,\n",
      "        0.2085, 0.2082, 0.2067, 0.2058, 0.2055, 0.2052, 0.2043, 0.2034, 0.2027,\n",
      "        0.2021, 0.2001, 0.1986, 0.1986, 0.1982, 0.1982, 0.1971, 0.1964, 0.1933,\n",
      "        0.1922, 0.1919, 0.1904, 0.1896, 0.1877, 0.1874, 0.1872, 0.1869, 0.1858,\n",
      "        0.1844, 0.1833, 0.1828, 0.1778, 0.1775, 0.1774, 0.1774, 0.1770, 0.1767,\n",
      "        0.1740, 0.1717], grad_fn=<IndexBackward>)\n",
      "@@@@@@@@@@@@@@@@@@@@@@@@@@@@\n",
      "tensor([109, 118,  83, 110, 116, 111, 107, 102, 115, 113, 114, 104, 108, 112,\n",
      "         74,  82,  97,  69,  98,  81, 117,  94,  85, 100,  73,  95,  86, 105,\n",
      "         79, 103, 106,  80,  91,  93,  99, 101,  59,  90,  72,  77,  76,  96,\n",
      "         75,  78,  87,  89,  60,  67,  51,  84,  92,  88,  53,  68,  48,  65,\n",
      "         64,  56,  66,  62,  63,  58,  61,  49,  54,  52,  70,  43,  55,  44,\n",
      "         42,  40,  39,  71,  57,  46,  41,  50,  18,  47,  38,  28,  45,  20,\n",
      "         35,  32,  22,  36,  13,  24,  37,  14,  31,  25,  33,  29])\n",
      "tensor([-0.0631, -0.0635, -0.0653, -0.0672, -0.0680, -0.0693, -0.0697, -0.0717,\n",
      "        -0.0727, -0.0730, -0.0732, -0.0733, -0.0733, -0.0739, -0.0741, -0.0747,\n",
      "        -0.0748, -0.0748, -0.0752, -0.0752, -0.0753, -0.0758, -0.0759, -0.0762,\n",
      "        -0.0763, -0.0764, -0.0766, -0.0767, -0.0767, -0.0768, -0.0774, -0.0782,\n",
      "        -0.0784, -0.0788, -0.0789, -0.0789, -0.0792, -0.0802, -0.0802, -0.0805,\n",
      "        -0.0806, -0.0806, -0.0812, -0.0814, -0.0815, -0.0817, -0.0828, -0.0834,\n",
      "        -0.0838, -0.0840, -0.0842, -0.0844, -0.0844, -0.0847, -0.0848, -0.0849,\n",
      "        -0.0862, -0.0863, -0.0867, -0.0867, -0.0868, -0.0872, -0.0877, -0.0883,\n",
      "        -0.0886, -0.0887, -0.0888, -0.0888, -0.0893, -0.0893, -0.0896, -0.0899,\n",
      "        -0.0902, -0.0914, -0.0920, -0.0920, -0.0920, -0.0935, -0.0935, -0.0939,\n",
      "        -0.0962, -0.0968, -0.0973, -0.0976, -0.0979, -0.0989, -0.0997, -0.1000,\n",
      "        -0.1009, -0.1018, -0.1022, -0.1032, -0.1032, -0.1035, -0.1036, -0.1040],\n",
      "       grad_fn=<IndexBackward>)\n",
      "tensor([130,  74,  13, 137, 120,  32,  28, 148, 128,  51, 113,   8, 136, 142,\n",
      "        121,  36, 135,  58,  73, 107,  50, 102, 105,  60,  83, 139,  79,  87,\n",
      "        110, 124, 134,  85,  70,  65,  56,   7,  67,  17,  14, 147, 118,  48,\n",
      "         54,  11,  61,  68,  33,  84,  59,  52, 133, 146,  41,  81, 116,  82,\n",
      "        109,  99,  78,  88, 115,  35,  91,  89,  38,  31,   6,   1, 123,  95,\n",
      "         42,  76,  49, 111,   5,   4,  18,  44,  96,  97, 100,  92,  23,  77,\n",
      "        122, 103,  21,   3,  19,  80,  43,  75,  86,  37, 108,  15])\n",
      "tensor([], dtype=torch.int64)\n",
      "~~~~~~~~~~~~~~~~~~~~~~~~~~~~\n",
      "tensor([0])\n",
      "-----node-----\n",
      "@@@@@@@@@@@@@@@@@@@@@@@@@@@@\n",
      "tensor([ 15, 103,  72,  89, 139,  65,  43,  37,  97,  26,  33,   3,  79,  47,\n",
      "        116,  40,   1, 146, 114,  88, 117,  24,  28,  25,  11, 121,  96,  29,\n",
      "         48,  14, 145, 100,  77,  74, 111, 136, 118,  90, 108,  58,  18,  41,\n",
      "         66, 115,  21, 107,  99,  75,  22,  10,  91,   2, 120,  71,  42, 119,\n",
      "         34,   0,  55,  51,  85, 102,  20,  36,  82,  64,  30,  87,  44, 141,\n",
      "         60,  95,  23,  76, 110,  62,  61,  94, 122,  53,  92, 129, 124, 104,\n",
      "        105,  13,  93,  49,  12,  35, 132, 125,  27,   7,  16,  67, 144,  31,\n",
      "        123,  50,  57, 138,  68,  46, 134,   4,  78, 109, 127,  32,   8, 112,\n",
      "          9,  73,  84,  17,  59,   5,  54])\n",
      "tensor([0.3738, 0.3671, 0.3647, 0.3642, 0.3194, 0.3154, 0.3111, 0.3102, 0.3073,\n",
      "        0.3015, 0.2992, 0.2957, 0.2948, 0.2941, 0.2903, 0.2841, 0.2834, 0.2794,\n",
      "        0.2790, 0.2787, 0.2774, 0.2750, 0.2710, 0.2680, 0.2649, 0.2646, 0.2643,\n",
      "        0.2637, 0.2621, 0.2600, 0.2573, 0.2572, 0.2550, 0.2545, 0.2537, 0.2535,\n",
      "        0.2533, 0.2520, 0.2498, 0.2492, 0.2465, 0.2464, 0.2464, 0.2457, 0.2456,\n",
      "        0.2448, 0.2437, 0.2437, 0.2431, 0.2424, 0.2417, 0.2407, 0.2386, 0.2381,\n",
      "        0.2377, 0.2375, 0.2364, 0.2350, 0.2340, 0.2338, 0.2337, 0.2295, 0.2288,\n",
      "        0.2287, 0.2282, 0.2266, 0.2260, 0.2252, 0.2251, 0.2242, 0.2241, 0.2214,\n",
      "        0.2206, 0.2205, 0.2199, 0.2196, 0.2179, 0.2173, 0.2169, 0.2158, 0.2142,\n",
      "        0.2131, 0.2126, 0.2126, 0.2124, 0.2115, 0.2115, 0.2110, 0.2108, 0.2104,\n",
      "        0.2100, 0.2097, 0.2078, 0.2074, 0.2074, 0.2072, 0.2072, 0.2065, 0.2059,\n",
      "        0.2058, 0.2036, 0.2034, 0.2034, 0.2018, 0.1982, 0.1956, 0.1935, 0.1921,\n",
      "        0.1911, 0.1907, 0.1903, 0.1897, 0.1895, 0.1881, 0.1881, 0.1870, 0.1868,\n",
      "        0.1860, 0.1841], grad_fn=<IndexBackward>)\n",
      "@@@@@@@@@@@@@@@@@@@@@@@@@@@@\n",
      "tensor([113, 111, 100, 107, 109, 110,  93, 117, 118, 105, 101, 106,  89,  80,\n",
      "        103,  35,  81,  64,  76, 114, 104, 116,  33, 115,  92,  85,  90,  82,\n",
      "         73,  98,  52,  83,  84,  94,  96, 108, 112,  99,  58,  46,  72,  41,\n",
      "         78,  97, 102,  86,  87,  88,  71,  59,  77,  67,  47,  65,  68,  66,\n",
      "         49,  75,  50,  70,  95,  79,  34,  74,  91,  40,  42,  32,  39,  31,\n",
      "         36,  62,  57,  61,  63,  38,  45,  43,  55,  60,  56,  69,  44,  53,\n",
      "         28,  37,  54,  23,  24,  51,  48,  15,  14,  25,  17,  26])\n",
      "tensor([-0.0669, -0.0687, -0.0690, -0.0691, -0.0693, -0.0695, -0.0700, -0.0701,\n",
      "        -0.0706, -0.0708, -0.0711, -0.0726, -0.0726, -0.0732, -0.0734, -0.0739,\n",
      "        -0.0741, -0.0754, -0.0759, -0.0763, -0.0765, -0.0765, -0.0766, -0.0767,\n",
      "        -0.0772, -0.0772, -0.0778, -0.0778, -0.0779, -0.0780, -0.0782, -0.0784,\n",
      "        -0.0786, -0.0797, -0.0801, -0.0807, -0.0807, -0.0812, -0.0815, -0.0817,\n",
      "        -0.0820, -0.0820, -0.0822, -0.0823, -0.0824, -0.0825, -0.0830, -0.0830,\n",
      "        -0.0832, -0.0836, -0.0839, -0.0839, -0.0841, -0.0842, -0.0852, -0.0853,\n",
      "        -0.0855, -0.0859, -0.0859, -0.0860, -0.0861, -0.0862, -0.0871, -0.0871,\n",
      "        -0.0874, -0.0877, -0.0879, -0.0880, -0.0884, -0.0885, -0.0887, -0.0887,\n",
      "        -0.0887, -0.0893, -0.0903, -0.0907, -0.0913, -0.0914, -0.0915, -0.0915,\n",
      "        -0.0918, -0.0919, -0.0922, -0.0933, -0.0934, -0.0941, -0.0945, -0.0947,\n",
      "        -0.0948, -0.0949, -0.0950, -0.0957, -0.0957, -0.0968, -0.0981, -0.0990],\n",
      "       grad_fn=<IndexBackward>)\n",
      "tensor([ 74, 113,  58, 110,  33,   9,   8,   6,  55,   5, 139,  79,  36,  93,\n",
      "         47, 137, 130,  83,  62,  85, 135,  60,  75,  18,  28,  14, 133, 125,\n",
      "         77, 124, 121, 105, 106,  17, 145, 128,  10,  51,  56, 100,  24,  42,\n",
      "        123,  32,  69,  94,  50,  13,  96,  52,  95,  88,  76,  65,  45,  31,\n",
      "         11,  63,  92,  61,  68,  54, 112, 111, 126,  19,  67,  78,  59, 101,\n",
      "        119,  21,   1, 103,  37, 109, 108, 116, 120,  86,  35, 142,  22,  72,\n",
      "         49,  91,  43,  26,  12,   3,  23,  41, 117, 122, 147,  97])\n",
      "tensor([], dtype=torch.int64)\n",
      "~~~~~~~~~~~~~~~~~~~~~~~~~~~~\n",
      "tensor([0])\n",
      "-----node-----\n",
      "@@@@@@@@@@@@@@@@@@@@@@@@@@@@\n",
      "tensor([ 15, 103,  72,  89, 146, 139,  76,  43, 119,  96,  24,  79,  26,  65,\n",
      "         99,  47,  29, 117, 108,  94,  92,  97,  36,  25,  48,  33, 111,  88,\n",
      "         58,  41,   2,  20, 100,  18,  98,  21, 107,   1, 110, 102,  91,  19,\n",
      "         60,  64, 115, 124,  75, 125,  51,  22,  16, 116,   0,  74, 114,  40,\n",
      "        121,  28,  85,  42,  93, 122,   3,  49,  14,  34,  77, 145,  95,  55,\n",
      "         80,  66,  67,  17, 123,  62,  23, 132, 104, 134, 138,  59,   9,  35,\n",
      "        140,   5, 118,  87, 120,  37,  61,  50,  44,  30, 129,  27,  90,  83,\n",
      "         73,  10, 109,  82,  78,   4, 143,   7,  32,  86,  84, 106, 112, 127,\n",
      "         53,  56,   6, 142, 101,   8, 130])\n",
      "tensor([0.3682, 0.3557, 0.3519, 0.3494, 0.3439, 0.3368, 0.3272, 0.3094, 0.3091,\n",
      "        0.3047, 0.2992, 0.2958, 0.2902, 0.2871, 0.2846, 0.2817, 0.2811, 0.2810,\n",
      "        0.2789, 0.2748, 0.2738, 0.2720, 0.2717, 0.2711, 0.2704, 0.2628, 0.2627,\n",
      "        0.2604, 0.2592, 0.2588, 0.2557, 0.2555, 0.2547, 0.2546, 0.2542, 0.2533,\n",
      "        0.2520, 0.2518, 0.2507, 0.2506, 0.2498, 0.2490, 0.2484, 0.2459, 0.2446,\n",
      "        0.2441, 0.2440, 0.2438, 0.2434, 0.2433, 0.2429, 0.2429, 0.2428, 0.2410,\n",
      "        0.2407, 0.2405, 0.2402, 0.2394, 0.2393, 0.2384, 0.2375, 0.2372, 0.2355,\n",
      "        0.2339, 0.2312, 0.2304, 0.2280, 0.2277, 0.2271, 0.2267, 0.2267, 0.2264,\n",
      "        0.2263, 0.2247, 0.2244, 0.2240, 0.2238, 0.2224, 0.2215, 0.2214, 0.2200,\n",
      "        0.2197, 0.2190, 0.2184, 0.2173, 0.2170, 0.2163, 0.2153, 0.2153, 0.2146,\n",
      "        0.2145, 0.2145, 0.2119, 0.2113, 0.2104, 0.2102, 0.2100, 0.2090, 0.2084,\n",
      "        0.2060, 0.2054, 0.2022, 0.2018, 0.2001, 0.1993, 0.1991, 0.1987, 0.1983,\n",
      "        0.1980, 0.1975, 0.1974, 0.1940, 0.1937, 0.1934, 0.1934, 0.1930, 0.1925,\n",
      "        0.1924, 0.1898], grad_fn=<IndexBackward>)\n",
      "@@@@@@@@@@@@@@@@@@@@@@@@@@@@\n",
      "tensor([113, 109, 118, 101, 114, 117, 106,  98, 104,  73, 100,  88, 111, 110,\n",
      "        108,  78, 105,  94, 112,  92, 116, 115, 103,  83, 107,  74,  89,  81,\n",
      "         53, 102,  80,  77,  46,  86,  48,  68,  99,  69,  82,  76,  95,  90,\n",
      "         79,  93,  91,  97,  96,  71,  70,  84,  87,  63,  66,  21,  55,  67,\n",
      "         45,  59,  75,  56,  60,  61,  85,  32,  72,  47,  36,  54,  44,  65,\n",
      "         50,  52,  29,  38,  28,  35,  62,  58,  43,  51,  41,  33,  57,  19,\n",
      "         25,  64,  37,  24,  18,  27,  34,  40,  20,  42,  31,  39])\n",
      "tensor([-0.0683, -0.0697, -0.0710, -0.0714, -0.0716, -0.0717, -0.0722, -0.0729,\n",
      "        -0.0731, -0.0732, -0.0735, -0.0735, -0.0737, -0.0739, -0.0746, -0.0748,\n",
      "        -0.0749, -0.0753, -0.0762, -0.0766, -0.0773, -0.0779, -0.0780, -0.0783,\n",
      "        -0.0783, -0.0783, -0.0791, -0.0791, -0.0795, -0.0797, -0.0798, -0.0802,\n",
      "        -0.0809, -0.0812, -0.0815, -0.0824, -0.0826, -0.0826, -0.0828, -0.0829,\n",
      "        -0.0829, -0.0833, -0.0833, -0.0833, -0.0834, -0.0835, -0.0841, -0.0843,\n",
      "        -0.0844, -0.0844, -0.0845, -0.0850, -0.0850, -0.0853, -0.0853, -0.0855,\n",
      "        -0.0860, -0.0860, -0.0861, -0.0862, -0.0866, -0.0867, -0.0875, -0.0877,\n",
      "        -0.0881, -0.0882, -0.0883, -0.0886, -0.0889, -0.0891, -0.0898, -0.0899,\n",
      "        -0.0900, -0.0902, -0.0911, -0.0911, -0.0912, -0.0914, -0.0918, -0.0919,\n",
      "        -0.0920, -0.0922, -0.0922, -0.0928, -0.0930, -0.0930, -0.0932, -0.0932,\n",
      "        -0.0936, -0.0937, -0.0941, -0.0944, -0.0945, -0.0954, -0.0959, -0.0966],\n",
      "       grad_fn=<IndexBackward>)\n",
      "tensor([ 57, 107, 131,  83,   7,   9,  33,  74, 144,  18, 110, 121, 128, 113,\n",
      "         85, 105,   8, 130,  54,  45, 102, 143,   5,  36,  87, 124,  38,  60,\n",
      "         75,  79, 139, 133,  76, 119,  52,  96,  11,  56,  10,  24,  28,  62,\n",
      "        135,  31,  51,  84,  91,  67,  81, 141,  88,  50,  78,  98,  41, 146,\n",
      "        125,  43,  63, 122,  94, 123,   6, 101,  68, 126, 108, 115, 116,  35,\n",
      "         17,   1,  42, 111,  59,  22,   4,  86,  65, 117,  20,  19,  29,  95,\n",
      "         34,  15,   2,  49, 109,  89,  99,  92,  93,  61,  21, 103])\n",
      "tensor([], dtype=torch.int64)\n",
      "~~~~~~~~~~~~~~~~~~~~~~~~~~~~\n",
      "tensor([1])\n"
     ]
    },
    {
     "name": "stdout",
     "output_type": "stream",
     "text": [
      "-----node-----\n",
      "@@@@@@@@@@@@@@@@@@@@@@@@@@@@\n",
      "tensor([ 15,  89, 103,  25, 139,  96, 146,  29,  18,  40,  97,  76,  33,  88,\n",
      "        114,  60,  79, 116,  26,  72,  42, 100,  48,  99,  20,  11, 122,  17,\n",
      "         94,  21,  64,  51,  71,  55,  91, 134,   3,  37,  92,  74,  24,  19,\n",
      "         98, 107,  65,  93, 138, 115,  22,  41,  57,  28,  95,  59,  43, 125,\n",
      "         77,  36,  14, 117,  58,  23,   2, 102,  56,   1,  75,  67, 121, 105,\n",
      "         66, 108, 111,  13,  10,   0, 129, 104,  47, 136, 120, 123, 132, 110,\n",
      "         87, 131,  85,   4,   7, 135,   9,  86, 130,  83,  34,  32,  16,  44,\n",
      "        118, 145,  80,  62, 133,  90, 140,  82, 144, 141,  84, 127,  68,  27,\n",
      "         50, 106,  31,  81,   8, 124,  35])\n",
      "tensor([0.3570, 0.3513, 0.3319, 0.3301, 0.3177, 0.3110, 0.3070, 0.3036, 0.3026,\n",
      "        0.3021, 0.3018, 0.2966, 0.2956, 0.2953, 0.2939, 0.2904, 0.2903, 0.2888,\n",
      "        0.2887, 0.2799, 0.2778, 0.2766, 0.2763, 0.2728, 0.2714, 0.2711, 0.2697,\n",
      "        0.2690, 0.2670, 0.2649, 0.2647, 0.2610, 0.2609, 0.2580, 0.2572, 0.2570,\n",
      "        0.2563, 0.2562, 0.2547, 0.2536, 0.2506, 0.2505, 0.2501, 0.2493, 0.2492,\n",
      "        0.2490, 0.2480, 0.2450, 0.2447, 0.2446, 0.2435, 0.2418, 0.2406, 0.2396,\n",
      "        0.2383, 0.2383, 0.2374, 0.2366, 0.2363, 0.2345, 0.2345, 0.2327, 0.2315,\n",
      "        0.2304, 0.2296, 0.2259, 0.2256, 0.2242, 0.2230, 0.2220, 0.2208, 0.2197,\n",
      "        0.2191, 0.2182, 0.2176, 0.2174, 0.2174, 0.2173, 0.2167, 0.2161, 0.2159,\n",
      "        0.2150, 0.2150, 0.2145, 0.2143, 0.2131, 0.2118, 0.2110, 0.2097, 0.2084,\n",
      "        0.2074, 0.2068, 0.2061, 0.2018, 0.2013, 0.2001, 0.1999, 0.1976, 0.1965,\n",
      "        0.1959, 0.1959, 0.1959, 0.1946, 0.1944, 0.1927, 0.1908, 0.1905, 0.1905,\n",
      "        0.1904, 0.1902, 0.1888, 0.1883, 0.1882, 0.1879, 0.1866, 0.1859, 0.1848,\n",
      "        0.1839, 0.1836], grad_fn=<IndexBackward>)\n",
      "@@@@@@@@@@@@@@@@@@@@@@@@@@@@\n",
      "tensor([118, 113, 114, 116,  39,  95,  80, 117,  98, 112, 108, 101, 105, 104,\n",
      "         87,  79, 106,  73,  78, 115,  88, 102, 111, 110,  77, 109,  99,  92,\n",
      "         71, 100,  75,  91,  96,  69,  97,  93,  68, 103,  61,  72,  94,  81,\n",
      "         74,  65,  85,  66,  83,  52,  53,  59,  34, 107,  70,  89,  64,  90,\n",
      "         76,  43,  84,  82,  57,  49,  47,  54,  62,  60,  50,  86,  45,  67,\n",
      "         56,  44,  55,  35,  21,  46,  32,  48,  27,  41,  58,  13,  40,  23,\n",
      "         51,  24,  63,  16,  37,  31,  38,  29,  28,  33,  22,  42])\n",
      "tensor([-0.0606, -0.0659, -0.0670, -0.0684, -0.0686, -0.0691, -0.0697, -0.0703,\n",
      "        -0.0706, -0.0712, -0.0715, -0.0722, -0.0722, -0.0725, -0.0726, -0.0734,\n",
      "        -0.0744, -0.0745, -0.0749, -0.0751, -0.0751, -0.0761, -0.0761, -0.0763,\n",
      "        -0.0764, -0.0771, -0.0775, -0.0781, -0.0782, -0.0785, -0.0790, -0.0794,\n",
      "        -0.0796, -0.0796, -0.0801, -0.0801, -0.0801, -0.0803, -0.0804, -0.0809,\n",
      "        -0.0815, -0.0818, -0.0821, -0.0829, -0.0830, -0.0835, -0.0835, -0.0840,\n",
      "        -0.0841, -0.0842, -0.0843, -0.0844, -0.0845, -0.0847, -0.0849, -0.0852,\n",
      "        -0.0856, -0.0857, -0.0857, -0.0864, -0.0864, -0.0871, -0.0871, -0.0876,\n",
      "        -0.0880, -0.0885, -0.0885, -0.0885, -0.0893, -0.0893, -0.0899, -0.0908,\n",
      "        -0.0908, -0.0911, -0.0913, -0.0915, -0.0915, -0.0918, -0.0921, -0.0923,\n",
      "        -0.0924, -0.0925, -0.0927, -0.0936, -0.0938, -0.0941, -0.0944, -0.0944,\n",
      "        -0.0948, -0.0949, -0.0955, -0.0962, -0.0963, -0.0968, -0.0972, -0.0982],\n",
      "       grad_fn=<IndexBackward>)\n",
      "tensor([ 36, 107,  32,   9,  75,  33, 121, 125, 119,  51,  85,  63,  83, 141,\n",
      "          5, 137, 145,  14,  48,  82,   8, 134,  28,  69, 105, 128, 146, 131,\n",
      "        109,  81,   1,  87,  17, 106,  45,  84, 122,  91,  24, 112,  35, 124,\n",
      "         11,   2, 132,  76, 111,  96,  60, 118,  92, 142,  67, 136,  57,  10,\n",
      "        130, 108,  88, 133,  37,  42, 116,  44,   3,  59,  58,  86,  94,  68,\n",
      "         78,  66, 126, 135, 101, 139,  72,  23,  18,  20,  15,  89,  25, 100,\n",
      "         29,  21, 103,  80,  38,  52,  93,  22,  95,  56,  49,  99])\n",
      "tensor([], dtype=torch.int64)\n",
      "~~~~~~~~~~~~~~~~~~~~~~~~~~~~\n",
      "tensor([0])\n",
      "-----node-----\n",
      "@@@@@@@@@@@@@@@@@@@@@@@@@@@@\n",
      "tensor([ 29,  15,  89,  33, 103,  96,  19,  24,  14, 139,  25,   2,  74,   0,\n",
      "         18,  42, 110,  26,  28,  75,  79,  20,  17,   3, 116,  47,  97,  99,\n",
      "         60,  94,  13,  65,   1,  41,  21, 107,  88,  72,  48,  37,   5,  93,\n",
      "         98, 111, 115,  23,  34,  92, 146,  36,  22,  11,  40, 102,  83,  43,\n",
      "        108,  71,  66, 104,  59,  91,  77,  10,  16, 105,  51,   9,  87,  30,\n",
      "        143, 124,  85,  62,  55, 132,  58,  56,  95, 134, 138, 100,  35,  82,\n",
      "         84, 114,  80, 120,  67,  45, 106,   7, 136,   4, 117, 129, 122,  81,\n",
      "        121,  78,  27,  46,  61,   6,  38,  50,  90,  76,  64,  12,  31,  32,\n",
      "        131,  53, 101, 147,  49, 123, 135])\n",
      "tensor([0.3944, 0.3723, 0.3676, 0.3567, 0.3470, 0.3437, 0.3330, 0.3318, 0.3237,\n",
      "        0.3212, 0.3190, 0.3167, 0.3139, 0.3048, 0.3037, 0.3028, 0.3014, 0.2979,\n",
      "        0.2972, 0.2931, 0.2924, 0.2913, 0.2908, 0.2900, 0.2856, 0.2854, 0.2845,\n",
      "        0.2844, 0.2837, 0.2829, 0.2807, 0.2775, 0.2760, 0.2736, 0.2733, 0.2728,\n",
      "        0.2713, 0.2696, 0.2667, 0.2658, 0.2641, 0.2638, 0.2611, 0.2600, 0.2583,\n",
      "        0.2568, 0.2552, 0.2551, 0.2541, 0.2535, 0.2523, 0.2489, 0.2483, 0.2456,\n",
      "        0.2440, 0.2431, 0.2413, 0.2410, 0.2398, 0.2389, 0.2374, 0.2358, 0.2351,\n",
      "        0.2331, 0.2324, 0.2321, 0.2311, 0.2302, 0.2299, 0.2283, 0.2281, 0.2259,\n",
      "        0.2245, 0.2233, 0.2230, 0.2230, 0.2227, 0.2216, 0.2209, 0.2190, 0.2180,\n",
      "        0.2172, 0.2148, 0.2144, 0.2144, 0.2135, 0.2134, 0.2108, 0.2102, 0.2083,\n",
      "        0.2076, 0.2073, 0.2057, 0.2053, 0.2048, 0.2047, 0.2036, 0.2032, 0.2031,\n",
      "        0.1998, 0.1997, 0.1991, 0.1972, 0.1956, 0.1946, 0.1940, 0.1932, 0.1926,\n",
      "        0.1924, 0.1913, 0.1879, 0.1869, 0.1869, 0.1867, 0.1861, 0.1844, 0.1835,\n",
      "        0.1822, 0.1817], grad_fn=<IndexBackward>)\n",
      "@@@@@@@@@@@@@@@@@@@@@@@@@@@@\n",
      "tensor([ 89, 111, 113, 115, 117,  87, 118, 112,  82, 110, 109, 104, 100,  92,\n",
      "         83,  93, 105, 116,  75, 114, 101, 108,  74,  81,  77, 107,  94,  99,\n",
      "         71, 102,  88,  84,  52,  65,  90,  78, 103,  59,  70,  91,  79, 106,\n",
      "         97,  85,  96,  73,  60,  72,  69,  80,  63,  95,  76,  98,  67,  68,\n",
      "         57,  86,  54,  58,  47,  66,  64,  55,  36,  44,  35,  62,  56,  61,\n",
      "         38,  37,  48,  39,  24,  51,  53,  26,  43,  46,  29,  30,  31,  33,\n",
      "         50,  49,  34,  45,  28,  40,  21,  32,  17,  19,  42,  23])\n",
      "tensor([-0.0625, -0.0647, -0.0651, -0.0652, -0.0653, -0.0667, -0.0700, -0.0700,\n",
      "        -0.0710, -0.0711, -0.0719, -0.0721, -0.0721, -0.0722, -0.0727, -0.0730,\n",
      "        -0.0737, -0.0738, -0.0739, -0.0752, -0.0753, -0.0761, -0.0761, -0.0769,\n",
      "        -0.0771, -0.0783, -0.0785, -0.0786, -0.0790, -0.0805, -0.0807, -0.0809,\n",
      "        -0.0809, -0.0811, -0.0817, -0.0824, -0.0824, -0.0825, -0.0826, -0.0829,\n",
      "        -0.0832, -0.0834, -0.0835, -0.0838, -0.0838, -0.0838, -0.0841, -0.0841,\n",
      "        -0.0843, -0.0850, -0.0853, -0.0853, -0.0853, -0.0855, -0.0855, -0.0856,\n",
      "        -0.0861, -0.0863, -0.0865, -0.0868, -0.0870, -0.0881, -0.0881, -0.0891,\n",
      "        -0.0899, -0.0901, -0.0901, -0.0906, -0.0908, -0.0913, -0.0914, -0.0914,\n",
      "        -0.0923, -0.0930, -0.0938, -0.0938, -0.0939, -0.0945, -0.0952, -0.0952,\n",
      "        -0.0961, -0.0965, -0.0967, -0.0967, -0.0973, -0.0975, -0.0978, -0.0979,\n",
      "        -0.0988, -0.0990, -0.0994, -0.0996, -0.1002, -0.1002, -0.1004, -0.1004],\n",
      "       grad_fn=<IndexBackward>)\n",
      "tensor([ 46,  33,  54, 148, 124, 121, 136, 132,  36,  32,  13,  39,  28, 137,\n",
      "         83,   5,  51,  50, 133, 102,  47,  65,  56, 101,  57,  77, 118,  79,\n",
      "        125,  62,  68,  85,  41, 106, 107,  96,   7, 105, 144,   8, 135,  91,\n",
      "         82, 115, 123,  63,  60,  86,  31, 139,  11, 130,  59, 122,  10,  88,\n",
      "         72,  81,  84,  67,  93,  52,  17,  44,  89, 116, 108,  78, 109,  92,\n",
      "         49,  73, 147,  38, 117,  12, 103,  98, 112,  35,  95,  14,  66,  42,\n",
      "         23,  37,  22,  24,  61,   6,  21,   2,  27,  76,  99,   4])\n",
      "tensor([], dtype=torch.int64)\n",
      "~~~~~~~~~~~~~~~~~~~~~~~~~~~~\n",
      "tensor([0])\n",
      "-----node-----\n",
      "@@@@@@@@@@@@@@@@@@@@@@@@@@@@\n",
      "tensor([139,  79,  89,  15,  72, 146,  29,  97,  96,  43, 103,  19, 110, 120,\n",
      "        122,  65,  48,  91,  90,   9,  28,  25,  26, 136,  99,  36,  20,  40,\n",
      "         44, 108,  60, 121, 114,  18,  41,  93,  22,  92,  75,   1,  88, 107,\n",
      "         98,  17,  30,  33,  42,  47, 115,  74, 100,  62,  66, 132, 116,  59,\n",
      "         16,  14,   5, 123,  23,  11, 111,  85, 134, 124, 129,  58, 104,  46,\n",
      "        125,   2,  24,  37,  21, 105, 141,  67, 117,  84,   0,  13,   3,  94,\n",
      "        102,  95, 145,  50,  55,  71,  35,  51,  10,  57,   7,   6,  61, 118,\n",
      "         83,  64, 109,  12, 138,  49, 131,  87, 106,  73, 112,  77, 144, 143,\n",
      "         78, 137, 147,  86,   4,  69,  76])\n",
      "tensor([0.3093, 0.2969, 0.2961, 0.2951, 0.2804, 0.2729, 0.2649, 0.2640, 0.2573,\n",
      "        0.2546, 0.2517, 0.2513, 0.2482, 0.2480, 0.2457, 0.2441, 0.2430, 0.2417,\n",
      "        0.2367, 0.2350, 0.2303, 0.2298, 0.2289, 0.2274, 0.2274, 0.2255, 0.2250,\n",
      "        0.2243, 0.2234, 0.2234, 0.2231, 0.2207, 0.2203, 0.2203, 0.2199, 0.2198,\n",
      "        0.2184, 0.2161, 0.2157, 0.2155, 0.2149, 0.2145, 0.2137, 0.2128, 0.2121,\n",
      "        0.2105, 0.2093, 0.2085, 0.2069, 0.2069, 0.2041, 0.2039, 0.2034, 0.2033,\n",
      "        0.2020, 0.2014, 0.2013, 0.2008, 0.1995, 0.1995, 0.1985, 0.1980, 0.1967,\n",
      "        0.1964, 0.1953, 0.1950, 0.1948, 0.1945, 0.1942, 0.1941, 0.1940, 0.1937,\n",
      "        0.1931, 0.1927, 0.1927, 0.1924, 0.1922, 0.1911, 0.1909, 0.1908, 0.1894,\n",
      "        0.1889, 0.1886, 0.1870, 0.1869, 0.1865, 0.1861, 0.1832, 0.1831, 0.1828,\n",
      "        0.1823, 0.1822, 0.1820, 0.1813, 0.1806, 0.1797, 0.1792, 0.1780, 0.1765,\n",
      "        0.1763, 0.1762, 0.1716, 0.1705, 0.1705, 0.1694, 0.1682, 0.1682, 0.1666,\n",
      "        0.1657, 0.1656, 0.1650, 0.1623, 0.1622, 0.1622, 0.1616, 0.1609, 0.1585,\n",
      "        0.1578, 0.1577], grad_fn=<IndexBackward>)\n",
      "@@@@@@@@@@@@@@@@@@@@@@@@@@@@\n",
      "tensor([110, 113, 107,  93, 114, 112, 115, 111, 106, 101,  90, 108,  94, 117,\n",
      "        116, 105,  75,  98, 104, 102, 118,  87,  68,  97,  91, 100,  64,  65,\n",
      "         49,  85,  92,  83, 109,  88,  80, 103,  59,  78,  99,  69,  86,  52,\n",
      "         60,  53,  48,  67,  95,  56,  66,  45,  82,  96,  76,  34,  74,  79,\n",
      "         39,  51,  47,  72,  38,  54,  71,  62,  89,  81,  23,  50,  29,  43,\n",
      "         41,  84,  61,  44,  58,  63,  57,  73,  26,  31,  77,  55,  37,  22,\n",
      "         33,  46,  70,  32,  40,  19,  27,  36,  24,  17,  10,  42])\n",
      "tensor([-0.0592, -0.0639, -0.0647, -0.0665, -0.0667, -0.0668, -0.0669, -0.0672,\n",
      "        -0.0675, -0.0678, -0.0680, -0.0683, -0.0684, -0.0692, -0.0693, -0.0710,\n",
      "        -0.0710, -0.0716, -0.0725, -0.0727, -0.0727, -0.0728, -0.0738, -0.0740,\n",
      "        -0.0743, -0.0745, -0.0746, -0.0750, -0.0752, -0.0753, -0.0756, -0.0762,\n",
      "        -0.0763, -0.0763, -0.0764, -0.0765, -0.0769, -0.0772, -0.0775, -0.0776,\n",
      "        -0.0776, -0.0777, -0.0778, -0.0779, -0.0784, -0.0785, -0.0785, -0.0786,\n",
      "        -0.0786, -0.0786, -0.0788, -0.0788, -0.0788, -0.0790, -0.0790, -0.0792,\n",
      "        -0.0792, -0.0800, -0.0800, -0.0803, -0.0806, -0.0809, -0.0812, -0.0812,\n",
      "        -0.0814, -0.0815, -0.0825, -0.0827, -0.0833, -0.0834, -0.0834, -0.0839,\n",
      "        -0.0841, -0.0842, -0.0842, -0.0844, -0.0847, -0.0849, -0.0850, -0.0850,\n",
      "        -0.0852, -0.0855, -0.0857, -0.0863, -0.0874, -0.0875, -0.0875, -0.0877,\n",
      "        -0.0883, -0.0885, -0.0888, -0.0892, -0.0894, -0.0901, -0.0905, -0.0913],\n",
      "       grad_fn=<IndexBackward>)\n",
      "tensor([145, 138,  74,  58, 148,  79,  87, 144, 107,  13,  36, 113,   8,  70,\n",
      "          5,  88, 106,  84, 132, 139,  77,  51, 105, 119,  52, 110, 135, 125,\n",
      "         75,  96,  11,  95,  78,  56,   1,  50, 124, 118,  65,  47, 146,  67,\n",
      "         24, 133, 116,  59,   7,  17, 130,  34,   4,  62, 142,  42,  22,  85,\n",
      "          2,  63,  48,  25,  76, 117,   3, 112,  72,  14, 137, 101, 109,  18,\n",
      "        108, 103,  12,  31,   6,  86,  15,  38,  21, 122,  68,  60,  93,  27,\n",
      "         19,  43, 126, 115,  89,  10,  41,  23, 100,  92, 104,  99])\n",
      "tensor([], dtype=torch.int64)\n",
      "~~~~~~~~~~~~~~~~~~~~~~~~~~~~\n",
      "tensor([1])\n",
      "-----node-----\n",
      "@@@@@@@@@@@@@@@@@@@@@@@@@@@@\n",
      "tensor([ 72,  89, 146, 139, 117,  65,  15,  79,  96,  97,  77, 114,  55, 138,\n",
      "        116,   1,  43, 122,  62,   3,  95, 144,  20,  60, 108, 136,  49,  47,\n",
      "         14, 123,  66,  22,  48, 125, 134, 124,  64,  88, 110,  75,  21,  99,\n",
      "        129, 120,  40,  46,  25,  36,   5, 107, 141,  34,  58, 121,  30, 118,\n",
      "         18,   9, 111, 104, 145,   2,  59,  80,  56,  74,  19,  23,  28, 103,\n",
      "         24,  94,  51, 109,  33, 140,   7,  83,  84,  82,  26,  50, 115, 135,\n",
      "         41,  93,  29, 147, 100,  57,  42,  85,   8,  52,  73, 106,  87,  92,\n",
      "         90, 142, 112,  76, 119,  69,   6,  37,  27, 131,   0,  11,  98, 137,\n",
      "         32,  67,  91,  35, 132, 133, 126])\n",
      "tensor([0.3900, 0.3456, 0.3382, 0.3210, 0.3080, 0.2918, 0.2913, 0.2869, 0.2869,\n",
      "        0.2852, 0.2820, 0.2819, 0.2778, 0.2743, 0.2728, 0.2704, 0.2693, 0.2658,\n",
      "        0.2612, 0.2580, 0.2558, 0.2530, 0.2494, 0.2485, 0.2474, 0.2473, 0.2419,\n",
      "        0.2409, 0.2397, 0.2396, 0.2387, 0.2381, 0.2363, 0.2362, 0.2361, 0.2358,\n",
      "        0.2358, 0.2345, 0.2338, 0.2329, 0.2325, 0.2316, 0.2309, 0.2301, 0.2280,\n",
      "        0.2279, 0.2239, 0.2232, 0.2231, 0.2222, 0.2218, 0.2212, 0.2210, 0.2198,\n",
      "        0.2180, 0.2179, 0.2177, 0.2176, 0.2171, 0.2159, 0.2134, 0.2130, 0.2130,\n",
      "        0.2092, 0.2091, 0.2090, 0.2083, 0.2081, 0.2080, 0.2079, 0.2070, 0.2067,\n",
      "        0.2060, 0.2056, 0.2054, 0.2042, 0.2040, 0.2035, 0.2023, 0.2023, 0.2018,\n",
      "        0.2015, 0.2008, 0.2004, 0.2000, 0.1995, 0.1985, 0.1984, 0.1984, 0.1979,\n",
      "        0.1973, 0.1966, 0.1961, 0.1953, 0.1943, 0.1926, 0.1914, 0.1914, 0.1913,\n",
      "        0.1902, 0.1886, 0.1886, 0.1855, 0.1850, 0.1833, 0.1832, 0.1829, 0.1825,\n",
      "        0.1819, 0.1804, 0.1799, 0.1798, 0.1794, 0.1791, 0.1789, 0.1776, 0.1770,\n",
      "        0.1754, 0.1747], grad_fn=<IndexBackward>)\n",
      "@@@@@@@@@@@@@@@@@@@@@@@@@@@@\n",
      "tensor([118, 115, 116,  99, 107, 105, 102,  97, 100, 117,  93, 111,  96, 101,\n",
      "        112,  78,  82, 106, 114,  95,  84,  81,  87,  66,  98, 110,  62, 103,\n",
      "         59,  75,  92,  79, 109,  76,  86,  67,  94,  91,  64,  83,  73,  89,\n",
      "        108,  85,  47,  70,  60,  65, 113,  77,  56,  54,  71,  32,  55,  90,\n",
      "         68,  58,  74,  51,  53,  45,  88,  72,  35,  41,  49,  69,  80,  61,\n",
      "         30,  36,  63,  34,  50,  40, 104,  57,  24,  43,  52,  25,  38,  44,\n",
      "         37,  27,  39,  31,   9,  21,  46,  42,  26,  33,  29,  48])\n",
      "tensor([-0.0658, -0.0680, -0.0682, -0.0689, -0.0696, -0.0696, -0.0697, -0.0700,\n",
      "        -0.0705, -0.0705, -0.0707, -0.0708, -0.0710, -0.0723, -0.0724, -0.0725,\n",
      "        -0.0725, -0.0726, -0.0731, -0.0732, -0.0735, -0.0751, -0.0752, -0.0755,\n",
      "        -0.0758, -0.0763, -0.0765, -0.0765, -0.0766, -0.0767, -0.0770, -0.0776,\n",
      "        -0.0780, -0.0782, -0.0785, -0.0788, -0.0790, -0.0792, -0.0794, -0.0797,\n",
      "        -0.0798, -0.0798, -0.0805, -0.0806, -0.0810, -0.0810, -0.0812, -0.0814,\n",
      "        -0.0818, -0.0819, -0.0822, -0.0823, -0.0825, -0.0827, -0.0829, -0.0835,\n",
      "        -0.0836, -0.0837, -0.0838, -0.0840, -0.0842, -0.0845, -0.0847, -0.0847,\n",
      "        -0.0847, -0.0851, -0.0852, -0.0852, -0.0854, -0.0855, -0.0861, -0.0862,\n",
      "        -0.0863, -0.0863, -0.0864, -0.0868, -0.0870, -0.0871, -0.0872, -0.0873,\n",
      "        -0.0878, -0.0885, -0.0885, -0.0885, -0.0886, -0.0889, -0.0891, -0.0894,\n",
      "        -0.0899, -0.0899, -0.0900, -0.0906, -0.0908, -0.0908, -0.0909, -0.0910],\n",
      "       grad_fn=<IndexBackward>)\n",
      "tensor([127,  36, 133, 143, 132,  38, 120,  93, 113, 134,  53, 138,  88,  77,\n",
      "         33,  85, 116,  28,  92, 107,  42,  51, 148,  20,  91,  99,  60,  70,\n",
      "        105, 141,   9,  83,  12,   8,  30,  24,  74,  86,  57, 136, 110,  58,\n",
      "          1,  94,  37,  25, 146,  75,  68,  84,  19,  31,  95,  49, 119,  43,\n",
      "         29, 112,  34,  35, 122,  47, 101,  52, 125, 100, 108, 104,  27,   3,\n",
      "         67,  65,  81, 135, 142,  22,   7,  10, 109, 121,  59, 137, 111,  41,\n",
      "         89,  48,  76,  23,  98, 145,  26, 130,  50, 126, 124,   6])\n",
      "tensor([], dtype=torch.int64)\n",
      "dict_keys([])\n"
     ]
    },
    {
     "name": "stdout",
     "output_type": "stream",
     "text": [
      "dict_keys([])\n"
     ]
    },
    {
     "data": {
      "text/plain": [
       "<BarContainer object of 148 artists>"
      ]
     },
     "execution_count": 13,
     "metadata": {},
     "output_type": "execute_result"
    },
    {
     "data": {
      "image/png": "[encoded data removed]",
      "text/plain": [
       "<Figure size 432x288 with 1 Axes>"
      ]
     },
     "metadata": {
      "needs_background": "light"
     },
     "output_type": "display_data"
    },
    {
     "data": {
      "image/png": "[encoded data removed]",
      "text/plain": [
       "<Figure size 432x288 with 1 Axes>"
      ]
     },
     "metadata": {
      "needs_background": "light"
     },
     "output_type": "display_data"
    }
   ],
   "source": [
    "from torch_geometric.data import DataLoader\n",
    "\n",
    "\n",
    "\n",
    "cnt_dict = []\n",
    "cnt_dict.append({i+1:0 for i in range(148)})\n",
    "cnt_dict.append({i+1:0 for i in range(148)})\n",
    "\n",
    "for tc,d  in enumerate(DataLoader(model.dataset['test'], batch_size = 1)):\n",
    "        \n",
    "    \n",
    "    print('~~~~~~~~~~~~~~~~~~~~~~~~~~~~')\n",
    "\n",
    "    #if(d.y == 0) : continue\n",
    "    \n",
    "    print(d.y)\n",
    "    node = torch.tensor(range(1,149))\n",
    "    ps,ss = model.model.get_att(d)\n",
    "    #print(ps[0].shape, ps[1].shape, ps[2].shape)\n",
    "    len_ps = len(ps)\n",
    "    #print(len_ps)\n",
    "    \n",
    "    print('-----node-----')\n",
    "    #node = node[ps[0]]\n",
    "    #node = node[ps[1]]\n",
    "    #node = node[ps[2]]\n",
    "    for i in range(len_ps):\n",
    "        node = node[ps[i]]\n",
    "        print('@@@@@@@@@@@@@@@@@@@@@@@@@@@@')\n",
    "        print(ps[i])\n",
    "        print(ss[i])\n",
    "        \n",
    "    \n",
    "    print(node)\n",
    "    #print(ss[-1])\n",
    "    #print(ss[-2])\n",
    "    \n",
    "    \n",
    "    print(node[(ss[-1]>0.5)])\n",
    "    for v in node[(ss[-1]>0.5)].tolist():\n",
    "        cnt_dict[d.y][v] =  cnt_dict[d.y][v] + 1\n",
    "    \n",
    "    \n",
    "    #if(tc >= 5): break\n",
    "plt.figure(0)\n",
    "print(dict(filter(lambda elem:elem[1]>=5, cnt_dict[0].items())).keys())\n",
    "plt.bar(cnt_dict[0].keys(),cnt_dict[0].values())\n",
    "\n",
    "\n",
    "plt.figure(1)\n",
    "print(dict(filter(lambda elem:elem[1]>=6, cnt_dict[1].items())).keys())\n",
    "plt.bar(cnt_dict[1].keys(),cnt_dict[1].values())\n",
    "\n"
   ]
  },
  {
   "cell_type": "code",
   "execution_count": 17,
   "metadata": {},
   "outputs": [
    {
     "data": {
      "text/plain": [
       "<function _VariableFunctionsClass.tanh>"
      ]
     },
     "execution_count": 17,
     "metadata": {},
     "output_type": "execute_result"
    }
   ],
   "source": [
    "model.model.pools[0].nonlinearity"
   ]
  },
  {
   "cell_type": "code",
   "execution_count": 32,
   "metadata": {},
   "outputs": [
    {
     "data": {
      "text/plain": [
       "[torch.Size([119]), torch.Size([96]), torch.Size([77])]"
      ]
     },
     "execution_count": 32,
     "metadata": {},
     "output_type": "execute_result"
    }
   ],
   "source": [
    "[ss_.shape for ss_ in ss]"
   ]
  },
  {
   "cell_type": "code",
   "execution_count": 90,
   "metadata": {},
   "outputs": [],
   "source": [
    "node = torch.tensor(range(148))\n",
    "no"
   ]
  },
  {
   "cell_type": "code",
   "execution_count": 78,
   "metadata": {},
   "outputs": [
    {
     "data": {
      "text/plain": [
       "[6, 2, 8, 22, 18, 13, 9, 23, 11, 7, 5, 12]"
      ]
     },
     "execution_count": 78,
     "metadata": {},
     "output_type": "execute_result"
    }
   ],
   "source": [
    "\n",
    "[ 6,  2,  8, 22, 18, 13,  9, 23, 11,  7,  5, 12]\n",
    "[35, 20, 77, 19,  0, 15, 50, 26,  5, 17, 81, 28, 22, 24, 75,  9, 69, 36,\n",
    "        11, 14, 16, 79, 47, 56,  6, 52, 94,  8,  1,  7, 45]"
   ]
  }
 ],
 "metadata": {
  "kernelspec": {
   "display_name": "gmker",
   "language": "python",
   "name": "graph_matching"
  },
  "language_info": {
   "codemirror_mode": {
    "name": "ipython",
    "version": 3
   },
   "file_extension": ".py",
   "mimetype": "text/x-python",
   "name": "python",
   "nbconvert_exporter": "python",
   "pygments_lexer": "ipython3",
   "version": "3.8.5"
  }
 },
 "nbformat": 4,
 "nbformat_minor": 4
}
