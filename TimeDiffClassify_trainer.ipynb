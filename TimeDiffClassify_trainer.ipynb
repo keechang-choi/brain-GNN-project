{
 "cells": [
  {
   "cell_type": "code",
   "execution_count": 1,
   "metadata": {},
   "outputs": [],
   "source": [
    "import torch\n",
    "\n",
    "from model.GCN_classifier import TimeDiffClassifier\n",
    "from model.GCN_classifier import TimeDiffClassifier_sagpooling\n",
    "\n",
    "import pytorch_lightning as pl\n",
    "\n",
    "import os.path as osp\n",
    "import matplotlib.pyplot as plt\n"
   ]
  },
  {
   "cell_type": "code",
   "execution_count": 2,
   "metadata": {},
   "outputs": [],
   "source": [
    "%load_ext autoreload\n",
    "%autoreload 2"
   ]
  },
  {
   "cell_type": "code",
   "execution_count": 3,
   "metadata": {},
   "outputs": [
    {
     "name": "stdout",
     "output_type": "stream",
     "text": [
      "cpu\n"
     ]
    }
   ],
   "source": [
    "device = torch.device(\"cuda\" if torch.cuda.is_available() else \"cpu\")\n",
    "print(device)\n",
    "hparams = {}\n",
    "hparams['batch_size'] = 32\n",
    "hparams['num_classes'] = 2\n",
    "hparams['hidden_channels'] = 64\n",
    "#hparams['num_node_features'] = 149\n",
    "hparams['batch_size'] = 32\n",
    "hparams['lr'] = 1.0e-03\n",
    "hparams['weight_decay'] = 5.0e-06\n",
    "\n",
    "s='./data_diff'\n",
    "hparams['s_data'] = osp.join(*(s.split('/')))\n",
    "s='./data/DT_File_MAP.xlsx'\n",
    "hparams['s_node'] = osp.join(*(s.split('/')))\n",
    "s='./data/[UNC]ADNI-network/dataTS.csv'\n",
    "hparams['s_date'] = osp.join(*(s.split('/')))\n",
    "s = './sparsification/data'\n",
    "hparams['s_sparsified'] = osp.join(*(s.split('/'))) + osp.sep\n",
    "\n",
    "\n",
    "#model.prepare_data()\n",
    "\n",
    "\n",
    "\n"
   ]
  },
  {
   "cell_type": "code",
   "execution_count": 4,
   "metadata": {},
   "outputs": [],
   "source": [
    "model = TimeDiffClassifier(hparams)\n",
    "model = model.to(device)\n",
    "\n",
    "trainer = None\n",
    "\n",
    "epochs = 300\n",
    "\n",
    "logdir = './lightning_logs'\n",
    "network_logger = pl.loggers.TensorBoardLogger(\n",
    "    save_dir=logdir,\n",
    "    name='TimeDiffClassify_logs'\n",
    ")\n",
    "logger = network_logger\n",
    "\n",
    "early_stopping = pl.callbacks.EarlyStopping(\n",
    "    monitor='val_loss',\n",
    "    patience=30,\n",
    ")"
   ]
  },
  {
   "cell_type": "code",
   "execution_count": 5,
   "metadata": {
    "scrolled": true
   },
   "outputs": [
    {
     "name": "stderr",
     "output_type": "stream",
     "text": [
      "GPU available: False, used: False\n",
      "No environment variable for node rank defined. Set as 0.\n",
      "C:\\Users\\rlckd\\Anaconda3\\envs\\graph_matching\\lib\\site-packages\\pytorch_lightning\\utilities\\distributed.py:23: RuntimeWarning: You have defined a `val_dataloader()` and have defined a `validation_step()`, you may also want to define `validation_epoch_end()` for accumulating stats.\n",
      "  warnings.warn(*args, **kwargs)\n",
      "\n",
      "  | Name              | Type           | Params\n",
      "-------------------------------------------------\n",
      "0 | model             | GCN            | 22 K  \n",
      "1 | model.conv1       | GCNConv        | 9 K   \n",
      "2 | model.conv2       | GCNConv        | 4 K   \n",
      "3 | model.conv3       | GCNConv        | 4 K   \n",
      "4 | model.att         | GlobalAtt_gate | 65    \n",
      "5 | model.att.gate_nn | Linear         | 65    \n",
      "6 | model.lin1        | Linear         | 4 K   \n",
      "7 | model.lin2        | Linear         | 130   \n"
     ]
    },
    {
     "name": "stdout",
     "output_type": "stream",
     "text": [
      "Number of training graphs: 103\n",
      "Number of validation graphs: 12\n",
      "Number of test graphs: 14\n"
     ]
    },
    {
     "data": {
      "application/vnd.jupyter.widget-view+json": {
       "model_id": "7833c6fcf3c84e90902ed767bda42ee2",
       "version_major": 2,
       "version_minor": 0
      },
      "text/plain": [
       "HBox(children=(HTML(value='Validation sanity check'), FloatProgress(value=1.0, bar_style='info', layout=Layout…"
      ]
     },
     "metadata": {},
     "output_type": "display_data"
    },
    {
     "data": {
      "application/vnd.jupyter.widget-view+json": {
       "model_id": "0d03591baf174df7af45e25f53fb41a0",
       "version_major": 2,
       "version_minor": 0
      },
      "text/plain": [
       "HBox(children=(HTML(value='Training'), FloatProgress(value=1.0, bar_style='info', layout=Layout(flex='2'), max…"
      ]
     },
     "metadata": {},
     "output_type": "display_data"
    },
    {
     "data": {
      "application/vnd.jupyter.widget-view+json": {
       "model_id": "",
       "version_major": 2,
       "version_minor": 0
      },
      "text/plain": [
       "HBox(children=(HTML(value='Validating'), FloatProgress(value=1.0, bar_style='info', layout=Layout(flex='2'), m…"
      ]
     },
     "metadata": {},
     "output_type": "display_data"
    },
    {
     "data": {
      "application/vnd.jupyter.widget-view+json": {
       "model_id": "",
       "version_major": 2,
       "version_minor": 0
      },
      "text/plain": [
       "HBox(children=(HTML(value='Validating'), FloatProgress(value=1.0, bar_style='info', layout=Layout(flex='2'), m…"
      ]
     },
     "metadata": {},
     "output_type": "display_data"
    },
    {
     "data": {
      "application/vnd.jupyter.widget-view+json": {
       "model_id": "",
       "version_major": 2,
       "version_minor": 0
      },
      "text/plain": [
       "HBox(children=(HTML(value='Validating'), FloatProgress(value=1.0, bar_style='info', layout=Layout(flex='2'), m…"
      ]
     },
     "metadata": {},
     "output_type": "display_data"
    },
    {
     "data": {
      "application/vnd.jupyter.widget-view+json": {
       "model_id": "",
       "version_major": 2,
       "version_minor": 0
      },
      "text/plain": [
       "HBox(children=(HTML(value='Validating'), FloatProgress(value=1.0, bar_style='info', layout=Layout(flex='2'), m…"
      ]
     },
     "metadata": {},
     "output_type": "display_data"
    },
    {
     "data": {
      "application/vnd.jupyter.widget-view+json": {
       "model_id": "",
       "version_major": 2,
       "version_minor": 0
      },
      "text/plain": [
       "HBox(children=(HTML(value='Validating'), FloatProgress(value=1.0, bar_style='info', layout=Layout(flex='2'), m…"
      ]
     },
     "metadata": {},
     "output_type": "display_data"
    },
    {
     "data": {
      "application/vnd.jupyter.widget-view+json": {
       "model_id": "",
       "version_major": 2,
       "version_minor": 0
      },
      "text/plain": [
       "HBox(children=(HTML(value='Validating'), FloatProgress(value=1.0, bar_style='info', layout=Layout(flex='2'), m…"
      ]
     },
     "metadata": {},
     "output_type": "display_data"
    },
    {
     "data": {
      "application/vnd.jupyter.widget-view+json": {
       "model_id": "",
       "version_major": 2,
       "version_minor": 0
      },
      "text/plain": [
       "HBox(children=(HTML(value='Validating'), FloatProgress(value=1.0, bar_style='info', layout=Layout(flex='2'), m…"
      ]
     },
     "metadata": {},
     "output_type": "display_data"
    },
    {
     "data": {
      "application/vnd.jupyter.widget-view+json": {
       "model_id": "",
       "version_major": 2,
       "version_minor": 0
      },
      "text/plain": [
       "HBox(children=(HTML(value='Validating'), FloatProgress(value=1.0, bar_style='info', layout=Layout(flex='2'), m…"
      ]
     },
     "metadata": {},
     "output_type": "display_data"
    },
    {
     "data": {
      "application/vnd.jupyter.widget-view+json": {
       "model_id": "",
       "version_major": 2,
       "version_minor": 0
      },
      "text/plain": [
       "HBox(children=(HTML(value='Validating'), FloatProgress(value=1.0, bar_style='info', layout=Layout(flex='2'), m…"
      ]
     },
     "metadata": {},
     "output_type": "display_data"
    },
    {
     "data": {
      "application/vnd.jupyter.widget-view+json": {
       "model_id": "",
       "version_major": 2,
       "version_minor": 0
      },
      "text/plain": [
       "HBox(children=(HTML(value='Validating'), FloatProgress(value=1.0, bar_style='info', layout=Layout(flex='2'), m…"
      ]
     },
     "metadata": {},
     "output_type": "display_data"
    },
    {
     "data": {
      "application/vnd.jupyter.widget-view+json": {
       "model_id": "",
       "version_major": 2,
       "version_minor": 0
      },
      "text/plain": [
       "HBox(children=(HTML(value='Validating'), FloatProgress(value=1.0, bar_style='info', layout=Layout(flex='2'), m…"
      ]
     },
     "metadata": {},
     "output_type": "display_data"
    },
    {
     "data": {
      "application/vnd.jupyter.widget-view+json": {
       "model_id": "",
       "version_major": 2,
       "version_minor": 0
      },
      "text/plain": [
       "HBox(children=(HTML(value='Validating'), FloatProgress(value=1.0, bar_style='info', layout=Layout(flex='2'), m…"
      ]
     },
     "metadata": {},
     "output_type": "display_data"
    },
    {
     "data": {
      "application/vnd.jupyter.widget-view+json": {
       "model_id": "",
       "version_major": 2,
       "version_minor": 0
      },
      "text/plain": [
       "HBox(children=(HTML(value='Validating'), FloatProgress(value=1.0, bar_style='info', layout=Layout(flex='2'), m…"
      ]
     },
     "metadata": {},
     "output_type": "display_data"
    },
    {
     "data": {
      "application/vnd.jupyter.widget-view+json": {
       "model_id": "",
       "version_major": 2,
       "version_minor": 0
      },
      "text/plain": [
       "HBox(children=(HTML(value='Validating'), FloatProgress(value=1.0, bar_style='info', layout=Layout(flex='2'), m…"
      ]
     },
     "metadata": {},
     "output_type": "display_data"
    },
    {
     "data": {
      "application/vnd.jupyter.widget-view+json": {
       "model_id": "",
       "version_major": 2,
       "version_minor": 0
      },
      "text/plain": [
       "HBox(children=(HTML(value='Validating'), FloatProgress(value=1.0, bar_style='info', layout=Layout(flex='2'), m…"
      ]
     },
     "metadata": {},
     "output_type": "display_data"
    },
    {
     "data": {
      "application/vnd.jupyter.widget-view+json": {
       "model_id": "",
       "version_major": 2,
       "version_minor": 0
      },
      "text/plain": [
       "HBox(children=(HTML(value='Validating'), FloatProgress(value=1.0, bar_style='info', layout=Layout(flex='2'), m…"
      ]
     },
     "metadata": {},
     "output_type": "display_data"
    },
    {
     "data": {
      "application/vnd.jupyter.widget-view+json": {
       "model_id": "",
       "version_major": 2,
       "version_minor": 0
      },
      "text/plain": [
       "HBox(children=(HTML(value='Validating'), FloatProgress(value=1.0, bar_style='info', layout=Layout(flex='2'), m…"
      ]
     },
     "metadata": {},
     "output_type": "display_data"
    },
    {
     "data": {
      "application/vnd.jupyter.widget-view+json": {
       "model_id": "",
       "version_major": 2,
       "version_minor": 0
      },
      "text/plain": [
       "HBox(children=(HTML(value='Validating'), FloatProgress(value=1.0, bar_style='info', layout=Layout(flex='2'), m…"
      ]
     },
     "metadata": {},
     "output_type": "display_data"
    },
    {
     "data": {
      "application/vnd.jupyter.widget-view+json": {
       "model_id": "",
       "version_major": 2,
       "version_minor": 0
      },
      "text/plain": [
       "HBox(children=(HTML(value='Validating'), FloatProgress(value=1.0, bar_style='info', layout=Layout(flex='2'), m…"
      ]
     },
     "metadata": {},
     "output_type": "display_data"
    },
    {
     "data": {
      "application/vnd.jupyter.widget-view+json": {
       "model_id": "",
       "version_major": 2,
       "version_minor": 0
      },
      "text/plain": [
       "HBox(children=(HTML(value='Validating'), FloatProgress(value=1.0, bar_style='info', layout=Layout(flex='2'), m…"
      ]
     },
     "metadata": {},
     "output_type": "display_data"
    },
    {
     "data": {
      "application/vnd.jupyter.widget-view+json": {
       "model_id": "",
       "version_major": 2,
       "version_minor": 0
      },
      "text/plain": [
       "HBox(children=(HTML(value='Validating'), FloatProgress(value=1.0, bar_style='info', layout=Layout(flex='2'), m…"
      ]
     },
     "metadata": {},
     "output_type": "display_data"
    },
    {
     "data": {
      "application/vnd.jupyter.widget-view+json": {
       "model_id": "",
       "version_major": 2,
       "version_minor": 0
      },
      "text/plain": [
       "HBox(children=(HTML(value='Validating'), FloatProgress(value=1.0, bar_style='info', layout=Layout(flex='2'), m…"
      ]
     },
     "metadata": {},
     "output_type": "display_data"
    },
    {
     "data": {
      "application/vnd.jupyter.widget-view+json": {
       "model_id": "",
       "version_major": 2,
       "version_minor": 0
      },
      "text/plain": [
       "HBox(children=(HTML(value='Validating'), FloatProgress(value=1.0, bar_style='info', layout=Layout(flex='2'), m…"
      ]
     },
     "metadata": {},
     "output_type": "display_data"
    },
    {
     "data": {
      "application/vnd.jupyter.widget-view+json": {
       "model_id": "",
       "version_major": 2,
       "version_minor": 0
      },
      "text/plain": [
       "HBox(children=(HTML(value='Validating'), FloatProgress(value=1.0, bar_style='info', layout=Layout(flex='2'), m…"
      ]
     },
     "metadata": {},
     "output_type": "display_data"
    },
    {
     "data": {
      "application/vnd.jupyter.widget-view+json": {
       "model_id": "",
       "version_major": 2,
       "version_minor": 0
      },
      "text/plain": [
       "HBox(children=(HTML(value='Validating'), FloatProgress(value=1.0, bar_style='info', layout=Layout(flex='2'), m…"
      ]
     },
     "metadata": {},
     "output_type": "display_data"
    },
    {
     "data": {
      "application/vnd.jupyter.widget-view+json": {
       "model_id": "",
       "version_major": 2,
       "version_minor": 0
      },
      "text/plain": [
       "HBox(children=(HTML(value='Validating'), FloatProgress(value=1.0, bar_style='info', layout=Layout(flex='2'), m…"
      ]
     },
     "metadata": {},
     "output_type": "display_data"
    },
    {
     "data": {
      "application/vnd.jupyter.widget-view+json": {
       "model_id": "",
       "version_major": 2,
       "version_minor": 0
      },
      "text/plain": [
       "HBox(children=(HTML(value='Validating'), FloatProgress(value=1.0, bar_style='info', layout=Layout(flex='2'), m…"
      ]
     },
     "metadata": {},
     "output_type": "display_data"
    },
    {
     "data": {
      "application/vnd.jupyter.widget-view+json": {
       "model_id": "",
       "version_major": 2,
       "version_minor": 0
      },
      "text/plain": [
       "HBox(children=(HTML(value='Validating'), FloatProgress(value=1.0, bar_style='info', layout=Layout(flex='2'), m…"
      ]
     },
     "metadata": {},
     "output_type": "display_data"
    },
    {
     "data": {
      "application/vnd.jupyter.widget-view+json": {
       "model_id": "",
       "version_major": 2,
       "version_minor": 0
      },
      "text/plain": [
       "HBox(children=(HTML(value='Validating'), FloatProgress(value=1.0, bar_style='info', layout=Layout(flex='2'), m…"
      ]
     },
     "metadata": {},
     "output_type": "display_data"
    },
    {
     "data": {
      "application/vnd.jupyter.widget-view+json": {
       "model_id": "",
       "version_major": 2,
       "version_minor": 0
      },
      "text/plain": [
       "HBox(children=(HTML(value='Validating'), FloatProgress(value=1.0, bar_style='info', layout=Layout(flex='2'), m…"
      ]
     },
     "metadata": {},
     "output_type": "display_data"
    },
    {
     "data": {
      "application/vnd.jupyter.widget-view+json": {
       "model_id": "",
       "version_major": 2,
       "version_minor": 0
      },
      "text/plain": [
       "HBox(children=(HTML(value='Validating'), FloatProgress(value=1.0, bar_style='info', layout=Layout(flex='2'), m…"
      ]
     },
     "metadata": {},
     "output_type": "display_data"
    },
    {
     "data": {
      "application/vnd.jupyter.widget-view+json": {
       "model_id": "",
       "version_major": 2,
       "version_minor": 0
      },
      "text/plain": [
       "HBox(children=(HTML(value='Validating'), FloatProgress(value=1.0, bar_style='info', layout=Layout(flex='2'), m…"
      ]
     },
     "metadata": {},
     "output_type": "display_data"
    },
    {
     "data": {
      "application/vnd.jupyter.widget-view+json": {
       "model_id": "",
       "version_major": 2,
       "version_minor": 0
      },
      "text/plain": [
       "HBox(children=(HTML(value='Validating'), FloatProgress(value=1.0, bar_style='info', layout=Layout(flex='2'), m…"
      ]
     },
     "metadata": {},
     "output_type": "display_data"
    },
    {
     "data": {
      "application/vnd.jupyter.widget-view+json": {
       "model_id": "",
       "version_major": 2,
       "version_minor": 0
      },
      "text/plain": [
       "HBox(children=(HTML(value='Validating'), FloatProgress(value=1.0, bar_style='info', layout=Layout(flex='2'), m…"
      ]
     },
     "metadata": {},
     "output_type": "display_data"
    },
    {
     "data": {
      "application/vnd.jupyter.widget-view+json": {
       "model_id": "",
       "version_major": 2,
       "version_minor": 0
      },
      "text/plain": [
       "HBox(children=(HTML(value='Validating'), FloatProgress(value=1.0, bar_style='info', layout=Layout(flex='2'), m…"
      ]
     },
     "metadata": {},
     "output_type": "display_data"
    },
    {
     "data": {
      "application/vnd.jupyter.widget-view+json": {
       "model_id": "",
       "version_major": 2,
       "version_minor": 0
      },
      "text/plain": [
       "HBox(children=(HTML(value='Validating'), FloatProgress(value=1.0, bar_style='info', layout=Layout(flex='2'), m…"
      ]
     },
     "metadata": {},
     "output_type": "display_data"
    },
    {
     "data": {
      "application/vnd.jupyter.widget-view+json": {
       "model_id": "",
       "version_major": 2,
       "version_minor": 0
      },
      "text/plain": [
       "HBox(children=(HTML(value='Validating'), FloatProgress(value=1.0, bar_style='info', layout=Layout(flex='2'), m…"
      ]
     },
     "metadata": {},
     "output_type": "display_data"
    },
    {
     "data": {
      "application/vnd.jupyter.widget-view+json": {
       "model_id": "",
       "version_major": 2,
       "version_minor": 0
      },
      "text/plain": [
       "HBox(children=(HTML(value='Validating'), FloatProgress(value=1.0, bar_style='info', layout=Layout(flex='2'), m…"
      ]
     },
     "metadata": {},
     "output_type": "display_data"
    },
    {
     "data": {
      "application/vnd.jupyter.widget-view+json": {
       "model_id": "",
       "version_major": 2,
       "version_minor": 0
      },
      "text/plain": [
       "HBox(children=(HTML(value='Validating'), FloatProgress(value=1.0, bar_style='info', layout=Layout(flex='2'), m…"
      ]
     },
     "metadata": {},
     "output_type": "display_data"
    },
    {
     "data": {
      "application/vnd.jupyter.widget-view+json": {
       "model_id": "",
       "version_major": 2,
       "version_minor": 0
      },
      "text/plain": [
       "HBox(children=(HTML(value='Validating'), FloatProgress(value=1.0, bar_style='info', layout=Layout(flex='2'), m…"
      ]
     },
     "metadata": {},
     "output_type": "display_data"
    },
    {
     "data": {
      "application/vnd.jupyter.widget-view+json": {
       "model_id": "",
       "version_major": 2,
       "version_minor": 0
      },
      "text/plain": [
       "HBox(children=(HTML(value='Validating'), FloatProgress(value=1.0, bar_style='info', layout=Layout(flex='2'), m…"
      ]
     },
     "metadata": {},
     "output_type": "display_data"
    },
    {
     "data": {
      "application/vnd.jupyter.widget-view+json": {
       "model_id": "",
       "version_major": 2,
       "version_minor": 0
      },
      "text/plain": [
       "HBox(children=(HTML(value='Validating'), FloatProgress(value=1.0, bar_style='info', layout=Layout(flex='2'), m…"
      ]
     },
     "metadata": {},
     "output_type": "display_data"
    },
    {
     "data": {
      "application/vnd.jupyter.widget-view+json": {
       "model_id": "",
       "version_major": 2,
       "version_minor": 0
      },
      "text/plain": [
       "HBox(children=(HTML(value='Validating'), FloatProgress(value=1.0, bar_style='info', layout=Layout(flex='2'), m…"
      ]
     },
     "metadata": {},
     "output_type": "display_data"
    },
    {
     "data": {
      "application/vnd.jupyter.widget-view+json": {
       "model_id": "",
       "version_major": 2,
       "version_minor": 0
      },
      "text/plain": [
       "HBox(children=(HTML(value='Validating'), FloatProgress(value=1.0, bar_style='info', layout=Layout(flex='2'), m…"
      ]
     },
     "metadata": {},
     "output_type": "display_data"
    },
    {
     "data": {
      "application/vnd.jupyter.widget-view+json": {
       "model_id": "",
       "version_major": 2,
       "version_minor": 0
      },
      "text/plain": [
       "HBox(children=(HTML(value='Validating'), FloatProgress(value=1.0, bar_style='info', layout=Layout(flex='2'), m…"
      ]
     },
     "metadata": {},
     "output_type": "display_data"
    },
    {
     "data": {
      "application/vnd.jupyter.widget-view+json": {
       "model_id": "",
       "version_major": 2,
       "version_minor": 0
      },
      "text/plain": [
       "HBox(children=(HTML(value='Validating'), FloatProgress(value=1.0, bar_style='info', layout=Layout(flex='2'), m…"
      ]
     },
     "metadata": {},
     "output_type": "display_data"
    },
    {
     "data": {
      "application/vnd.jupyter.widget-view+json": {
       "model_id": "",
       "version_major": 2,
       "version_minor": 0
      },
      "text/plain": [
       "HBox(children=(HTML(value='Validating'), FloatProgress(value=1.0, bar_style='info', layout=Layout(flex='2'), m…"
      ]
     },
     "metadata": {},
     "output_type": "display_data"
    },
    {
     "data": {
      "application/vnd.jupyter.widget-view+json": {
       "model_id": "",
       "version_major": 2,
       "version_minor": 0
      },
      "text/plain": [
       "HBox(children=(HTML(value='Validating'), FloatProgress(value=1.0, bar_style='info', layout=Layout(flex='2'), m…"
      ]
     },
     "metadata": {},
     "output_type": "display_data"
    },
    {
     "data": {
      "application/vnd.jupyter.widget-view+json": {
       "model_id": "",
       "version_major": 2,
       "version_minor": 0
      },
      "text/plain": [
       "HBox(children=(HTML(value='Validating'), FloatProgress(value=1.0, bar_style='info', layout=Layout(flex='2'), m…"
      ]
     },
     "metadata": {},
     "output_type": "display_data"
    },
    {
     "data": {
      "application/vnd.jupyter.widget-view+json": {
       "model_id": "",
       "version_major": 2,
       "version_minor": 0
      },
      "text/plain": [
       "HBox(children=(HTML(value='Validating'), FloatProgress(value=1.0, bar_style='info', layout=Layout(flex='2'), m…"
      ]
     },
     "metadata": {},
     "output_type": "display_data"
    },
    {
     "data": {
      "application/vnd.jupyter.widget-view+json": {
       "model_id": "",
       "version_major": 2,
       "version_minor": 0
      },
      "text/plain": [
       "HBox(children=(HTML(value='Validating'), FloatProgress(value=1.0, bar_style='info', layout=Layout(flex='2'), m…"
      ]
     },
     "metadata": {},
     "output_type": "display_data"
    },
    {
     "data": {
      "application/vnd.jupyter.widget-view+json": {
       "model_id": "",
       "version_major": 2,
       "version_minor": 0
      },
      "text/plain": [
       "HBox(children=(HTML(value='Validating'), FloatProgress(value=1.0, bar_style='info', layout=Layout(flex='2'), m…"
      ]
     },
     "metadata": {},
     "output_type": "display_data"
    },
    {
     "data": {
      "application/vnd.jupyter.widget-view+json": {
       "model_id": "",
       "version_major": 2,
       "version_minor": 0
      },
      "text/plain": [
       "HBox(children=(HTML(value='Validating'), FloatProgress(value=1.0, bar_style='info', layout=Layout(flex='2'), m…"
      ]
     },
     "metadata": {},
     "output_type": "display_data"
    },
    {
     "data": {
      "application/vnd.jupyter.widget-view+json": {
       "model_id": "",
       "version_major": 2,
       "version_minor": 0
      },
      "text/plain": [
       "HBox(children=(HTML(value='Validating'), FloatProgress(value=1.0, bar_style='info', layout=Layout(flex='2'), m…"
      ]
     },
     "metadata": {},
     "output_type": "display_data"
    },
    {
     "data": {
      "application/vnd.jupyter.widget-view+json": {
       "model_id": "",
       "version_major": 2,
       "version_minor": 0
      },
      "text/plain": [
       "HBox(children=(HTML(value='Validating'), FloatProgress(value=1.0, bar_style='info', layout=Layout(flex='2'), m…"
      ]
     },
     "metadata": {},
     "output_type": "display_data"
    },
    {
     "data": {
      "application/vnd.jupyter.widget-view+json": {
       "model_id": "",
       "version_major": 2,
       "version_minor": 0
      },
      "text/plain": [
       "HBox(children=(HTML(value='Validating'), FloatProgress(value=1.0, bar_style='info', layout=Layout(flex='2'), m…"
      ]
     },
     "metadata": {},
     "output_type": "display_data"
    },
    {
     "data": {
      "application/vnd.jupyter.widget-view+json": {
       "model_id": "",
       "version_major": 2,
       "version_minor": 0
      },
      "text/plain": [
       "HBox(children=(HTML(value='Validating'), FloatProgress(value=1.0, bar_style='info', layout=Layout(flex='2'), m…"
      ]
     },
     "metadata": {},
     "output_type": "display_data"
    },
    {
     "data": {
      "application/vnd.jupyter.widget-view+json": {
       "model_id": "",
       "version_major": 2,
       "version_minor": 0
      },
      "text/plain": [
       "HBox(children=(HTML(value='Validating'), FloatProgress(value=1.0, bar_style='info', layout=Layout(flex='2'), m…"
      ]
     },
     "metadata": {},
     "output_type": "display_data"
    },
    {
     "data": {
      "application/vnd.jupyter.widget-view+json": {
       "model_id": "",
       "version_major": 2,
       "version_minor": 0
      },
      "text/plain": [
       "HBox(children=(HTML(value='Validating'), FloatProgress(value=1.0, bar_style='info', layout=Layout(flex='2'), m…"
      ]
     },
     "metadata": {},
     "output_type": "display_data"
    },
    {
     "data": {
      "application/vnd.jupyter.widget-view+json": {
       "model_id": "",
       "version_major": 2,
       "version_minor": 0
      },
      "text/plain": [
       "HBox(children=(HTML(value='Validating'), FloatProgress(value=1.0, bar_style='info', layout=Layout(flex='2'), m…"
      ]
     },
     "metadata": {},
     "output_type": "display_data"
    },
    {
     "data": {
      "application/vnd.jupyter.widget-view+json": {
       "model_id": "",
       "version_major": 2,
       "version_minor": 0
      },
      "text/plain": [
       "HBox(children=(HTML(value='Validating'), FloatProgress(value=1.0, bar_style='info', layout=Layout(flex='2'), m…"
      ]
     },
     "metadata": {},
     "output_type": "display_data"
    },
    {
     "data": {
      "application/vnd.jupyter.widget-view+json": {
       "model_id": "",
       "version_major": 2,
       "version_minor": 0
      },
      "text/plain": [
       "HBox(children=(HTML(value='Validating'), FloatProgress(value=1.0, bar_style='info', layout=Layout(flex='2'), m…"
      ]
     },
     "metadata": {},
     "output_type": "display_data"
    },
    {
     "data": {
      "application/vnd.jupyter.widget-view+json": {
       "model_id": "",
       "version_major": 2,
       "version_minor": 0
      },
      "text/plain": [
       "HBox(children=(HTML(value='Validating'), FloatProgress(value=1.0, bar_style='info', layout=Layout(flex='2'), m…"
      ]
     },
     "metadata": {},
     "output_type": "display_data"
    },
    {
     "data": {
      "application/vnd.jupyter.widget-view+json": {
       "model_id": "",
       "version_major": 2,
       "version_minor": 0
      },
      "text/plain": [
       "HBox(children=(HTML(value='Validating'), FloatProgress(value=1.0, bar_style='info', layout=Layout(flex='2'), m…"
      ]
     },
     "metadata": {},
     "output_type": "display_data"
    },
    {
     "data": {
      "application/vnd.jupyter.widget-view+json": {
       "model_id": "",
       "version_major": 2,
       "version_minor": 0
      },
      "text/plain": [
       "HBox(children=(HTML(value='Validating'), FloatProgress(value=1.0, bar_style='info', layout=Layout(flex='2'), m…"
      ]
     },
     "metadata": {},
     "output_type": "display_data"
    },
    {
     "data": {
      "application/vnd.jupyter.widget-view+json": {
       "model_id": "",
       "version_major": 2,
       "version_minor": 0
      },
      "text/plain": [
       "HBox(children=(HTML(value='Validating'), FloatProgress(value=1.0, bar_style='info', layout=Layout(flex='2'), m…"
      ]
     },
     "metadata": {},
     "output_type": "display_data"
    },
    {
     "data": {
      "application/vnd.jupyter.widget-view+json": {
       "model_id": "",
       "version_major": 2,
       "version_minor": 0
      },
      "text/plain": [
       "HBox(children=(HTML(value='Validating'), FloatProgress(value=1.0, bar_style='info', layout=Layout(flex='2'), m…"
      ]
     },
     "metadata": {},
     "output_type": "display_data"
    },
    {
     "data": {
      "application/vnd.jupyter.widget-view+json": {
       "model_id": "",
       "version_major": 2,
       "version_minor": 0
      },
      "text/plain": [
       "HBox(children=(HTML(value='Validating'), FloatProgress(value=1.0, bar_style='info', layout=Layout(flex='2'), m…"
      ]
     },
     "metadata": {},
     "output_type": "display_data"
    },
    {
     "data": {
      "application/vnd.jupyter.widget-view+json": {
       "model_id": "",
       "version_major": 2,
       "version_minor": 0
      },
      "text/plain": [
       "HBox(children=(HTML(value='Validating'), FloatProgress(value=1.0, bar_style='info', layout=Layout(flex='2'), m…"
      ]
     },
     "metadata": {},
     "output_type": "display_data"
    },
    {
     "data": {
      "application/vnd.jupyter.widget-view+json": {
       "model_id": "",
       "version_major": 2,
       "version_minor": 0
      },
      "text/plain": [
       "HBox(children=(HTML(value='Validating'), FloatProgress(value=1.0, bar_style='info', layout=Layout(flex='2'), m…"
      ]
     },
     "metadata": {},
     "output_type": "display_data"
    },
    {
     "data": {
      "application/vnd.jupyter.widget-view+json": {
       "model_id": "",
       "version_major": 2,
       "version_minor": 0
      },
      "text/plain": [
       "HBox(children=(HTML(value='Validating'), FloatProgress(value=1.0, bar_style='info', layout=Layout(flex='2'), m…"
      ]
     },
     "metadata": {},
     "output_type": "display_data"
    },
    {
     "data": {
      "application/vnd.jupyter.widget-view+json": {
       "model_id": "",
       "version_major": 2,
       "version_minor": 0
      },
      "text/plain": [
       "HBox(children=(HTML(value='Validating'), FloatProgress(value=1.0, bar_style='info', layout=Layout(flex='2'), m…"
      ]
     },
     "metadata": {},
     "output_type": "display_data"
    },
    {
     "data": {
      "application/vnd.jupyter.widget-view+json": {
       "model_id": "",
       "version_major": 2,
       "version_minor": 0
      },
      "text/plain": [
       "HBox(children=(HTML(value='Validating'), FloatProgress(value=1.0, bar_style='info', layout=Layout(flex='2'), m…"
      ]
     },
     "metadata": {},
     "output_type": "display_data"
    },
    {
     "data": {
      "application/vnd.jupyter.widget-view+json": {
       "model_id": "",
       "version_major": 2,
       "version_minor": 0
      },
      "text/plain": [
       "HBox(children=(HTML(value='Validating'), FloatProgress(value=1.0, bar_style='info', layout=Layout(flex='2'), m…"
      ]
     },
     "metadata": {},
     "output_type": "display_data"
    },
    {
     "data": {
      "application/vnd.jupyter.widget-view+json": {
       "model_id": "",
       "version_major": 2,
       "version_minor": 0
      },
      "text/plain": [
       "HBox(children=(HTML(value='Validating'), FloatProgress(value=1.0, bar_style='info', layout=Layout(flex='2'), m…"
      ]
     },
     "metadata": {},
     "output_type": "display_data"
    },
    {
     "data": {
      "application/vnd.jupyter.widget-view+json": {
       "model_id": "",
       "version_major": 2,
       "version_minor": 0
      },
      "text/plain": [
       "HBox(children=(HTML(value='Validating'), FloatProgress(value=1.0, bar_style='info', layout=Layout(flex='2'), m…"
      ]
     },
     "metadata": {},
     "output_type": "display_data"
    },
    {
     "data": {
      "application/vnd.jupyter.widget-view+json": {
       "model_id": "",
       "version_major": 2,
       "version_minor": 0
      },
      "text/plain": [
       "HBox(children=(HTML(value='Validating'), FloatProgress(value=1.0, bar_style='info', layout=Layout(flex='2'), m…"
      ]
     },
     "metadata": {},
     "output_type": "display_data"
    },
    {
     "data": {
      "application/vnd.jupyter.widget-view+json": {
       "model_id": "",
       "version_major": 2,
       "version_minor": 0
      },
      "text/plain": [
       "HBox(children=(HTML(value='Validating'), FloatProgress(value=1.0, bar_style='info', layout=Layout(flex='2'), m…"
      ]
     },
     "metadata": {},
     "output_type": "display_data"
    },
    {
     "data": {
      "application/vnd.jupyter.widget-view+json": {
       "model_id": "",
       "version_major": 2,
       "version_minor": 0
      },
      "text/plain": [
       "HBox(children=(HTML(value='Validating'), FloatProgress(value=1.0, bar_style='info', layout=Layout(flex='2'), m…"
      ]
     },
     "metadata": {},
     "output_type": "display_data"
    },
    {
     "data": {
      "application/vnd.jupyter.widget-view+json": {
       "model_id": "",
       "version_major": 2,
       "version_minor": 0
      },
      "text/plain": [
       "HBox(children=(HTML(value='Validating'), FloatProgress(value=1.0, bar_style='info', layout=Layout(flex='2'), m…"
      ]
     },
     "metadata": {},
     "output_type": "display_data"
    },
    {
     "data": {
      "application/vnd.jupyter.widget-view+json": {
       "model_id": "",
       "version_major": 2,
       "version_minor": 0
      },
      "text/plain": [
       "HBox(children=(HTML(value='Validating'), FloatProgress(value=1.0, bar_style='info', layout=Layout(flex='2'), m…"
      ]
     },
     "metadata": {},
     "output_type": "display_data"
    },
    {
     "data": {
      "application/vnd.jupyter.widget-view+json": {
       "model_id": "",
       "version_major": 2,
       "version_minor": 0
      },
      "text/plain": [
       "HBox(children=(HTML(value='Validating'), FloatProgress(value=1.0, bar_style='info', layout=Layout(flex='2'), m…"
      ]
     },
     "metadata": {},
     "output_type": "display_data"
    },
    {
     "data": {
      "application/vnd.jupyter.widget-view+json": {
       "model_id": "",
       "version_major": 2,
       "version_minor": 0
      },
      "text/plain": [
       "HBox(children=(HTML(value='Validating'), FloatProgress(value=1.0, bar_style='info', layout=Layout(flex='2'), m…"
      ]
     },
     "metadata": {},
     "output_type": "display_data"
    },
    {
     "data": {
      "application/vnd.jupyter.widget-view+json": {
       "model_id": "",
       "version_major": 2,
       "version_minor": 0
      },
      "text/plain": [
       "HBox(children=(HTML(value='Validating'), FloatProgress(value=1.0, bar_style='info', layout=Layout(flex='2'), m…"
      ]
     },
     "metadata": {},
     "output_type": "display_data"
    },
    {
     "data": {
      "application/vnd.jupyter.widget-view+json": {
       "model_id": "",
       "version_major": 2,
       "version_minor": 0
      },
      "text/plain": [
       "HBox(children=(HTML(value='Validating'), FloatProgress(value=1.0, bar_style='info', layout=Layout(flex='2'), m…"
      ]
     },
     "metadata": {},
     "output_type": "display_data"
    },
    {
     "data": {
      "application/vnd.jupyter.widget-view+json": {
       "model_id": "",
       "version_major": 2,
       "version_minor": 0
      },
      "text/plain": [
       "HBox(children=(HTML(value='Validating'), FloatProgress(value=1.0, bar_style='info', layout=Layout(flex='2'), m…"
      ]
     },
     "metadata": {},
     "output_type": "display_data"
    },
    {
     "data": {
      "application/vnd.jupyter.widget-view+json": {
       "model_id": "",
       "version_major": 2,
       "version_minor": 0
      },
      "text/plain": [
       "HBox(children=(HTML(value='Validating'), FloatProgress(value=1.0, bar_style='info', layout=Layout(flex='2'), m…"
      ]
     },
     "metadata": {},
     "output_type": "display_data"
    },
    {
     "data": {
      "application/vnd.jupyter.widget-view+json": {
       "model_id": "",
       "version_major": 2,
       "version_minor": 0
      },
      "text/plain": [
       "HBox(children=(HTML(value='Validating'), FloatProgress(value=1.0, bar_style='info', layout=Layout(flex='2'), m…"
      ]
     },
     "metadata": {},
     "output_type": "display_data"
    },
    {
     "data": {
      "application/vnd.jupyter.widget-view+json": {
       "model_id": "",
       "version_major": 2,
       "version_minor": 0
      },
      "text/plain": [
       "HBox(children=(HTML(value='Validating'), FloatProgress(value=1.0, bar_style='info', layout=Layout(flex='2'), m…"
      ]
     },
     "metadata": {},
     "output_type": "display_data"
    },
    {
     "data": {
      "application/vnd.jupyter.widget-view+json": {
       "model_id": "",
       "version_major": 2,
       "version_minor": 0
      },
      "text/plain": [
       "HBox(children=(HTML(value='Validating'), FloatProgress(value=1.0, bar_style='info', layout=Layout(flex='2'), m…"
      ]
     },
     "metadata": {},
     "output_type": "display_data"
    },
    {
     "data": {
      "application/vnd.jupyter.widget-view+json": {
       "model_id": "",
       "version_major": 2,
       "version_minor": 0
      },
      "text/plain": [
       "HBox(children=(HTML(value='Validating'), FloatProgress(value=1.0, bar_style='info', layout=Layout(flex='2'), m…"
      ]
     },
     "metadata": {},
     "output_type": "display_data"
    },
    {
     "data": {
      "application/vnd.jupyter.widget-view+json": {
       "model_id": "",
       "version_major": 2,
       "version_minor": 0
      },
      "text/plain": [
       "HBox(children=(HTML(value='Validating'), FloatProgress(value=1.0, bar_style='info', layout=Layout(flex='2'), m…"
      ]
     },
     "metadata": {},
     "output_type": "display_data"
    },
    {
     "data": {
      "application/vnd.jupyter.widget-view+json": {
       "model_id": "",
       "version_major": 2,
       "version_minor": 0
      },
      "text/plain": [
       "HBox(children=(HTML(value='Validating'), FloatProgress(value=1.0, bar_style='info', layout=Layout(flex='2'), m…"
      ]
     },
     "metadata": {},
     "output_type": "display_data"
    },
    {
     "data": {
      "application/vnd.jupyter.widget-view+json": {
       "model_id": "",
       "version_major": 2,
       "version_minor": 0
      },
      "text/plain": [
       "HBox(children=(HTML(value='Validating'), FloatProgress(value=1.0, bar_style='info', layout=Layout(flex='2'), m…"
      ]
     },
     "metadata": {},
     "output_type": "display_data"
    },
    {
     "data": {
      "application/vnd.jupyter.widget-view+json": {
       "model_id": "",
       "version_major": 2,
       "version_minor": 0
      },
      "text/plain": [
       "HBox(children=(HTML(value='Validating'), FloatProgress(value=1.0, bar_style='info', layout=Layout(flex='2'), m…"
      ]
     },
     "metadata": {},
     "output_type": "display_data"
    },
    {
     "data": {
      "application/vnd.jupyter.widget-view+json": {
       "model_id": "",
       "version_major": 2,
       "version_minor": 0
      },
      "text/plain": [
       "HBox(children=(HTML(value='Validating'), FloatProgress(value=1.0, bar_style='info', layout=Layout(flex='2'), m…"
      ]
     },
     "metadata": {},
     "output_type": "display_data"
    },
    {
     "data": {
      "application/vnd.jupyter.widget-view+json": {
       "model_id": "",
       "version_major": 2,
       "version_minor": 0
      },
      "text/plain": [
       "HBox(children=(HTML(value='Validating'), FloatProgress(value=1.0, bar_style='info', layout=Layout(flex='2'), m…"
      ]
     },
     "metadata": {},
     "output_type": "display_data"
    },
    {
     "data": {
      "application/vnd.jupyter.widget-view+json": {
       "model_id": "",
       "version_major": 2,
       "version_minor": 0
      },
      "text/plain": [
       "HBox(children=(HTML(value='Validating'), FloatProgress(value=1.0, bar_style='info', layout=Layout(flex='2'), m…"
      ]
     },
     "metadata": {},
     "output_type": "display_data"
    },
    {
     "data": {
      "application/vnd.jupyter.widget-view+json": {
       "model_id": "",
       "version_major": 2,
       "version_minor": 0
      },
      "text/plain": [
       "HBox(children=(HTML(value='Validating'), FloatProgress(value=1.0, bar_style='info', layout=Layout(flex='2'), m…"
      ]
     },
     "metadata": {},
     "output_type": "display_data"
    },
    {
     "data": {
      "application/vnd.jupyter.widget-view+json": {
       "model_id": "",
       "version_major": 2,
       "version_minor": 0
      },
      "text/plain": [
       "HBox(children=(HTML(value='Validating'), FloatProgress(value=1.0, bar_style='info', layout=Layout(flex='2'), m…"
      ]
     },
     "metadata": {},
     "output_type": "display_data"
    },
    {
     "data": {
      "application/vnd.jupyter.widget-view+json": {
       "model_id": "",
       "version_major": 2,
       "version_minor": 0
      },
      "text/plain": [
       "HBox(children=(HTML(value='Validating'), FloatProgress(value=1.0, bar_style='info', layout=Layout(flex='2'), m…"
      ]
     },
     "metadata": {},
     "output_type": "display_data"
    },
    {
     "data": {
      "application/vnd.jupyter.widget-view+json": {
       "model_id": "",
       "version_major": 2,
       "version_minor": 0
      },
      "text/plain": [
       "HBox(children=(HTML(value='Validating'), FloatProgress(value=1.0, bar_style='info', layout=Layout(flex='2'), m…"
      ]
     },
     "metadata": {},
     "output_type": "display_data"
    },
    {
     "data": {
      "application/vnd.jupyter.widget-view+json": {
       "model_id": "",
       "version_major": 2,
       "version_minor": 0
      },
      "text/plain": [
       "HBox(children=(HTML(value='Validating'), FloatProgress(value=1.0, bar_style='info', layout=Layout(flex='2'), m…"
      ]
     },
     "metadata": {},
     "output_type": "display_data"
    },
    {
     "data": {
      "application/vnd.jupyter.widget-view+json": {
       "model_id": "",
       "version_major": 2,
       "version_minor": 0
      },
      "text/plain": [
       "HBox(children=(HTML(value='Validating'), FloatProgress(value=1.0, bar_style='info', layout=Layout(flex='2'), m…"
      ]
     },
     "metadata": {},
     "output_type": "display_data"
    },
    {
     "data": {
      "application/vnd.jupyter.widget-view+json": {
       "model_id": "",
       "version_major": 2,
       "version_minor": 0
      },
      "text/plain": [
       "HBox(children=(HTML(value='Validating'), FloatProgress(value=1.0, bar_style='info', layout=Layout(flex='2'), m…"
      ]
     },
     "metadata": {},
     "output_type": "display_data"
    },
    {
     "data": {
      "application/vnd.jupyter.widget-view+json": {
       "model_id": "",
       "version_major": 2,
       "version_minor": 0
      },
      "text/plain": [
       "HBox(children=(HTML(value='Validating'), FloatProgress(value=1.0, bar_style='info', layout=Layout(flex='2'), m…"
      ]
     },
     "metadata": {},
     "output_type": "display_data"
    },
    {
     "data": {
      "application/vnd.jupyter.widget-view+json": {
       "model_id": "",
       "version_major": 2,
       "version_minor": 0
      },
      "text/plain": [
       "HBox(children=(HTML(value='Validating'), FloatProgress(value=1.0, bar_style='info', layout=Layout(flex='2'), m…"
      ]
     },
     "metadata": {},
     "output_type": "display_data"
    },
    {
     "data": {
      "application/vnd.jupyter.widget-view+json": {
       "model_id": "",
       "version_major": 2,
       "version_minor": 0
      },
      "text/plain": [
       "HBox(children=(HTML(value='Validating'), FloatProgress(value=1.0, bar_style='info', layout=Layout(flex='2'), m…"
      ]
     },
     "metadata": {},
     "output_type": "display_data"
    },
    {
     "data": {
      "application/vnd.jupyter.widget-view+json": {
       "model_id": "",
       "version_major": 2,
       "version_minor": 0
      },
      "text/plain": [
       "HBox(children=(HTML(value='Validating'), FloatProgress(value=1.0, bar_style='info', layout=Layout(flex='2'), m…"
      ]
     },
     "metadata": {},
     "output_type": "display_data"
    },
    {
     "data": {
      "application/vnd.jupyter.widget-view+json": {
       "model_id": "",
       "version_major": 2,
       "version_minor": 0
      },
      "text/plain": [
       "HBox(children=(HTML(value='Validating'), FloatProgress(value=1.0, bar_style='info', layout=Layout(flex='2'), m…"
      ]
     },
     "metadata": {},
     "output_type": "display_data"
    },
    {
     "data": {
      "application/vnd.jupyter.widget-view+json": {
       "model_id": "",
       "version_major": 2,
       "version_minor": 0
      },
      "text/plain": [
       "HBox(children=(HTML(value='Validating'), FloatProgress(value=1.0, bar_style='info', layout=Layout(flex='2'), m…"
      ]
     },
     "metadata": {},
     "output_type": "display_data"
    },
    {
     "data": {
      "application/vnd.jupyter.widget-view+json": {
       "model_id": "",
       "version_major": 2,
       "version_minor": 0
      },
      "text/plain": [
       "HBox(children=(HTML(value='Validating'), FloatProgress(value=1.0, bar_style='info', layout=Layout(flex='2'), m…"
      ]
     },
     "metadata": {},
     "output_type": "display_data"
    },
    {
     "data": {
      "application/vnd.jupyter.widget-view+json": {
       "model_id": "",
       "version_major": 2,
       "version_minor": 0
      },
      "text/plain": [
       "HBox(children=(HTML(value='Validating'), FloatProgress(value=1.0, bar_style='info', layout=Layout(flex='2'), m…"
      ]
     },
     "metadata": {},
     "output_type": "display_data"
    },
    {
     "data": {
      "application/vnd.jupyter.widget-view+json": {
       "model_id": "",
       "version_major": 2,
       "version_minor": 0
      },
      "text/plain": [
       "HBox(children=(HTML(value='Validating'), FloatProgress(value=1.0, bar_style='info', layout=Layout(flex='2'), m…"
      ]
     },
     "metadata": {},
     "output_type": "display_data"
    },
    {
     "data": {
      "application/vnd.jupyter.widget-view+json": {
       "model_id": "",
       "version_major": 2,
       "version_minor": 0
      },
      "text/plain": [
       "HBox(children=(HTML(value='Validating'), FloatProgress(value=1.0, bar_style='info', layout=Layout(flex='2'), m…"
      ]
     },
     "metadata": {},
     "output_type": "display_data"
    },
    {
     "data": {
      "application/vnd.jupyter.widget-view+json": {
       "model_id": "",
       "version_major": 2,
       "version_minor": 0
      },
      "text/plain": [
       "HBox(children=(HTML(value='Validating'), FloatProgress(value=1.0, bar_style='info', layout=Layout(flex='2'), m…"
      ]
     },
     "metadata": {},
     "output_type": "display_data"
    },
    {
     "data": {
      "application/vnd.jupyter.widget-view+json": {
       "model_id": "",
       "version_major": 2,
       "version_minor": 0
      },
      "text/plain": [
       "HBox(children=(HTML(value='Validating'), FloatProgress(value=1.0, bar_style='info', layout=Layout(flex='2'), m…"
      ]
     },
     "metadata": {},
     "output_type": "display_data"
    },
    {
     "data": {
      "application/vnd.jupyter.widget-view+json": {
       "model_id": "",
       "version_major": 2,
       "version_minor": 0
      },
      "text/plain": [
       "HBox(children=(HTML(value='Validating'), FloatProgress(value=1.0, bar_style='info', layout=Layout(flex='2'), m…"
      ]
     },
     "metadata": {},
     "output_type": "display_data"
    },
    {
     "data": {
      "application/vnd.jupyter.widget-view+json": {
       "model_id": "",
       "version_major": 2,
       "version_minor": 0
      },
      "text/plain": [
       "HBox(children=(HTML(value='Validating'), FloatProgress(value=1.0, bar_style='info', layout=Layout(flex='2'), m…"
      ]
     },
     "metadata": {},
     "output_type": "display_data"
    },
    {
     "data": {
      "application/vnd.jupyter.widget-view+json": {
       "model_id": "",
       "version_major": 2,
       "version_minor": 0
      },
      "text/plain": [
       "HBox(children=(HTML(value='Validating'), FloatProgress(value=1.0, bar_style='info', layout=Layout(flex='2'), m…"
      ]
     },
     "metadata": {},
     "output_type": "display_data"
    },
    {
     "data": {
      "application/vnd.jupyter.widget-view+json": {
       "model_id": "",
       "version_major": 2,
       "version_minor": 0
      },
      "text/plain": [
       "HBox(children=(HTML(value='Validating'), FloatProgress(value=1.0, bar_style='info', layout=Layout(flex='2'), m…"
      ]
     },
     "metadata": {},
     "output_type": "display_data"
    },
    {
     "data": {
      "application/vnd.jupyter.widget-view+json": {
       "model_id": "",
       "version_major": 2,
       "version_minor": 0
      },
      "text/plain": [
       "HBox(children=(HTML(value='Validating'), FloatProgress(value=1.0, bar_style='info', layout=Layout(flex='2'), m…"
      ]
     },
     "metadata": {},
     "output_type": "display_data"
    },
    {
     "data": {
      "application/vnd.jupyter.widget-view+json": {
       "model_id": "",
       "version_major": 2,
       "version_minor": 0
      },
      "text/plain": [
       "HBox(children=(HTML(value='Validating'), FloatProgress(value=1.0, bar_style='info', layout=Layout(flex='2'), m…"
      ]
     },
     "metadata": {},
     "output_type": "display_data"
    },
    {
     "data": {
      "application/vnd.jupyter.widget-view+json": {
       "model_id": "",
       "version_major": 2,
       "version_minor": 0
      },
      "text/plain": [
       "HBox(children=(HTML(value='Validating'), FloatProgress(value=1.0, bar_style='info', layout=Layout(flex='2'), m…"
      ]
     },
     "metadata": {},
     "output_type": "display_data"
    },
    {
     "data": {
      "application/vnd.jupyter.widget-view+json": {
       "model_id": "",
       "version_major": 2,
       "version_minor": 0
      },
      "text/plain": [
       "HBox(children=(HTML(value='Validating'), FloatProgress(value=1.0, bar_style='info', layout=Layout(flex='2'), m…"
      ]
     },
     "metadata": {},
     "output_type": "display_data"
    },
    {
     "data": {
      "application/vnd.jupyter.widget-view+json": {
       "model_id": "",
       "version_major": 2,
       "version_minor": 0
      },
      "text/plain": [
       "HBox(children=(HTML(value='Validating'), FloatProgress(value=1.0, bar_style='info', layout=Layout(flex='2'), m…"
      ]
     },
     "metadata": {},
     "output_type": "display_data"
    },
    {
     "data": {
      "application/vnd.jupyter.widget-view+json": {
       "model_id": "",
       "version_major": 2,
       "version_minor": 0
      },
      "text/plain": [
       "HBox(children=(HTML(value='Validating'), FloatProgress(value=1.0, bar_style='info', layout=Layout(flex='2'), m…"
      ]
     },
     "metadata": {},
     "output_type": "display_data"
    },
    {
     "data": {
      "application/vnd.jupyter.widget-view+json": {
       "model_id": "",
       "version_major": 2,
       "version_minor": 0
      },
      "text/plain": [
       "HBox(children=(HTML(value='Validating'), FloatProgress(value=1.0, bar_style='info', layout=Layout(flex='2'), m…"
      ]
     },
     "metadata": {},
     "output_type": "display_data"
    },
    {
     "data": {
      "application/vnd.jupyter.widget-view+json": {
       "model_id": "",
       "version_major": 2,
       "version_minor": 0
      },
      "text/plain": [
       "HBox(children=(HTML(value='Validating'), FloatProgress(value=1.0, bar_style='info', layout=Layout(flex='2'), m…"
      ]
     },
     "metadata": {},
     "output_type": "display_data"
    },
    {
     "data": {
      "application/vnd.jupyter.widget-view+json": {
       "model_id": "",
       "version_major": 2,
       "version_minor": 0
      },
      "text/plain": [
       "HBox(children=(HTML(value='Validating'), FloatProgress(value=1.0, bar_style='info', layout=Layout(flex='2'), m…"
      ]
     },
     "metadata": {},
     "output_type": "display_data"
    },
    {
     "data": {
      "application/vnd.jupyter.widget-view+json": {
       "model_id": "",
       "version_major": 2,
       "version_minor": 0
      },
      "text/plain": [
       "HBox(children=(HTML(value='Validating'), FloatProgress(value=1.0, bar_style='info', layout=Layout(flex='2'), m…"
      ]
     },
     "metadata": {},
     "output_type": "display_data"
    },
    {
     "data": {
      "application/vnd.jupyter.widget-view+json": {
       "model_id": "",
       "version_major": 2,
       "version_minor": 0
      },
      "text/plain": [
       "HBox(children=(HTML(value='Validating'), FloatProgress(value=1.0, bar_style='info', layout=Layout(flex='2'), m…"
      ]
     },
     "metadata": {},
     "output_type": "display_data"
    },
    {
     "data": {
      "application/vnd.jupyter.widget-view+json": {
       "model_id": "",
       "version_major": 2,
       "version_minor": 0
      },
      "text/plain": [
       "HBox(children=(HTML(value='Validating'), FloatProgress(value=1.0, bar_style='info', layout=Layout(flex='2'), m…"
      ]
     },
     "metadata": {},
     "output_type": "display_data"
    },
    {
     "data": {
      "application/vnd.jupyter.widget-view+json": {
       "model_id": "",
       "version_major": 2,
       "version_minor": 0
      },
      "text/plain": [
       "HBox(children=(HTML(value='Validating'), FloatProgress(value=1.0, bar_style='info', layout=Layout(flex='2'), m…"
      ]
     },
     "metadata": {},
     "output_type": "display_data"
    },
    {
     "data": {
      "application/vnd.jupyter.widget-view+json": {
       "model_id": "",
       "version_major": 2,
       "version_minor": 0
      },
      "text/plain": [
       "HBox(children=(HTML(value='Validating'), FloatProgress(value=1.0, bar_style='info', layout=Layout(flex='2'), m…"
      ]
     },
     "metadata": {},
     "output_type": "display_data"
    },
    {
     "data": {
      "application/vnd.jupyter.widget-view+json": {
       "model_id": "",
       "version_major": 2,
       "version_minor": 0
      },
      "text/plain": [
       "HBox(children=(HTML(value='Validating'), FloatProgress(value=1.0, bar_style='info', layout=Layout(flex='2'), m…"
      ]
     },
     "metadata": {},
     "output_type": "display_data"
    },
    {
     "data": {
      "application/vnd.jupyter.widget-view+json": {
       "model_id": "",
       "version_major": 2,
       "version_minor": 0
      },
      "text/plain": [
       "HBox(children=(HTML(value='Validating'), FloatProgress(value=1.0, bar_style='info', layout=Layout(flex='2'), m…"
      ]
     },
     "metadata": {},
     "output_type": "display_data"
    },
    {
     "data": {
      "application/vnd.jupyter.widget-view+json": {
       "model_id": "",
       "version_major": 2,
       "version_minor": 0
      },
      "text/plain": [
       "HBox(children=(HTML(value='Validating'), FloatProgress(value=1.0, bar_style='info', layout=Layout(flex='2'), m…"
      ]
     },
     "metadata": {},
     "output_type": "display_data"
    },
    {
     "name": "stdout",
     "output_type": "stream",
     "text": [
      "\n"
     ]
    },
    {
     "data": {
      "text/plain": [
       "1"
      ]
     },
     "execution_count": 5,
     "metadata": {},
     "output_type": "execute_result"
    }
   ],
   "source": [
    "trainer = pl.Trainer(max_epochs=epochs, early_stop_callback=early_stopping)\n",
    "\n",
    "trainer.fit(model)"
   ]
  },
  {
   "cell_type": "code",
   "execution_count": 65,
   "metadata": {},
   "outputs": [
    {
     "data": {
      "text/plain": [
       "0.7142857142857143"
      ]
     },
     "execution_count": 65,
     "metadata": {},
     "output_type": "execute_result"
    }
   ],
   "source": [
    "model.eval()\n",
    "_, acc =  model.getTestAcc()\n",
    "acc"
   ]
  },
  {
   "cell_type": "code",
   "execution_count": 6,
   "metadata": {},
   "outputs": [
    {
     "name": "stdout",
     "output_type": "stream",
     "text": [
      "Number of training graphs: 103\n",
      "Number of validation graphs: 12\n",
      "Number of test graphs: 14\n"
     ]
    },
    {
     "data": {
      "application/vnd.jupyter.widget-view+json": {
       "model_id": "255f8ab82af64520a29c597ba0a9f468",
       "version_major": 2,
       "version_minor": 0
      },
      "text/plain": [
       "HBox(children=(HTML(value='Testing'), FloatProgress(value=1.0, bar_style='info', layout=Layout(flex='2'), max=…"
      ]
     },
     "metadata": {},
     "output_type": "display_data"
    },
    {
     "name": "stdout",
     "output_type": "stream",
     "text": [
      "--------------------------------------------------------------------------------\n",
      "TEST RESULTS\n",
      "{'test_acc': 0.7142857142857143, 'test_loss': tensor(0.3407)}\n",
      "--------------------------------------------------------------------------------\n",
      "\n"
     ]
    }
   ],
   "source": [
    "trainer.test(model)"
   ]
  },
  {
   "cell_type": "code",
   "execution_count": 58,
   "metadata": {},
   "outputs": [
    {
     "data": {
      "text/plain": [
       "<BarContainer object of 148 artists>"
      ]
     },
     "execution_count": 58,
     "metadata": {},
     "output_type": "execute_result"
    },
    {
     "data": {
      "image/png": "[encoded data removed]",
      "text/plain": [
       "<Figure size 432x288 with 1 Axes>"
      ]
     },
     "metadata": {
      "needs_background": "light"
     },
     "output_type": "display_data"
    },
    {
     "data": {
      "image/png": "[encoded data removed]",
      "text/plain": [
       "<Figure size 432x288 with 1 Axes>"
      ]
     },
     "metadata": {
      "needs_background": "light"
     },
     "output_type": "display_data"
    }
   ],
   "source": [
    "topk = 5\n",
    "model.model.eval()\n",
    "cnt_dict = []\n",
    "cnt_dict.append({i+1:0 for i in range(148)})\n",
    "cnt_dict.append({i+1:0 for i in range(148)})\n",
    "for d  in model.dataset['test']:\n",
    "    #print(d.y)\n",
    "    att = model.model.get_att(x=d.x, edge_index = d.edge_index, edge_attr = d.edge_attr)\n",
    "    #att.shape\n",
    "    att_values = {}\n",
    "    att_values = {i+1:v[0] for i,v in enumerate(att.tolist())}\n",
    "    \n",
    "    #att_values\n",
    "    l = list({k: v for k, v in sorted(att_values.items(), key=lambda item: item[1], reverse = True)}.keys())\n",
    "    for tk in l[:topk]:\n",
    "        cnt_dict[d.y][tk] = cnt_dict[d.y][tk]+1\n",
    "plt.figure(0)\n",
    "plt.bar(cnt_dict[0].keys(),cnt_dict[0].values())\n",
    "plt.figure(1)\n",
    "plt.bar(cnt_dict[1].keys(),cnt_dict[1].values())"
   ]
  },
  {
   "cell_type": "code",
   "execution_count": 87,
   "metadata": {},
   "outputs": [
    {
     "data": {
      "text/plain": [
       "<BarContainer object of 148 artists>"
      ]
     },
     "execution_count": 87,
     "metadata": {},
     "output_type": "execute_result"
    },
    {
     "data": {
      "image/png": "[encoded data removed]",
      "text/plain": [
       "<Figure size 1080x1080 with 9 Axes>"
      ]
     },
     "metadata": {
      "needs_background": "light"
     },
     "output_type": "display_data"
    },
    {
     "data": {
      "image/png": "[encoded data removed]",
      "text/plain": [
       "<Figure size 432x288 with 1 Axes>"
      ]
     },
     "metadata": {
      "needs_background": "light"
     },
     "output_type": "display_data"
    }
   ],
   "source": [
    "model.model.eval()\n",
    "nrows = 3\n",
    "ncols = 3\n",
    "fig, axes = plt.subplots(figsize=(15, 15) , nrows = nrows, ncols = ncols, sharex='all', sharey='all')\n",
    "fig.tight_layout()\n",
    "\n",
    "cnt = 0\n",
    "avg_dict0 = {i+1:0 for i in range(148)}\n",
    "for tc,d  in enumerate(model.dataset['test']):\n",
    "    #print(d.y)\n",
    "    if(d.y == 0) :\n",
    "        ax = axes[cnt//ncols][cnt%ncols]\n",
    "        cnt = cnt+1\n",
    "        att = model.model.get_att(x=d.x, edge_index = d.edge_index, edge_attr = d.edge_attr)\n",
    "        #att.shape\n",
    "        att_values = {}\n",
    "        att_values = {i+1:v[0] for i,v in enumerate(att.tolist())}\n",
    "        for j in range(148):\n",
    "            i=j+1\n",
    "            avg_dict0[i] = avg_dict0[i] + att_values[i]\n",
    "        ax.bar(att_values.keys(),att_values.values())\n",
    "\n",
    "avg_dict0 = {i+1:(avg_dict0[i+1]/cnt) for i in range(148)}\n",
    "plt.figure(0)\n",
    "plt.bar(avg_dict0.keys(),avg_dict0.values())"
   ]
  },
  {
   "cell_type": "code",
   "execution_count": 93,
   "metadata": {},
   "outputs": [
    {
     "data": {
      "text/plain": [
       "<BarContainer object of 148 artists>"
      ]
     },
     "execution_count": 93,
     "metadata": {},
     "output_type": "execute_result"
    },
    {
     "data": {
      "image/png": "[encoded data removed]",
      "text/plain": [
       "<Figure size 1080x1080 with 9 Axes>"
      ]
     },
     "metadata": {
      "needs_background": "light"
     },
     "output_type": "display_data"
    },
    {
     "data": {
      "image/png": "[encoded data removed]",
      "text/plain": [
       "<Figure size 432x288 with 1 Axes>"
      ]
     },
     "metadata": {
      "needs_background": "light"
     },
     "output_type": "display_data"
    }
   ],
   "source": [
    "model.model.eval()\n",
    "nrows = 3\n",
    "ncols = 3\n",
    "fig, axes = plt.subplots(figsize=(15, 15) , nrows = nrows, ncols = ncols, sharex='all', sharey='all')\n",
    "fig.tight_layout()\n",
    "\n",
    "cnt = 0\n",
    "avg_dict1 = {i+1:0 for i in range(148)}\n",
    "for tc,d  in enumerate(model.dataset['test']):\n",
    "    #print(d.y)\n",
    "    if(d.y == 1) :\n",
    "        ax = axes[cnt//ncols][cnt%ncols]\n",
    "        cnt = cnt+1\n",
    "        att = model.model.get_att(x=d.x, edge_index = d.edge_index, edge_attr = d.edge_attr)\n",
    "        #att.shape\n",
    "        att_values = {}\n",
    "        att_values = {i+1:v[0] for i,v in enumerate(att.tolist())}\n",
    "        for j in range(148):\n",
    "            i=j+1\n",
    "            avg_dict1[i] = avg_dict1[i] + att_values[i]\n",
    "        ax.bar(att_values.keys(),att_values.values())\n",
    "\n",
    "avg_dict1 = {i+1:(avg_dict1[i+1]/cnt) for i in range(148)}\n",
    "plt.figure(0)\n",
    "plt.bar(avg_dict1.keys(),avg_dict1.values())"
   ]
  },
  {
   "cell_type": "code",
   "execution_count": null,
   "metadata": {},
   "outputs": [],
   "source": []
  },
  {
   "cell_type": "code",
   "execution_count": null,
   "metadata": {},
   "outputs": [],
   "source": []
  },
  {
   "cell_type": "code",
   "execution_count": null,
   "metadata": {},
   "outputs": [],
   "source": []
  },
  {
   "cell_type": "code",
   "execution_count": null,
   "metadata": {},
   "outputs": [],
   "source": []
  },
  {
   "cell_type": "code",
   "execution_count": null,
   "metadata": {},
   "outputs": [],
   "source": []
  },
  {
   "cell_type": "code",
   "execution_count": 43,
   "metadata": {},
   "outputs": [
    {
     "name": "stdout",
     "output_type": "stream",
     "text": [
      "cpu\n"
     ]
    }
   ],
   "source": [
    "device = torch.device(\"cuda\" if torch.cuda.is_available() else \"cpu\")\n",
    "print(device)\n",
    "hparams = {}\n",
    "hparams['split_train'] = 0.7\n",
    "hparams['split_val'] = 0.2\n",
    "\n",
    "\n",
    "hparams['batch_size'] = 32\n",
    "hparams['num_classes'] = 2\n",
    "#hparams['num_classes'] = 3\n",
    "\n",
    "hparams['hidden_channels'] = 64\n",
    "hparams['num_node_features'] = 149\n",
    "hparams['num_layers'] = 3\n",
    "## 6 --> 2\n",
    "## 8 --> 3개가 쓰인다.\n",
    "hparams['ratio'] = 0.8\n",
    "hparams['ratio'] = 0.5\n",
    "\n",
    "hparams['batch_size'] = 32\n",
    "hparams['lr'] = 3.0e-04\n",
    "#hparams['lr'] = 5.0e-05\n",
    "\n",
    "hparams['weight_decay'] = 1.0e-6\n",
    "#hparams['weight_decay'] = 1.0e-4\n",
    "\n",
    "hparams['use_base_edge'] = True\n",
    "#hparams['use_base_edge'] = False\n",
    "\n",
    "\n",
    "#s='./data_diff'\n",
    "#s='./data_diff_base'\n",
    "#s='./data_50_diff'\n",
    "s='./data_05_diff_base'\n",
    "\n",
    "hparams['s_data'] = osp.join(*(s.split('/')))\n",
    "s='./data/DT_File_MAP.xlsx'\n",
    "hparams['s_node'] = osp.join(*(s.split('/')))\n",
    "s='./data/[UNC]ADNI-network/dataTS.csv'\n",
    "hparams['s_date'] = osp.join(*(s.split('/')))\n",
    "#s = './sparsification/data'\n",
    "s = './sparsification/data_05'\n",
    "hparams['s_sparsified'] = osp.join(*(s.split('/'))) + osp.sep\n",
    "\n",
    "\n"
   ]
  },
  {
   "cell_type": "code",
   "execution_count": null,
   "metadata": {},
   "outputs": [],
   "source": []
  },
  {
   "cell_type": "code",
   "execution_count": 44,
   "metadata": {},
   "outputs": [
    {
     "data": {
      "text/plain": [
       "SAGPool(\n",
       "  (conv1): GCNConv(149, 64)\n",
       "  (convs): ModuleList(\n",
       "    (0): GCNConv(64, 64)\n",
       "    (1): GCNConv(64, 64)\n",
       "  )\n",
       "  (pools): ModuleList(\n",
       "    (0): SAGPooling(GraphConv, 64, ratio=0.5, multiplier=1)\n",
       "  )\n",
       "  (jump): JumpingKnowledge(cat)\n",
       "  (lin1): Linear(in_features=192, out_features=64, bias=True)\n",
       "  (lin2): Linear(in_features=64, out_features=2, bias=True)\n",
       ")"
      ]
     },
     "execution_count": 44,
     "metadata": {},
     "output_type": "execute_result"
    }
   ],
   "source": [
    "model = TimeDiffClassifier_sagpooling(hparams)\n",
    "model = model.to(device)\n",
    "\n",
    "trainer = None\n",
    "\n",
    "epochs = 300\n",
    "min_epochs = 10#100\n",
    "\n",
    "logdir = './lightning_logs'\n",
    "network_logger = pl.loggers.TensorBoardLogger(\n",
    "    save_dir=logdir,\n",
    "    name='TimeDiffClassify_logs'\n",
    ")\n",
    "logger = network_logger\n",
    "\n",
    "early_stopping = pl.callbacks.EarlyStopping(\n",
    "    monitor='val_loss',\n",
    "    patience=50,\n",
    ")\n",
    "model.model"
   ]
  },
  {
   "cell_type": "code",
   "execution_count": 45,
   "metadata": {},
   "outputs": [
    {
     "name": "stdout",
     "output_type": "stream",
     "text": [
      "data processing 0 for label 1\n",
      "data processing 1 for label 1\n",
      "data processing 2 for label 1\n",
      "data processing 3 for label 1\n",
      "data processing 4 for label 1\n",
      "data processing 5 for label 1\n",
      "data processing 9 for label 0\n",
      "data processing 10 for label 0\n",
      "data processing 11 for label 0\n",
      "data processing 14 for label 0\n",
      "data processing 15 for label 0\n",
      "data processing 16 for label 0\n",
      "data processing 17 for label 0\n",
      "data processing 18 for label 0\n",
      "data processing 19 for label 1\n",
      "data processing 20 for label 1\n",
      "data processing 24 for label 0\n",
      "data processing 25 for label 0\n",
      "data processing 26 for label 0\n",
      "data processing 27 for label 0\n",
      "data processing 28 for label 0\n",
      "data processing 29 for label 0\n",
      "data processing 30 for label 0\n",
      "data processing 31 for label 0\n",
      "data processing 32 for label 0\n",
      "data processing 33 for label 0\n",
      "data processing 34 for label 1\n",
      "data processing 35 for label 1\n",
      "data processing 36 for label 1\n",
      "data processing 45 for label 1\n",
      "data processing 46 for label 1\n",
      "data processing 47 for label 0\n",
      "data processing 48 for label 0\n",
      "data processing 49 for label 0\n",
      "data processing 50 for label 0\n",
      "data processing 51 for label 0\n",
      "data processing 52 for label 0\n",
      "data processing 53 for label 0\n",
      "data processing 54 for label 1\n",
      "data processing 58 for label 1\n",
      "data processing 59 for label 1\n",
      "data processing 60 for label 1\n",
      "data processing 62 for label 0\n",
      "data processing 63 for label 0\n",
      "data processing 68 for label 0\n",
      "data processing 69 for label 0\n",
      "data processing 70 for label 1\n",
      "data processing 71 for label 1\n",
      "data processing 77 for label 0\n",
      "data processing 78 for label 0\n",
      "data processing 79 for label 0\n",
      "data processing 80 for label 0\n",
      "data processing 81 for label 0\n",
      "data processing 82 for label 0\n",
      "data processing 83 for label 0\n",
      "data processing 88 for label 1\n",
      "data processing 89 for label 1\n",
      "data processing 90 for label 1\n",
      "data processing 91 for label 1\n",
      "data processing 105 for label 0\n",
      "data processing 106 for label 0\n",
      "data processing 107 for label 0\n",
      "data processing 108 for label 0\n",
      "data processing 109 for label 0\n",
      "data processing 113 for label 0\n",
      "data processing 114 for label 0\n",
      "data processing 118 for label 1\n",
      "data processing 119 for label 1\n",
      "data processing 152 for label 1\n",
      "data processing 153 for label 1\n",
      "data processing 154 for label 1\n",
      "data processing 177 for label 1\n",
      "data processing 178 for label 1\n",
      "data processing 181 for label 1\n",
      "data processing 182 for label 1\n",
      "data processing 183 for label 1\n",
      "data processing 184 for label 1\n",
      "data processing 218 for label 0\n",
      "data processing 219 for label 0\n",
      "data processing 251 for label 1\n",
      "data processing 252 for label 1\n",
      "data processing 253 for label 1\n",
      "data processing 254 for label 1\n",
      "data processing 255 for label 1\n",
      "data processing 256 for label 1\n",
      "data processing 287 for label 1\n",
      "data processing 288 for label 1\n",
      "data processing 289 for label 1\n",
      "data processing 295 for label 0\n",
      "data processing 296 for label 0\n",
      "data processing 297 for label 0\n",
      "data processing 298 for label 0\n",
      "data processing 299 for label 0\n",
      "data processing 300 for label 1\n",
      "data processing 301 for label 1\n",
      "data processing 307 for label 0\n",
      "data processing 308 for label 0\n",
      "data processing 309 for label 0\n",
      "data processing 310 for label 0\n",
      "data processing 311 for label 0\n",
      "data processing 312 for label 0\n",
      "data processing 313 for label 0\n",
      "data processing 314 for label 0\n",
      "data processing 315 for label 0\n",
      "data processing 319 for label 0\n",
      "data processing 320 for label 0\n",
      "data processing 321 for label 0\n",
      "data processing 322 for label 1\n",
      "data processing 336 for label 0\n",
      "data processing 337 for label 0\n",
      "data processing 338 for label 0\n",
      "data processing 339 for label 0\n",
      "data processing 340 for label 0\n",
      "data processing 341 for label 0\n",
      "data processing 342 for label 0\n",
      "data processing 343 for label 0\n",
      "data processing 347 for label 1\n",
      "data processing 348 for label 1\n",
      "data processing 349 for label 1\n",
      "data processing 350 for label 1\n",
      "data processing 351 for label 0\n",
      "data processing 352 for label 0\n",
      "data processing 353 for label 0\n",
      "data processing 354 for label 0\n",
      "data processing 355 for label 0\n",
      "data processing 356 for label 0\n",
      "data processing 357 for label 0\n",
      "data processing 358 for label 0\n",
      "data processing 359 for label 0\n",
      "Number of training graphs: 90\n",
      "Number of validation graphs: 25\n",
      "Number of test graphs: 14\n"
     ]
    }
   ],
   "source": [
    "model.prepare_data()\n"
   ]
  },
  {
   "cell_type": "code",
   "execution_count": 11,
   "metadata": {},
   "outputs": [
    {
     "name": "stderr",
     "output_type": "stream",
     "text": [
      "GPU available: False, used: False\n",
      "No environment variable for node rank defined. Set as 0.\n",
      "\n",
      "   | Name                 | Type       | Params\n",
      "------------------------------------------------\n",
      "0  | model                | SAGPool_g  | 30 K  \n",
      "1  | model.conv1          | GCNConv    | 9 K   \n",
      "2  | model.convs          | ModuleList | 8 K   \n",
      "3  | model.convs.0        | GCNConv    | 4 K   \n",
      "4  | model.convs.1        | GCNConv    | 4 K   \n",
      "5  | model.pool           | SAGPooling | 385   \n",
      "6  | model.pool.gnn       | GraphConv  | 385   \n",
      "7  | model.pool.gnn.lin_l | Linear     | 193   \n",
      "8  | model.pool.gnn.lin_r | Linear     | 192   \n",
      "9  | model.lin1           | Linear     | 12 K  \n",
      "10 | model.lin2           | Linear     | 130   \n"
     ]
    },
    {
     "name": "stdout",
     "output_type": "stream",
     "text": [
      "Number of training graphs: 90\n",
      "Number of validation graphs: 25\n",
      "Number of test graphs: 14\n"
     ]
    },
    {
     "data": {
      "application/vnd.jupyter.widget-view+json": {
       "model_id": "3eed508a32c949878a702a5df645be22",
       "version_major": 2,
       "version_minor": 0
      },
      "text/plain": [
       "HBox(children=(HTML(value='Validation sanity check'), FloatProgress(value=1.0, bar_style='info', layout=Layout…"
      ]
     },
     "metadata": {},
     "output_type": "display_data"
    },
    {
     "data": {
      "application/vnd.jupyter.widget-view+json": {
       "model_id": "e8ee83e6ec214c9a8e80012ae1090c26",
       "version_major": 2,
       "version_minor": 0
      },
      "text/plain": [
       "HBox(children=(HTML(value='Training'), FloatProgress(value=1.0, bar_style='info', layout=Layout(flex='2'), max…"
      ]
     },
     "metadata": {},
     "output_type": "display_data"
    },
    {
     "data": {
      "application/vnd.jupyter.widget-view+json": {
       "model_id": "",
       "version_major": 2,
       "version_minor": 0
      },
      "text/plain": [
       "HBox(children=(HTML(value='Validating'), FloatProgress(value=1.0, bar_style='info', layout=Layout(flex='2'), m…"
      ]
     },
     "metadata": {},
     "output_type": "display_data"
    },
    {
     "data": {
      "application/vnd.jupyter.widget-view+json": {
       "model_id": "",
       "version_major": 2,
       "version_minor": 0
      },
      "text/plain": [
       "HBox(children=(HTML(value='Validating'), FloatProgress(value=1.0, bar_style='info', layout=Layout(flex='2'), m…"
      ]
     },
     "metadata": {},
     "output_type": "display_data"
    },
    {
     "data": {
      "application/vnd.jupyter.widget-view+json": {
       "model_id": "",
       "version_major": 2,
       "version_minor": 0
      },
      "text/plain": [
       "HBox(children=(HTML(value='Validating'), FloatProgress(value=1.0, bar_style='info', layout=Layout(flex='2'), m…"
      ]
     },
     "metadata": {},
     "output_type": "display_data"
    },
    {
     "data": {
      "application/vnd.jupyter.widget-view+json": {
       "model_id": "",
       "version_major": 2,
       "version_minor": 0
      },
      "text/plain": [
       "HBox(children=(HTML(value='Validating'), FloatProgress(value=1.0, bar_style='info', layout=Layout(flex='2'), m…"
      ]
     },
     "metadata": {},
     "output_type": "display_data"
    },
    {
     "data": {
      "application/vnd.jupyter.widget-view+json": {
       "model_id": "",
       "version_major": 2,
       "version_minor": 0
      },
      "text/plain": [
       "HBox(children=(HTML(value='Validating'), FloatProgress(value=1.0, bar_style='info', layout=Layout(flex='2'), m…"
      ]
     },
     "metadata": {},
     "output_type": "display_data"
    },
    {
     "data": {
      "application/vnd.jupyter.widget-view+json": {
       "model_id": "",
       "version_major": 2,
       "version_minor": 0
      },
      "text/plain": [
       "HBox(children=(HTML(value='Validating'), FloatProgress(value=1.0, bar_style='info', layout=Layout(flex='2'), m…"
      ]
     },
     "metadata": {},
     "output_type": "display_data"
    },
    {
     "data": {
      "application/vnd.jupyter.widget-view+json": {
       "model_id": "",
       "version_major": 2,
       "version_minor": 0
      },
      "text/plain": [
       "HBox(children=(HTML(value='Validating'), FloatProgress(value=1.0, bar_style='info', layout=Layout(flex='2'), m…"
      ]
     },
     "metadata": {},
     "output_type": "display_data"
    },
    {
     "data": {
      "application/vnd.jupyter.widget-view+json": {
       "model_id": "",
       "version_major": 2,
       "version_minor": 0
      },
      "text/plain": [
       "HBox(children=(HTML(value='Validating'), FloatProgress(value=1.0, bar_style='info', layout=Layout(flex='2'), m…"
      ]
     },
     "metadata": {},
     "output_type": "display_data"
    },
    {
     "data": {
      "application/vnd.jupyter.widget-view+json": {
       "model_id": "",
       "version_major": 2,
       "version_minor": 0
      },
      "text/plain": [
       "HBox(children=(HTML(value='Validating'), FloatProgress(value=1.0, bar_style='info', layout=Layout(flex='2'), m…"
      ]
     },
     "metadata": {},
     "output_type": "display_data"
    },
    {
     "data": {
      "application/vnd.jupyter.widget-view+json": {
       "model_id": "",
       "version_major": 2,
       "version_minor": 0
      },
      "text/plain": [
       "HBox(children=(HTML(value='Validating'), FloatProgress(value=1.0, bar_style='info', layout=Layout(flex='2'), m…"
      ]
     },
     "metadata": {},
     "output_type": "display_data"
    },
    {
     "data": {
      "application/vnd.jupyter.widget-view+json": {
       "model_id": "",
       "version_major": 2,
       "version_minor": 0
      },
      "text/plain": [
       "HBox(children=(HTML(value='Validating'), FloatProgress(value=1.0, bar_style='info', layout=Layout(flex='2'), m…"
      ]
     },
     "metadata": {},
     "output_type": "display_data"
    },
    {
     "data": {
      "application/vnd.jupyter.widget-view+json": {
       "model_id": "",
       "version_major": 2,
       "version_minor": 0
      },
      "text/plain": [
       "HBox(children=(HTML(value='Validating'), FloatProgress(value=1.0, bar_style='info', layout=Layout(flex='2'), m…"
      ]
     },
     "metadata": {},
     "output_type": "display_data"
    },
    {
     "data": {
      "application/vnd.jupyter.widget-view+json": {
       "model_id": "",
       "version_major": 2,
       "version_minor": 0
      },
      "text/plain": [
       "HBox(children=(HTML(value='Validating'), FloatProgress(value=1.0, bar_style='info', layout=Layout(flex='2'), m…"
      ]
     },
     "metadata": {},
     "output_type": "display_data"
    },
    {
     "data": {
      "application/vnd.jupyter.widget-view+json": {
       "model_id": "",
       "version_major": 2,
       "version_minor": 0
      },
      "text/plain": [
       "HBox(children=(HTML(value='Validating'), FloatProgress(value=1.0, bar_style='info', layout=Layout(flex='2'), m…"
      ]
     },
     "metadata": {},
     "output_type": "display_data"
    },
    {
     "data": {
      "application/vnd.jupyter.widget-view+json": {
       "model_id": "",
       "version_major": 2,
       "version_minor": 0
      },
      "text/plain": [
       "HBox(children=(HTML(value='Validating'), FloatProgress(value=1.0, bar_style='info', layout=Layout(flex='2'), m…"
      ]
     },
     "metadata": {},
     "output_type": "display_data"
    },
    {
     "data": {
      "application/vnd.jupyter.widget-view+json": {
       "model_id": "",
       "version_major": 2,
       "version_minor": 0
      },
      "text/plain": [
       "HBox(children=(HTML(value='Validating'), FloatProgress(value=1.0, bar_style='info', layout=Layout(flex='2'), m…"
      ]
     },
     "metadata": {},
     "output_type": "display_data"
    },
    {
     "data": {
      "application/vnd.jupyter.widget-view+json": {
       "model_id": "",
       "version_major": 2,
       "version_minor": 0
      },
      "text/plain": [
       "HBox(children=(HTML(value='Validating'), FloatProgress(value=1.0, bar_style='info', layout=Layout(flex='2'), m…"
      ]
     },
     "metadata": {},
     "output_type": "display_data"
    },
    {
     "data": {
      "application/vnd.jupyter.widget-view+json": {
       "model_id": "",
       "version_major": 2,
       "version_minor": 0
      },
      "text/plain": [
       "HBox(children=(HTML(value='Validating'), FloatProgress(value=1.0, bar_style='info', layout=Layout(flex='2'), m…"
      ]
     },
     "metadata": {},
     "output_type": "display_data"
    },
    {
     "data": {
      "application/vnd.jupyter.widget-view+json": {
       "model_id": "",
       "version_major": 2,
       "version_minor": 0
      },
      "text/plain": [
       "HBox(children=(HTML(value='Validating'), FloatProgress(value=1.0, bar_style='info', layout=Layout(flex='2'), m…"
      ]
     },
     "metadata": {},
     "output_type": "display_data"
    },
    {
     "data": {
      "application/vnd.jupyter.widget-view+json": {
       "model_id": "",
       "version_major": 2,
       "version_minor": 0
      },
      "text/plain": [
       "HBox(children=(HTML(value='Validating'), FloatProgress(value=1.0, bar_style='info', layout=Layout(flex='2'), m…"
      ]
     },
     "metadata": {},
     "output_type": "display_data"
    },
    {
     "data": {
      "application/vnd.jupyter.widget-view+json": {
       "model_id": "",
       "version_major": 2,
       "version_minor": 0
      },
      "text/plain": [
       "HBox(children=(HTML(value='Validating'), FloatProgress(value=1.0, bar_style='info', layout=Layout(flex='2'), m…"
      ]
     },
     "metadata": {},
     "output_type": "display_data"
    },
    {
     "data": {
      "application/vnd.jupyter.widget-view+json": {
       "model_id": "",
       "version_major": 2,
       "version_minor": 0
      },
      "text/plain": [
       "HBox(children=(HTML(value='Validating'), FloatProgress(value=1.0, bar_style='info', layout=Layout(flex='2'), m…"
      ]
     },
     "metadata": {},
     "output_type": "display_data"
    },
    {
     "data": {
      "application/vnd.jupyter.widget-view+json": {
       "model_id": "",
       "version_major": 2,
       "version_minor": 0
      },
      "text/plain": [
       "HBox(children=(HTML(value='Validating'), FloatProgress(value=1.0, bar_style='info', layout=Layout(flex='2'), m…"
      ]
     },
     "metadata": {},
     "output_type": "display_data"
    },
    {
     "data": {
      "application/vnd.jupyter.widget-view+json": {
       "model_id": "",
       "version_major": 2,
       "version_minor": 0
      },
      "text/plain": [
       "HBox(children=(HTML(value='Validating'), FloatProgress(value=1.0, bar_style='info', layout=Layout(flex='2'), m…"
      ]
     },
     "metadata": {},
     "output_type": "display_data"
    },
    {
     "data": {
      "application/vnd.jupyter.widget-view+json": {
       "model_id": "",
       "version_major": 2,
       "version_minor": 0
      },
      "text/plain": [
       "HBox(children=(HTML(value='Validating'), FloatProgress(value=1.0, bar_style='info', layout=Layout(flex='2'), m…"
      ]
     },
     "metadata": {},
     "output_type": "display_data"
    },
    {
     "data": {
      "application/vnd.jupyter.widget-view+json": {
       "model_id": "",
       "version_major": 2,
       "version_minor": 0
      },
      "text/plain": [
       "HBox(children=(HTML(value='Validating'), FloatProgress(value=1.0, bar_style='info', layout=Layout(flex='2'), m…"
      ]
     },
     "metadata": {},
     "output_type": "display_data"
    },
    {
     "data": {
      "application/vnd.jupyter.widget-view+json": {
       "model_id": "",
       "version_major": 2,
       "version_minor": 0
      },
      "text/plain": [
       "HBox(children=(HTML(value='Validating'), FloatProgress(value=1.0, bar_style='info', layout=Layout(flex='2'), m…"
      ]
     },
     "metadata": {},
     "output_type": "display_data"
    },
    {
     "data": {
      "application/vnd.jupyter.widget-view+json": {
       "model_id": "",
       "version_major": 2,
       "version_minor": 0
      },
      "text/plain": [
       "HBox(children=(HTML(value='Validating'), FloatProgress(value=1.0, bar_style='info', layout=Layout(flex='2'), m…"
      ]
     },
     "metadata": {},
     "output_type": "display_data"
    },
    {
     "data": {
      "application/vnd.jupyter.widget-view+json": {
       "model_id": "",
       "version_major": 2,
       "version_minor": 0
      },
      "text/plain": [
       "HBox(children=(HTML(value='Validating'), FloatProgress(value=1.0, bar_style='info', layout=Layout(flex='2'), m…"
      ]
     },
     "metadata": {},
     "output_type": "display_data"
    },
    {
     "data": {
      "application/vnd.jupyter.widget-view+json": {
       "model_id": "",
       "version_major": 2,
       "version_minor": 0
      },
      "text/plain": [
       "HBox(children=(HTML(value='Validating'), FloatProgress(value=1.0, bar_style='info', layout=Layout(flex='2'), m…"
      ]
     },
     "metadata": {},
     "output_type": "display_data"
    },
    {
     "name": "stdout",
     "output_type": "stream",
     "text": [
      "\n"
     ]
    },
    {
     "data": {
      "text/plain": [
       "1"
      ]
     },
     "execution_count": 11,
     "metadata": {},
     "output_type": "execute_result"
    }
   ],
   "source": [
    "trainer = pl.Trainer(max_epochs=epochs, early_stop_callback=early_stopping, min_epochs = min_epochs)\n",
    "\n",
    "trainer.fit(model)"
   ]
  },
  {
   "cell_type": "code",
   "execution_count": 12,
   "metadata": {},
   "outputs": [
    {
     "name": "stdout",
     "output_type": "stream",
     "text": [
      "Number of training graphs: 90\n",
      "Number of validation graphs: 25\n",
      "Number of test graphs: 14\n"
     ]
    },
    {
     "data": {
      "application/vnd.jupyter.widget-view+json": {
       "model_id": "be6263f50f9047b38a7b1638277c1bb3",
       "version_major": 2,
       "version_minor": 0
      },
      "text/plain": [
       "HBox(children=(HTML(value='Testing'), FloatProgress(value=1.0, bar_style='info', layout=Layout(flex='2'), max=…"
      ]
     },
     "metadata": {},
     "output_type": "display_data"
    },
    {
     "name": "stdout",
     "output_type": "stream",
     "text": [
      "--------------------------------------------------------------------------------\n",
      "TEST RESULTS\n",
      "{'test_acc': 0.5, 'test_loss': tensor(0.7436)}\n",
      "--------------------------------------------------------------------------------\n",
      "\n"
     ]
    }
   ],
   "source": [
    "\n",
    "trainer.test(model)"
   ]
  },
  {
   "cell_type": "code",
   "execution_count": 33,
   "metadata": {},
   "outputs": [
    {
     "data": {
      "text/plain": [
       "0.457946721791957"
      ]
     },
     "execution_count": 33,
     "metadata": {},
     "output_type": "execute_result"
    }
   ],
   "source": [
    "hparams['ratio']**((hparams['num_layers']-1)/2)"
   ]
  },
  {
   "cell_type": "code",
   "execution_count": 34,
   "metadata": {},
   "outputs": [
    {
     "data": {
      "text/plain": [
       "75.77600000000002"
      ]
     },
     "execution_count": 34,
     "metadata": {},
     "output_type": "execute_result"
    }
   ],
   "source": [
    "0.8**3*148"
   ]
  },
  {
   "cell_type": "code",
   "execution_count": 35,
   "metadata": {},
   "outputs": [
    {
     "data": {
      "text/plain": [
       "118.4"
      ]
     },
     "execution_count": 35,
     "metadata": {},
     "output_type": "execute_result"
    }
   ],
   "source": [
    "148*0.8"
   ]
  },
  {
   "cell_type": "code",
   "execution_count": 77,
   "metadata": {},
   "outputs": [
    {
     "data": {
      "text/plain": [
       "<torch.utils.data.dataset.Subset at 0x29f091aafd0>"
      ]
     },
     "execution_count": 77,
     "metadata": {},
     "output_type": "execute_result"
    }
   ],
   "source": [
    "model.dataset['test']"
   ]
  },
  {
   "cell_type": "code",
   "execution_count": 13,
   "metadata": {},
   "outputs": [
    {
     "name": "stdout",
     "output_type": "stream",
     "text": [
      "~~~~~~~~~~~~~~~~~~~~~~~~~~~~\n",
      "tensor([1])\n",
      "-----node-----\n",
      "@@@@@@@@@@@@@@@@@@@@@@@@@@@@\n",
      "tensor([ 48,  72,  44,  96,  79, 146, 125,  23,  46, 118, 114,  67,  97, 127,\n",
      "         62,  43, 139,  15,   7,  22,  92, 122,  89, 115,  88,  55,  64, 126,\n",
      "         66, 123, 141, 117,  65,  40,  51,  87,  74,   2,  77,  47, 110, 134,\n",
      "        129,  63,  99,  25,  56,  28, 138,  75, 145,  17,  16,   1,  31,  58,\n",
      "         94,  85,  68,  45,   3,  69,  71,  81, 135,  21, 108, 121,  53,  60,\n",
      "         18, 140, 119,   5])\n",
      "tensor([0.9980, 0.9976, 0.9973, 0.9962, 0.9955, 0.9950, 0.9947, 0.9942, 0.9935,\n",
      "        0.9932, 0.9929, 0.9921, 0.9921, 0.9917, 0.9908, 0.9905, 0.9899, 0.9895,\n",
      "        0.9889, 0.9887, 0.9868, 0.9848, 0.9847, 0.9841, 0.9834, 0.9831, 0.9825,\n",
      "        0.9817, 0.9815, 0.9812, 0.9806, 0.9804, 0.9804, 0.9804, 0.9802, 0.9800,\n",
      "        0.9787, 0.9782, 0.9782, 0.9767, 0.9761, 0.9758, 0.9746, 0.9739, 0.9729,\n",
      "        0.9728, 0.9727, 0.9719, 0.9693, 0.9680, 0.9677, 0.9672, 0.9667, 0.9666,\n",
      "        0.9659, 0.9651, 0.9647, 0.9640, 0.9640, 0.9637, 0.9624, 0.9619, 0.9595,\n",
      "        0.9591, 0.9591, 0.9583, 0.9575, 0.9574, 0.9568, 0.9563, 0.9562, 0.9551,\n",
      "        0.9549, 0.9547], grad_fn=<IndexBackward>)\n",
      "tensor([ 49,  73,  45,  97,  80, 147, 126,  24,  47, 119, 115,  68,  98, 128,\n",
      "         63,  44, 140,  16,   8,  23,  93, 123,  90, 116,  89,  56,  65, 127,\n",
      "         67, 124, 142, 118,  66,  41,  52,  88,  75,   3,  78,  48, 111, 135,\n",
      "        130,  64, 100,  26,  57,  29, 139,  76, 146,  18,  17,   2,  32,  59,\n",
      "         95,  86,  69,  46,   4,  70,  72,  82, 136,  22, 109, 122,  54,  61,\n",
      "         19, 141, 120,   6])\n",
      "tensor([ 49,  73,  45,  97,  80, 147, 126,  24,  47, 119, 115,  68,  98, 128,\n",
      "         63,  44, 140,  16,   8,  23,  93, 123,  90, 116,  89,  56,  65, 127,\n",
      "         67, 124, 142, 118,  66,  41,  52,  88,  75,   3,  78,  48, 111, 135,\n",
      "        130,  64, 100,  26,  57,  29, 139,  76, 146,  18,  17,   2,  32,  59,\n",
      "         95,  86,  69,  46,   4,  70,  72,  82, 136,  22, 109, 122,  54,  61,\n",
      "         19, 141, 120,   6])\n",
      "~~~~~~~~~~~~~~~~~~~~~~~~~~~~\n",
      "tensor([0])\n",
      "-----node-----\n",
      "@@@@@@@@@@@@@@@@@@@@@@@@@@@@\n",
      "tensor([146,  72,  15,  89, 118, 114,  43,  48,   5,  23,  44,  51, 122,  14,\n",
      "         87, 138,   0, 139,  67,  99,  62, 129,  77,  96,  21,  88,  53,  79,\n",
      "         85, 125,  47, 117, 141,  64,  97,  17,  56,   3, 105,  22,  29,  40,\n",
      "        134,   8,   2,  11,  25,   7, 127,  65,  61, 121, 142, 108,  91,  95,\n",
      "         92,  71,  55,  68,  45,  13,  66, 136, 119,  69,  46,  52,  33,  81,\n",
      "        110,  30, 145,  94])\n",
      "tensor([0.9992, 0.9990, 0.9960, 0.9958, 0.9943, 0.9941, 0.9939, 0.9933, 0.9926,\n",
      "        0.9911, 0.9909, 0.9906, 0.9894, 0.9894, 0.9893, 0.9885, 0.9884, 0.9879,\n",
      "        0.9864, 0.9863, 0.9860, 0.9858, 0.9847, 0.9846, 0.9837, 0.9836, 0.9835,\n",
      "        0.9831, 0.9830, 0.9827, 0.9809, 0.9806, 0.9782, 0.9775, 0.9768, 0.9767,\n",
      "        0.9754, 0.9746, 0.9729, 0.9718, 0.9701, 0.9691, 0.9687, 0.9683, 0.9677,\n",
      "        0.9673, 0.9667, 0.9667, 0.9658, 0.9650, 0.9648, 0.9638, 0.9636, 0.9634,\n",
      "        0.9613, 0.9612, 0.9612, 0.9603, 0.9587, 0.9576, 0.9565, 0.9561, 0.9544,\n",
      "        0.9539, 0.9539, 0.9539, 0.9534, 0.9484, 0.9474, 0.9463, 0.9440, 0.9434,\n",
      "        0.9428, 0.9422], grad_fn=<IndexBackward>)\n",
      "tensor([147,  73,  16,  90, 119, 115,  44,  49,   6,  24,  45,  52, 123,  15,\n",
      "         88, 139,   1, 140,  68, 100,  63, 130,  78,  97,  22,  89,  54,  80,\n",
      "         86, 126,  48, 118, 142,  65,  98,  18,  57,   4, 106,  23,  30,  41,\n",
      "        135,   9,   3,  12,  26,   8, 128,  66,  62, 122, 143, 109,  92,  96,\n",
      "         93,  72,  56,  69,  46,  14,  67, 137, 120,  70,  47,  53,  34,  82,\n",
      "        111,  31, 146,  95])\n",
      "tensor([147,  73,  16,  90, 119, 115,  44,  49,   6,  24,  45,  52, 123,  15,\n",
      "         88, 139,   1, 140,  68, 100,  63, 130,  78,  97,  22,  89,  54,  80,\n",
      "         86, 126,  48, 118, 142,  65,  98,  18,  57,   4, 106,  23,  30,  41,\n",
      "        135,   9,   3,  12,  26,   8, 128,  66,  62, 122, 143, 109,  92,  96,\n",
      "         93,  72,  56,  69,  46,  14,  67, 137, 120,  70,  47,  53,  34,  82,\n",
      "        111,  31, 146,  95])\n",
      "~~~~~~~~~~~~~~~~~~~~~~~~~~~~\n",
      "tensor([1])\n",
      "-----node-----\n",
      "@@@@@@@@@@@@@@@@@@@@@@@@@@@@\n",
      "tensor([ 89, 103,  15, 139,  29,  26,  74,  65,  90, 102,  91,  28,  47,  85,\n",
      "         88,  92,  93,  24, 108, 116,  17,  96, 141,  97,   3,   5,  33,  19,\n",
      "          2,  23,  34, 115,  78,  42,  31,  98,   9, 100,   1,   4,  13,  16,\n",
      "        110,  18, 120,  79,  25,  99, 127,  14,  76,  37,  94,   0,  11,  21,\n",
      "         48,  81,  22, 107,  43,  41,  36,  67,  20,  77, 111,   6,  58,  86,\n",
      "         95,   7, 146, 129])\n",
      "tensor([1.0000, 1.0000, 1.0000, 1.0000, 1.0000, 1.0000, 0.9999, 0.9999, 0.9999,\n",
      "        0.9998, 0.9998, 0.9996, 0.9995, 0.9994, 0.9994, 0.9994, 0.9994, 0.9993,\n",
      "        0.9993, 0.9991, 0.9990, 0.9990, 0.9989, 0.9989, 0.9989, 0.9988, 0.9988,\n",
      "        0.9987, 0.9986, 0.9986, 0.9982, 0.9980, 0.9979, 0.9978, 0.9975, 0.9975,\n",
      "        0.9974, 0.9967, 0.9967, 0.9966, 0.9966, 0.9965, 0.9964, 0.9961, 0.9959,\n",
      "        0.9959, 0.9956, 0.9954, 0.9954, 0.9952, 0.9947, 0.9945, 0.9942, 0.9939,\n",
      "        0.9932, 0.9928, 0.9922, 0.9907, 0.9904, 0.9894, 0.9893, 0.9887, 0.9884,\n",
      "        0.9876, 0.9869, 0.9862, 0.9849, 0.9845, 0.9844, 0.9844, 0.9822, 0.9809,\n",
      "        0.9805, 0.9771], grad_fn=<IndexBackward>)\n",
      "tensor([ 90, 104,  16, 140,  30,  27,  75,  66,  91, 103,  92,  29,  48,  86,\n",
      "         89,  93,  94,  25, 109, 117,  18,  97, 142,  98,   4,   6,  34,  20,\n",
      "          3,  24,  35, 116,  79,  43,  32,  99,  10, 101,   2,   5,  14,  17,\n",
      "        111,  19, 121,  80,  26, 100, 128,  15,  77,  38,  95,   1,  12,  22,\n",
      "         49,  82,  23, 108,  44,  42,  37,  68,  21,  78, 112,   7,  59,  87,\n",
      "         96,   8, 147, 130])\n",
      "tensor([ 90, 104,  16, 140,  30,  27,  75,  66,  91, 103,  92,  29,  48,  86,\n",
      "         89,  93,  94,  25, 109, 117,  18,  97, 142,  98,   4,   6,  34,  20,\n",
      "          3,  24,  35, 116,  79,  43,  32,  99,  10, 101,   2,   5,  14,  17,\n",
      "        111,  19, 121,  80,  26, 100, 128,  15,  77,  38,  95,   1,  12,  22,\n",
      "         49,  82,  23, 108,  44,  42,  37,  68,  21,  78, 112,   7,  59,  87,\n",
      "         96,   8, 147, 130])\n",
      "~~~~~~~~~~~~~~~~~~~~~~~~~~~~\n",
      "tensor([0])\n",
      "-----node-----\n",
      "@@@@@@@@@@@@@@@@@@@@@@@@@@@@\n",
      "tensor([ 89,  15,  29, 103,  96,  24, 139,   0,   2,  19,  42,  75,  33,  99,\n",
      "         28, 102,  88,  47,  94,  98,  17,  65,  14,  87,  23,  18,   5,  79,\n",
      "         34,  85, 110,  74,  26,  48,  77,  91,  20, 111,   3, 108,  25,  72,\n",
      "         22,  97,  49,  92,  93, 116, 115,   1,  37, 100,  41,  78,  36,  11,\n",
      "         76,  80,  83,   9, 146,  21,  66, 129, 121,  51, 101,  13,  30,  82,\n",
      "        117, 138, 122,  60])\n",
      "tensor([1.0000, 1.0000, 1.0000, 1.0000, 0.9999, 0.9998, 0.9997, 0.9997, 0.9996,\n",
      "        0.9995, 0.9995, 0.9994, 0.9994, 0.9993, 0.9993, 0.9991, 0.9990, 0.9987,\n",
      "        0.9986, 0.9985, 0.9984, 0.9984, 0.9984, 0.9983, 0.9982, 0.9982, 0.9981,\n",
      "        0.9977, 0.9975, 0.9975, 0.9974, 0.9973, 0.9970, 0.9968, 0.9962, 0.9959,\n",
      "        0.9958, 0.9957, 0.9956, 0.9955, 0.9954, 0.9952, 0.9949, 0.9949, 0.9949,\n",
      "        0.9946, 0.9945, 0.9945, 0.9942, 0.9941, 0.9934, 0.9929, 0.9927, 0.9918,\n",
      "        0.9917, 0.9911, 0.9905, 0.9898, 0.9894, 0.9881, 0.9877, 0.9874, 0.9868,\n",
      "        0.9865, 0.9860, 0.9858, 0.9854, 0.9852, 0.9850, 0.9827, 0.9819, 0.9817,\n",
      "        0.9813, 0.9807], grad_fn=<IndexBackward>)\n",
      "tensor([ 90,  16,  30, 104,  97,  25, 140,   1,   3,  20,  43,  76,  34, 100,\n",
      "         29, 103,  89,  48,  95,  99,  18,  66,  15,  88,  24,  19,   6,  80,\n",
      "         35,  86, 111,  75,  27,  49,  78,  92,  21, 112,   4, 109,  26,  73,\n",
      "         23,  98,  50,  93,  94, 117, 116,   2,  38, 101,  42,  79,  37,  12,\n",
      "         77,  81,  84,  10, 147,  22,  67, 130, 122,  52, 102,  14,  31,  83,\n",
      "        118, 139, 123,  61])\n",
      "tensor([ 90,  16,  30, 104,  97,  25, 140,   1,   3,  20,  43,  76,  34, 100,\n",
      "         29, 103,  89,  48,  95,  99,  18,  66,  15,  88,  24,  19,   6,  80,\n",
      "         35,  86, 111,  75,  27,  49,  78,  92,  21, 112,   4, 109,  26,  73,\n",
      "         23,  98,  50,  93,  94, 117, 116,   2,  38, 101,  42,  79,  37,  12,\n",
      "         77,  81,  84,  10, 147,  22,  67, 130, 122,  52, 102,  14,  31,  83,\n",
      "        118, 139, 123,  61])\n",
      "~~~~~~~~~~~~~~~~~~~~~~~~~~~~\n",
      "tensor([1])\n",
      "-----node-----\n",
      "@@@@@@@@@@@@@@@@@@@@@@@@@@@@\n",
      "tensor([ 72,  15,   5,  89,  66, 139,  79, 129,  77, 134,  48, 122, 146,  64,\n",
      "         65,  96, 125,  14,  67,   0, 144,   3,  62, 140,  46,  45,  43,  53,\n",
      "         88, 117, 118,  63,  44,  97, 141,   7, 116,   2, 124,  95, 126,  58,\n",
      "         93,  80,  40, 114, 103,  26, 132,  51,  23,  25,  55,  75, 115, 110,\n",
      "         92,  21,  29,  60, 127,  18,   8, 120,   6,  94,  68,  85, 100,  81,\n",
      "         49, 131, 119,  22])\n",
      "tensor([1.0000, 0.9997, 0.9996, 0.9995, 0.9994, 0.9994, 0.9993, 0.9990, 0.9987,\n",
      "        0.9987, 0.9986, 0.9986, 0.9985, 0.9982, 0.9976, 0.9973, 0.9963, 0.9963,\n",
      "        0.9951, 0.9949, 0.9949, 0.9946, 0.9942, 0.9935, 0.9927, 0.9923, 0.9918,\n",
      "        0.9917, 0.9914, 0.9906, 0.9903, 0.9903, 0.9901, 0.9899, 0.9897, 0.9893,\n",
      "        0.9864, 0.9863, 0.9861, 0.9860, 0.9852, 0.9848, 0.9840, 0.9827, 0.9816,\n",
      "        0.9807, 0.9799, 0.9795, 0.9781, 0.9775, 0.9766, 0.9760, 0.9757, 0.9756,\n",
      "        0.9755, 0.9750, 0.9740, 0.9728, 0.9704, 0.9697, 0.9694, 0.9691, 0.9684,\n",
      "        0.9681, 0.9671, 0.9670, 0.9660, 0.9633, 0.9611, 0.9609, 0.9606, 0.9606,\n",
      "        0.9605, 0.9589], grad_fn=<IndexBackward>)\n",
      "tensor([ 73,  16,   6,  90,  67, 140,  80, 130,  78, 135,  49, 123, 147,  65,\n",
      "         66,  97, 126,  15,  68,   1, 145,   4,  63, 141,  47,  46,  44,  54,\n",
      "         89, 118, 119,  64,  45,  98, 142,   8, 117,   3, 125,  96, 127,  59,\n",
      "         94,  81,  41, 115, 104,  27, 133,  52,  24,  26,  56,  76, 116, 111,\n",
      "         93,  22,  30,  61, 128,  19,   9, 121,   7,  95,  69,  86, 101,  82,\n",
      "         50, 132, 120,  23])\n",
      "tensor([ 73,  16,   6,  90,  67, 140,  80, 130,  78, 135,  49, 123, 147,  65,\n",
      "         66,  97, 126,  15,  68,   1, 145,   4,  63, 141,  47,  46,  44,  54,\n",
      "         89, 118, 119,  64,  45,  98, 142,   8, 117,   3, 125,  96, 127,  59,\n",
      "         94,  81,  41, 115, 104,  27, 133,  52,  24,  26,  56,  76, 116, 111,\n",
      "         93,  22,  30,  61, 128,  19,   9, 121,   7,  95,  69,  86, 101,  82,\n",
      "         50, 132, 120,  23])\n",
      "~~~~~~~~~~~~~~~~~~~~~~~~~~~~\n",
      "tensor([1])\n",
      "-----node-----\n",
      "@@@@@@@@@@@@@@@@@@@@@@@@@@@@\n",
      "tensor([ 26,  15,  89, 139, 111,  88,  21,  65,  33,  23,  11, 100,  87,  28,\n",
      "         29, 107,  34,  14,  18,  98,  97, 102,  93, 103,  85,  92,  42,  25,\n",
      "         24,  20,  37,  13,  19,  95,  99,  76,  96, 116,  78,   2,   5,  94,\n",
      "         48,  30,  75, 121,  79,  55,  74, 115,   4,   1, 117,   3, 129, 108,\n",
      "         43,  91,  77,  12,  17,  22, 110,  16,  36,  35,  27,  10,  62,  47,\n",
      "         83,   0,   9, 146])\n",
      "tensor([1.0000, 1.0000, 1.0000, 1.0000, 0.9999, 0.9999, 0.9999, 0.9997, 0.9997,\n",
      "        0.9997, 0.9997, 0.9996, 0.9996, 0.9996, 0.9996, 0.9995, 0.9995, 0.9995,\n",
      "        0.9995, 0.9994, 0.9992, 0.9992, 0.9991, 0.9989, 0.9985, 0.9985, 0.9984,\n",
      "        0.9983, 0.9983, 0.9978, 0.9968, 0.9968, 0.9966, 0.9962, 0.9959, 0.9947,\n",
      "        0.9944, 0.9943, 0.9934, 0.9933, 0.9922, 0.9916, 0.9916, 0.9915, 0.9914,\n",
      "        0.9907, 0.9901, 0.9899, 0.9895, 0.9892, 0.9887, 0.9886, 0.9873, 0.9863,\n",
      "        0.9852, 0.9851, 0.9849, 0.9848, 0.9847, 0.9833, 0.9809, 0.9789, 0.9785,\n",
      "        0.9775, 0.9773, 0.9773, 0.9772, 0.9761, 0.9759, 0.9759, 0.9734, 0.9731,\n",
      "        0.9722, 0.9715], grad_fn=<IndexBackward>)\n",
      "tensor([ 27,  16,  90, 140, 112,  89,  22,  66,  34,  24,  12, 101,  88,  29,\n",
      "         30, 108,  35,  15,  19,  99,  98, 103,  94, 104,  86,  93,  43,  26,\n",
      "         25,  21,  38,  14,  20,  96, 100,  77,  97, 117,  79,   3,   6,  95,\n",
      "         49,  31,  76, 122,  80,  56,  75, 116,   5,   2, 118,   4, 130, 109,\n",
      "         44,  92,  78,  13,  18,  23, 111,  17,  37,  36,  28,  11,  63,  48,\n",
      "         84,   1,  10, 147])\n",
      "tensor([ 27,  16,  90, 140, 112,  89,  22,  66,  34,  24,  12, 101,  88,  29,\n",
      "         30, 108,  35,  15,  19,  99,  98, 103,  94, 104,  86,  93,  43,  26,\n",
      "         25,  21,  38,  14,  20,  96, 100,  77,  97, 117,  79,   3,   6,  95,\n",
      "         49,  31,  76, 122,  80,  56,  75, 116,   5,   2, 118,   4, 130, 109,\n",
      "         44,  92,  78,  13,  18,  23, 111,  17,  37,  36,  28,  11,  63,  48,\n",
      "         84,   1,  10, 147])\n",
      "~~~~~~~~~~~~~~~~~~~~~~~~~~~~\n",
      "tensor([1])\n",
      "-----node-----\n",
      "@@@@@@@@@@@@@@@@@@@@@@@@@@@@\n",
      "tensor([ 65,  89, 103,  15,  42,  97, 139,  48, 116,  23,   5,  29,  11,  26,\n",
      "         14, 100, 122,  98,  96,  47,  17,  18, 121,  93,   4,  28,   3,  25,\n",
      "         94,  88, 110, 102, 146,  33,  72,  20,  95,  92, 115, 111,  99,   0,\n",
      "         22,  13,  62,  85,  34,  71,  16,  19,  87,  77,  21, 107,  36,   9,\n",
      "         37,  75,   2,  79,  90,  24,  41, 141,  80,  10,   1, 129,  43,  27,\n",
      "         83,  12,  76,  51])\n",
      "tensor([1.0000, 1.0000, 1.0000, 1.0000, 1.0000, 0.9999, 0.9999, 0.9999, 0.9999,\n",
      "        0.9999, 0.9998, 0.9997, 0.9997, 0.9997, 0.9996, 0.9996, 0.9996, 0.9995,\n",
      "        0.9992, 0.9992, 0.9989, 0.9988, 0.9987, 0.9987, 0.9985, 0.9985, 0.9983,\n",
      "        0.9981, 0.9979, 0.9978, 0.9977, 0.9972, 0.9970, 0.9969, 0.9967, 0.9967,\n",
      "        0.9964, 0.9960, 0.9960, 0.9959, 0.9959, 0.9958, 0.9955, 0.9951, 0.9949,\n",
      "        0.9945, 0.9944, 0.9942, 0.9941, 0.9941, 0.9938, 0.9937, 0.9933, 0.9925,\n",
      "        0.9917, 0.9916, 0.9915, 0.9911, 0.9909, 0.9905, 0.9904, 0.9902, 0.9895,\n",
      "        0.9870, 0.9870, 0.9866, 0.9863, 0.9862, 0.9854, 0.9850, 0.9849, 0.9835,\n",
      "        0.9834, 0.9816], grad_fn=<IndexBackward>)\n",
      "tensor([ 66,  90, 104,  16,  43,  98, 140,  49, 117,  24,   6,  30,  12,  27,\n",
      "         15, 101, 123,  99,  97,  48,  18,  19, 122,  94,   5,  29,   4,  26,\n",
      "         95,  89, 111, 103, 147,  34,  73,  21,  96,  93, 116, 112, 100,   1,\n",
      "         23,  14,  63,  86,  35,  72,  17,  20,  88,  78,  22, 108,  37,  10,\n",
      "         38,  76,   3,  80,  91,  25,  42, 142,  81,  11,   2, 130,  44,  28,\n",
      "         84,  13,  77,  52])\n",
      "tensor([ 66,  90, 104,  16,  43,  98, 140,  49, 117,  24,   6,  30,  12,  27,\n",
      "         15, 101, 123,  99,  97,  48,  18,  19, 122,  94,   5,  29,   4,  26,\n",
      "         95,  89, 111, 103, 147,  34,  73,  21,  96,  93, 116, 112, 100,   1,\n",
      "         23,  14,  63,  86,  35,  72,  17,  20,  88,  78,  22, 108,  37,  10,\n",
      "         38,  76,   3,  80,  91,  25,  42, 142,  81,  11,   2, 130,  44,  28,\n",
      "         84,  13,  77,  52])\n",
      "~~~~~~~~~~~~~~~~~~~~~~~~~~~~\n",
      "tensor([0])\n",
      "-----node-----\n",
      "@@@@@@@@@@@@@@@@@@@@@@@@@@@@\n",
      "tensor([ 89,  15,  97,  29,  74, 139,  93,  24,  65, 100, 103,  14,  33,  28,\n",
      "        111,  23, 102,  76,  11,  92,   1,  25,  85,  36,  79,   2,  26,  19,\n",
      "        116,   9,  42,  18,   0,  75,  88,  95,  94,  17,  21, 121, 107,   4,\n",
      "         48,  91,   3,  30,  20,  87,   5,  22,  96,  80, 115,  99,  98, 122,\n",
      "         37, 110,  51,  78,  77,  81,  43,  13,  53,  83, 108,  34, 101,  41,\n",
      "        127, 117,  69,  58])\n",
      "tensor([1.0000, 1.0000, 1.0000, 1.0000, 0.9999, 0.9999, 0.9999, 0.9998, 0.9998,\n",
      "        0.9998, 0.9997, 0.9997, 0.9997, 0.9997, 0.9997, 0.9997, 0.9996, 0.9996,\n",
      "        0.9996, 0.9995, 0.9993, 0.9993, 0.9993, 0.9993, 0.9992, 0.9991, 0.9990,\n",
      "        0.9990, 0.9988, 0.9985, 0.9984, 0.9982, 0.9981, 0.9978, 0.9978, 0.9977,\n",
      "        0.9977, 0.9976, 0.9970, 0.9961, 0.9959, 0.9958, 0.9954, 0.9952, 0.9945,\n",
      "        0.9944, 0.9942, 0.9939, 0.9935, 0.9934, 0.9929, 0.9924, 0.9921, 0.9917,\n",
      "        0.9911, 0.9907, 0.9903, 0.9890, 0.9887, 0.9874, 0.9866, 0.9865, 0.9863,\n",
      "        0.9857, 0.9855, 0.9847, 0.9812, 0.9801, 0.9755, 0.9753, 0.9749, 0.9748,\n",
      "        0.9747, 0.9747], grad_fn=<IndexBackward>)\n",
      "tensor([ 90,  16,  98,  30,  75, 140,  94,  25,  66, 101, 104,  15,  34,  29,\n",
      "        112,  24, 103,  77,  12,  93,   2,  26,  86,  37,  80,   3,  27,  20,\n",
      "        117,  10,  43,  19,   1,  76,  89,  96,  95,  18,  22, 122, 108,   5,\n",
      "         49,  92,   4,  31,  21,  88,   6,  23,  97,  81, 116, 100,  99, 123,\n",
      "         38, 111,  52,  79,  78,  82,  44,  14,  54,  84, 109,  35, 102,  42,\n",
      "        128, 118,  70,  59])\n",
      "tensor([ 90,  16,  98,  30,  75, 140,  94,  25,  66, 101, 104,  15,  34,  29,\n",
      "        112,  24, 103,  77,  12,  93,   2,  26,  86,  37,  80,   3,  27,  20,\n",
      "        117,  10,  43,  19,   1,  76,  89,  96,  95,  18,  22, 122, 108,   5,\n",
      "         49,  92,   4,  31,  21,  88,   6,  23,  97,  81, 116, 100,  99, 123,\n",
      "         38, 111,  52,  79,  78,  82,  44,  14,  54,  84, 109,  35, 102,  42,\n",
      "        128, 118,  70,  59])\n",
      "~~~~~~~~~~~~~~~~~~~~~~~~~~~~\n",
      "tensor([0])\n",
      "-----node-----\n",
      "@@@@@@@@@@@@@@@@@@@@@@@@@@@@\n",
      "tensor([ 15,  89, 103, 139,  72,  65,  88,  43,  37,  79, 117, 114,  97,  29,\n",
      "         14, 145, 146, 102,  47,  90,  33,  28, 100, 121, 119,  77, 141,  48,\n",
      "         11, 111,  26,  96,   1,  85, 118, 116,   2,  24, 115,  75, 110,   3,\n",
      "         91,  76, 125, 127,  71,  42,  99,  87,  51,  40,  34, 107,  23,  58,\n",
      "         22,  21,  18,  94,  36,  62,  82,   0,  25, 108,  30,  53,  10, 122,\n",
      "        144,  12, 129,  92])\n",
      "tensor([1.0000, 1.0000, 1.0000, 1.0000, 1.0000, 0.9999, 0.9999, 0.9998, 0.9997,\n",
      "        0.9997, 0.9997, 0.9995, 0.9994, 0.9993, 0.9993, 0.9992, 0.9990, 0.9989,\n",
      "        0.9989, 0.9987, 0.9984, 0.9983, 0.9983, 0.9981, 0.9980, 0.9980, 0.9979,\n",
      "        0.9979, 0.9975, 0.9975, 0.9974, 0.9973, 0.9973, 0.9972, 0.9970, 0.9965,\n",
      "        0.9964, 0.9962, 0.9959, 0.9956, 0.9955, 0.9954, 0.9953, 0.9948, 0.9948,\n",
      "        0.9947, 0.9942, 0.9938, 0.9937, 0.9934, 0.9930, 0.9930, 0.9930, 0.9928,\n",
      "        0.9926, 0.9925, 0.9923, 0.9920, 0.9912, 0.9911, 0.9909, 0.9908, 0.9905,\n",
      "        0.9905, 0.9903, 0.9903, 0.9902, 0.9901, 0.9893, 0.9880, 0.9878, 0.9876,\n",
      "        0.9876, 0.9873], grad_fn=<IndexBackward>)\n",
      "tensor([ 16,  90, 104, 140,  73,  66,  89,  44,  38,  80, 118, 115,  98,  30,\n",
      "         15, 146, 147, 103,  48,  91,  34,  29, 101, 122, 120,  78, 142,  49,\n",
      "         12, 112,  27,  97,   2,  86, 119, 117,   3,  25, 116,  76, 111,   4,\n",
      "         92,  77, 126, 128,  72,  43, 100,  88,  52,  41,  35, 108,  24,  59,\n",
      "         23,  22,  19,  95,  37,  63,  83,   1,  26, 109,  31,  54,  11, 123,\n",
      "        145,  13, 130,  93])\n",
      "tensor([ 16,  90, 104, 140,  73,  66,  89,  44,  38,  80, 118, 115,  98,  30,\n",
      "         15, 146, 147, 103,  48,  91,  34,  29, 101, 122, 120,  78, 142,  49,\n",
      "         12, 112,  27,  97,   2,  86, 119, 117,   3,  25, 116,  76, 111,   4,\n",
      "         92,  77, 126, 128,  72,  43, 100,  88,  52,  41,  35, 108,  24,  59,\n",
      "         23,  22,  19,  95,  37,  63,  83,   1,  26, 109,  31,  54,  11, 123,\n",
      "        145,  13, 130,  93])\n",
      "~~~~~~~~~~~~~~~~~~~~~~~~~~~~\n",
      "tensor([0])\n",
      "-----node-----\n",
      "@@@@@@@@@@@@@@@@@@@@@@@@@@@@\n",
      "tensor([ 15,  89, 103, 139,  65,  76,  79, 146, 119,  72,  29,   2, 102,  48,\n",
      "         43, 117,  88,  96,  26,  24,  92,  94, 125, 100,  85,   0,  28,  14,\n",
      "         99,  23,  98, 111,  25,  51, 110,   5,  47,  80,  36,  21,  64,  17,\n",
      "         16, 115,  61,  91,  22, 124,   9,  62,  18, 108,  97,  19,  75,   3,\n",
      "         87, 118,  93, 140, 122, 116, 114,  77,  95,  41,  67,  20, 138,  60,\n",
      "        107,   1,  83,  30])\n",
      "tensor([1.0000, 1.0000, 1.0000, 1.0000, 0.9999, 0.9999, 0.9998, 0.9998, 0.9998,\n",
      "        0.9997, 0.9996, 0.9995, 0.9994, 0.9993, 0.9993, 0.9991, 0.9989, 0.9988,\n",
      "        0.9985, 0.9985, 0.9984, 0.9978, 0.9977, 0.9972, 0.9971, 0.9970, 0.9969,\n",
      "        0.9967, 0.9966, 0.9963, 0.9962, 0.9960, 0.9956, 0.9956, 0.9955, 0.9952,\n",
      "        0.9951, 0.9950, 0.9949, 0.9948, 0.9946, 0.9945, 0.9936, 0.9935, 0.9929,\n",
      "        0.9928, 0.9917, 0.9914, 0.9912, 0.9912, 0.9910, 0.9906, 0.9904, 0.9903,\n",
      "        0.9903, 0.9898, 0.9897, 0.9895, 0.9889, 0.9885, 0.9882, 0.9864, 0.9862,\n",
      "        0.9856, 0.9856, 0.9855, 0.9851, 0.9849, 0.9848, 0.9848, 0.9841, 0.9835,\n",
      "        0.9831, 0.9827], grad_fn=<IndexBackward>)\n",
      "tensor([ 16,  90, 104, 140,  66,  77,  80, 147, 120,  73,  30,   3, 103,  49,\n",
      "         44, 118,  89,  97,  27,  25,  93,  95, 126, 101,  86,   1,  29,  15,\n",
      "        100,  24,  99, 112,  26,  52, 111,   6,  48,  81,  37,  22,  65,  18,\n",
      "         17, 116,  62,  92,  23, 125,  10,  63,  19, 109,  98,  20,  76,   4,\n",
      "         88, 119,  94, 141, 123, 117, 115,  78,  96,  42,  68,  21, 139,  61,\n",
      "        108,   2,  84,  31])\n",
      "tensor([ 16,  90, 104, 140,  66,  77,  80, 147, 120,  73,  30,   3, 103,  49,\n",
      "         44, 118,  89,  97,  27,  25,  93,  95, 126, 101,  86,   1,  29,  15,\n",
      "        100,  24,  99, 112,  26,  52, 111,   6,  48,  81,  37,  22,  65,  18,\n",
      "         17, 116,  62,  92,  23, 125,  10,  63,  19, 109,  98,  20,  76,   4,\n",
      "         88, 119,  94, 141, 123, 117, 115,  78,  96,  42,  68,  21, 139,  61,\n",
      "        108,   2,  84,  31])\n",
      "~~~~~~~~~~~~~~~~~~~~~~~~~~~~\n",
      "tensor([1])\n",
      "-----node-----\n",
      "@@@@@@@@@@@@@@@@@@@@@@@@@@@@\n",
      "tensor([ 15,  89, 103,  88, 139,  25,  29,  76, 114,  48,  11, 146,  18, 122,\n",
      "         42, 100, 102,  51,  26,  65,  40,  17, 116,  33,  94,  14,  98,  72,\n",
      "         99,  92,  96, 125,  79,  60,  55,  28,  64,  97, 134,   3,  23,  37,\n",
      "          2,  24,  21,  93,  71,  20, 138,  22,  67,  77, 115,   0, 107,  85,\n",
      "         19,  87, 129,   4,  13, 117,  95, 141,  91,  36,  57, 131, 135,   7,\n",
      "         75,  43,  66,   9])\n",
      "tensor([1.0000, 1.0000, 0.9999, 0.9999, 0.9999, 0.9998, 0.9998, 0.9998, 0.9997,\n",
      "        0.9997, 0.9996, 0.9996, 0.9995, 0.9992, 0.9990, 0.9990, 0.9990, 0.9990,\n",
      "        0.9990, 0.9990, 0.9989, 0.9986, 0.9985, 0.9984, 0.9984, 0.9982, 0.9981,\n",
      "        0.9979, 0.9978, 0.9977, 0.9977, 0.9976, 0.9976, 0.9975, 0.9975, 0.9973,\n",
      "        0.9973, 0.9971, 0.9965, 0.9964, 0.9964, 0.9951, 0.9950, 0.9946, 0.9945,\n",
      "        0.9942, 0.9940, 0.9940, 0.9934, 0.9930, 0.9926, 0.9924, 0.9913, 0.9911,\n",
      "        0.9908, 0.9904, 0.9902, 0.9897, 0.9896, 0.9894, 0.9891, 0.9890, 0.9889,\n",
      "        0.9886, 0.9878, 0.9868, 0.9858, 0.9849, 0.9846, 0.9836, 0.9829, 0.9824,\n",
      "        0.9824, 0.9814], grad_fn=<IndexBackward>)\n",
      "tensor([ 16,  90, 104,  89, 140,  26,  30,  77, 115,  49,  12, 147,  19, 123,\n",
      "         43, 101, 103,  52,  27,  66,  41,  18, 117,  34,  95,  15,  99,  73,\n",
      "        100,  93,  97, 126,  80,  61,  56,  29,  65,  98, 135,   4,  24,  38,\n",
      "          3,  25,  22,  94,  72,  21, 139,  23,  68,  78, 116,   1, 108,  86,\n",
      "         20,  88, 130,   5,  14, 118,  96, 142,  92,  37,  58, 132, 136,   8,\n",
      "         76,  44,  67,  10])\n",
      "tensor([ 16,  90, 104,  89, 140,  26,  30,  77, 115,  49,  12, 147,  19, 123,\n",
      "         43, 101, 103,  52,  27,  66,  41,  18, 117,  34,  95,  15,  99,  73,\n",
      "        100,  93,  97, 126,  80,  61,  56,  29,  65,  98, 135,   4,  24,  38,\n",
      "          3,  25,  22,  94,  72,  21, 139,  23,  68,  78, 116,   1, 108,  86,\n",
      "         20,  88, 130,   5,  14, 118,  96, 142,  92,  37,  58, 132, 136,   8,\n",
      "         76,  44,  67,  10])\n",
      "~~~~~~~~~~~~~~~~~~~~~~~~~~~~\n",
      "tensor([0])\n",
      "-----node-----\n",
      "@@@@@@@@@@@@@@@@@@@@@@@@@@@@\n",
      "tensor([ 89,  15,  29, 103,  33,   0, 139,  14,   2,  88,  42,  24,  96, 110,\n",
      "         19,  99, 102,  25,  98,  17,  28,  74,  75,  79,  18,  47,  94,  23,\n",
      "          5,  34,  26,  65,   3,  93,  13,  87,  20,  37,  22,  97, 111,  72,\n",
      "         85, 116,  60,  92,  11,  91,  62,  48, 100, 115,  36,  21,  83,   1,\n",
      "         77,  76,  41, 146,  80,  66,  30, 129,  51, 101,  16,   7, 138,  43,\n",
      "        107, 122,  71,  81])\n",
      "tensor([1.0000, 1.0000, 1.0000, 1.0000, 0.9999, 0.9999, 0.9999, 0.9998, 0.9998,\n",
      "        0.9997, 0.9997, 0.9996, 0.9996, 0.9996, 0.9995, 0.9994, 0.9994, 0.9993,\n",
      "        0.9993, 0.9992, 0.9992, 0.9992, 0.9991, 0.9991, 0.9989, 0.9988, 0.9988,\n",
      "        0.9984, 0.9981, 0.9981, 0.9980, 0.9978, 0.9977, 0.9971, 0.9964, 0.9961,\n",
      "        0.9960, 0.9957, 0.9957, 0.9954, 0.9952, 0.9951, 0.9951, 0.9950, 0.9949,\n",
      "        0.9935, 0.9935, 0.9931, 0.9929, 0.9928, 0.9927, 0.9923, 0.9923, 0.9916,\n",
      "        0.9913, 0.9912, 0.9900, 0.9899, 0.9896, 0.9880, 0.9874, 0.9870, 0.9868,\n",
      "        0.9867, 0.9849, 0.9843, 0.9833, 0.9820, 0.9819, 0.9800, 0.9799, 0.9799,\n",
      "        0.9797, 0.9787], grad_fn=<IndexBackward>)\n",
      "tensor([ 90,  16,  30, 104,  34,   1, 140,  15,   3,  89,  43,  25,  97, 111,\n",
      "         20, 100, 103,  26,  99,  18,  29,  75,  76,  80,  19,  48,  95,  24,\n",
      "          6,  35,  27,  66,   4,  94,  14,  88,  21,  38,  23,  98, 112,  73,\n",
      "         86, 117,  61,  93,  12,  92,  63,  49, 101, 116,  37,  22,  84,   2,\n",
      "         78,  77,  42, 147,  81,  67,  31, 130,  52, 102,  17,   8, 139,  44,\n",
      "        108, 123,  72,  82])\n",
      "tensor([ 90,  16,  30, 104,  34,   1, 140,  15,   3,  89,  43,  25,  97, 111,\n",
      "         20, 100, 103,  26,  99,  18,  29,  75,  76,  80,  19,  48,  95,  24,\n",
      "          6,  35,  27,  66,   4,  94,  14,  88,  21,  38,  23,  98, 112,  73,\n",
      "         86, 117,  61,  93,  12,  92,  63,  49, 101, 116,  37,  22,  84,   2,\n",
      "         78,  77,  42, 147,  81,  67,  31, 130,  52, 102,  17,   8, 139,  44,\n",
      "        108, 123,  72,  82])\n",
      "~~~~~~~~~~~~~~~~~~~~~~~~~~~~\n",
      "tensor([0])\n",
      "-----node-----\n",
      "@@@@@@@@@@@@@@@@@@@@@@@@@@@@\n",
      "tensor([ 89,  15, 139,  79,  72,  29, 122,  65,  28,  48, 103, 146,  43,  44,\n",
      "        102, 110,  88,  19,  25,   2,  26,   9,  91,  99, 125,  14, 141,  92,\n",
      "         98,  93,  36, 120,  67,  96, 100,  85,  40,  60,  22,  17,  97,  90,\n",
      "         18, 129,   5,  11, 118,  66,  37,  75,  51,  42,  76,  20, 114,   7,\n",
      "          3,  16,  59,  46,  77,  47,  23,  71, 132,  62,  13,  33,  61,  64,\n",
      "          1,  24,   6,  58])\n",
      "tensor([1.0000, 1.0000, 1.0000, 1.0000, 0.9999, 0.9999, 0.9999, 0.9998, 0.9997,\n",
      "        0.9997, 0.9997, 0.9996, 0.9995, 0.9994, 0.9992, 0.9991, 0.9991, 0.9991,\n",
      "        0.9988, 0.9987, 0.9986, 0.9985, 0.9985, 0.9984, 0.9979, 0.9978, 0.9976,\n",
      "        0.9976, 0.9974, 0.9973, 0.9969, 0.9968, 0.9967, 0.9964, 0.9961, 0.9958,\n",
      "        0.9958, 0.9956, 0.9955, 0.9954, 0.9952, 0.9951, 0.9950, 0.9950, 0.9949,\n",
      "        0.9946, 0.9945, 0.9938, 0.9935, 0.9930, 0.9928, 0.9928, 0.9924, 0.9919,\n",
      "        0.9904, 0.9900, 0.9900, 0.9897, 0.9896, 0.9889, 0.9888, 0.9886, 0.9880,\n",
      "        0.9873, 0.9866, 0.9865, 0.9858, 0.9858, 0.9853, 0.9845, 0.9845, 0.9843,\n",
      "        0.9840, 0.9839], grad_fn=<IndexBackward>)\n",
      "tensor([ 90,  16, 140,  80,  73,  30, 123,  66,  29,  49, 104, 147,  44,  45,\n",
      "        103, 111,  89,  20,  26,   3,  27,  10,  92, 100, 126,  15, 142,  93,\n",
      "         99,  94,  37, 121,  68,  97, 101,  86,  41,  61,  23,  18,  98,  91,\n",
      "         19, 130,   6,  12, 119,  67,  38,  76,  52,  43,  77,  21, 115,   8,\n",
      "          4,  17,  60,  47,  78,  48,  24,  72, 133,  63,  14,  34,  62,  65,\n",
      "          2,  25,   7,  59])\n",
      "tensor([ 90,  16, 140,  80,  73,  30, 123,  66,  29,  49, 104, 147,  44,  45,\n",
      "        103, 111,  89,  20,  26,   3,  27,  10,  92, 100, 126,  15, 142,  93,\n",
      "         99,  94,  37, 121,  68,  97, 101,  86,  41,  61,  23,  18,  98,  91,\n",
      "         19, 130,   6,  12, 119,  67,  38,  76,  52,  43,  77,  21, 115,   8,\n",
      "          4,  17,  60,  47,  78,  48,  24,  72, 133,  63,  14,  34,  62,  65,\n",
      "          2,  25,   7,  59])\n",
      "~~~~~~~~~~~~~~~~~~~~~~~~~~~~\n",
      "tensor([1])\n"
     ]
    },
    {
     "name": "stdout",
     "output_type": "stream",
     "text": [
      "-----node-----\n",
      "@@@@@@@@@@@@@@@@@@@@@@@@@@@@\n",
      "tensor([ 72,  89, 139,  15,  65, 146, 117,  79,  55,  96,  62,  77, 138, 114,\n",
      "         14,   5,  46, 122, 141,  43,  48, 144,  97,   3,  88,  95, 116, 125,\n",
      "         47,   9,  80, 134,   2,  66,  23,  64,   7,  83, 123,  25,   1, 129,\n",
      "         26, 136,  51,  99, 118,  28, 124,  22,  60,  29,  30,  49,  82, 110,\n",
      "        103,   6,  34,  75, 142, 100,  21,  20, 108, 140,  94,  40,  52,  18,\n",
      "        120,  69,  76,  24])\n",
      "tensor([1.0000, 1.0000, 1.0000, 1.0000, 0.9999, 0.9998, 0.9997, 0.9997, 0.9994,\n",
      "        0.9981, 0.9981, 0.9979, 0.9976, 0.9972, 0.9970, 0.9967, 0.9964, 0.9963,\n",
      "        0.9959, 0.9959, 0.9956, 0.9954, 0.9953, 0.9943, 0.9940, 0.9939, 0.9937,\n",
      "        0.9930, 0.9930, 0.9928, 0.9927, 0.9918, 0.9912, 0.9905, 0.9902, 0.9894,\n",
      "        0.9887, 0.9877, 0.9872, 0.9870, 0.9867, 0.9864, 0.9853, 0.9852, 0.9850,\n",
      "        0.9843, 0.9828, 0.9826, 0.9820, 0.9819, 0.9819, 0.9815, 0.9810, 0.9801,\n",
      "        0.9784, 0.9773, 0.9768, 0.9764, 0.9754, 0.9731, 0.9719, 0.9719, 0.9712,\n",
      "        0.9707, 0.9706, 0.9697, 0.9692, 0.9691, 0.9687, 0.9683, 0.9680, 0.9677,\n",
      "        0.9664, 0.9660], grad_fn=<IndexBackward>)\n",
      "tensor([ 73,  90, 140,  16,  66, 147, 118,  80,  56,  97,  63,  78, 139, 115,\n",
      "         15,   6,  47, 123, 142,  44,  49, 145,  98,   4,  89,  96, 117, 126,\n",
      "         48,  10,  81, 135,   3,  67,  24,  65,   8,  84, 124,  26,   2, 130,\n",
      "         27, 137,  52, 100, 119,  29, 125,  23,  61,  30,  31,  50,  83, 111,\n",
      "        104,   7,  35,  76, 143, 101,  22,  21, 109, 141,  95,  41,  53,  19,\n",
      "        121,  70,  77,  25])\n",
      "tensor([ 73,  90, 140,  16,  66, 147, 118,  80,  56,  97,  63,  78, 139, 115,\n",
      "         15,   6,  47, 123, 142,  44,  49, 145,  98,   4,  89,  96, 117, 126,\n",
      "         48,  10,  81, 135,   3,  67,  24,  65,   8,  84, 124,  26,   2, 130,\n",
      "         27, 137,  52, 100, 119,  29, 125,  23,  61,  30,  31,  50,  83, 111,\n",
      "        104,   7,  35,  76, 143, 101,  22,  21, 109, 141,  95,  41,  53,  19,\n",
      "        121,  70,  77,  25])\n",
      "dict_keys([1, 2, 3, 4, 6, 12, 14, 15, 16, 18, 19, 20, 21, 22, 23, 24, 25, 26, 27, 29, 30, 31, 34, 37, 38, 43, 44, 48, 49, 52, 63, 66, 73, 76, 77, 78, 80, 86, 88, 89, 90, 92, 93, 94, 95, 97, 98, 99, 100, 101, 103, 104, 109, 111, 112, 116, 117, 118, 123, 130, 140, 147])\n",
      "dict_keys([3, 4, 6, 15, 16, 19, 22, 23, 24, 26, 27, 29, 30, 44, 49, 66, 76, 78, 80, 86, 89, 90, 93, 95, 96, 97, 98, 100, 101, 104, 111, 116, 117, 130, 140, 142, 147])\n"
     ]
    },
    {
     "data": {
      "text/plain": [
       "<BarContainer object of 148 artists>"
      ]
     },
     "execution_count": 13,
     "metadata": {},
     "output_type": "execute_result"
    },
    {
     "data": {
      "image/png": "[encoded data removed]",
      "text/plain": [
       "<Figure size 432x288 with 1 Axes>"
      ]
     },
     "metadata": {
      "needs_background": "light"
     },
     "output_type": "display_data"
    },
    {
     "data": {
      "image/png": "[encoded data removed]",
      "text/plain": [
       "<Figure size 432x288 with 1 Axes>"
      ]
     },
     "metadata": {
      "needs_background": "light"
     },
     "output_type": "display_data"
    }
   ],
   "source": [
    "from torch_geometric.data import DataLoader\n",
    "\n",
    "\n",
    "\n",
    "cnt_dict = []\n",
    "cnt_dict.append({i+1:0 for i in range(148)})\n",
    "cnt_dict.append({i+1:0 for i in range(148)})\n",
    "\n",
    "for tc,d  in enumerate(DataLoader(model.dataset['test'], batch_size = 1)):\n",
    "        \n",
    "    \n",
    "    print('~~~~~~~~~~~~~~~~~~~~~~~~~~~~')\n",
    "\n",
    "    #if(d.y == 0) : continue\n",
    "    \n",
    "    print(d.y)\n",
    "    node = torch.tensor(range(1,149))\n",
    "    ps,ss = model.model.get_att(d)\n",
    "    #print(ps[0].shape, ps[1].shape, ps[2].shape)\n",
    "    len_ps = len(ps)\n",
    "    #print(len_ps)\n",
    "    \n",
    "    print('-----node-----')\n",
    "    #node = node[ps[0]]\n",
    "    #node = node[ps[1]]\n",
    "    #node = node[ps[2]]\n",
    "    for i in range(len_ps):\n",
    "        node = node[ps[i]]\n",
    "        print('@@@@@@@@@@@@@@@@@@@@@@@@@@@@')\n",
    "        print(ps[i])\n",
    "        print(ss[i])\n",
    "        \n",
    "    \n",
    "    print(node)\n",
    "    #print(ss[-1])\n",
    "    #print(ss[-2])\n",
    "    \n",
    "    \n",
    "    print(node[(ss[-1]>0.5)])\n",
    "    for v in node[(ss[-1]>0.5)].tolist():\n",
    "        cnt_dict[d.y][v] =  cnt_dict[d.y][v] + 1\n",
    "    \n",
    "    \n",
    "    #if(tc >= 5): break\n",
    "plt.figure(0)\n",
    "print(dict(filter(lambda elem:elem[1]>=5, cnt_dict[0].items())).keys())\n",
    "plt.bar(cnt_dict[0].keys(),cnt_dict[0].values())\n",
    "\n",
    "\n",
    "plt.figure(1)\n",
    "print(dict(filter(lambda elem:elem[1]>=6, cnt_dict[1].items())).keys())\n",
    "plt.bar(cnt_dict[1].keys(),cnt_dict[1].values())\n",
    "\n"
   ]
  },
  {
   "cell_type": "code",
   "execution_count": 32,
   "metadata": {},
   "outputs": [
    {
     "data": {
      "text/plain": [
       "[torch.Size([119]), torch.Size([96]), torch.Size([77])]"
      ]
     },
     "execution_count": 32,
     "metadata": {},
     "output_type": "execute_result"
    }
   ],
   "source": [
    "[ss_.shape for ss_ in ss]"
   ]
  },
  {
   "cell_type": "code",
   "execution_count": 90,
   "metadata": {},
   "outputs": [],
   "source": [
    "node = torch.tensor(range(148))\n",
    "no"
   ]
  },
  {
   "cell_type": "code",
   "execution_count": 78,
   "metadata": {},
   "outputs": [
    {
     "data": {
      "text/plain": [
       "[6, 2, 8, 22, 18, 13, 9, 23, 11, 7, 5, 12]"
      ]
     },
     "execution_count": 78,
     "metadata": {},
     "output_type": "execute_result"
    }
   ],
   "source": [
    "\n",
    "[ 6,  2,  8, 22, 18, 13,  9, 23, 11,  7,  5, 12]\n",
    "[35, 20, 77, 19,  0, 15, 50, 26,  5, 17, 81, 28, 22, 24, 75,  9, 69, 36,\n",
    "        11, 14, 16, 79, 47, 56,  6, 52, 94,  8,  1,  7, 45]"
   ]
  }
 ],
 "metadata": {
  "kernelspec": {
   "display_name": "gmker",
   "language": "python",
   "name": "graph_matching"
  },
  "language_info": {
   "codemirror_mode": {
    "name": "ipython",
    "version": 3
   },
   "file_extension": ".py",
   "mimetype": "text/x-python",
   "name": "python",
   "nbconvert_exporter": "python",
   "pygments_lexer": "ipython3",
   "version": "3.8.5"
  }
 },
 "nbformat": 4,
 "nbformat_minor": 4
}
