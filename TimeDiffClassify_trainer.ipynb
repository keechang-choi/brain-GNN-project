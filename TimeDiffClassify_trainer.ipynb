{
 "cells": [
  {
   "cell_type": "code",
   "execution_count": 67,
   "metadata": {},
   "outputs": [],
   "source": [
    "import torch\n",
    "\n",
    "from model.GCN_classifier import TimeDiffClassifier\n",
    "from model.GCN_classifier import TimeDiffClassifier_sagpooling\n",
    "\n",
    "import pytorch_lightning as pl\n",
    "\n",
    "import os.path as osp\n",
    "import matplotlib.pyplot as plt\n"
   ]
  },
  {
   "cell_type": "code",
   "execution_count": 2,
   "metadata": {},
   "outputs": [],
   "source": [
    "%load_ext autoreload\n",
    "%autoreload 2"
   ]
  },
  {
   "cell_type": "code",
   "execution_count": 3,
   "metadata": {},
   "outputs": [
    {
     "name": "stdout",
     "output_type": "stream",
     "text": [
      "cpu\n"
     ]
    }
   ],
   "source": [
    "device = torch.device(\"cuda\" if torch.cuda.is_available() else \"cpu\")\n",
    "print(device)\n",
    "hparams = {}\n",
    "hparams['batch_size'] = 32\n",
    "hparams['num_classes'] = 2\n",
    "hparams['hidden_channels'] = 64\n",
    "#hparams['num_node_features'] = 149\n",
    "hparams['batch_size'] = 32\n",
    "hparams['lr'] = 1.0e-03\n",
    "hparams['weight_decay'] = 5.0e-06\n",
    "\n",
    "s='./data_diff'\n",
    "hparams['s_data'] = osp.join(*(s.split('/')))\n",
    "s='./data/DT_File_MAP.xlsx'\n",
    "hparams['s_node'] = osp.join(*(s.split('/')))\n",
    "s='./data/[UNC]ADNI-network/dataTS.csv'\n",
    "hparams['s_date'] = osp.join(*(s.split('/')))\n",
    "s = './sparsification/data'\n",
    "hparams['s_sparsified'] = osp.join(*(s.split('/'))) + osp.sep\n",
    "\n",
    "\n",
    "#model.prepare_data()\n",
    "\n",
    "\n",
    "\n"
   ]
  },
  {
   "cell_type": "code",
   "execution_count": 4,
   "metadata": {},
   "outputs": [],
   "source": [
    "model = TimeDiffClassifier(hparams)\n",
    "model = model.to(device)\n",
    "\n",
    "trainer = None\n",
    "\n",
    "epochs = 300\n",
    "\n",
    "logdir = './lightning_logs'\n",
    "network_logger = pl.loggers.TensorBoardLogger(\n",
    "    save_dir=logdir,\n",
    "    name='TimeDiffClassify_logs'\n",
    ")\n",
    "logger = network_logger\n",
    "\n",
    "early_stopping = pl.callbacks.EarlyStopping(\n",
    "    monitor='val_loss',\n",
    "    patience=30,\n",
    ")"
   ]
  },
  {
   "cell_type": "code",
   "execution_count": 5,
   "metadata": {
    "scrolled": true
   },
   "outputs": [
    {
     "name": "stderr",
     "output_type": "stream",
     "text": [
      "GPU available: False, used: False\n",
      "No environment variable for node rank defined. Set as 0.\n",
      "C:\\Users\\rlckd\\Anaconda3\\envs\\graph_matching\\lib\\site-packages\\pytorch_lightning\\utilities\\distributed.py:23: RuntimeWarning: You have defined a `val_dataloader()` and have defined a `validation_step()`, you may also want to define `validation_epoch_end()` for accumulating stats.\n",
      "  warnings.warn(*args, **kwargs)\n",
      "\n",
      "  | Name              | Type           | Params\n",
      "-------------------------------------------------\n",
      "0 | model             | GCN            | 22 K  \n",
      "1 | model.conv1       | GCNConv        | 9 K   \n",
      "2 | model.conv2       | GCNConv        | 4 K   \n",
      "3 | model.conv3       | GCNConv        | 4 K   \n",
      "4 | model.att         | GlobalAtt_gate | 65    \n",
      "5 | model.att.gate_nn | Linear         | 65    \n",
      "6 | model.lin1        | Linear         | 4 K   \n",
      "7 | model.lin2        | Linear         | 130   \n"
     ]
    },
    {
     "name": "stdout",
     "output_type": "stream",
     "text": [
      "Number of training graphs: 103\n",
      "Number of validation graphs: 12\n",
      "Number of test graphs: 14\n"
     ]
    },
    {
     "data": {
      "application/vnd.jupyter.widget-view+json": {
       "model_id": "7833c6fcf3c84e90902ed767bda42ee2",
       "version_major": 2,
       "version_minor": 0
      },
      "text/plain": [
       "HBox(children=(HTML(value='Validation sanity check'), FloatProgress(value=1.0, bar_style='info', layout=Layout…"
      ]
     },
     "metadata": {},
     "output_type": "display_data"
    },
    {
     "data": {
      "application/vnd.jupyter.widget-view+json": {
       "model_id": "0d03591baf174df7af45e25f53fb41a0",
       "version_major": 2,
       "version_minor": 0
      },
      "text/plain": [
       "HBox(children=(HTML(value='Training'), FloatProgress(value=1.0, bar_style='info', layout=Layout(flex='2'), max…"
      ]
     },
     "metadata": {},
     "output_type": "display_data"
    },
    {
     "data": {
      "application/vnd.jupyter.widget-view+json": {
       "model_id": "",
       "version_major": 2,
       "version_minor": 0
      },
      "text/plain": [
       "HBox(children=(HTML(value='Validating'), FloatProgress(value=1.0, bar_style='info', layout=Layout(flex='2'), m…"
      ]
     },
     "metadata": {},
     "output_type": "display_data"
    },
    {
     "data": {
      "application/vnd.jupyter.widget-view+json": {
       "model_id": "",
       "version_major": 2,
       "version_minor": 0
      },
      "text/plain": [
       "HBox(children=(HTML(value='Validating'), FloatProgress(value=1.0, bar_style='info', layout=Layout(flex='2'), m…"
      ]
     },
     "metadata": {},
     "output_type": "display_data"
    },
    {
     "data": {
      "application/vnd.jupyter.widget-view+json": {
       "model_id": "",
       "version_major": 2,
       "version_minor": 0
      },
      "text/plain": [
       "HBox(children=(HTML(value='Validating'), FloatProgress(value=1.0, bar_style='info', layout=Layout(flex='2'), m…"
      ]
     },
     "metadata": {},
     "output_type": "display_data"
    },
    {
     "data": {
      "application/vnd.jupyter.widget-view+json": {
       "model_id": "",
       "version_major": 2,
       "version_minor": 0
      },
      "text/plain": [
       "HBox(children=(HTML(value='Validating'), FloatProgress(value=1.0, bar_style='info', layout=Layout(flex='2'), m…"
      ]
     },
     "metadata": {},
     "output_type": "display_data"
    },
    {
     "data": {
      "application/vnd.jupyter.widget-view+json": {
       "model_id": "",
       "version_major": 2,
       "version_minor": 0
      },
      "text/plain": [
       "HBox(children=(HTML(value='Validating'), FloatProgress(value=1.0, bar_style='info', layout=Layout(flex='2'), m…"
      ]
     },
     "metadata": {},
     "output_type": "display_data"
    },
    {
     "data": {
      "application/vnd.jupyter.widget-view+json": {
       "model_id": "",
       "version_major": 2,
       "version_minor": 0
      },
      "text/plain": [
       "HBox(children=(HTML(value='Validating'), FloatProgress(value=1.0, bar_style='info', layout=Layout(flex='2'), m…"
      ]
     },
     "metadata": {},
     "output_type": "display_data"
    },
    {
     "data": {
      "application/vnd.jupyter.widget-view+json": {
       "model_id": "",
       "version_major": 2,
       "version_minor": 0
      },
      "text/plain": [
       "HBox(children=(HTML(value='Validating'), FloatProgress(value=1.0, bar_style='info', layout=Layout(flex='2'), m…"
      ]
     },
     "metadata": {},
     "output_type": "display_data"
    },
    {
     "data": {
      "application/vnd.jupyter.widget-view+json": {
       "model_id": "",
       "version_major": 2,
       "version_minor": 0
      },
      "text/plain": [
       "HBox(children=(HTML(value='Validating'), FloatProgress(value=1.0, bar_style='info', layout=Layout(flex='2'), m…"
      ]
     },
     "metadata": {},
     "output_type": "display_data"
    },
    {
     "data": {
      "application/vnd.jupyter.widget-view+json": {
       "model_id": "",
       "version_major": 2,
       "version_minor": 0
      },
      "text/plain": [
       "HBox(children=(HTML(value='Validating'), FloatProgress(value=1.0, bar_style='info', layout=Layout(flex='2'), m…"
      ]
     },
     "metadata": {},
     "output_type": "display_data"
    },
    {
     "data": {
      "application/vnd.jupyter.widget-view+json": {
       "model_id": "",
       "version_major": 2,
       "version_minor": 0
      },
      "text/plain": [
       "HBox(children=(HTML(value='Validating'), FloatProgress(value=1.0, bar_style='info', layout=Layout(flex='2'), m…"
      ]
     },
     "metadata": {},
     "output_type": "display_data"
    },
    {
     "data": {
      "application/vnd.jupyter.widget-view+json": {
       "model_id": "",
       "version_major": 2,
       "version_minor": 0
      },
      "text/plain": [
       "HBox(children=(HTML(value='Validating'), FloatProgress(value=1.0, bar_style='info', layout=Layout(flex='2'), m…"
      ]
     },
     "metadata": {},
     "output_type": "display_data"
    },
    {
     "data": {
      "application/vnd.jupyter.widget-view+json": {
       "model_id": "",
       "version_major": 2,
       "version_minor": 0
      },
      "text/plain": [
       "HBox(children=(HTML(value='Validating'), FloatProgress(value=1.0, bar_style='info', layout=Layout(flex='2'), m…"
      ]
     },
     "metadata": {},
     "output_type": "display_data"
    },
    {
     "data": {
      "application/vnd.jupyter.widget-view+json": {
       "model_id": "",
       "version_major": 2,
       "version_minor": 0
      },
      "text/plain": [
       "HBox(children=(HTML(value='Validating'), FloatProgress(value=1.0, bar_style='info', layout=Layout(flex='2'), m…"
      ]
     },
     "metadata": {},
     "output_type": "display_data"
    },
    {
     "data": {
      "application/vnd.jupyter.widget-view+json": {
       "model_id": "",
       "version_major": 2,
       "version_minor": 0
      },
      "text/plain": [
       "HBox(children=(HTML(value='Validating'), FloatProgress(value=1.0, bar_style='info', layout=Layout(flex='2'), m…"
      ]
     },
     "metadata": {},
     "output_type": "display_data"
    },
    {
     "data": {
      "application/vnd.jupyter.widget-view+json": {
       "model_id": "",
       "version_major": 2,
       "version_minor": 0
      },
      "text/plain": [
       "HBox(children=(HTML(value='Validating'), FloatProgress(value=1.0, bar_style='info', layout=Layout(flex='2'), m…"
      ]
     },
     "metadata": {},
     "output_type": "display_data"
    },
    {
     "data": {
      "application/vnd.jupyter.widget-view+json": {
       "model_id": "",
       "version_major": 2,
       "version_minor": 0
      },
      "text/plain": [
       "HBox(children=(HTML(value='Validating'), FloatProgress(value=1.0, bar_style='info', layout=Layout(flex='2'), m…"
      ]
     },
     "metadata": {},
     "output_type": "display_data"
    },
    {
     "data": {
      "application/vnd.jupyter.widget-view+json": {
       "model_id": "",
       "version_major": 2,
       "version_minor": 0
      },
      "text/plain": [
       "HBox(children=(HTML(value='Validating'), FloatProgress(value=1.0, bar_style='info', layout=Layout(flex='2'), m…"
      ]
     },
     "metadata": {},
     "output_type": "display_data"
    },
    {
     "data": {
      "application/vnd.jupyter.widget-view+json": {
       "model_id": "",
       "version_major": 2,
       "version_minor": 0
      },
      "text/plain": [
       "HBox(children=(HTML(value='Validating'), FloatProgress(value=1.0, bar_style='info', layout=Layout(flex='2'), m…"
      ]
     },
     "metadata": {},
     "output_type": "display_data"
    },
    {
     "data": {
      "application/vnd.jupyter.widget-view+json": {
       "model_id": "",
       "version_major": 2,
       "version_minor": 0
      },
      "text/plain": [
       "HBox(children=(HTML(value='Validating'), FloatProgress(value=1.0, bar_style='info', layout=Layout(flex='2'), m…"
      ]
     },
     "metadata": {},
     "output_type": "display_data"
    },
    {
     "data": {
      "application/vnd.jupyter.widget-view+json": {
       "model_id": "",
       "version_major": 2,
       "version_minor": 0
      },
      "text/plain": [
       "HBox(children=(HTML(value='Validating'), FloatProgress(value=1.0, bar_style='info', layout=Layout(flex='2'), m…"
      ]
     },
     "metadata": {},
     "output_type": "display_data"
    },
    {
     "data": {
      "application/vnd.jupyter.widget-view+json": {
       "model_id": "",
       "version_major": 2,
       "version_minor": 0
      },
      "text/plain": [
       "HBox(children=(HTML(value='Validating'), FloatProgress(value=1.0, bar_style='info', layout=Layout(flex='2'), m…"
      ]
     },
     "metadata": {},
     "output_type": "display_data"
    },
    {
     "data": {
      "application/vnd.jupyter.widget-view+json": {
       "model_id": "",
       "version_major": 2,
       "version_minor": 0
      },
      "text/plain": [
       "HBox(children=(HTML(value='Validating'), FloatProgress(value=1.0, bar_style='info', layout=Layout(flex='2'), m…"
      ]
     },
     "metadata": {},
     "output_type": "display_data"
    },
    {
     "data": {
      "application/vnd.jupyter.widget-view+json": {
       "model_id": "",
       "version_major": 2,
       "version_minor": 0
      },
      "text/plain": [
       "HBox(children=(HTML(value='Validating'), FloatProgress(value=1.0, bar_style='info', layout=Layout(flex='2'), m…"
      ]
     },
     "metadata": {},
     "output_type": "display_data"
    },
    {
     "data": {
      "application/vnd.jupyter.widget-view+json": {
       "model_id": "",
       "version_major": 2,
       "version_minor": 0
      },
      "text/plain": [
       "HBox(children=(HTML(value='Validating'), FloatProgress(value=1.0, bar_style='info', layout=Layout(flex='2'), m…"
      ]
     },
     "metadata": {},
     "output_type": "display_data"
    },
    {
     "data": {
      "application/vnd.jupyter.widget-view+json": {
       "model_id": "",
       "version_major": 2,
       "version_minor": 0
      },
      "text/plain": [
       "HBox(children=(HTML(value='Validating'), FloatProgress(value=1.0, bar_style='info', layout=Layout(flex='2'), m…"
      ]
     },
     "metadata": {},
     "output_type": "display_data"
    },
    {
     "data": {
      "application/vnd.jupyter.widget-view+json": {
       "model_id": "",
       "version_major": 2,
       "version_minor": 0
      },
      "text/plain": [
       "HBox(children=(HTML(value='Validating'), FloatProgress(value=1.0, bar_style='info', layout=Layout(flex='2'), m…"
      ]
     },
     "metadata": {},
     "output_type": "display_data"
    },
    {
     "data": {
      "application/vnd.jupyter.widget-view+json": {
       "model_id": "",
       "version_major": 2,
       "version_minor": 0
      },
      "text/plain": [
       "HBox(children=(HTML(value='Validating'), FloatProgress(value=1.0, bar_style='info', layout=Layout(flex='2'), m…"
      ]
     },
     "metadata": {},
     "output_type": "display_data"
    },
    {
     "data": {
      "application/vnd.jupyter.widget-view+json": {
       "model_id": "",
       "version_major": 2,
       "version_minor": 0
      },
      "text/plain": [
       "HBox(children=(HTML(value='Validating'), FloatProgress(value=1.0, bar_style='info', layout=Layout(flex='2'), m…"
      ]
     },
     "metadata": {},
     "output_type": "display_data"
    },
    {
     "data": {
      "application/vnd.jupyter.widget-view+json": {
       "model_id": "",
       "version_major": 2,
       "version_minor": 0
      },
      "text/plain": [
       "HBox(children=(HTML(value='Validating'), FloatProgress(value=1.0, bar_style='info', layout=Layout(flex='2'), m…"
      ]
     },
     "metadata": {},
     "output_type": "display_data"
    },
    {
     "data": {
      "application/vnd.jupyter.widget-view+json": {
       "model_id": "",
       "version_major": 2,
       "version_minor": 0
      },
      "text/plain": [
       "HBox(children=(HTML(value='Validating'), FloatProgress(value=1.0, bar_style='info', layout=Layout(flex='2'), m…"
      ]
     },
     "metadata": {},
     "output_type": "display_data"
    },
    {
     "data": {
      "application/vnd.jupyter.widget-view+json": {
       "model_id": "",
       "version_major": 2,
       "version_minor": 0
      },
      "text/plain": [
       "HBox(children=(HTML(value='Validating'), FloatProgress(value=1.0, bar_style='info', layout=Layout(flex='2'), m…"
      ]
     },
     "metadata": {},
     "output_type": "display_data"
    },
    {
     "data": {
      "application/vnd.jupyter.widget-view+json": {
       "model_id": "",
       "version_major": 2,
       "version_minor": 0
      },
      "text/plain": [
       "HBox(children=(HTML(value='Validating'), FloatProgress(value=1.0, bar_style='info', layout=Layout(flex='2'), m…"
      ]
     },
     "metadata": {},
     "output_type": "display_data"
    },
    {
     "data": {
      "application/vnd.jupyter.widget-view+json": {
       "model_id": "",
       "version_major": 2,
       "version_minor": 0
      },
      "text/plain": [
       "HBox(children=(HTML(value='Validating'), FloatProgress(value=1.0, bar_style='info', layout=Layout(flex='2'), m…"
      ]
     },
     "metadata": {},
     "output_type": "display_data"
    },
    {
     "data": {
      "application/vnd.jupyter.widget-view+json": {
       "model_id": "",
       "version_major": 2,
       "version_minor": 0
      },
      "text/plain": [
       "HBox(children=(HTML(value='Validating'), FloatProgress(value=1.0, bar_style='info', layout=Layout(flex='2'), m…"
      ]
     },
     "metadata": {},
     "output_type": "display_data"
    },
    {
     "data": {
      "application/vnd.jupyter.widget-view+json": {
       "model_id": "",
       "version_major": 2,
       "version_minor": 0
      },
      "text/plain": [
       "HBox(children=(HTML(value='Validating'), FloatProgress(value=1.0, bar_style='info', layout=Layout(flex='2'), m…"
      ]
     },
     "metadata": {},
     "output_type": "display_data"
    },
    {
     "data": {
      "application/vnd.jupyter.widget-view+json": {
       "model_id": "",
       "version_major": 2,
       "version_minor": 0
      },
      "text/plain": [
       "HBox(children=(HTML(value='Validating'), FloatProgress(value=1.0, bar_style='info', layout=Layout(flex='2'), m…"
      ]
     },
     "metadata": {},
     "output_type": "display_data"
    },
    {
     "data": {
      "application/vnd.jupyter.widget-view+json": {
       "model_id": "",
       "version_major": 2,
       "version_minor": 0
      },
      "text/plain": [
       "HBox(children=(HTML(value='Validating'), FloatProgress(value=1.0, bar_style='info', layout=Layout(flex='2'), m…"
      ]
     },
     "metadata": {},
     "output_type": "display_data"
    },
    {
     "data": {
      "application/vnd.jupyter.widget-view+json": {
       "model_id": "",
       "version_major": 2,
       "version_minor": 0
      },
      "text/plain": [
       "HBox(children=(HTML(value='Validating'), FloatProgress(value=1.0, bar_style='info', layout=Layout(flex='2'), m…"
      ]
     },
     "metadata": {},
     "output_type": "display_data"
    },
    {
     "data": {
      "application/vnd.jupyter.widget-view+json": {
       "model_id": "",
       "version_major": 2,
       "version_minor": 0
      },
      "text/plain": [
       "HBox(children=(HTML(value='Validating'), FloatProgress(value=1.0, bar_style='info', layout=Layout(flex='2'), m…"
      ]
     },
     "metadata": {},
     "output_type": "display_data"
    },
    {
     "data": {
      "application/vnd.jupyter.widget-view+json": {
       "model_id": "",
       "version_major": 2,
       "version_minor": 0
      },
      "text/plain": [
       "HBox(children=(HTML(value='Validating'), FloatProgress(value=1.0, bar_style='info', layout=Layout(flex='2'), m…"
      ]
     },
     "metadata": {},
     "output_type": "display_data"
    },
    {
     "data": {
      "application/vnd.jupyter.widget-view+json": {
       "model_id": "",
       "version_major": 2,
       "version_minor": 0
      },
      "text/plain": [
       "HBox(children=(HTML(value='Validating'), FloatProgress(value=1.0, bar_style='info', layout=Layout(flex='2'), m…"
      ]
     },
     "metadata": {},
     "output_type": "display_data"
    },
    {
     "data": {
      "application/vnd.jupyter.widget-view+json": {
       "model_id": "",
       "version_major": 2,
       "version_minor": 0
      },
      "text/plain": [
       "HBox(children=(HTML(value='Validating'), FloatProgress(value=1.0, bar_style='info', layout=Layout(flex='2'), m…"
      ]
     },
     "metadata": {},
     "output_type": "display_data"
    },
    {
     "data": {
      "application/vnd.jupyter.widget-view+json": {
       "model_id": "",
       "version_major": 2,
       "version_minor": 0
      },
      "text/plain": [
       "HBox(children=(HTML(value='Validating'), FloatProgress(value=1.0, bar_style='info', layout=Layout(flex='2'), m…"
      ]
     },
     "metadata": {},
     "output_type": "display_data"
    },
    {
     "data": {
      "application/vnd.jupyter.widget-view+json": {
       "model_id": "",
       "version_major": 2,
       "version_minor": 0
      },
      "text/plain": [
       "HBox(children=(HTML(value='Validating'), FloatProgress(value=1.0, bar_style='info', layout=Layout(flex='2'), m…"
      ]
     },
     "metadata": {},
     "output_type": "display_data"
    },
    {
     "data": {
      "application/vnd.jupyter.widget-view+json": {
       "model_id": "",
       "version_major": 2,
       "version_minor": 0
      },
      "text/plain": [
       "HBox(children=(HTML(value='Validating'), FloatProgress(value=1.0, bar_style='info', layout=Layout(flex='2'), m…"
      ]
     },
     "metadata": {},
     "output_type": "display_data"
    },
    {
     "data": {
      "application/vnd.jupyter.widget-view+json": {
       "model_id": "",
       "version_major": 2,
       "version_minor": 0
      },
      "text/plain": [
       "HBox(children=(HTML(value='Validating'), FloatProgress(value=1.0, bar_style='info', layout=Layout(flex='2'), m…"
      ]
     },
     "metadata": {},
     "output_type": "display_data"
    },
    {
     "data": {
      "application/vnd.jupyter.widget-view+json": {
       "model_id": "",
       "version_major": 2,
       "version_minor": 0
      },
      "text/plain": [
       "HBox(children=(HTML(value='Validating'), FloatProgress(value=1.0, bar_style='info', layout=Layout(flex='2'), m…"
      ]
     },
     "metadata": {},
     "output_type": "display_data"
    },
    {
     "data": {
      "application/vnd.jupyter.widget-view+json": {
       "model_id": "",
       "version_major": 2,
       "version_minor": 0
      },
      "text/plain": [
       "HBox(children=(HTML(value='Validating'), FloatProgress(value=1.0, bar_style='info', layout=Layout(flex='2'), m…"
      ]
     },
     "metadata": {},
     "output_type": "display_data"
    },
    {
     "data": {
      "application/vnd.jupyter.widget-view+json": {
       "model_id": "",
       "version_major": 2,
       "version_minor": 0
      },
      "text/plain": [
       "HBox(children=(HTML(value='Validating'), FloatProgress(value=1.0, bar_style='info', layout=Layout(flex='2'), m…"
      ]
     },
     "metadata": {},
     "output_type": "display_data"
    },
    {
     "data": {
      "application/vnd.jupyter.widget-view+json": {
       "model_id": "",
       "version_major": 2,
       "version_minor": 0
      },
      "text/plain": [
       "HBox(children=(HTML(value='Validating'), FloatProgress(value=1.0, bar_style='info', layout=Layout(flex='2'), m…"
      ]
     },
     "metadata": {},
     "output_type": "display_data"
    },
    {
     "data": {
      "application/vnd.jupyter.widget-view+json": {
       "model_id": "",
       "version_major": 2,
       "version_minor": 0
      },
      "text/plain": [
       "HBox(children=(HTML(value='Validating'), FloatProgress(value=1.0, bar_style='info', layout=Layout(flex='2'), m…"
      ]
     },
     "metadata": {},
     "output_type": "display_data"
    },
    {
     "data": {
      "application/vnd.jupyter.widget-view+json": {
       "model_id": "",
       "version_major": 2,
       "version_minor": 0
      },
      "text/plain": [
       "HBox(children=(HTML(value='Validating'), FloatProgress(value=1.0, bar_style='info', layout=Layout(flex='2'), m…"
      ]
     },
     "metadata": {},
     "output_type": "display_data"
    },
    {
     "data": {
      "application/vnd.jupyter.widget-view+json": {
       "model_id": "",
       "version_major": 2,
       "version_minor": 0
      },
      "text/plain": [
       "HBox(children=(HTML(value='Validating'), FloatProgress(value=1.0, bar_style='info', layout=Layout(flex='2'), m…"
      ]
     },
     "metadata": {},
     "output_type": "display_data"
    },
    {
     "data": {
      "application/vnd.jupyter.widget-view+json": {
       "model_id": "",
       "version_major": 2,
       "version_minor": 0
      },
      "text/plain": [
       "HBox(children=(HTML(value='Validating'), FloatProgress(value=1.0, bar_style='info', layout=Layout(flex='2'), m…"
      ]
     },
     "metadata": {},
     "output_type": "display_data"
    },
    {
     "data": {
      "application/vnd.jupyter.widget-view+json": {
       "model_id": "",
       "version_major": 2,
       "version_minor": 0
      },
      "text/plain": [
       "HBox(children=(HTML(value='Validating'), FloatProgress(value=1.0, bar_style='info', layout=Layout(flex='2'), m…"
      ]
     },
     "metadata": {},
     "output_type": "display_data"
    },
    {
     "data": {
      "application/vnd.jupyter.widget-view+json": {
       "model_id": "",
       "version_major": 2,
       "version_minor": 0
      },
      "text/plain": [
       "HBox(children=(HTML(value='Validating'), FloatProgress(value=1.0, bar_style='info', layout=Layout(flex='2'), m…"
      ]
     },
     "metadata": {},
     "output_type": "display_data"
    },
    {
     "data": {
      "application/vnd.jupyter.widget-view+json": {
       "model_id": "",
       "version_major": 2,
       "version_minor": 0
      },
      "text/plain": [
       "HBox(children=(HTML(value='Validating'), FloatProgress(value=1.0, bar_style='info', layout=Layout(flex='2'), m…"
      ]
     },
     "metadata": {},
     "output_type": "display_data"
    },
    {
     "data": {
      "application/vnd.jupyter.widget-view+json": {
       "model_id": "",
       "version_major": 2,
       "version_minor": 0
      },
      "text/plain": [
       "HBox(children=(HTML(value='Validating'), FloatProgress(value=1.0, bar_style='info', layout=Layout(flex='2'), m…"
      ]
     },
     "metadata": {},
     "output_type": "display_data"
    },
    {
     "data": {
      "application/vnd.jupyter.widget-view+json": {
       "model_id": "",
       "version_major": 2,
       "version_minor": 0
      },
      "text/plain": [
       "HBox(children=(HTML(value='Validating'), FloatProgress(value=1.0, bar_style='info', layout=Layout(flex='2'), m…"
      ]
     },
     "metadata": {},
     "output_type": "display_data"
    },
    {
     "data": {
      "application/vnd.jupyter.widget-view+json": {
       "model_id": "",
       "version_major": 2,
       "version_minor": 0
      },
      "text/plain": [
       "HBox(children=(HTML(value='Validating'), FloatProgress(value=1.0, bar_style='info', layout=Layout(flex='2'), m…"
      ]
     },
     "metadata": {},
     "output_type": "display_data"
    },
    {
     "data": {
      "application/vnd.jupyter.widget-view+json": {
       "model_id": "",
       "version_major": 2,
       "version_minor": 0
      },
      "text/plain": [
       "HBox(children=(HTML(value='Validating'), FloatProgress(value=1.0, bar_style='info', layout=Layout(flex='2'), m…"
      ]
     },
     "metadata": {},
     "output_type": "display_data"
    },
    {
     "data": {
      "application/vnd.jupyter.widget-view+json": {
       "model_id": "",
       "version_major": 2,
       "version_minor": 0
      },
      "text/plain": [
       "HBox(children=(HTML(value='Validating'), FloatProgress(value=1.0, bar_style='info', layout=Layout(flex='2'), m…"
      ]
     },
     "metadata": {},
     "output_type": "display_data"
    },
    {
     "data": {
      "application/vnd.jupyter.widget-view+json": {
       "model_id": "",
       "version_major": 2,
       "version_minor": 0
      },
      "text/plain": [
       "HBox(children=(HTML(value='Validating'), FloatProgress(value=1.0, bar_style='info', layout=Layout(flex='2'), m…"
      ]
     },
     "metadata": {},
     "output_type": "display_data"
    },
    {
     "data": {
      "application/vnd.jupyter.widget-view+json": {
       "model_id": "",
       "version_major": 2,
       "version_minor": 0
      },
      "text/plain": [
       "HBox(children=(HTML(value='Validating'), FloatProgress(value=1.0, bar_style='info', layout=Layout(flex='2'), m…"
      ]
     },
     "metadata": {},
     "output_type": "display_data"
    },
    {
     "data": {
      "application/vnd.jupyter.widget-view+json": {
       "model_id": "",
       "version_major": 2,
       "version_minor": 0
      },
      "text/plain": [
       "HBox(children=(HTML(value='Validating'), FloatProgress(value=1.0, bar_style='info', layout=Layout(flex='2'), m…"
      ]
     },
     "metadata": {},
     "output_type": "display_data"
    },
    {
     "data": {
      "application/vnd.jupyter.widget-view+json": {
       "model_id": "",
       "version_major": 2,
       "version_minor": 0
      },
      "text/plain": [
       "HBox(children=(HTML(value='Validating'), FloatProgress(value=1.0, bar_style='info', layout=Layout(flex='2'), m…"
      ]
     },
     "metadata": {},
     "output_type": "display_data"
    },
    {
     "data": {
      "application/vnd.jupyter.widget-view+json": {
       "model_id": "",
       "version_major": 2,
       "version_minor": 0
      },
      "text/plain": [
       "HBox(children=(HTML(value='Validating'), FloatProgress(value=1.0, bar_style='info', layout=Layout(flex='2'), m…"
      ]
     },
     "metadata": {},
     "output_type": "display_data"
    },
    {
     "data": {
      "application/vnd.jupyter.widget-view+json": {
       "model_id": "",
       "version_major": 2,
       "version_minor": 0
      },
      "text/plain": [
       "HBox(children=(HTML(value='Validating'), FloatProgress(value=1.0, bar_style='info', layout=Layout(flex='2'), m…"
      ]
     },
     "metadata": {},
     "output_type": "display_data"
    },
    {
     "data": {
      "application/vnd.jupyter.widget-view+json": {
       "model_id": "",
       "version_major": 2,
       "version_minor": 0
      },
      "text/plain": [
       "HBox(children=(HTML(value='Validating'), FloatProgress(value=1.0, bar_style='info', layout=Layout(flex='2'), m…"
      ]
     },
     "metadata": {},
     "output_type": "display_data"
    },
    {
     "data": {
      "application/vnd.jupyter.widget-view+json": {
       "model_id": "",
       "version_major": 2,
       "version_minor": 0
      },
      "text/plain": [
       "HBox(children=(HTML(value='Validating'), FloatProgress(value=1.0, bar_style='info', layout=Layout(flex='2'), m…"
      ]
     },
     "metadata": {},
     "output_type": "display_data"
    },
    {
     "data": {
      "application/vnd.jupyter.widget-view+json": {
       "model_id": "",
       "version_major": 2,
       "version_minor": 0
      },
      "text/plain": [
       "HBox(children=(HTML(value='Validating'), FloatProgress(value=1.0, bar_style='info', layout=Layout(flex='2'), m…"
      ]
     },
     "metadata": {},
     "output_type": "display_data"
    },
    {
     "data": {
      "application/vnd.jupyter.widget-view+json": {
       "model_id": "",
       "version_major": 2,
       "version_minor": 0
      },
      "text/plain": [
       "HBox(children=(HTML(value='Validating'), FloatProgress(value=1.0, bar_style='info', layout=Layout(flex='2'), m…"
      ]
     },
     "metadata": {},
     "output_type": "display_data"
    },
    {
     "data": {
      "application/vnd.jupyter.widget-view+json": {
       "model_id": "",
       "version_major": 2,
       "version_minor": 0
      },
      "text/plain": [
       "HBox(children=(HTML(value='Validating'), FloatProgress(value=1.0, bar_style='info', layout=Layout(flex='2'), m…"
      ]
     },
     "metadata": {},
     "output_type": "display_data"
    },
    {
     "data": {
      "application/vnd.jupyter.widget-view+json": {
       "model_id": "",
       "version_major": 2,
       "version_minor": 0
      },
      "text/plain": [
       "HBox(children=(HTML(value='Validating'), FloatProgress(value=1.0, bar_style='info', layout=Layout(flex='2'), m…"
      ]
     },
     "metadata": {},
     "output_type": "display_data"
    },
    {
     "data": {
      "application/vnd.jupyter.widget-view+json": {
       "model_id": "",
       "version_major": 2,
       "version_minor": 0
      },
      "text/plain": [
       "HBox(children=(HTML(value='Validating'), FloatProgress(value=1.0, bar_style='info', layout=Layout(flex='2'), m…"
      ]
     },
     "metadata": {},
     "output_type": "display_data"
    },
    {
     "data": {
      "application/vnd.jupyter.widget-view+json": {
       "model_id": "",
       "version_major": 2,
       "version_minor": 0
      },
      "text/plain": [
       "HBox(children=(HTML(value='Validating'), FloatProgress(value=1.0, bar_style='info', layout=Layout(flex='2'), m…"
      ]
     },
     "metadata": {},
     "output_type": "display_data"
    },
    {
     "data": {
      "application/vnd.jupyter.widget-view+json": {
       "model_id": "",
       "version_major": 2,
       "version_minor": 0
      },
      "text/plain": [
       "HBox(children=(HTML(value='Validating'), FloatProgress(value=1.0, bar_style='info', layout=Layout(flex='2'), m…"
      ]
     },
     "metadata": {},
     "output_type": "display_data"
    },
    {
     "data": {
      "application/vnd.jupyter.widget-view+json": {
       "model_id": "",
       "version_major": 2,
       "version_minor": 0
      },
      "text/plain": [
       "HBox(children=(HTML(value='Validating'), FloatProgress(value=1.0, bar_style='info', layout=Layout(flex='2'), m…"
      ]
     },
     "metadata": {},
     "output_type": "display_data"
    },
    {
     "data": {
      "application/vnd.jupyter.widget-view+json": {
       "model_id": "",
       "version_major": 2,
       "version_minor": 0
      },
      "text/plain": [
       "HBox(children=(HTML(value='Validating'), FloatProgress(value=1.0, bar_style='info', layout=Layout(flex='2'), m…"
      ]
     },
     "metadata": {},
     "output_type": "display_data"
    },
    {
     "data": {
      "application/vnd.jupyter.widget-view+json": {
       "model_id": "",
       "version_major": 2,
       "version_minor": 0
      },
      "text/plain": [
       "HBox(children=(HTML(value='Validating'), FloatProgress(value=1.0, bar_style='info', layout=Layout(flex='2'), m…"
      ]
     },
     "metadata": {},
     "output_type": "display_data"
    },
    {
     "data": {
      "application/vnd.jupyter.widget-view+json": {
       "model_id": "",
       "version_major": 2,
       "version_minor": 0
      },
      "text/plain": [
       "HBox(children=(HTML(value='Validating'), FloatProgress(value=1.0, bar_style='info', layout=Layout(flex='2'), m…"
      ]
     },
     "metadata": {},
     "output_type": "display_data"
    },
    {
     "data": {
      "application/vnd.jupyter.widget-view+json": {
       "model_id": "",
       "version_major": 2,
       "version_minor": 0
      },
      "text/plain": [
       "HBox(children=(HTML(value='Validating'), FloatProgress(value=1.0, bar_style='info', layout=Layout(flex='2'), m…"
      ]
     },
     "metadata": {},
     "output_type": "display_data"
    },
    {
     "data": {
      "application/vnd.jupyter.widget-view+json": {
       "model_id": "",
       "version_major": 2,
       "version_minor": 0
      },
      "text/plain": [
       "HBox(children=(HTML(value='Validating'), FloatProgress(value=1.0, bar_style='info', layout=Layout(flex='2'), m…"
      ]
     },
     "metadata": {},
     "output_type": "display_data"
    },
    {
     "data": {
      "application/vnd.jupyter.widget-view+json": {
       "model_id": "",
       "version_major": 2,
       "version_minor": 0
      },
      "text/plain": [
       "HBox(children=(HTML(value='Validating'), FloatProgress(value=1.0, bar_style='info', layout=Layout(flex='2'), m…"
      ]
     },
     "metadata": {},
     "output_type": "display_data"
    },
    {
     "data": {
      "application/vnd.jupyter.widget-view+json": {
       "model_id": "",
       "version_major": 2,
       "version_minor": 0
      },
      "text/plain": [
       "HBox(children=(HTML(value='Validating'), FloatProgress(value=1.0, bar_style='info', layout=Layout(flex='2'), m…"
      ]
     },
     "metadata": {},
     "output_type": "display_data"
    },
    {
     "data": {
      "application/vnd.jupyter.widget-view+json": {
       "model_id": "",
       "version_major": 2,
       "version_minor": 0
      },
      "text/plain": [
       "HBox(children=(HTML(value='Validating'), FloatProgress(value=1.0, bar_style='info', layout=Layout(flex='2'), m…"
      ]
     },
     "metadata": {},
     "output_type": "display_data"
    },
    {
     "data": {
      "application/vnd.jupyter.widget-view+json": {
       "model_id": "",
       "version_major": 2,
       "version_minor": 0
      },
      "text/plain": [
       "HBox(children=(HTML(value='Validating'), FloatProgress(value=1.0, bar_style='info', layout=Layout(flex='2'), m…"
      ]
     },
     "metadata": {},
     "output_type": "display_data"
    },
    {
     "data": {
      "application/vnd.jupyter.widget-view+json": {
       "model_id": "",
       "version_major": 2,
       "version_minor": 0
      },
      "text/plain": [
       "HBox(children=(HTML(value='Validating'), FloatProgress(value=1.0, bar_style='info', layout=Layout(flex='2'), m…"
      ]
     },
     "metadata": {},
     "output_type": "display_data"
    },
    {
     "data": {
      "application/vnd.jupyter.widget-view+json": {
       "model_id": "",
       "version_major": 2,
       "version_minor": 0
      },
      "text/plain": [
       "HBox(children=(HTML(value='Validating'), FloatProgress(value=1.0, bar_style='info', layout=Layout(flex='2'), m…"
      ]
     },
     "metadata": {},
     "output_type": "display_data"
    },
    {
     "data": {
      "application/vnd.jupyter.widget-view+json": {
       "model_id": "",
       "version_major": 2,
       "version_minor": 0
      },
      "text/plain": [
       "HBox(children=(HTML(value='Validating'), FloatProgress(value=1.0, bar_style='info', layout=Layout(flex='2'), m…"
      ]
     },
     "metadata": {},
     "output_type": "display_data"
    },
    {
     "data": {
      "application/vnd.jupyter.widget-view+json": {
       "model_id": "",
       "version_major": 2,
       "version_minor": 0
      },
      "text/plain": [
       "HBox(children=(HTML(value='Validating'), FloatProgress(value=1.0, bar_style='info', layout=Layout(flex='2'), m…"
      ]
     },
     "metadata": {},
     "output_type": "display_data"
    },
    {
     "data": {
      "application/vnd.jupyter.widget-view+json": {
       "model_id": "",
       "version_major": 2,
       "version_minor": 0
      },
      "text/plain": [
       "HBox(children=(HTML(value='Validating'), FloatProgress(value=1.0, bar_style='info', layout=Layout(flex='2'), m…"
      ]
     },
     "metadata": {},
     "output_type": "display_data"
    },
    {
     "data": {
      "application/vnd.jupyter.widget-view+json": {
       "model_id": "",
       "version_major": 2,
       "version_minor": 0
      },
      "text/plain": [
       "HBox(children=(HTML(value='Validating'), FloatProgress(value=1.0, bar_style='info', layout=Layout(flex='2'), m…"
      ]
     },
     "metadata": {},
     "output_type": "display_data"
    },
    {
     "data": {
      "application/vnd.jupyter.widget-view+json": {
       "model_id": "",
       "version_major": 2,
       "version_minor": 0
      },
      "text/plain": [
       "HBox(children=(HTML(value='Validating'), FloatProgress(value=1.0, bar_style='info', layout=Layout(flex='2'), m…"
      ]
     },
     "metadata": {},
     "output_type": "display_data"
    },
    {
     "data": {
      "application/vnd.jupyter.widget-view+json": {
       "model_id": "",
       "version_major": 2,
       "version_minor": 0
      },
      "text/plain": [
       "HBox(children=(HTML(value='Validating'), FloatProgress(value=1.0, bar_style='info', layout=Layout(flex='2'), m…"
      ]
     },
     "metadata": {},
     "output_type": "display_data"
    },
    {
     "data": {
      "application/vnd.jupyter.widget-view+json": {
       "model_id": "",
       "version_major": 2,
       "version_minor": 0
      },
      "text/plain": [
       "HBox(children=(HTML(value='Validating'), FloatProgress(value=1.0, bar_style='info', layout=Layout(flex='2'), m…"
      ]
     },
     "metadata": {},
     "output_type": "display_data"
    },
    {
     "data": {
      "application/vnd.jupyter.widget-view+json": {
       "model_id": "",
       "version_major": 2,
       "version_minor": 0
      },
      "text/plain": [
       "HBox(children=(HTML(value='Validating'), FloatProgress(value=1.0, bar_style='info', layout=Layout(flex='2'), m…"
      ]
     },
     "metadata": {},
     "output_type": "display_data"
    },
    {
     "data": {
      "application/vnd.jupyter.widget-view+json": {
       "model_id": "",
       "version_major": 2,
       "version_minor": 0
      },
      "text/plain": [
       "HBox(children=(HTML(value='Validating'), FloatProgress(value=1.0, bar_style='info', layout=Layout(flex='2'), m…"
      ]
     },
     "metadata": {},
     "output_type": "display_data"
    },
    {
     "data": {
      "application/vnd.jupyter.widget-view+json": {
       "model_id": "",
       "version_major": 2,
       "version_minor": 0
      },
      "text/plain": [
       "HBox(children=(HTML(value='Validating'), FloatProgress(value=1.0, bar_style='info', layout=Layout(flex='2'), m…"
      ]
     },
     "metadata": {},
     "output_type": "display_data"
    },
    {
     "data": {
      "application/vnd.jupyter.widget-view+json": {
       "model_id": "",
       "version_major": 2,
       "version_minor": 0
      },
      "text/plain": [
       "HBox(children=(HTML(value='Validating'), FloatProgress(value=1.0, bar_style='info', layout=Layout(flex='2'), m…"
      ]
     },
     "metadata": {},
     "output_type": "display_data"
    },
    {
     "data": {
      "application/vnd.jupyter.widget-view+json": {
       "model_id": "",
       "version_major": 2,
       "version_minor": 0
      },
      "text/plain": [
       "HBox(children=(HTML(value='Validating'), FloatProgress(value=1.0, bar_style='info', layout=Layout(flex='2'), m…"
      ]
     },
     "metadata": {},
     "output_type": "display_data"
    },
    {
     "data": {
      "application/vnd.jupyter.widget-view+json": {
       "model_id": "",
       "version_major": 2,
       "version_minor": 0
      },
      "text/plain": [
       "HBox(children=(HTML(value='Validating'), FloatProgress(value=1.0, bar_style='info', layout=Layout(flex='2'), m…"
      ]
     },
     "metadata": {},
     "output_type": "display_data"
    },
    {
     "data": {
      "application/vnd.jupyter.widget-view+json": {
       "model_id": "",
       "version_major": 2,
       "version_minor": 0
      },
      "text/plain": [
       "HBox(children=(HTML(value='Validating'), FloatProgress(value=1.0, bar_style='info', layout=Layout(flex='2'), m…"
      ]
     },
     "metadata": {},
     "output_type": "display_data"
    },
    {
     "data": {
      "application/vnd.jupyter.widget-view+json": {
       "model_id": "",
       "version_major": 2,
       "version_minor": 0
      },
      "text/plain": [
       "HBox(children=(HTML(value='Validating'), FloatProgress(value=1.0, bar_style='info', layout=Layout(flex='2'), m…"
      ]
     },
     "metadata": {},
     "output_type": "display_data"
    },
    {
     "data": {
      "application/vnd.jupyter.widget-view+json": {
       "model_id": "",
       "version_major": 2,
       "version_minor": 0
      },
      "text/plain": [
       "HBox(children=(HTML(value='Validating'), FloatProgress(value=1.0, bar_style='info', layout=Layout(flex='2'), m…"
      ]
     },
     "metadata": {},
     "output_type": "display_data"
    },
    {
     "data": {
      "application/vnd.jupyter.widget-view+json": {
       "model_id": "",
       "version_major": 2,
       "version_minor": 0
      },
      "text/plain": [
       "HBox(children=(HTML(value='Validating'), FloatProgress(value=1.0, bar_style='info', layout=Layout(flex='2'), m…"
      ]
     },
     "metadata": {},
     "output_type": "display_data"
    },
    {
     "data": {
      "application/vnd.jupyter.widget-view+json": {
       "model_id": "",
       "version_major": 2,
       "version_minor": 0
      },
      "text/plain": [
       "HBox(children=(HTML(value='Validating'), FloatProgress(value=1.0, bar_style='info', layout=Layout(flex='2'), m…"
      ]
     },
     "metadata": {},
     "output_type": "display_data"
    },
    {
     "data": {
      "application/vnd.jupyter.widget-view+json": {
       "model_id": "",
       "version_major": 2,
       "version_minor": 0
      },
      "text/plain": [
       "HBox(children=(HTML(value='Validating'), FloatProgress(value=1.0, bar_style='info', layout=Layout(flex='2'), m…"
      ]
     },
     "metadata": {},
     "output_type": "display_data"
    },
    {
     "data": {
      "application/vnd.jupyter.widget-view+json": {
       "model_id": "",
       "version_major": 2,
       "version_minor": 0
      },
      "text/plain": [
       "HBox(children=(HTML(value='Validating'), FloatProgress(value=1.0, bar_style='info', layout=Layout(flex='2'), m…"
      ]
     },
     "metadata": {},
     "output_type": "display_data"
    },
    {
     "data": {
      "application/vnd.jupyter.widget-view+json": {
       "model_id": "",
       "version_major": 2,
       "version_minor": 0
      },
      "text/plain": [
       "HBox(children=(HTML(value='Validating'), FloatProgress(value=1.0, bar_style='info', layout=Layout(flex='2'), m…"
      ]
     },
     "metadata": {},
     "output_type": "display_data"
    },
    {
     "data": {
      "application/vnd.jupyter.widget-view+json": {
       "model_id": "",
       "version_major": 2,
       "version_minor": 0
      },
      "text/plain": [
       "HBox(children=(HTML(value='Validating'), FloatProgress(value=1.0, bar_style='info', layout=Layout(flex='2'), m…"
      ]
     },
     "metadata": {},
     "output_type": "display_data"
    },
    {
     "data": {
      "application/vnd.jupyter.widget-view+json": {
       "model_id": "",
       "version_major": 2,
       "version_minor": 0
      },
      "text/plain": [
       "HBox(children=(HTML(value='Validating'), FloatProgress(value=1.0, bar_style='info', layout=Layout(flex='2'), m…"
      ]
     },
     "metadata": {},
     "output_type": "display_data"
    },
    {
     "data": {
      "application/vnd.jupyter.widget-view+json": {
       "model_id": "",
       "version_major": 2,
       "version_minor": 0
      },
      "text/plain": [
       "HBox(children=(HTML(value='Validating'), FloatProgress(value=1.0, bar_style='info', layout=Layout(flex='2'), m…"
      ]
     },
     "metadata": {},
     "output_type": "display_data"
    },
    {
     "data": {
      "application/vnd.jupyter.widget-view+json": {
       "model_id": "",
       "version_major": 2,
       "version_minor": 0
      },
      "text/plain": [
       "HBox(children=(HTML(value='Validating'), FloatProgress(value=1.0, bar_style='info', layout=Layout(flex='2'), m…"
      ]
     },
     "metadata": {},
     "output_type": "display_data"
    },
    {
     "data": {
      "application/vnd.jupyter.widget-view+json": {
       "model_id": "",
       "version_major": 2,
       "version_minor": 0
      },
      "text/plain": [
       "HBox(children=(HTML(value='Validating'), FloatProgress(value=1.0, bar_style='info', layout=Layout(flex='2'), m…"
      ]
     },
     "metadata": {},
     "output_type": "display_data"
    },
    {
     "data": {
      "application/vnd.jupyter.widget-view+json": {
       "model_id": "",
       "version_major": 2,
       "version_minor": 0
      },
      "text/plain": [
       "HBox(children=(HTML(value='Validating'), FloatProgress(value=1.0, bar_style='info', layout=Layout(flex='2'), m…"
      ]
     },
     "metadata": {},
     "output_type": "display_data"
    },
    {
     "data": {
      "application/vnd.jupyter.widget-view+json": {
       "model_id": "",
       "version_major": 2,
       "version_minor": 0
      },
      "text/plain": [
       "HBox(children=(HTML(value='Validating'), FloatProgress(value=1.0, bar_style='info', layout=Layout(flex='2'), m…"
      ]
     },
     "metadata": {},
     "output_type": "display_data"
    },
    {
     "data": {
      "application/vnd.jupyter.widget-view+json": {
       "model_id": "",
       "version_major": 2,
       "version_minor": 0
      },
      "text/plain": [
       "HBox(children=(HTML(value='Validating'), FloatProgress(value=1.0, bar_style='info', layout=Layout(flex='2'), m…"
      ]
     },
     "metadata": {},
     "output_type": "display_data"
    },
    {
     "data": {
      "application/vnd.jupyter.widget-view+json": {
       "model_id": "",
       "version_major": 2,
       "version_minor": 0
      },
      "text/plain": [
       "HBox(children=(HTML(value='Validating'), FloatProgress(value=1.0, bar_style='info', layout=Layout(flex='2'), m…"
      ]
     },
     "metadata": {},
     "output_type": "display_data"
    },
    {
     "data": {
      "application/vnd.jupyter.widget-view+json": {
       "model_id": "",
       "version_major": 2,
       "version_minor": 0
      },
      "text/plain": [
       "HBox(children=(HTML(value='Validating'), FloatProgress(value=1.0, bar_style='info', layout=Layout(flex='2'), m…"
      ]
     },
     "metadata": {},
     "output_type": "display_data"
    },
    {
     "data": {
      "application/vnd.jupyter.widget-view+json": {
       "model_id": "",
       "version_major": 2,
       "version_minor": 0
      },
      "text/plain": [
       "HBox(children=(HTML(value='Validating'), FloatProgress(value=1.0, bar_style='info', layout=Layout(flex='2'), m…"
      ]
     },
     "metadata": {},
     "output_type": "display_data"
    },
    {
     "data": {
      "application/vnd.jupyter.widget-view+json": {
       "model_id": "",
       "version_major": 2,
       "version_minor": 0
      },
      "text/plain": [
       "HBox(children=(HTML(value='Validating'), FloatProgress(value=1.0, bar_style='info', layout=Layout(flex='2'), m…"
      ]
     },
     "metadata": {},
     "output_type": "display_data"
    },
    {
     "data": {
      "application/vnd.jupyter.widget-view+json": {
       "model_id": "",
       "version_major": 2,
       "version_minor": 0
      },
      "text/plain": [
       "HBox(children=(HTML(value='Validating'), FloatProgress(value=1.0, bar_style='info', layout=Layout(flex='2'), m…"
      ]
     },
     "metadata": {},
     "output_type": "display_data"
    },
    {
     "data": {
      "application/vnd.jupyter.widget-view+json": {
       "model_id": "",
       "version_major": 2,
       "version_minor": 0
      },
      "text/plain": [
       "HBox(children=(HTML(value='Validating'), FloatProgress(value=1.0, bar_style='info', layout=Layout(flex='2'), m…"
      ]
     },
     "metadata": {},
     "output_type": "display_data"
    },
    {
     "data": {
      "application/vnd.jupyter.widget-view+json": {
       "model_id": "",
       "version_major": 2,
       "version_minor": 0
      },
      "text/plain": [
       "HBox(children=(HTML(value='Validating'), FloatProgress(value=1.0, bar_style='info', layout=Layout(flex='2'), m…"
      ]
     },
     "metadata": {},
     "output_type": "display_data"
    },
    {
     "data": {
      "application/vnd.jupyter.widget-view+json": {
       "model_id": "",
       "version_major": 2,
       "version_minor": 0
      },
      "text/plain": [
       "HBox(children=(HTML(value='Validating'), FloatProgress(value=1.0, bar_style='info', layout=Layout(flex='2'), m…"
      ]
     },
     "metadata": {},
     "output_type": "display_data"
    },
    {
     "data": {
      "application/vnd.jupyter.widget-view+json": {
       "model_id": "",
       "version_major": 2,
       "version_minor": 0
      },
      "text/plain": [
       "HBox(children=(HTML(value='Validating'), FloatProgress(value=1.0, bar_style='info', layout=Layout(flex='2'), m…"
      ]
     },
     "metadata": {},
     "output_type": "display_data"
    },
    {
     "data": {
      "application/vnd.jupyter.widget-view+json": {
       "model_id": "",
       "version_major": 2,
       "version_minor": 0
      },
      "text/plain": [
       "HBox(children=(HTML(value='Validating'), FloatProgress(value=1.0, bar_style='info', layout=Layout(flex='2'), m…"
      ]
     },
     "metadata": {},
     "output_type": "display_data"
    },
    {
     "data": {
      "application/vnd.jupyter.widget-view+json": {
       "model_id": "",
       "version_major": 2,
       "version_minor": 0
      },
      "text/plain": [
       "HBox(children=(HTML(value='Validating'), FloatProgress(value=1.0, bar_style='info', layout=Layout(flex='2'), m…"
      ]
     },
     "metadata": {},
     "output_type": "display_data"
    },
    {
     "data": {
      "application/vnd.jupyter.widget-view+json": {
       "model_id": "",
       "version_major": 2,
       "version_minor": 0
      },
      "text/plain": [
       "HBox(children=(HTML(value='Validating'), FloatProgress(value=1.0, bar_style='info', layout=Layout(flex='2'), m…"
      ]
     },
     "metadata": {},
     "output_type": "display_data"
    },
    {
     "data": {
      "application/vnd.jupyter.widget-view+json": {
       "model_id": "",
       "version_major": 2,
       "version_minor": 0
      },
      "text/plain": [
       "HBox(children=(HTML(value='Validating'), FloatProgress(value=1.0, bar_style='info', layout=Layout(flex='2'), m…"
      ]
     },
     "metadata": {},
     "output_type": "display_data"
    },
    {
     "data": {
      "application/vnd.jupyter.widget-view+json": {
       "model_id": "",
       "version_major": 2,
       "version_minor": 0
      },
      "text/plain": [
       "HBox(children=(HTML(value='Validating'), FloatProgress(value=1.0, bar_style='info', layout=Layout(flex='2'), m…"
      ]
     },
     "metadata": {},
     "output_type": "display_data"
    },
    {
     "data": {
      "application/vnd.jupyter.widget-view+json": {
       "model_id": "",
       "version_major": 2,
       "version_minor": 0
      },
      "text/plain": [
       "HBox(children=(HTML(value='Validating'), FloatProgress(value=1.0, bar_style='info', layout=Layout(flex='2'), m…"
      ]
     },
     "metadata": {},
     "output_type": "display_data"
    },
    {
     "data": {
      "application/vnd.jupyter.widget-view+json": {
       "model_id": "",
       "version_major": 2,
       "version_minor": 0
      },
      "text/plain": [
       "HBox(children=(HTML(value='Validating'), FloatProgress(value=1.0, bar_style='info', layout=Layout(flex='2'), m…"
      ]
     },
     "metadata": {},
     "output_type": "display_data"
    },
    {
     "data": {
      "application/vnd.jupyter.widget-view+json": {
       "model_id": "",
       "version_major": 2,
       "version_minor": 0
      },
      "text/plain": [
       "HBox(children=(HTML(value='Validating'), FloatProgress(value=1.0, bar_style='info', layout=Layout(flex='2'), m…"
      ]
     },
     "metadata": {},
     "output_type": "display_data"
    },
    {
     "data": {
      "application/vnd.jupyter.widget-view+json": {
       "model_id": "",
       "version_major": 2,
       "version_minor": 0
      },
      "text/plain": [
       "HBox(children=(HTML(value='Validating'), FloatProgress(value=1.0, bar_style='info', layout=Layout(flex='2'), m…"
      ]
     },
     "metadata": {},
     "output_type": "display_data"
    },
    {
     "data": {
      "application/vnd.jupyter.widget-view+json": {
       "model_id": "",
       "version_major": 2,
       "version_minor": 0
      },
      "text/plain": [
       "HBox(children=(HTML(value='Validating'), FloatProgress(value=1.0, bar_style='info', layout=Layout(flex='2'), m…"
      ]
     },
     "metadata": {},
     "output_type": "display_data"
    },
    {
     "data": {
      "application/vnd.jupyter.widget-view+json": {
       "model_id": "",
       "version_major": 2,
       "version_minor": 0
      },
      "text/plain": [
       "HBox(children=(HTML(value='Validating'), FloatProgress(value=1.0, bar_style='info', layout=Layout(flex='2'), m…"
      ]
     },
     "metadata": {},
     "output_type": "display_data"
    },
    {
     "name": "stdout",
     "output_type": "stream",
     "text": [
      "\n"
     ]
    },
    {
     "data": {
      "text/plain": [
       "1"
      ]
     },
     "execution_count": 5,
     "metadata": {},
     "output_type": "execute_result"
    }
   ],
   "source": [
    "trainer = pl.Trainer(max_epochs=epochs, early_stop_callback=early_stopping)\n",
    "\n",
    "trainer.fit(model)"
   ]
  },
  {
   "cell_type": "code",
   "execution_count": 65,
   "metadata": {},
   "outputs": [
    {
     "data": {
      "text/plain": [
       "0.7142857142857143"
      ]
     },
     "execution_count": 65,
     "metadata": {},
     "output_type": "execute_result"
    }
   ],
   "source": [
    "model.eval()\n",
    "_, acc =  model.getTestAcc()\n",
    "acc"
   ]
  },
  {
   "cell_type": "code",
   "execution_count": 6,
   "metadata": {},
   "outputs": [
    {
     "name": "stdout",
     "output_type": "stream",
     "text": [
      "Number of training graphs: 103\n",
      "Number of validation graphs: 12\n",
      "Number of test graphs: 14\n"
     ]
    },
    {
     "data": {
      "application/vnd.jupyter.widget-view+json": {
       "model_id": "255f8ab82af64520a29c597ba0a9f468",
       "version_major": 2,
       "version_minor": 0
      },
      "text/plain": [
       "HBox(children=(HTML(value='Testing'), FloatProgress(value=1.0, bar_style='info', layout=Layout(flex='2'), max=…"
      ]
     },
     "metadata": {},
     "output_type": "display_data"
    },
    {
     "name": "stdout",
     "output_type": "stream",
     "text": [
      "--------------------------------------------------------------------------------\n",
      "TEST RESULTS\n",
      "{'test_acc': 0.7142857142857143, 'test_loss': tensor(0.3407)}\n",
      "--------------------------------------------------------------------------------\n",
      "\n"
     ]
    }
   ],
   "source": [
    "trainer.test(model)"
   ]
  },
  {
   "cell_type": "code",
   "execution_count": 58,
   "metadata": {},
   "outputs": [
    {
     "data": {
      "text/plain": [
       "<BarContainer object of 148 artists>"
      ]
     },
     "execution_count": 58,
     "metadata": {},
     "output_type": "execute_result"
    },
    {
     "data": {
      "image/png": "[encoded data removed]",
      "text/plain": [
       "<Figure size 432x288 with 1 Axes>"
      ]
     },
     "metadata": {
      "needs_background": "light"
     },
     "output_type": "display_data"
    },
    {
     "data": {
      "image/png": "[encoded data removed]",
      "text/plain": [
       "<Figure size 432x288 with 1 Axes>"
      ]
     },
     "metadata": {
      "needs_background": "light"
     },
     "output_type": "display_data"
    }
   ],
   "source": [
    "topk = 5\n",
    "model.model.eval()\n",
    "cnt_dict = []\n",
    "cnt_dict.append({i+1:0 for i in range(148)})\n",
    "cnt_dict.append({i+1:0 for i in range(148)})\n",
    "for d  in model.dataset['test']:\n",
    "    #print(d.y)\n",
    "    att = model.model.get_att(x=d.x, edge_index = d.edge_index, edge_attr = d.edge_attr)\n",
    "    #att.shape\n",
    "    att_values = {}\n",
    "    att_values = {i+1:v[0] for i,v in enumerate(att.tolist())}\n",
    "    \n",
    "    #att_values\n",
    "    l = list({k: v for k, v in sorted(att_values.items(), key=lambda item: item[1], reverse = True)}.keys())\n",
    "    for tk in l[:topk]:\n",
    "        cnt_dict[d.y][tk] = cnt_dict[d.y][tk]+1\n",
    "plt.figure(0)\n",
    "plt.bar(cnt_dict[0].keys(),cnt_dict[0].values())\n",
    "plt.figure(1)\n",
    "plt.bar(cnt_dict[1].keys(),cnt_dict[1].values())"
   ]
  },
  {
   "cell_type": "code",
   "execution_count": 87,
   "metadata": {},
   "outputs": [
    {
     "data": {
      "text/plain": [
       "<BarContainer object of 148 artists>"
      ]
     },
     "execution_count": 87,
     "metadata": {},
     "output_type": "execute_result"
    },
    {
     "data": {
      "image/png": "[encoded data removed]",
      "text/plain": [
       "<Figure size 1080x1080 with 9 Axes>"
      ]
     },
     "metadata": {
      "needs_background": "light"
     },
     "output_type": "display_data"
    },
    {
     "data": {
      "image/png": "[encoded data removed]",
      "text/plain": [
       "<Figure size 432x288 with 1 Axes>"
      ]
     },
     "metadata": {
      "needs_background": "light"
     },
     "output_type": "display_data"
    }
   ],
   "source": [
    "model.model.eval()\n",
    "nrows = 3\n",
    "ncols = 3\n",
    "fig, axes = plt.subplots(figsize=(15, 15) , nrows = nrows, ncols = ncols, sharex='all', sharey='all')\n",
    "fig.tight_layout()\n",
    "\n",
    "cnt = 0\n",
    "avg_dict0 = {i+1:0 for i in range(148)}\n",
    "for tc,d  in enumerate(model.dataset['test']):\n",
    "    #print(d.y)\n",
    "    if(d.y == 0) :\n",
    "        ax = axes[cnt//ncols][cnt%ncols]\n",
    "        cnt = cnt+1\n",
    "        att = model.model.get_att(x=d.x, edge_index = d.edge_index, edge_attr = d.edge_attr)\n",
    "        #att.shape\n",
    "        att_values = {}\n",
    "        att_values = {i+1:v[0] for i,v in enumerate(att.tolist())}\n",
    "        for j in range(148):\n",
    "            i=j+1\n",
    "            avg_dict0[i] = avg_dict0[i] + att_values[i]\n",
    "        ax.bar(att_values.keys(),att_values.values())\n",
    "\n",
    "avg_dict0 = {i+1:(avg_dict0[i+1]/cnt) for i in range(148)}\n",
    "plt.figure(0)\n",
    "plt.bar(avg_dict0.keys(),avg_dict0.values())"
   ]
  },
  {
   "cell_type": "code",
   "execution_count": 93,
   "metadata": {},
   "outputs": [
    {
     "data": {
      "text/plain": [
       "<BarContainer object of 148 artists>"
      ]
     },
     "execution_count": 93,
     "metadata": {},
     "output_type": "execute_result"
    },
    {
     "data": {
      "image/png": "[encoded data removed]",
      "text/plain": [
       "<Figure size 1080x1080 with 9 Axes>"
      ]
     },
     "metadata": {
      "needs_background": "light"
     },
     "output_type": "display_data"
    },
    {
     "data": {
      "image/png": "[encoded data removed]",
      "text/plain": [
       "<Figure size 432x288 with 1 Axes>"
      ]
     },
     "metadata": {
      "needs_background": "light"
     },
     "output_type": "display_data"
    }
   ],
   "source": [
    "model.model.eval()\n",
    "nrows = 3\n",
    "ncols = 3\n",
    "fig, axes = plt.subplots(figsize=(15, 15) , nrows = nrows, ncols = ncols, sharex='all', sharey='all')\n",
    "fig.tight_layout()\n",
    "\n",
    "cnt = 0\n",
    "avg_dict1 = {i+1:0 for i in range(148)}\n",
    "for tc,d  in enumerate(model.dataset['test']):\n",
    "    #print(d.y)\n",
    "    if(d.y == 1) :\n",
    "        ax = axes[cnt//ncols][cnt%ncols]\n",
    "        cnt = cnt+1\n",
    "        att = model.model.get_att(x=d.x, edge_index = d.edge_index, edge_attr = d.edge_attr)\n",
    "        #att.shape\n",
    "        att_values = {}\n",
    "        att_values = {i+1:v[0] for i,v in enumerate(att.tolist())}\n",
    "        for j in range(148):\n",
    "            i=j+1\n",
    "            avg_dict1[i] = avg_dict1[i] + att_values[i]\n",
    "        ax.bar(att_values.keys(),att_values.values())\n",
    "\n",
    "avg_dict1 = {i+1:(avg_dict1[i+1]/cnt) for i in range(148)}\n",
    "plt.figure(0)\n",
    "plt.bar(avg_dict1.keys(),avg_dict1.values())"
   ]
  },
  {
   "cell_type": "code",
   "execution_count": null,
   "metadata": {},
   "outputs": [],
   "source": []
  },
  {
   "cell_type": "code",
   "execution_count": null,
   "metadata": {},
   "outputs": [],
   "source": []
  },
  {
   "cell_type": "code",
   "execution_count": null,
   "metadata": {},
   "outputs": [],
   "source": []
  },
  {
   "cell_type": "code",
   "execution_count": null,
   "metadata": {},
   "outputs": [],
   "source": []
  },
  {
   "cell_type": "code",
   "execution_count": null,
   "metadata": {},
   "outputs": [],
   "source": []
  },
  {
   "cell_type": "code",
   "execution_count": 103,
   "metadata": {},
   "outputs": [
    {
     "name": "stdout",
     "output_type": "stream",
     "text": [
      "cpu\n"
     ]
    }
   ],
   "source": [
    "device = torch.device(\"cuda\" if torch.cuda.is_available() else \"cpu\")\n",
    "print(device)\n",
    "hparams = {}\n",
    "hparams['split_train'] = 0.7\n",
    "hparams['split_val'] = 0.2\n",
    "\n",
    "\n",
    "hparams['batch_size'] = 32\n",
    "hparams['num_classes'] = 2\n",
    "#hparams['num_classes'] = 3\n",
    "\n",
    "hparams['hidden_channels'] = 64\n",
    "hparams['num_node_features'] = 149\n",
    "hparams['num_layers'] = 3\n",
    "## 6 --> 2\n",
    "## 8 --> 3개가 쓰인다.\n",
    "hparams['ratio'] = 0.8\n",
    "\n",
    "hparams['batch_size'] = 32\n",
    "hparams['lr'] = 3.0e-04\n",
    "#hparams['lr'] = 5.0e-05\n",
    "\n",
    "hparams['weight_decay'] = 1.0e-6\n",
    "#hparams['weight_decay'] = 1.0e-4\n",
    "\n",
    "#hparams['use_base_edge'] = True\n",
    "hparams['use_base_edge'] = False\n",
    "\n",
    "\n",
    "s='./data_diff'\n",
    "#s='./data_diff_base'\n",
    "hparams['s_data'] = osp.join(*(s.split('/')))\n",
    "s='./data/DT_File_MAP.xlsx'\n",
    "hparams['s_node'] = osp.join(*(s.split('/')))\n",
    "s='./data/[UNC]ADNI-network/dataTS.csv'\n",
    "hparams['s_date'] = osp.join(*(s.split('/')))\n",
    "s = './sparsification/data'\n",
    "hparams['s_sparsified'] = osp.join(*(s.split('/'))) + osp.sep\n",
    "\n",
    "\n",
    "#model.prepare_data()\n",
    "\n"
   ]
  },
  {
   "cell_type": "code",
   "execution_count": 104,
   "metadata": {},
   "outputs": [
    {
     "data": {
      "text/plain": [
       "SAGPool(\n",
       "  (conv1): GraphConv(149, 64)\n",
       "  (convs): ModuleList(\n",
       "    (0): GraphConv(64, 64)\n",
       "    (1): GraphConv(64, 64)\n",
       "  )\n",
       "  (pools): ModuleList(\n",
       "    (0): SAGPooling(GraphConv, 64, ratio=0.8, multiplier=1)\n",
       "  )\n",
       "  (jump): JumpingKnowledge(cat)\n",
       "  (lin1): Linear(in_features=192, out_features=64, bias=True)\n",
       "  (lin2): Linear(in_features=64, out_features=2, bias=True)\n",
       ")"
      ]
     },
     "execution_count": 104,
     "metadata": {},
     "output_type": "execute_result"
    }
   ],
   "source": [
    "model = TimeDiffClassifier_sagpooling(hparams)\n",
    "model = model.to(device)\n",
    "\n",
    "trainer = None\n",
    "\n",
    "epochs = 300\n",
    "min_epochs = 100\n",
    "\n",
    "logdir = './lightning_logs'\n",
    "network_logger = pl.loggers.TensorBoardLogger(\n",
    "    save_dir=logdir,\n",
    "    name='TimeDiffClassify_logs'\n",
    ")\n",
    "logger = network_logger\n",
    "\n",
    "early_stopping = pl.callbacks.EarlyStopping(\n",
    "    monitor='val_loss',\n",
    "    patience=50,\n",
    ")\n",
    "model.model"
   ]
  },
  {
   "cell_type": "code",
   "execution_count": 105,
   "metadata": {},
   "outputs": [
    {
     "name": "stderr",
     "output_type": "stream",
     "text": [
      "GPU available: False, used: False\n",
      "No environment variable for node rank defined. Set as 0.\n",
      "\n",
      "   | Name                    | Type             | Params\n",
      "---------------------------------------------------------\n",
      "0  | model                   | SAGPool          | 48 K  \n",
      "1  | model.conv1             | GraphConv        | 19 K  \n",
      "2  | model.conv1.lin_l       | Linear           | 9 K   \n",
      "3  | model.conv1.lin_r       | Linear           | 9 K   \n",
      "4  | model.convs             | ModuleList       | 16 K  \n",
      "5  | model.convs.0           | GraphConv        | 8 K   \n",
      "6  | model.convs.0.lin_l     | Linear           | 4 K   \n",
      "7  | model.convs.0.lin_r     | Linear           | 4 K   \n",
      "8  | model.convs.1           | GraphConv        | 8 K   \n",
      "9  | model.convs.1.lin_l     | Linear           | 4 K   \n",
      "10 | model.convs.1.lin_r     | Linear           | 4 K   \n",
      "11 | model.pools             | ModuleList       | 129   \n",
      "12 | model.pools.0           | SAGPooling       | 129   \n",
      "13 | model.pools.0.gnn       | GraphConv        | 129   \n",
      "14 | model.pools.0.gnn.lin_l | Linear           | 65    \n",
      "15 | model.pools.0.gnn.lin_r | Linear           | 64    \n",
      "16 | model.jump              | JumpingKnowledge | 0     \n",
      "17 | model.lin1              | Linear           | 12 K  \n",
      "18 | model.lin2              | Linear           | 130   \n"
     ]
    },
    {
     "name": "stdout",
     "output_type": "stream",
     "text": [
      "Number of training graphs: 90\n",
      "Number of validation graphs: 25\n",
      "Number of test graphs: 14\n"
     ]
    },
    {
     "data": {
      "application/vnd.jupyter.widget-view+json": {
       "model_id": "d67ee11d077e42148baa1b0aed088c32",
       "version_major": 2,
       "version_minor": 0
      },
      "text/plain": [
       "HBox(children=(HTML(value='Validation sanity check'), FloatProgress(value=1.0, bar_style='info', layout=Layout…"
      ]
     },
     "metadata": {},
     "output_type": "display_data"
    },
    {
     "name": "stdout",
     "output_type": "stream",
     "text": [
      "torch.Size([25, 2])\n"
     ]
    },
    {
     "data": {
      "application/vnd.jupyter.widget-view+json": {
       "model_id": "72434a9c563c4952b243c7e9169372bb",
       "version_major": 2,
       "version_minor": 0
      },
      "text/plain": [
       "HBox(children=(HTML(value='Training'), FloatProgress(value=1.0, bar_style='info', layout=Layout(flex='2'), max…"
      ]
     },
     "metadata": {},
     "output_type": "display_data"
    },
    {
     "name": "stdout",
     "output_type": "stream",
     "text": [
      "torch.Size([32, 2])\n",
      "torch.Size([32, 2])\n",
      "torch.Size([26, 2])\n"
     ]
    },
    {
     "data": {
      "application/vnd.jupyter.widget-view+json": {
       "model_id": "",
       "version_major": 2,
       "version_minor": 0
      },
      "text/plain": [
       "HBox(children=(HTML(value='Validating'), FloatProgress(value=1.0, bar_style='info', layout=Layout(flex='2'), m…"
      ]
     },
     "metadata": {},
     "output_type": "display_data"
    },
    {
     "name": "stdout",
     "output_type": "stream",
     "text": [
      "torch.Size([25, 2])\n",
      "torch.Size([32, 2])\n",
      "torch.Size([32, 2])\n",
      "torch.Size([26, 2])\n"
     ]
    },
    {
     "data": {
      "application/vnd.jupyter.widget-view+json": {
       "model_id": "",
       "version_major": 2,
       "version_minor": 0
      },
      "text/plain": [
       "HBox(children=(HTML(value='Validating'), FloatProgress(value=1.0, bar_style='info', layout=Layout(flex='2'), m…"
      ]
     },
     "metadata": {},
     "output_type": "display_data"
    },
    {
     "name": "stdout",
     "output_type": "stream",
     "text": [
      "torch.Size([25, 2])\n",
      "torch.Size([32, 2])\n",
      "torch.Size([32, 2])\n",
      "torch.Size([26, 2])\n"
     ]
    },
    {
     "data": {
      "application/vnd.jupyter.widget-view+json": {
       "model_id": "",
       "version_major": 2,
       "version_minor": 0
      },
      "text/plain": [
       "HBox(children=(HTML(value='Validating'), FloatProgress(value=1.0, bar_style='info', layout=Layout(flex='2'), m…"
      ]
     },
     "metadata": {},
     "output_type": "display_data"
    },
    {
     "name": "stdout",
     "output_type": "stream",
     "text": [
      "torch.Size([25, 2])\n",
      "torch.Size([32, 2])\n",
      "torch.Size([32, 2])\n",
      "torch.Size([26, 2])\n"
     ]
    },
    {
     "data": {
      "application/vnd.jupyter.widget-view+json": {
       "model_id": "",
       "version_major": 2,
       "version_minor": 0
      },
      "text/plain": [
       "HBox(children=(HTML(value='Validating'), FloatProgress(value=1.0, bar_style='info', layout=Layout(flex='2'), m…"
      ]
     },
     "metadata": {},
     "output_type": "display_data"
    },
    {
     "name": "stdout",
     "output_type": "stream",
     "text": [
      "torch.Size([25, 2])\n",
      "torch.Size([32, 2])\n",
      "torch.Size([32, 2])\n",
      "torch.Size([26, 2])\n"
     ]
    },
    {
     "data": {
      "application/vnd.jupyter.widget-view+json": {
       "model_id": "5a05627939a94e85963ca1f16b889e4d",
       "version_major": 2,
       "version_minor": 0
      },
      "text/plain": [
       "HBox(children=(HTML(value='Validating'), FloatProgress(value=1.0, bar_style='info', layout=Layout(flex='2'), m…"
      ]
     },
     "metadata": {},
     "output_type": "display_data"
    },
    {
     "name": "stderr",
     "output_type": "stream",
     "text": [
      "Detected KeyboardInterrupt, attempting graceful shutdown...\n"
     ]
    },
    {
     "name": "stdout",
     "output_type": "stream",
     "text": [
      "\n"
     ]
    },
    {
     "data": {
      "text/plain": [
       "1"
      ]
     },
     "execution_count": 105,
     "metadata": {},
     "output_type": "execute_result"
    }
   ],
   "source": [
    "trainer = pl.Trainer(max_epochs=epochs, early_stop_callback=early_stopping, min_epochs = min_epochs)\n",
    "\n",
    "trainer.fit(model)"
   ]
  },
  {
   "cell_type": "code",
   "execution_count": 16,
   "metadata": {},
   "outputs": [
    {
     "name": "stdout",
     "output_type": "stream",
     "text": [
      "Number of training graphs: 103\n",
      "Number of validation graphs: 12\n",
      "Number of test graphs: 14\n"
     ]
    },
    {
     "data": {
      "application/vnd.jupyter.widget-view+json": {
       "model_id": "202fa97e9c184328997e75129d469727",
       "version_major": 2,
       "version_minor": 0
      },
      "text/plain": [
       "HBox(children=(HTML(value='Testing'), FloatProgress(value=1.0, bar_style='info', layout=Layout(flex='2'), max=…"
      ]
     },
     "metadata": {},
     "output_type": "display_data"
    },
    {
     "name": "stdout",
     "output_type": "stream",
     "text": [
      "--------------------------------------------------------------------------------\n",
      "TEST RESULTS\n",
      "{'test_acc': 0.8571428571428571, 'test_loss': tensor(1.0532)}\n",
      "--------------------------------------------------------------------------------\n",
      "\n"
     ]
    }
   ],
   "source": [
    "\n",
    "trainer.test(model)"
   ]
  },
  {
   "cell_type": "code",
   "execution_count": 33,
   "metadata": {},
   "outputs": [
    {
     "data": {
      "text/plain": [
       "0.457946721791957"
      ]
     },
     "execution_count": 33,
     "metadata": {},
     "output_type": "execute_result"
    }
   ],
   "source": [
    "hparams['ratio']**((hparams['num_layers']-1)/2)"
   ]
  },
  {
   "cell_type": "code",
   "execution_count": 34,
   "metadata": {},
   "outputs": [
    {
     "data": {
      "text/plain": [
       "75.77600000000002"
      ]
     },
     "execution_count": 34,
     "metadata": {},
     "output_type": "execute_result"
    }
   ],
   "source": [
    "0.8**3*148"
   ]
  },
  {
   "cell_type": "code",
   "execution_count": 35,
   "metadata": {},
   "outputs": [
    {
     "data": {
      "text/plain": [
       "118.4"
      ]
     },
     "execution_count": 35,
     "metadata": {},
     "output_type": "execute_result"
    }
   ],
   "source": [
    "148*0.8"
   ]
  },
  {
   "cell_type": "code",
   "execution_count": 77,
   "metadata": {},
   "outputs": [
    {
     "data": {
      "text/plain": [
       "<torch.utils.data.dataset.Subset at 0x29f091aafd0>"
      ]
     },
     "execution_count": 77,
     "metadata": {},
     "output_type": "execute_result"
    }
   ],
   "source": [
    "model.dataset['test']"
   ]
  },
  {
   "cell_type": "code",
   "execution_count": 66,
   "metadata": {},
   "outputs": [
    {
     "name": "stdout",
     "output_type": "stream",
     "text": [
      "~~~~~~~~~~~~~~~~~~~~~~~~~~~~\n",
      "tensor([2])\n",
      "-----node-----\n",
      "@@@@@@@@@@@@@@@@@@@@@@@@@@@@\n",
      "tensor([ 89,  88, 103, 102,  98, 107,  23,   0,  97, 116,  90,  85, 145, 146,\n",
      "          5, 110,  92,  99, 108, 111,  91,  31, 120,  65,  30, 114,  77,  69,\n",
      "        127, 122,  22, 101,  76,  42,  96, 140,  62,  49,  87,   4,  17,  15,\n",
      "        106,  74, 118,  37,  79,  78, 100,  18,  59,  75, 112, 133, 123, 142,\n",
      "          1,  20, 132,  47,  33,  36,  71,  29, 125, 126,  14,  13,  21, 139,\n",
      "         72,  63,  48, 113,  60, 135,  16, 104,  32,  19, 141, 115,  12,  58,\n",
      "        136,  40,  51,  73,  80,  34, 143,  46,  38, 105,  57,  35,  52,  25,\n",
      "          3,  50, 137,  86,  61, 134,   2, 124,  11, 129, 121, 128,  81,  82,\n",
      "          7,   6,  39,  93, 119, 117, 138])\n",
      "tensor([ 0.9984,  0.9960,  0.9797,  0.9755,  0.9728,  0.9600,  0.9398,  0.9227,\n",
      "         0.8986,  0.8893,  0.8882,  0.8828,  0.8572,  0.8534,  0.8488,  0.8362,\n",
      "         0.8246,  0.7714,  0.7616,  0.7601,  0.7549,  0.7510,  0.7387,  0.7376,\n",
      "         0.7313,  0.7169,  0.7087,  0.7085,  0.6845,  0.6775,  0.6194,  0.6185,\n",
      "         0.6158,  0.5994,  0.5963,  0.5838,  0.5710,  0.5550,  0.5378,  0.4937,\n",
      "         0.4789,  0.4729,  0.4431,  0.4291,  0.4204,  0.3971,  0.3645,  0.3559,\n",
      "         0.3265,  0.3105,  0.3084,  0.2536,  0.2241,  0.2202,  0.2078,  0.2068,\n",
      "         0.1817,  0.1809,  0.1773,  0.1492,  0.1437,  0.1334,  0.1087,  0.0905,\n",
      "         0.0771,  0.0528,  0.0441,  0.0428,  0.0361,  0.0220,  0.0200,  0.0178,\n",
      "         0.0107,  0.0019, -0.0169, -0.0210, -0.0619, -0.0629, -0.0661, -0.0715,\n",
      "        -0.0840, -0.0841, -0.0848, -0.0907, -0.1012, -0.1127, -0.1130, -0.1195,\n",
      "        -0.1198, -0.1261, -0.1318, -0.1345, -0.1395, -0.1406, -0.1407, -0.1462,\n",
      "        -0.1510, -0.1528, -0.1544, -0.1547, -0.1607, -0.1661, -0.1676, -0.1735,\n",
      "        -0.1871, -0.1942, -0.1998, -0.2077, -0.2126, -0.2206, -0.2340, -0.2438,\n",
      "        -0.2497, -0.2561, -0.2673, -0.2913, -0.2947, -0.3018, -0.3037],\n",
      "       grad_fn=<IndexBackward>)\n",
      "@@@@@@@@@@@@@@@@@@@@@@@@@@@@\n",
      "tensor([  1,   0,   4,   2,  13,   9,  15,   5,   3,  19,  17,  12,  16,  26,\n",
      "         11,   7,  20,  31,  44,   6,  14,   8,  24,  29,  38,  48,  35,  27,\n",
      "         18,  32,  41,  10,  23,  51,  21,  34,  39,  36,  28,  64,  53,  54,\n",
      "        107,  58,  55,  47,  43,  80, 108,  25,  22, 103,  75,  73,  42,  52,\n",
      "         65,  40, 109,  69,  30,  46,  33,  88, 101, 105,  66,  77, 113,  71,\n",
      "        115,  89,  63, 100,  90,  81,  37, 110, 116,  96, 104,  84,  76,  82,\n",
      "         91, 102, 112,  79, 111,  68,  45, 106, 117,  67, 118,  93])\n",
      "tensor([ 1.0000,  1.0000,  1.0000,  0.9999,  0.9998,  0.9997,  0.9997,  0.9996,\n",
      "         0.9994,  0.9992,  0.9991,  0.9986,  0.9968,  0.9962,  0.9946,  0.9874,\n",
      "         0.9824,  0.9807,  0.9803,  0.9785,  0.9781,  0.9761,  0.9755,  0.9746,\n",
      "         0.9728,  0.9693,  0.9678,  0.9608,  0.9560,  0.9553,  0.9532,  0.9532,\n",
      "         0.9501,  0.9487,  0.9479,  0.9408,  0.9353,  0.9310,  0.9301,  0.9256,\n",
      "         0.9233,  0.9152,  0.9064,  0.9057,  0.9047,  0.8894,  0.8725,  0.8708,\n",
      "         0.8565,  0.8561,  0.8242,  0.7893,  0.7765,  0.7486,  0.7312,  0.7247,\n",
      "         0.7057,  0.6934,  0.6895,  0.6680,  0.6671,  0.6660,  0.6476,  0.6366,\n",
      "         0.5985,  0.5892,  0.5735,  0.5057,  0.4627,  0.4013,  0.3590,  0.3566,\n",
      "         0.3366,  0.3166,  0.3138,  0.2840,  0.2737,  0.2689,  0.2579,  0.2304,\n",
      "         0.2188,  0.1734,  0.1515,  0.1474,  0.1462,  0.1454,  0.1356,  0.1011,\n",
      "         0.0931,  0.0859,  0.0601,  0.0298, -0.0037, -0.0190, -0.0418, -0.0527],\n",
      "       grad_fn=<IndexBackward>)\n",
      "@@@@@@@@@@@@@@@@@@@@@@@@@@@@\n",
      "tensor([93, 95, 90, 89, 87, 82, 94, 85, 83, 91, 76, 84, 92, 79, 69, 81, 73, 86,\n",
      "        88, 71, 80, 78, 74, 77, 68, 72, 64, 55, 62, 57, 75, 60, 53, 66, 56, 67,\n",
      "        50, 37, 27, 65, 70, 63, 59, 61, 58, 54, 34, 22, 46, 41, 47, 52, 36, 44,\n",
      "        49, 19, 43, 48, 45, 51, 40, 32, 38, 23, 39, 21, 31, 20, 18, 35, 30, 24,\n",
      "        15, 28, 33, 42, 17])\n",
      "tensor([-0.0505, -0.0741, -0.0953, -0.0967, -0.1036, -0.1325, -0.1386, -0.1594,\n",
      "        -0.1612, -0.1683, -0.1802, -0.1836, -0.1850, -0.1871, -0.2017, -0.2019,\n",
      "        -0.2153, -0.2464, -0.2783, -0.2962, -0.3008, -0.3410, -0.3459, -0.3570,\n",
      "        -0.3612, -0.3748, -0.3961, -0.3990, -0.4082, -0.4167, -0.4231, -0.4237,\n",
      "        -0.4313, -0.4371, -0.4548, -0.4550, -0.4842, -0.5187, -0.5369, -0.5651,\n",
      "        -0.5860, -0.5912, -0.6078, -0.6085, -0.6142, -0.6195, -0.6230, -0.6530,\n",
      "        -0.6532, -0.6544, -0.6640, -0.6667, -0.6781, -0.6927, -0.6928, -0.6941,\n",
      "        -0.7095, -0.7193, -0.7224, -0.7294, -0.7452, -0.7484, -0.7567, -0.7584,\n",
      "        -0.7629, -0.7651, -0.7705, -0.7766, -0.7846, -0.7858, -0.8167, -0.8185,\n",
      "        -0.8281, -0.8314, -0.8469, -0.8510, -0.8596], grad_fn=<IndexBackward>)\n",
      "tensor([ 14, 106,  38,  22,  20,  17, 139,  62,  13,  12,  50,  47, 118,  53,\n",
      "         64, 137, 138,   8,  83,  35,   3, 120, 144,  82,   7,  30,  87, 113,\n",
      "         43,  18, 116,  23, 114,  15, 127, 105, 121,  63,  70, 125,  94,  81,\n",
      "        140,  80, 129, 107,  32,  31,  75, 124, 142, 136,   5, 143, 115,  24,\n",
      "        133, 122,  79, 135, 134,  66, 128, 123, 126,  98,  91,   6, 119,  97,\n",
      "         16,  88,   1, 109,  76, 130, 102])\n",
      "tensor([], dtype=torch.int64)\n",
      "~~~~~~~~~~~~~~~~~~~~~~~~~~~~\n",
      "tensor([0])\n",
      "-----node-----\n",
      "@@@@@@@@@@@@@@@@@@@@@@@@@@@@\n",
      "tensor([ 23,  49,  62,  46,  72,  22,  47,  17, 122,  48,   1,  16,  59,  60,\n",
      "         12, 129,  34, 103, 108,  89,  63,  76,  30, 135, 121,  69,  21, 112,\n",
      "         31,   5,  61, 144, 117,  97,  50, 120, 125, 140, 119, 118,  88,  58,\n",
      "         43, 101,  20,   0,  40, 100,  91, 114, 141,  87,  71,  33,  93, 146,\n",
      "          4,  84, 142,  38, 139,  99,  74,  65,  90,  96,  36,  32, 138,  13,\n",
      "         77,  85,  51, 113, 134, 102, 126,  35, 131,  82,   3,  83,  64,  55,\n",
      "         39,  56,  73,  14,  42,  79,  44, 107,  15,   9,  18, 106,  80,  37,\n",
      "         25, 115,  52, 128,  78,  57,  81, 105, 143,  70, 109, 127, 124, 132,\n",
      "         95, 116,  41, 145, 110,  66,  94])\n",
      "tensor([ 0.9601,  0.9423,  0.9194,  0.9182,  0.8999,  0.8685,  0.8323,  0.8074,\n",
      "         0.7677,  0.7531,  0.7369,  0.7135,  0.7134,  0.7018,  0.6932,  0.6811,\n",
      "         0.6808,  0.6800,  0.6510,  0.6497,  0.6466,  0.6380,  0.6338,  0.6307,\n",
      "         0.6261,  0.6181,  0.6151,  0.6131,  0.6124,  0.5986,  0.5725,  0.5521,\n",
      "         0.5417,  0.5320,  0.5289,  0.5158,  0.5157,  0.5108,  0.4771,  0.4600,\n",
      "         0.4537,  0.4461,  0.4353,  0.4311,  0.4244,  0.3952,  0.3499,  0.3469,\n",
      "         0.3435,  0.3395,  0.3279,  0.3247,  0.3190,  0.3041,  0.3024,  0.2722,\n",
      "         0.2514,  0.2328,  0.2169,  0.2117,  0.2035,  0.2018,  0.1837,  0.1702,\n",
      "         0.1616,  0.1604,  0.1444,  0.1425,  0.1383,  0.1337,  0.1334,  0.1311,\n",
      "         0.1249,  0.1183,  0.0973,  0.0898,  0.0633,  0.0474,  0.0397,  0.0282,\n",
      "         0.0249,  0.0231,  0.0223,  0.0067, -0.0035, -0.0170, -0.0289, -0.0305,\n",
      "        -0.0344, -0.0360, -0.0373, -0.0489, -0.0499, -0.0599, -0.0619, -0.0722,\n",
      "        -0.0883, -0.0942, -0.0980, -0.1169, -0.1190, -0.1264, -0.1408, -0.1416,\n",
      "        -0.1452, -0.1551, -0.1586, -0.1609, -0.1617, -0.1653, -0.1689, -0.1694,\n",
      "        -0.1939, -0.1963, -0.2183, -0.2187, -0.2337, -0.2338, -0.2338],\n",
      "       grad_fn=<IndexBackward>)\n",
      "@@@@@@@@@@@@@@@@@@@@@@@@@@@@\n",
      "tensor([  2,   0,   3,   1,   7,   6,   5,  20,   9,  22,  30,  16,   4,  14,\n",
      "         11,  13,  25,  42,  45,  28,  44,  29,  59,  52,  12,  26,  87,  56,\n",
      "         69,  46,  10,  88,  66,  34,  41,  38,  15,  72,  63,  37,  53,  47,\n",
      "         31,  82,  80, 103, 100,  84,  93,  43,  92, 114,  17,  61,  21,  39,\n",
      "         24,  70,  89,  49,  67,   8,  36,  83,  32,  97,  55,  54,  90,  64,\n",
      "         60,  85,  94,  18,  75,  71,  50,  68, 101,  51,  77,  19,  48,  81,\n",
      "         40,  79,  73,  35,  27,  65,  23,  91,  33,  95,  78,  98])\n",
      "tensor([1.0000, 0.9999, 0.9998, 0.9996, 0.9992, 0.9972, 0.9972, 0.9949, 0.9946,\n",
      "        0.9931, 0.9925, 0.9911, 0.9907, 0.9895, 0.9867, 0.9833, 0.9774, 0.9724,\n",
      "        0.9723, 0.9478, 0.9420, 0.9138, 0.9130, 0.9113, 0.8732, 0.8664, 0.8144,\n",
      "        0.7989, 0.7926, 0.7697, 0.7686, 0.7454, 0.7227, 0.7173, 0.6947, 0.6213,\n",
      "        0.6069, 0.5979, 0.5879, 0.5669, 0.5631, 0.5452, 0.5301, 0.5212, 0.5160,\n",
      "        0.4975, 0.4770, 0.4728, 0.4532, 0.4442, 0.4201, 0.4130, 0.4103, 0.4003,\n",
      "        0.3850, 0.3676, 0.3426, 0.3426, 0.3352, 0.3337, 0.3211, 0.3182, 0.3140,\n",
      "        0.3036, 0.3012, 0.2948, 0.2693, 0.2528, 0.2476, 0.2430, 0.1892, 0.1772,\n",
      "        0.1718, 0.1692, 0.1654, 0.1557, 0.1551, 0.1476, 0.1309, 0.1294, 0.1247,\n",
      "        0.1233, 0.1207, 0.1111, 0.1100, 0.1058, 0.1024, 0.1002, 0.0978, 0.0865,\n",
      "        0.0727, 0.0656, 0.0465, 0.0410, 0.0394, 0.0255],\n",
      "       grad_fn=<IndexBackward>)\n",
      "@@@@@@@@@@@@@@@@@@@@@@@@@@@@\n",
      "tensor([56, 62, 61, 59, 82, 73, 69, 89, 57, 79, 75, 66, 42, 35, 90, 93, 91, 55,\n",
      "        36, 77, 52, 86, 92, 88, 41, 87, 81, 53, 39, 74, 76, 84, 94, 49, 85, 78,\n",
      "        54, 67, 64, 70, 83, 95, 72, 71, 65, 80, 60, 68, 58, 51, 63, 48, 33, 45,\n",
      "        34, 50, 47, 32, 43, 30, 44, 31, 40, 46, 24, 25, 38, 37, 29, 28, 20, 27,\n",
      "        19, 23, 22, 26,  7])\n",
      "tensor([ 0.2016,  0.1589,  0.1570,  0.1476,  0.1276,  0.1267,  0.1217,  0.1193,\n",
      "         0.1170,  0.1098,  0.1069,  0.1066,  0.1012,  0.0958,  0.0929,  0.0886,\n",
      "         0.0885,  0.0870,  0.0812,  0.0787,  0.0777,  0.0763,  0.0761,  0.0760,\n",
      "         0.0759,  0.0757,  0.0698,  0.0673,  0.0638,  0.0611,  0.0603,  0.0557,\n",
      "         0.0530,  0.0518,  0.0366,  0.0366,  0.0195,  0.0177, -0.0331, -0.0377,\n",
      "        -0.0696, -0.1520, -0.1586, -0.1768, -0.2234, -0.2494, -0.2606, -0.2938,\n",
      "        -0.3160, -0.3199, -0.3654, -0.3835, -0.4405, -0.4405, -0.4439, -0.4475,\n",
      "        -0.4478, -0.4541, -0.4668, -0.4686, -0.4714, -0.4856, -0.4941, -0.5538,\n",
      "        -0.5708, -0.5909, -0.5960, -0.6199, -0.6606, -0.6613, -0.6798, -0.6929,\n",
      "        -0.7442, -0.7473, -0.7645, -0.7892, -0.8120], grad_fn=<IndexBackward>)\n",
      "tensor([122, 126, 123, 115,  92, 109,  91,  97,  78,  88,  86, 147, 145, 120,\n",
      "        136, 107, 108, 119, 130, 139, 104, 114,  98, 113, 101, 121,  90, 100,\n",
      "        141, 103, 142,  89, 132, 102,  83, 129,  77,  94, 118, 140,  84,  26,\n",
      "         19,  57,  38,  36,  33,  45,  80,  42,  56,  10,  51,  58,  59,  16,\n",
      "         40,  37,  65,   2,   4,  43,  34,  53,  60,  22,  66,  52,  41,  14,\n",
      "         21,   5,  32,  72,  39,  15,  64])\n",
      "tensor([], dtype=torch.int64)\n",
      "~~~~~~~~~~~~~~~~~~~~~~~~~~~~\n",
      "tensor([1])\n",
      "-----node-----\n",
      "@@@@@@@@@@@@@@@@@@@@@@@@@@@@\n",
      "tensor([ 89, 139, 103, 100,  62, 122, 102, 107, 129,  97,  72,  77,  65,  15,\n",
      "          1, 120, 112,  23, 141,  59,   0,  30,   5, 111,  17,  76,  88,   4,\n",
      "         29, 138,  16, 118, 142,  98,  87, 127,  49,  85,  22,  69,  31,  48,\n",
      "        114, 117,  40, 146,  90, 135,  58,  33,  46,  93, 140, 119,  91,  63,\n",
      "         34,  60,  84,  47,  99,  50,  79,  71, 131,  21,  81,   3,  82, 101,\n",
      "        144,  83,  42,  86, 113, 115,  32, 108,  37,  92,  20, 125,  36,  28,\n",
      "         11, 106,  73,  25,  12, 104, 145,  19, 116,  61,  41,  14, 110,  35,\n",
      "         38,  13, 121, 137,  10,  74,   6, 132,  96,  95,  18,  56,  39,  75,\n",
      "         52,  26, 130,  66, 147, 109, 128])\n",
      "tensor([ 0.9875,  0.9207,  0.9203,  0.8844,  0.8585,  0.8508,  0.8319,  0.8288,\n",
      "         0.8251,  0.8144,  0.8069,  0.7952,  0.7885,  0.7844,  0.7612,  0.7539,\n",
      "         0.7370,  0.7329,  0.7313,  0.7266,  0.7121,  0.6815,  0.6783,  0.6648,\n",
      "         0.6479,  0.6427,  0.6411,  0.6362,  0.6230,  0.5884,  0.5846,  0.5777,\n",
      "         0.5767,  0.5732,  0.5681,  0.5485,  0.5431,  0.5409,  0.5356,  0.5331,\n",
      "         0.5257,  0.5254,  0.5233,  0.5217,  0.5196,  0.5164,  0.5162,  0.5147,\n",
      "         0.5038,  0.4863,  0.4858,  0.4780,  0.4705,  0.4690,  0.4666,  0.4420,\n",
      "         0.4400,  0.4262,  0.4183,  0.3921,  0.3638,  0.3331,  0.3173,  0.3121,\n",
      "         0.2992,  0.2990,  0.2912,  0.2806,  0.2778,  0.2753,  0.2672,  0.2668,\n",
      "         0.2398,  0.2353,  0.2204,  0.1745,  0.1672,  0.1642,  0.1565,  0.1512,\n",
      "         0.1380,  0.1048,  0.1036,  0.0962,  0.0883,  0.0875,  0.0819,  0.0217,\n",
      "         0.0041, -0.0065, -0.0389, -0.0473, -0.0488, -0.0641, -0.0652, -0.0724,\n",
      "        -0.0760, -0.0914, -0.1014, -0.1253, -0.1263, -0.1276, -0.1291, -0.1326,\n",
      "        -0.1672, -0.1676, -0.1681, -0.1799, -0.1887, -0.1941, -0.1979, -0.2026,\n",
      "        -0.2042, -0.2359, -0.2418, -0.2442, -0.2456, -0.2493, -0.2553],\n",
      "       grad_fn=<IndexBackward>)\n",
      "@@@@@@@@@@@@@@@@@@@@@@@@@@@@\n",
      "tensor([  0,   1,   6,  25,  32,  13,   3,  11,  26,   5,   2,  18,  12,   9,\n",
      "          4,  31,  37,  35,  20,  62,  52,  21,  17,  22,  34,  33,  27,   8,\n",
      "         53,  23,  60,  15,  69,  66,   7,  50,  55,  39,  43,  29,  51,  68,\n",
      "         54,  71,  81,  16,  70,  42,  58,  24,  46,  45,  40,  28,  74,  47,\n",
      "         73,  95, 106,  88,  56,  30, 118, 101,  93,  41,  79,  75,  14, 103,\n",
      "         72,  64, 104,  89, 107,  59,  10,  92,  84, 112,  38,  19,  63,  99,\n",
      "        100,  36,  96,  82,  49,  80,  77,  57,  48,  61, 102,  98])\n",
      "tensor([1.0000, 0.9990, 0.9965, 0.9954, 0.9951, 0.9946, 0.9943, 0.9942, 0.9934,\n",
      "        0.9930, 0.9925, 0.9891, 0.9883, 0.9876, 0.9875, 0.9843, 0.9791, 0.9773,\n",
      "        0.9768, 0.9755, 0.9746, 0.9736, 0.9734, 0.9698, 0.9572, 0.9491, 0.9477,\n",
      "        0.9404, 0.9364, 0.9275, 0.9271, 0.9266, 0.9251, 0.9186, 0.9028, 0.9004,\n",
      "        0.8921, 0.8903, 0.8821, 0.8648, 0.8565, 0.8425, 0.8416, 0.8389, 0.8329,\n",
      "        0.8264, 0.8244, 0.8232, 0.8125, 0.8121, 0.7891, 0.7744, 0.7665, 0.7602,\n",
      "        0.7253, 0.7154, 0.7074, 0.6674, 0.6618, 0.6424, 0.6361, 0.6316, 0.6149,\n",
      "        0.6080, 0.5655, 0.5353, 0.5254, 0.5190, 0.4916, 0.4903, 0.4879, 0.4796,\n",
      "        0.4568, 0.4528, 0.4393, 0.4371, 0.4258, 0.4246, 0.3681, 0.3464, 0.3217,\n",
      "        0.3146, 0.3061, 0.3045, 0.2945, 0.2833, 0.2729, 0.2654, 0.2653, 0.2577,\n",
      "        0.2477, 0.2472, 0.2281, 0.2280, 0.2223, 0.2119],\n",
      "       grad_fn=<IndexBackward>)\n",
      "@@@@@@@@@@@@@@@@@@@@@@@@@@@@\n",
      "tensor([81, 89, 91, 82, 87, 85, 76, 93, 92, 68, 80, 88, 70, 94, 75, 95, 65, 60,\n",
      "        61, 74, 90, 83, 71, 86, 84, 69, 78, 67, 73, 77, 66, 79, 72, 56, 52, 63,\n",
      "        59, 46, 49, 54, 53, 45, 58, 48, 64, 55, 36, 62, 37, 39, 40, 57, 50, 42,\n",
      "        43, 41, 38, 44, 35, 22, 31, 47, 51, 32, 14, 28, 21, 27, 24, 30, 33, 34,\n",
      "        26, 29, 15, 18, 23])\n",
      "tensor([ 0.1208,  0.1058,  0.0900,  0.0900,  0.0854,  0.0826,  0.0822,  0.0809,\n",
      "         0.0807,  0.0628,  0.0472,  0.0385, -0.0437, -0.1133, -0.1238, -0.1647,\n",
      "        -0.1692, -0.1836, -0.1987, -0.2240, -0.2263, -0.2562, -0.2598, -0.2635,\n",
      "        -0.2813, -0.2881, -0.2936, -0.3001, -0.3081, -0.3348, -0.3455, -0.3523,\n",
      "        -0.3603, -0.3737, -0.3786, -0.3839, -0.4131, -0.4273, -0.4348, -0.4436,\n",
      "        -0.4489, -0.4545, -0.4589, -0.4614, -0.4718, -0.4795, -0.4907, -0.4928,\n",
      "        -0.5208, -0.5385, -0.5399, -0.5423, -0.5502, -0.5551, -0.5789, -0.5807,\n",
      "        -0.5813, -0.5871, -0.6008, -0.6261, -0.6261, -0.6572, -0.6576, -0.6790,\n",
      "        -0.6939, -0.7142, -0.7282, -0.7332, -0.7392, -0.7399, -0.7423, -0.7485,\n",
      "        -0.7671, -0.7808, -0.7888, -0.7994, -0.8011], grad_fn=<IndexBackward>)\n",
      "tensor([ 60,  21,  61,  72,  37,  50,  73,  51,  59,   2,  23,  34,  43,  11,\n",
      "         48,  39,  49,  35,  17,  96, 109,  14, 132, 111, 122,  75,  12, 116,\n",
      "        105, 117,  93,  53,   7,  87,  32, 138,  13, 145,  18, 114,  30, 113,\n",
      "         97,  85,  62, 136,  64, 129,  70, 139,  94,  15,  91,  92,  84,  83,\n",
      "        118, 126,  47,  24, 121, 115, 147, 102,  63, 120,  31, 130,  88, 100,\n",
      "         82, 108,   5, 112, 119,   1,   6])\n",
      "tensor([], dtype=torch.int64)\n",
      "~~~~~~~~~~~~~~~~~~~~~~~~~~~~\n",
      "tensor([1])\n",
      "-----node-----\n",
      "@@@@@@@@@@@@@@@@@@@@@@@@@@@@\n",
      "tensor([ 17,  33,  23,  47,  16,  12,  48,  15,  89,   0,  11,  63,  38,  62,\n",
      "          3,  13,  46,  40,  65,  25,  34,   5, 139,  30,  88,  73, 103, 102,\n",
      "         32, 100,   9,   4,  42,  69,  87,  78,  22,  80,  31,  85,  76,  35,\n",
      "         97, 143,  92, 125,  86,  74,  91,  28,  18, 126, 105,  75, 127, 115,\n",
      "        120, 142,  10,  84,  37,  21, 138,  93, 104,  14,  61,  41,  98, 136,\n",
      "         43,  20, 135,  49, 129, 117,  99, 107,   1,  82, 131,  60, 119, 137,\n",
      "         39,  79,  95,  50,  52,  96,  24, 108,  72,  83, 122,  90,  81,  51,\n",
      "        101,  36, 114,   2,  29, 147, 111, 112, 130, 116, 110,  77, 124, 132,\n",
      "        145, 141,   6, 133,  58, 140,  59])\n",
      "tensor([ 0.9972,  0.9952,  0.9947,  0.9934,  0.9877,  0.9729,  0.9718,  0.9527,\n",
      "         0.9182,  0.9150,  0.9061,  0.8954,  0.8780,  0.8724,  0.8428,  0.8218,\n",
      "         0.8211,  0.7856,  0.7567,  0.7397,  0.7170,  0.6847,  0.6208,  0.5879,\n",
      "         0.5854,  0.5516,  0.5278,  0.5275,  0.5019,  0.4492,  0.4376,  0.4154,\n",
      "         0.3641,  0.3444,  0.3298,  0.3069,  0.2652,  0.2452,  0.2343,  0.2278,\n",
      "         0.2079,  0.1722,  0.1599,  0.1523,  0.1401,  0.1273,  0.1205,  0.1190,\n",
      "         0.1160,  0.1112,  0.1102,  0.1093,  0.0857,  0.0793,  0.0731,  0.0577,\n",
      "         0.0455,  0.0356,  0.0296,  0.0295,  0.0163,  0.0119,  0.0088, -0.0022,\n",
      "        -0.0105, -0.0112, -0.0148, -0.0480, -0.0485, -0.0488, -0.0515, -0.0543,\n",
      "        -0.0599, -0.0659, -0.0723, -0.0823, -0.0896, -0.1070, -0.1095, -0.1121,\n",
      "        -0.1124, -0.1238, -0.1338, -0.1350, -0.1391, -0.1448, -0.1500, -0.1568,\n",
      "        -0.1651, -0.1687, -0.1696, -0.1780, -0.1882, -0.1930, -0.1950, -0.2047,\n",
      "        -0.2089, -0.2106, -0.2248, -0.2286, -0.2288, -0.2409, -0.2451, -0.2471,\n",
      "        -0.2515, -0.2607, -0.2648, -0.2658, -0.2693, -0.2694, -0.2698, -0.2729,\n",
      "        -0.2742, -0.2780, -0.2864, -0.2913, -0.2959, -0.2965, -0.3064],\n",
      "       grad_fn=<IndexBackward>)\n",
      "@@@@@@@@@@@@@@@@@@@@@@@@@@@@\n",
      "tensor([  3,   0,   2,   1,   4,   6,  10,  13,  15,   5,   7,   9,  12,  16,\n",
      "         14,  11,  20,  17,  23,  28,  18,  65,  66,  19,  31,  21,  84,  97,\n",
      "         32,  30,  33,  38,  25,  36,  41,  50,  88,  49,  60,  29,  90,   8,\n",
      "         73,  92,  43,  26,  67, 102,  64,  85,  40,  22,  42, 114,  35,  99,\n",
      "         83,  27, 101,  52,  24,  34,  70,  61,  81, 116,  71,  47,  58,  89,\n",
      "         69,  37,  79,  96,  93,  98, 117,  76,  74,  63,  62,  68,  44,  78,\n",
      "         91,  51,  82, 110, 108, 115, 111, 112, 113, 103, 104, 107])\n",
      "tensor([ 1.0000,  1.0000,  1.0000,  1.0000,  1.0000,  1.0000,  1.0000,  1.0000,\n",
      "         1.0000,  1.0000,  1.0000,  1.0000,  0.9999,  0.9999,  0.9998,  0.9997,\n",
      "         0.9997,  0.9991,  0.9991,  0.9989,  0.9983,  0.9971,  0.9962,  0.9960,\n",
      "         0.9941,  0.9896,  0.9792,  0.9619,  0.9543,  0.9536,  0.9520,  0.9341,\n",
      "         0.9014,  0.8917,  0.8917,  0.8142,  0.7975,  0.7963,  0.7370,  0.7310,\n",
      "         0.6998,  0.6800,  0.4913,  0.4653,  0.4426,  0.3880,  0.3738,  0.3163,\n",
      "         0.2617,  0.2491,  0.1906,  0.1764,  0.1501,  0.1477,  0.1381,  0.1252,\n",
      "         0.1154,  0.0309,  0.0274, -0.0240, -0.0363, -0.0370, -0.0551, -0.0551,\n",
      "        -0.0562, -0.0678, -0.0957, -0.1175, -0.1234, -0.1355, -0.1355, -0.1498,\n",
      "        -0.1507, -0.1522, -0.1522, -0.1616, -0.1616, -0.1619, -0.1619, -0.1619,\n",
      "        -0.1619, -0.1619, -0.1619, -0.1638, -0.1646, -0.1688, -0.1691, -0.1694,\n",
      "        -0.1694, -0.1694, -0.1694, -0.1694, -0.1694, -0.1694, -0.1694, -0.1694],\n",
      "       grad_fn=<IndexBackward>)\n",
      "@@@@@@@@@@@@@@@@@@@@@@@@@@@@\n",
      "tensor([82, 95, 81, 94, 88, 91, 84, 77, 75, 78, 86, 76, 90, 69, 74, 79, 80, 89,\n",
      "        70, 72, 85, 73, 67, 92, 83, 68, 71, 87, 93, 63, 64, 62, 66, 65, 59, 60,\n",
      "        52, 54, 61, 51, 56, 57, 48, 58, 50, 55, 45, 46, 49, 53, 43, 47, 44, 42,\n",
      "        39, 41, 34, 40, 36, 33, 38, 32, 35, 15, 30, 31, 28, 37, 29, 26, 27, 25,\n",
      "        24, 22, 13, 23, 18])\n",
      "tensor([ 0.1975,  0.1416,  0.1281,  0.1261,  0.1088,  0.1086,  0.1046,  0.0992,\n",
      "         0.0912,  0.0829,  0.0811,  0.0760,  0.0755,  0.0716,  0.0662,  0.0650,\n",
      "         0.0603,  0.0588,  0.0477,  0.0442,  0.0404,  0.0376,  0.0222,  0.0212,\n",
      "         0.0177,  0.0167,  0.0139,  0.0084,  0.0084, -0.0282, -0.0525, -0.0609,\n",
      "        -0.0624, -0.0985, -0.1055, -0.1491, -0.1535, -0.1748, -0.1831, -0.1930,\n",
      "        -0.2063, -0.2479, -0.2576, -0.2735, -0.2779, -0.3592, -0.3712, -0.3755,\n",
      "        -0.3885, -0.4102, -0.4384, -0.4743, -0.4792, -0.5373, -0.6519, -0.7053,\n",
      "        -0.7192, -0.7332, -0.7498, -0.7644, -0.7739, -0.7936, -0.7986, -0.8195,\n",
      "        -0.8497, -0.8498, -0.8807, -0.8984, -0.9014, -0.9127, -0.9503, -0.9726,\n",
      "        -0.9787, -0.9799, -0.9818, -0.9829, -0.9858], grad_fn=<IndexBackward>)\n",
      "tensor([ 93, 117,  99, 112, 111, 146, 109, 100, 102, 130, 120, 141, 133,  97,\n",
      "         84,  94, 139, 134, 137,  83, 127,  82,  75, 142,   2,  11,  81, 125,\n",
      "        148,  22,  61,  44,  21,  59, 106,  89,  98,  79,  88, 140, 138, 103,\n",
      "        105,   3,  77,  37, 104,  42,  80,   7,  73,  30, 144,  50, 101,  90,\n",
      "         36,  25,  53,  23,  38,  74,  19,  64,  70,  32,  43,  29,  10,  40,\n",
      "         52,   6,   5,  62,  47,  26,  31])\n",
      "tensor([], dtype=torch.int64)\n",
      "~~~~~~~~~~~~~~~~~~~~~~~~~~~~\n",
      "tensor([1])\n",
      "-----node-----\n",
      "@@@@@@@@@@@@@@@@@@@@@@@@@@@@\n",
      "tensor([ 59,  49, 123, 146, 145, 110,  96,  36,  60,   1, 111, 108, 133,  58,\n",
      "         97, 129, 117,  90, 138, 121, 115,  72,  71,  93, 107, 120, 114, 131,\n",
      "        116,  84,  95,  22, 118,  92, 135,  94, 100, 122, 112,  20, 124, 140,\n",
      "        130,  23,  75,  33,  47,  43, 144,  21,  99,  40,  50, 134, 102,  32,\n",
      "        101,  16, 147,  48,  31, 106, 137, 128, 132,  87,  63,  17,  86,  89,\n",
      "        119,  76,  77,  46, 103,  12,  79, 136,  88,  42,  34,  37, 142,  98,\n",
      "        125,  13,  35, 113, 141, 109,  30,   0,  73,  56,  38,  24,  25,  62,\n",
      "         81,  91,  18,  61,  82,  69,   5, 139, 104,  51,  64,  19, 127,   4,\n",
      "        126,  10,  74,  14,  41,  54,   9])\n",
      "tensor([ 0.9860,  0.9819,  0.9809,  0.9587,  0.9264,  0.9183,  0.9150,  0.8886,\n",
      "         0.8609,  0.8271,  0.8137,  0.8091,  0.7721,  0.7571,  0.7351,  0.7333,\n",
      "         0.7250,  0.6674,  0.6640,  0.5827,  0.5740,  0.5714,  0.5644,  0.5627,\n",
      "         0.5600,  0.5598,  0.5117,  0.4752,  0.4508,  0.4469,  0.4374,  0.4327,\n",
      "         0.4165,  0.3767,  0.3701,  0.3662,  0.3595,  0.3585,  0.3554,  0.3025,\n",
      "         0.3008,  0.2131,  0.1779,  0.1663,  0.1481,  0.1429,  0.1254,  0.1126,\n",
      "         0.1115,  0.0988,  0.0965,  0.0821,  0.0778,  0.0670,  0.0648,  0.0572,\n",
      "         0.0504,  0.0456,  0.0239,  0.0187,  0.0165,  0.0104, -0.0329, -0.0393,\n",
      "        -0.0446, -0.0480, -0.0500, -0.0655, -0.0683, -0.0695, -0.0787, -0.0814,\n",
      "        -0.0861, -0.0868, -0.0869, -0.0894, -0.1052, -0.1247, -0.1292, -0.1334,\n",
      "        -0.1359, -0.1513, -0.1543, -0.1631, -0.1658, -0.1685, -0.1744, -0.1790,\n",
      "        -0.1837, -0.1922, -0.2046, -0.2140, -0.2187, -0.2196, -0.2212, -0.2260,\n",
      "        -0.2260, -0.2268, -0.2364, -0.2574, -0.2597, -0.2612, -0.2694, -0.2703,\n",
      "        -0.2739, -0.2858, -0.2986, -0.2998, -0.3028, -0.3075, -0.3138, -0.3196,\n",
      "        -0.3259, -0.3334, -0.3336, -0.3353, -0.3354, -0.3360, -0.3392],\n",
      "       grad_fn=<IndexBackward>)\n",
      "@@@@@@@@@@@@@@@@@@@@@@@@@@@@\n",
      "tensor([  4,   2,   5,   3,  10,   0,  13,   7,  12,   1,  22,   8,  35,  53,\n",
      "         33,  39,  16,  20,  44,  64,  27,  26,  18,   9,  30,  81,  19,  24,\n",
      "         40,  29,  21,  28,  49,  15,  23,  89,  52,   6,  47,  83,  11,  93,\n",
      "         42, 116,  58,  31,  36, 100,  17,  48,  63,  50,  61,  74,  41,  80,\n",
      "         45,  46,  79,  99, 109, 108, 113,  57,  37,  70, 105,  95,  72, 102,\n",
      "         32,  56,  71,  67,  51,  55,  25,  14,  54,  59,  98,  82,  88,  84,\n",
      "        112, 107,  43, 106,  62, 104,  60,  65, 110, 111,  68,  38])\n",
      "tensor([ 1.0000,  1.0000,  1.0000,  0.9997,  0.9995,  0.9992,  0.9985,  0.9985,\n",
      "         0.9982,  0.9965,  0.9956,  0.9911,  0.9902,  0.9883,  0.9710,  0.9692,\n",
      "         0.9663,  0.9654,  0.9560,  0.9539,  0.9425,  0.9350,  0.9295,  0.9281,\n",
      "         0.9268,  0.9257,  0.9230,  0.9218,  0.9063,  0.9051,  0.8731,  0.8695,\n",
      "         0.8652,  0.8461,  0.8427,  0.8222,  0.8165,  0.7773,  0.7746,  0.7434,\n",
      "         0.7326,  0.7241,  0.6549,  0.6118,  0.5584,  0.5290,  0.4915,  0.4529,\n",
      "         0.4442,  0.4269,  0.3709,  0.3636,  0.2901,  0.2539,  0.1422,  0.1320,\n",
      "         0.1173,  0.1116,  0.1020,  0.0472,  0.0318,  0.0318,  0.0318,  0.0052,\n",
      "        -0.0243, -0.0426, -0.0591, -0.0621, -0.0794, -0.1369, -0.1527, -0.1528,\n",
      "        -0.1532, -0.1604, -0.1608, -0.1608, -0.1677, -0.1677, -0.1687, -0.1690,\n",
      "        -0.1692, -0.1692, -0.1694, -0.1694, -0.1694, -0.1694, -0.1694, -0.1694,\n",
      "        -0.1694, -0.1694, -0.1694, -0.1694, -0.1694, -0.1694, -0.1694, -0.1694],\n",
      "       grad_fn=<IndexBackward>)\n",
      "@@@@@@@@@@@@@@@@@@@@@@@@@@@@\n",
      "tensor([70, 78, 83, 80, 92, 81, 88, 94, 95, 84, 79, 90, 91, 89, 82, 71, 86, 77,\n",
      "        85, 69, 73, 72, 87, 93, 65, 76, 67, 74, 66, 75, 68, 64, 63, 53, 61, 58,\n",
      "        57, 59, 56, 62, 60, 55, 54, 45, 46, 52, 49, 50, 51, 34, 48, 39, 47, 15,\n",
      "        44, 42, 43, 25, 38, 40, 36, 32, 29, 33, 41, 37,  7, 22, 35, 16, 27, 20,\n",
      "        30,  4, 23, 26, 31])\n",
      "tensor([ 0.1076,  0.1028,  0.0910,  0.0850,  0.0759,  0.0756,  0.0745,  0.0745,\n",
      "         0.0742,  0.0729,  0.0727,  0.0591,  0.0589,  0.0580,  0.0576,  0.0494,\n",
      "         0.0424,  0.0420,  0.0419,  0.0400,  0.0361,  0.0319,  0.0255,  0.0251,\n",
      "         0.0220,  0.0107, -0.0013, -0.0101, -0.0196, -0.0527, -0.0573, -0.0707,\n",
      "        -0.0839, -0.1062, -0.1069, -0.1076, -0.1183, -0.1214, -0.1221, -0.1268,\n",
      "        -0.1366, -0.1453, -0.1640, -0.1702, -0.2760, -0.2820, -0.3037, -0.3452,\n",
      "        -0.3599, -0.3802, -0.3980, -0.4257, -0.4258, -0.4358, -0.4500, -0.5089,\n",
      "        -0.5323, -0.5408, -0.5680, -0.5815, -0.5835, -0.5968, -0.5996, -0.6237,\n",
      "        -0.6303, -0.6446, -0.6698, -0.6723, -0.6845, -0.6977, -0.7068, -0.7277,\n",
      "        -0.7349, -0.7367, -0.7368, -0.7525, -0.7688], grad_fn=<IndexBackward>)\n",
      "tensor([119, 103, 126,  82, 128, 143, 138,  87, 113, 127,  49,  32,  88,   6,\n",
      "        142, 102,  24,  98,  52,  83,  18,  77, 105,   5, 120, 121,  25,  41,\n",
      "        140,  33,  78, 123,  17, 104,  65,  43,  48,  92,  34,  11,  20,  35,\n",
      "        141,  23, 101, 107, 145, 129, 100,  94,  91,  99,  19,  21, 148, 131,\n",
      "         42,  38,  44, 109,  51,  22,  85, 130,  57,  97,  37, 139, 110, 118,\n",
      "        108, 132,  73, 112,   2, 122, 117])\n",
      "tensor([], dtype=torch.int64)\n",
      "~~~~~~~~~~~~~~~~~~~~~~~~~~~~\n",
      "tensor([1])\n",
      "-----node-----\n",
      "@@@@@@@@@@@@@@@@@@@@@@@@@@@@\n",
      "tensor([ 89, 114, 146, 118,  90,  98, 129, 111, 145, 122, 101, 108, 119, 120,\n",
      "         77,  99,  17, 103, 100, 102,  23, 116,  48, 140,  91,  76,  60,  75,\n",
      "        107,  46,  92, 110,  79,  16,   1,  96,  59,  97,  71,  13,  61, 121,\n",
      "         38, 127,  85, 144,  62,  88, 112,  80,  93,  15,  47, 134,  72, 106,\n",
      "        133,  87, 113, 141,  12, 142,  40, 125, 123,  49,  42,  58,  82, 138,\n",
      "         95,  33, 128,  18, 132,  22,  11, 109,  50,   3,  81,  37,  53,  36,\n",
      "         67,  20,   6,   5,  63,  21,  26,  66,  41,  83, 139,  32,  86,  43,\n",
      "         34,  78,  29, 117,  94,  74, 135,  84, 131,  30, 124,   0,   4,  25,\n",
      "        130,   9,  69,  24,  65,  14,  57])\n",
      "tensor([ 0.9982,  0.9843,  0.9725,  0.9160,  0.9098,  0.9048,  0.8821,  0.8613,\n",
      "         0.8161,  0.8099,  0.8091,  0.8052,  0.7920,  0.7867,  0.7856,  0.7817,\n",
      "         0.7568,  0.7542,  0.7505,  0.7474,  0.7336,  0.7323,  0.6949,  0.6813,\n",
      "         0.6731,  0.6574,  0.6540,  0.6503,  0.6379,  0.6100,  0.5922,  0.5802,\n",
      "         0.5762,  0.5758,  0.5455,  0.5441,  0.5430,  0.5337,  0.5242,  0.5217,\n",
      "         0.5068,  0.4993,  0.4892,  0.4754,  0.4735,  0.4636,  0.4602,  0.4585,\n",
      "         0.4473,  0.4325,  0.4179,  0.3991,  0.3949,  0.3902,  0.3865,  0.3809,\n",
      "         0.3806,  0.3782,  0.3494,  0.3411,  0.3397,  0.3149,  0.2966,  0.2956,\n",
      "         0.2944,  0.2926,  0.2813,  0.2682,  0.2659,  0.2531,  0.2447,  0.2322,\n",
      "         0.2178,  0.2088,  0.2042,  0.1889,  0.1482,  0.1361,  0.1263,  0.1048,\n",
      "         0.1001,  0.0971,  0.0934,  0.0708,  0.0573,  0.0497,  0.0479,  0.0100,\n",
      "        -0.0264, -0.0751, -0.0760, -0.0761, -0.0812, -0.0919, -0.1048, -0.1223,\n",
      "        -0.1231, -0.1234, -0.1332, -0.1426, -0.1576, -0.1617, -0.1710, -0.1836,\n",
      "        -0.1872, -0.2068, -0.2231, -0.2284, -0.2346, -0.2379, -0.2427, -0.2470,\n",
      "        -0.2522, -0.2555, -0.2565, -0.2690, -0.2696, -0.2718, -0.2723],\n",
      "       grad_fn=<IndexBackward>)\n",
      "@@@@@@@@@@@@@@@@@@@@@@@@@@@@\n",
      "tensor([  0,   2,   1,   5,  15,   3,   7,   6,  19,  14,  25,  23,  10,   9,\n",
      "         28,   4,  18,  21,   8,  11,  12,  30,  41,  72,  31,  24,  77,  17,\n",
      "         35,  53,  61,  44,  56,  43,  32,  47,  55,  27,  13,  45,  64,  74,\n",
      "         49,  63,  59,  57,  37,  70,  22,  50,  69,  20,  16,  80,  94,  29,\n",
      "        102,  48,  99,  42,  33,  58,  46,  68,  96,  40, 101,  39,  52,  51,\n",
      "         60, 106,  82,  76, 112,  93,  62, 108, 116,  26,  79,  88,  84, 117,\n",
      "        104, 103,  87,  86, 107,  98, 105, 109, 100, 113, 114,  54])\n",
      "tensor([1.0000, 1.0000, 1.0000, 1.0000, 1.0000, 0.9999, 0.9999, 0.9998, 0.9997,\n",
      "        0.9997, 0.9996, 0.9995, 0.9994, 0.9994, 0.9992, 0.9990, 0.9989, 0.9983,\n",
      "        0.9979, 0.9977, 0.9974, 0.9956, 0.9952, 0.9946, 0.9945, 0.9943, 0.9938,\n",
      "        0.9932, 0.9915, 0.9879, 0.9875, 0.9865, 0.9819, 0.9758, 0.9752, 0.9750,\n",
      "        0.9749, 0.9747, 0.9662, 0.9628, 0.9605, 0.9587, 0.9580, 0.9563, 0.9539,\n",
      "        0.9535, 0.9428, 0.9408, 0.9303, 0.9134, 0.8977, 0.8877, 0.8723, 0.8570,\n",
      "        0.8353, 0.8239, 0.8238, 0.8152, 0.8068, 0.7928, 0.7912, 0.7691, 0.7598,\n",
      "        0.7556, 0.7543, 0.7226, 0.7172, 0.7113, 0.7028, 0.7017, 0.6705, 0.6119,\n",
      "        0.5741, 0.4988, 0.4595, 0.4414, 0.4406, 0.4320, 0.4100, 0.4044, 0.3826,\n",
      "        0.3591, 0.3328, 0.3266, 0.3049, 0.2957, 0.2834, 0.2705, 0.1836, 0.1637,\n",
      "        0.1541, 0.1343, 0.1092, 0.0666, 0.0613, 0.0471],\n",
      "       grad_fn=<IndexBackward>)\n",
      "@@@@@@@@@@@@@@@@@@@@@@@@@@@@\n",
      "tensor([95, 83, 89, 91, 88, 82, 94, 80, 73, 92, 81, 93, 79, 76, 67, 70, 72, 86,\n",
      "        85, 87, 59, 68, 65, 90, 69, 55, 51, 62, 60, 48, 84, 52, 78, 75, 74, 63,\n",
      "        61, 57, 64, 71, 77, 53, 66, 56, 58, 38, 50, 46, 54, 39, 44, 49, 40, 25,\n",
      "        41, 45, 42, 43, 37, 47, 36, 24, 33, 22, 34, 32, 35, 27, 30, 28, 31, 18,\n",
      "        19, 26, 29, 23, 15])\n",
      "tensor([-0.0830, -0.1100, -0.1129, -0.1191, -0.1279, -0.1492, -0.1569, -0.1578,\n",
      "        -0.1616, -0.1633, -0.1668, -0.1924, -0.1978, -0.2044, -0.2335, -0.2443,\n",
      "        -0.2471, -0.2495, -0.2526, -0.2637, -0.2884, -0.3010, -0.3094, -0.3188,\n",
      "        -0.3299, -0.3409, -0.3703, -0.3714, -0.3812, -0.3951, -0.4267, -0.4291,\n",
      "        -0.4449, -0.4709, -0.5256, -0.5689, -0.6199, -0.6218, -0.6545, -0.6559,\n",
      "        -0.6741, -0.7399, -0.7551, -0.7691, -0.7715, -0.7749, -0.7910, -0.7979,\n",
      "        -0.8004, -0.8254, -0.8533, -0.8552, -0.8606, -0.8713, -0.8772, -0.8822,\n",
      "        -0.8900, -0.8939, -0.9055, -0.9072, -0.9080, -0.9111, -0.9113, -0.9180,\n",
      "        -0.9219, -0.9274, -0.9327, -0.9364, -0.9458, -0.9478, -0.9507, -0.9509,\n",
      "        -0.9584, -0.9645, -0.9656, -0.9664, -0.9680], grad_fn=<IndexBackward>)\n",
      "tensor([ 73,  15,  35,   1,  31,  68,  70,   4,  12,  30,  64,  10,  61,  41,\n",
      "         14,  13,  54,   6,  75,   7,  39,  48,  62,  85,  16,  47,  24,  63,\n",
      "         17,  49, 136,  18,  66,  84, 131,  83, 114, 113,  87, 132, 125,  82,\n",
      "        118,  95,  79, 121, 139,  98, 140, 145, 142,  94, 124,  92, 133,  88,\n",
      "         81, 126,  76,  96, 107, 111, 128, 122,  80, 134,  89, 104, 143,  97,\n",
      "         86, 146, 109, 110, 135, 129,  91])\n",
      "tensor([], dtype=torch.int64)\n",
      "~~~~~~~~~~~~~~~~~~~~~~~~~~~~\n",
      "tensor([0])\n"
     ]
    },
    {
     "name": "stdout",
     "output_type": "stream",
     "text": [
      "-----node-----\n",
      "@@@@@@@@@@@@@@@@@@@@@@@@@@@@\n",
      "tensor([ 89,  88, 122, 102, 118, 141,  76,  77, 127,  98, 100, 125, 139, 142,\n",
      "        110,   0,  23, 120,  15,  79, 103,  30,   5,  99, 129,  69, 101, 140,\n",
      "         31,  85,  17,  92,  16, 107,  62,  22, 146,  63,  48,  97, 112, 114,\n",
      "        132,  34, 135, 111,  91,  65,  90,   4,  75, 128,  72,  93, 115,  33,\n",
      "         29,  87, 109,  40, 119, 138,   6,  12,  46, 123,  73,  43, 144,  25,\n",
      "          8, 108,  84,  21,  86,  60, 113,  74, 117,  59, 136,  61,  47, 145,\n",
      "         49, 104,  36,  20,  83,  13,  10,  95,  19,  32,  42,  58,   1,  35,\n",
      "        124,  50,  82,  51,  96, 106,  38,  41,  39, 126, 131, 134, 121, 105,\n",
      "         71,  44,  14,  52,   3,   9,  28])\n",
      "tensor([ 0.9290,  0.9139,  0.9094,  0.8761,  0.8059,  0.7667,  0.6848,  0.6643,\n",
      "         0.6592,  0.6071,  0.6047,  0.6034,  0.5959,  0.5943,  0.5660,  0.5603,\n",
      "         0.5498,  0.5478,  0.5433,  0.5395,  0.5293,  0.5179,  0.5047,  0.4921,\n",
      "         0.4692,  0.4517,  0.4314,  0.4236,  0.4210,  0.4153,  0.4137,  0.4045,\n",
      "         0.3875,  0.3686,  0.3591,  0.3516,  0.3445,  0.3396,  0.3331,  0.3103,\n",
      "         0.2604,  0.2565,  0.2354,  0.2299,  0.2235,  0.2138,  0.1909,  0.1868,\n",
      "         0.1720,  0.1705,  0.1669,  0.1608,  0.1354,  0.1239,  0.1160,  0.0993,\n",
      "         0.0910,  0.0657,  0.0637,  0.0579,  0.0524,  0.0488,  0.0259,  0.0195,\n",
      "         0.0143,  0.0100,  0.0053, -0.0132, -0.0288, -0.0325, -0.0339, -0.0341,\n",
      "        -0.0361, -0.0428, -0.0441, -0.0509, -0.0517, -0.0569, -0.0602, -0.0693,\n",
      "        -0.0820, -0.0960, -0.1090, -0.1123, -0.1155, -0.1162, -0.1210, -0.1323,\n",
      "        -0.1447, -0.1448, -0.1461, -0.1464, -0.1470, -0.1499, -0.1528, -0.1585,\n",
      "        -0.1590, -0.1725, -0.1829, -0.1893, -0.2096, -0.2136, -0.2203, -0.2219,\n",
      "        -0.2220, -0.2224, -0.2261, -0.2358, -0.2393, -0.2410, -0.2423, -0.2432,\n",
      "        -0.2433, -0.2486, -0.2569, -0.2576, -0.2660, -0.2679, -0.2703],\n",
      "       grad_fn=<IndexBackward>)\n",
      "@@@@@@@@@@@@@@@@@@@@@@@@@@@@\n",
      "tensor([  3,   4,   5,   0,   2,   7,   1,  13,   6,   8,  26,  10,  11,  27,\n",
      "         29,  23,  18,  12,  41,  20,  51, 107,  24,  48,  19,  57,   9,  22,\n",
      "         34,  36,  21,  16,  15,  47,  60,  46,  44,  25,  28,  31,  77,  37,\n",
      "         58,  68,  49,  40,  14,  17,  62,  76,  53,  33,  30,  32,  64,  43,\n",
      "         45,  63,  39, 111, 100,  81,  35, 110,  85,  80, 108,  88,  61,  74,\n",
      "         38, 103,  56,  72,  42, 114, 117,  83,  71,  50,  54, 104,  89, 102,\n",
      "        101, 118,  70, 115,  67,  82,  59, 116, 113,  87,  73,  75])\n",
      "tensor([ 0.9995,  0.9979,  0.9973,  0.9973,  0.9957,  0.9948,  0.9925,  0.9913,\n",
      "         0.9911,  0.9880,  0.9853,  0.9798,  0.9772,  0.9760,  0.9381,  0.9348,\n",
      "         0.8735,  0.8499,  0.8457,  0.8101,  0.8101,  0.7802,  0.7703,  0.7495,\n",
      "         0.7354,  0.6358,  0.6172,  0.5381,  0.5091,  0.4908,  0.4655,  0.4360,\n",
      "         0.4337,  0.4307,  0.4129,  0.3873,  0.3817,  0.3802,  0.3653,  0.3576,\n",
      "         0.3173,  0.3018,  0.2854,  0.2851,  0.2818,  0.2781,  0.2520,  0.2390,\n",
      "         0.2303,  0.2149,  0.1820,  0.1804,  0.1565,  0.1412,  0.1041,  0.1024,\n",
      "         0.0922,  0.0796,  0.0575,  0.0345,  0.0278, -0.0042, -0.0101, -0.0132,\n",
      "        -0.0196, -0.0312, -0.0387, -0.0543, -0.0665, -0.0683, -0.0728, -0.0759,\n",
      "        -0.0777, -0.0830, -0.0881, -0.0891, -0.0980, -0.1045, -0.1128, -0.1164,\n",
      "        -0.1167, -0.1265, -0.1265, -0.1284, -0.1291, -0.1291, -0.1389, -0.1409,\n",
      "        -0.1510, -0.1632, -0.1677, -0.1677, -0.1677, -0.1688, -0.1688, -0.1688],\n",
      "       grad_fn=<IndexBackward>)\n",
      "@@@@@@@@@@@@@@@@@@@@@@@@@@@@\n",
      "tensor([70, 52, 54, 88, 62, 53, 31, 89, 61, 82, 75, 55, 84, 79, 81, 32, 57, 94,\n",
      "        91, 92, 95, 90, 74, 28, 87, 85, 30, 76, 80, 83, 77, 93, 44, 41, 48, 37,\n",
      "        86, 68, 73, 33, 64, 78, 66, 59, 38, 72, 65, 27, 67, 63, 71, 58, 60, 69,\n",
      "        50, 56, 46, 39, 51, 43, 42, 34, 47, 49, 35, 29, 24, 45, 40, 26, 36, 16,\n",
      "        22, 25, 19, 23, 17])\n",
      "tensor([ 0.2436,  0.1527,  0.1463,  0.1387,  0.1381,  0.1370,  0.1275,  0.1253,\n",
      "         0.1208,  0.1207,  0.1147,  0.1101,  0.1072,  0.1063,  0.1040,  0.0997,\n",
      "         0.0980,  0.0927,  0.0925,  0.0925,  0.0923,  0.0921,  0.0900,  0.0879,\n",
      "         0.0876,  0.0735,  0.0727,  0.0700,  0.0665,  0.0625,  0.0610,  0.0589,\n",
      "         0.0561,  0.0522,  0.0426,  0.0411,  0.0382,  0.0379,  0.0363,  0.0325,\n",
      "         0.0283,  0.0191,  0.0183,  0.0157,  0.0147,  0.0076,  0.0052, -0.0043,\n",
      "        -0.0043, -0.0222, -0.0280, -0.0346, -0.0503, -0.0668, -0.0699, -0.0735,\n",
      "        -0.0739, -0.0946, -0.1590, -0.1991, -0.2203, -0.2332, -0.2412, -0.2481,\n",
      "        -0.2675, -0.2680, -0.2720, -0.2830, -0.3047, -0.3117, -0.3997, -0.4179,\n",
      "        -0.4830, -0.4934, -0.5059, -0.5098, -0.5316], grad_fn=<IndexBackward>)\n",
      "tensor([ 49,  18,  47,  44,  23,  17,  24,  48,  62,  14,  15,  35,  52,  76,\n",
      "         39,   1,  13,  22,   4,  45,  61,  41, 133,  63,  53,  29,  31,  10,\n",
      "        116,  97, 146,  21,   5,  64,   7,  70,   9, 139,  85,  66, 105, 109,\n",
      "        132, 106,  32,  30, 137,   6,  84, 122, 107,  98,  83,  87,  94, 112,\n",
      "        111,  93, 108, 145, 110, 120, 121, 114,  92, 147,  80, 113,  75,  99,\n",
      "        136,  16, 130,  88, 104,  91, 140])\n",
      "tensor([], dtype=torch.int64)\n",
      "~~~~~~~~~~~~~~~~~~~~~~~~~~~~\n",
      "tensor([0])\n",
      "-----node-----\n",
      "@@@@@@@@@@@@@@@@@@@@@@@@@@@@\n",
      "tensor([103,  23,   1,  89,  15,  17,  80,  82,  24,  29,  81,  18,  76,  48,\n",
      "         12,  33,  92,  25,  19, 139,  79, 116,  46,  11, 102,  97,  26,  30,\n",
      "         57,  37,  13, 145,  72,  41, 123, 111,  36,  65,  93,  71,  22,  63,\n",
      "         28,  34,  75, 133,  94,  31,  98,  38,   0,  62,  40,  74, 140, 100,\n",
      "        107, 101,   4, 138,  14,  16,  77, 129, 122,  32,   5,  90, 114, 119,\n",
      "         95, 117,  84, 104,  21, 115,  88,  78,  73, 110,  52,  56, 106, 108,\n",
      "         83,  35,  61, 136,  42,  85,  47, 146,  69, 132, 120, 144,  43,  20,\n",
      "         49,   2,  58,  10, 127,   3, 125, 118,  50,  53,  51, 143,  66,  86,\n",
      "          7,   6,  91,  87,  39,   9,  60])\n",
      "tensor([ 0.9518,  0.9413,  0.9067,  0.9043,  0.9039,  0.8306,  0.8217,  0.8083,\n",
      "         0.7797,  0.7763,  0.7753,  0.7217,  0.7059,  0.6808,  0.6614,  0.6610,\n",
      "         0.5961,  0.5905,  0.5636,  0.5146,  0.4464,  0.4294,  0.4266,  0.3961,\n",
      "         0.3926,  0.3920,  0.3840,  0.3714,  0.3446,  0.3419,  0.2870,  0.2836,\n",
      "         0.2765,  0.2719,  0.2666,  0.2665,  0.2429,  0.2356,  0.2221,  0.2042,\n",
      "         0.1939,  0.1810,  0.1684,  0.1638,  0.1616,  0.1480,  0.1413,  0.1202,\n",
      "         0.1186,  0.1186,  0.1059,  0.0995,  0.0825,  0.0730,  0.0426,  0.0384,\n",
      "         0.0367,  0.0019, -0.0045, -0.0163, -0.0304, -0.0502, -0.0627, -0.0653,\n",
      "        -0.0686, -0.0694, -0.0819, -0.0910, -0.0950, -0.0952, -0.1001, -0.1012,\n",
      "        -0.1028, -0.1033, -0.1043, -0.1053, -0.1123, -0.1144, -0.1145, -0.1208,\n",
      "        -0.1310, -0.1320, -0.1333, -0.1393, -0.1429, -0.1503, -0.1568, -0.1772,\n",
      "        -0.1836, -0.1847, -0.1895, -0.1945, -0.2002, -0.2063, -0.2113, -0.2140,\n",
      "        -0.2144, -0.2181, -0.2219, -0.2235, -0.2258, -0.2300, -0.2309, -0.2319,\n",
      "        -0.2377, -0.2379, -0.2510, -0.2590, -0.2608, -0.2658, -0.2664, -0.2708,\n",
      "        -0.2755, -0.2812, -0.2865, -0.2893, -0.2919, -0.2929, -0.3036],\n",
      "       grad_fn=<IndexBackward>)\n",
      "@@@@@@@@@@@@@@@@@@@@@@@@@@@@\n",
      "tensor([  1,   4,   5,  14,  22,  41,  13,  51,  27,  23,  50,  86,  49,  26,\n",
      "         30,  15,   2,  43,  40,   3,   8,  61,  42,  17,  37,  47,  60,  53,\n",
      "         58,  90, 116,  69,   0, 103,  19,  52,  55,   6,  20,  95,   7,  77,\n",
      "         80,  12,  10, 108,  66,  92,  87,  73, 107,  25,  24,  99,  54, 105,\n",
      "         57,  84, 112, 113,  72,  59,   9, 109,  76, 102,  89, 115,  65,  36,\n",
      "        110, 100, 101,  31,  29,  98,  96,  32,  97,  93,  16,  18, 117, 114,\n",
      "         11, 104, 111,  28,  21,  34, 106,  94,  62,  70,  68,  45])\n",
      "tensor([ 0.4848,  0.4170,  0.3821,  0.3197,  0.2871,  0.2170,  0.1754,  0.1630,\n",
      "         0.1528,  0.1041,  0.1012,  0.0881,  0.0670,  0.0184,  0.0172, -0.0014,\n",
      "        -0.0088, -0.0183, -0.0183, -0.0293, -0.0393, -0.0442, -0.0470, -0.0487,\n",
      "        -0.0674, -0.0698, -0.0730, -0.0798, -0.0800, -0.0807, -0.0846, -0.0848,\n",
      "        -0.0894, -0.0927, -0.1107, -0.1115, -0.1125, -0.1147, -0.1150, -0.1153,\n",
      "        -0.1161, -0.1161, -0.1170, -0.1190, -0.1216, -0.1265, -0.1282, -0.1305,\n",
      "        -0.1310, -0.1318, -0.1328, -0.1334, -0.1387, -0.1389, -0.1393, -0.1393,\n",
      "        -0.1393, -0.1417, -0.1421, -0.1428, -0.1428, -0.1428, -0.1428, -0.1676,\n",
      "        -0.1685, -0.1687, -0.1688, -0.1688, -0.1694, -0.1694, -0.1694, -0.1694,\n",
      "        -0.1694, -0.1694, -0.1694, -0.1694, -0.1694, -0.1694, -0.1694, -0.1694,\n",
      "        -0.1694, -0.1694, -0.1694, -0.1694, -0.1694, -0.1694, -0.1694, -0.1694,\n",
      "        -0.1694, -0.1694, -0.1694, -0.1694, -0.1694, -0.1694, -0.1694, -0.1694],\n",
      "       grad_fn=<IndexBackward>)\n",
      "@@@@@@@@@@@@@@@@@@@@@@@@@@@@\n",
      "tensor([ 1, 19,  0,  9, 51, 23, 20, 24, 15, 34, 22, 62, 32, 27,  2, 26, 81, 46,\n",
      "         6, 13, 69,  8, 52, 38, 43, 28, 44, 66, 18, 16, 50, 10, 33, 14, 36, 45,\n",
      "        53, 78, 64, 84, 77, 41, 37, 88,  7,  3, 17, 35, 59, 58, 82, 74, 67, 83,\n",
      "        40, 21, 29, 68, 76, 63, 31, 56, 92, 57, 48, 49, 25, 42, 87, 70, 71, 65,\n",
      "        86, 72, 55, 93, 60])\n",
      "tensor([0.5074, 0.4714, 0.3246, 0.2856, 0.2540, 0.2396, 0.2382, 0.2379, 0.2368,\n",
      "        0.2230, 0.2230, 0.2228, 0.2226, 0.2218, 0.2060, 0.1918, 0.1908, 0.1903,\n",
      "        0.1901, 0.1859, 0.1746, 0.1745, 0.1744, 0.1743, 0.1743, 0.1742, 0.1580,\n",
      "        0.1580, 0.1566, 0.1533, 0.1428, 0.1425, 0.1425, 0.1423, 0.1416, 0.1262,\n",
      "        0.1255, 0.1254, 0.1253, 0.1253, 0.1252, 0.1252, 0.1251, 0.1251, 0.1244,\n",
      "        0.1241, 0.1238, 0.1092, 0.1089, 0.1089, 0.1088, 0.1086, 0.1086, 0.1086,\n",
      "        0.1086, 0.1084, 0.1081, 0.0923, 0.0921, 0.0921, 0.0920, 0.0920, 0.0920,\n",
      "        0.0920, 0.0914, 0.0912, 0.0911, 0.0756, 0.0755, 0.0755, 0.0755, 0.0754,\n",
      "        0.0753, 0.0753, 0.0753, 0.0753, 0.0753], grad_fn=<IndexBackward>)\n",
      "tensor([ 16,  90,  24,  12,  98,  26,  25,  66,  34, 140,  29,  30, 104,  75,\n",
      "         18,  15,  20,   6,  49,  27,  37,  31, 103,  80,  77,   5,  82,  86,\n",
      "         23,   2,  54,   1,   4,  14, 101,  52,   3,  21,  89,  19,  73,  79,\n",
      "         81, 117,  63,  13,  35,  41,   7,   8,  10,  38,  88,  92,  83,  17,\n",
      "         48,  33,  44, 144, 120, 102,  78,  84, 137, 105,  32,  53,  58,  67,\n",
      "         59, 128,  87,  11, 119,  96,  85])\n",
      "tensor([16])\n",
      "~~~~~~~~~~~~~~~~~~~~~~~~~~~~\n",
      "tensor([1])\n",
      "-----node-----\n",
      "@@@@@@@@@@@@@@@@@@@@@@@@@@@@\n",
      "tensor([103,  25,  47,  33,   3,  40,  14,   0, 100,  35,  65,  34,  73,  89,\n",
      "         17,  23,  97,  32,  88,   5,  30, 102,  62,  15,  69,  48, 119,  26,\n",
      "         42,  16,  63,  22,  11,  46,  12,  52,  31,   4, 139, 127,  13,  77,\n",
      "         18,  76, 104,  99,  91,  92, 145, 144, 107,  85,  74,  90,  80,  21,\n",
      "        115, 116, 114,  82,  37,  79, 108, 120, 130, 106,  49,  72,  36, 136,\n",
      "         41, 111,  50, 140,   6, 142, 126,  38,  20,  39, 105, 101,  60,   1,\n",
      "         10,  78,  43,  61, 125,  56, 143,  59,  93, 138,  68, 122,  29, 137,\n",
      "        117,   9,  87,  84, 121, 129,  81,   2,  83, 110, 109,  86,  75,  98,\n",
      "        146,  96, 147, 112,  94,  95,  58])\n",
      "tensor([ 0.9134,  0.9123,  0.9101,  0.9031,  0.8174,  0.8144,  0.7966,  0.7535,\n",
      "         0.7371,  0.7088,  0.7086,  0.7026,  0.6594,  0.6192,  0.5858,  0.5654,\n",
      "         0.5646,  0.5622,  0.5508,  0.5442,  0.5283,  0.4961,  0.4797,  0.4427,\n",
      "         0.4060,  0.3436,  0.3271,  0.3206,  0.2415,  0.2296,  0.2270,  0.2246,\n",
      "         0.2246,  0.2132,  0.1981,  0.1655,  0.1651,  0.1550,  0.1499,  0.1036,\n",
      "         0.0771,  0.0558,  0.0553,  0.0460, -0.0204, -0.0245, -0.0386, -0.0441,\n",
      "        -0.0504, -0.0554, -0.0567, -0.0583, -0.0690, -0.0798, -0.0852, -0.0874,\n",
      "        -0.0876, -0.0940, -0.0962, -0.0995, -0.1022, -0.1055, -0.1116, -0.1184,\n",
      "        -0.1194, -0.1246, -0.1248, -0.1316, -0.1386, -0.1395, -0.1447, -0.1505,\n",
      "        -0.1583, -0.1675, -0.1709, -0.1725, -0.1732, -0.1823, -0.1828, -0.1831,\n",
      "        -0.2023, -0.2026, -0.2066, -0.2139, -0.2167, -0.2228, -0.2267, -0.2356,\n",
      "        -0.2375, -0.2453, -0.2522, -0.2666, -0.2690, -0.2771, -0.2829, -0.2846,\n",
      "        -0.2847, -0.2864, -0.2883, -0.2884, -0.2918, -0.2937, -0.2956, -0.2977,\n",
      "        -0.3003, -0.3013, -0.3019, -0.3021, -0.3054, -0.3071, -0.3078, -0.3084,\n",
      "        -0.3104, -0.3122, -0.3150, -0.3175, -0.3194, -0.3215, -0.3223],\n",
      "       grad_fn=<IndexBackward>)\n",
      "@@@@@@@@@@@@@@@@@@@@@@@@@@@@\n",
      "tensor([  1,   2,   3,   5,   9,   4,  17,   6,  11,  10,   0,  12,  27,  29,\n",
      "          8,  67,  42,  14,  32,  25,  60,  22,  28,   7,  15,  26,  20,  31,\n",
      "         30,  33,  70, 105,  68,  43,  19,  34,  37,  24,  36,  40,  23, 118,\n",
      "         89,  87,  96,  35,  16,  77,  79,  38,  44,  13,  74,  94,  18,  82,\n",
      "         86,  66,  99,  80,  61,  91,  83,  78,  55,  21,  93, 106, 107, 101,\n",
      "         59,  50,  49, 111,  92, 103,  47,  45, 108,  73, 116, 104,  98, 117,\n",
      "        100,  48, 102, 112, 113, 115,  46, 114,  51, 109, 110,  97])\n",
      "tensor([ 0.9976,  0.9975,  0.9964,  0.9900,  0.9858,  0.9823,  0.9631,  0.9226,\n",
      "         0.9170,  0.9060,  0.9043,  0.9022,  0.8789,  0.8655,  0.8202,  0.7854,\n",
      "         0.7747,  0.7448,  0.7264,  0.7142,  0.6600,  0.6119,  0.5730,  0.5641,\n",
      "         0.4826,  0.3660,  0.3532,  0.3301,  0.3143,  0.2903,  0.2852,  0.2749,\n",
      "         0.2590,  0.2046,  0.1889,  0.1828,  0.1807,  0.1726,  0.1559,  0.1445,\n",
      "         0.0797,  0.0559,  0.0555,  0.0352,  0.0188,  0.0152,  0.0040, -0.0305,\n",
      "        -0.0616, -0.0741, -0.0816, -0.1045, -0.1052, -0.1069, -0.1069, -0.1157,\n",
      "        -0.1157, -0.1157, -0.1301, -0.1372, -0.1445, -0.1553, -0.1553, -0.1593,\n",
      "        -0.1593, -0.1596, -0.1607, -0.1613, -0.1613, -0.1613, -0.1613, -0.1613,\n",
      "        -0.1613, -0.1688, -0.1688, -0.1688, -0.1688, -0.1688, -0.1688, -0.1688,\n",
      "        -0.1694, -0.1694, -0.1694, -0.1694, -0.1694, -0.1694, -0.1694, -0.1694,\n",
      "        -0.1694, -0.1694, -0.1694, -0.1694, -0.1694, -0.1694, -0.1694, -0.1694],\n",
      "       grad_fn=<IndexBackward>)\n",
      "@@@@@@@@@@@@@@@@@@@@@@@@@@@@\n",
      "tensor([49, 51, 46, 54, 76, 82, 60, 74, 40, 90, 77, 64, 34, 71, 88, 73, 65, 69,\n",
      "        67, 92, 80, 23, 75, 70, 68, 85, 94, 84, 87, 83, 63, 59, 26, 72, 66, 37,\n",
      "        86, 81, 52, 78, 50, 36, 62, 79, 38, 58, 93, 55, 56, 91, 89, 57, 28, 24,\n",
      "        95, 44, 45, 61, 53, 43, 47, 33, 29, 48, 35, 42, 39, 27, 41, 21, 25, 31,\n",
      "        30, 32, 22, 17, 14])\n",
      "tensor([ 0.3340,  0.2462,  0.1914,  0.1758,  0.1715,  0.1560,  0.1559,  0.1556,\n",
      "         0.1515,  0.1421,  0.1390,  0.1381,  0.1345,  0.1326,  0.1254,  0.1224,\n",
      "         0.1180,  0.1168,  0.1153,  0.1097,  0.1088,  0.1063,  0.1060,  0.1036,\n",
      "         0.0999,  0.0928,  0.0926,  0.0924,  0.0922,  0.0916,  0.0898,  0.0897,\n",
      "         0.0830,  0.0824,  0.0802,  0.0755,  0.0755,  0.0735,  0.0727,  0.0723,\n",
      "         0.0700,  0.0687,  0.0686,  0.0685,  0.0683,  0.0642,  0.0587,  0.0587,\n",
      "         0.0544,  0.0420,  0.0419,  0.0417,  0.0411,  0.0277,  0.0252,  0.0246,\n",
      "         0.0171,  0.0128,  0.0053, -0.0062, -0.0384, -0.0583, -0.0800, -0.0871,\n",
      "        -0.0873, -0.0947, -0.1215, -0.1238, -0.1345, -0.1729, -0.1811, -0.1944,\n",
      "        -0.2228, -0.2251, -0.2778, -0.3445, -0.4491], grad_fn=<IndexBackward>)\n",
      "tensor([140,  90,  98,  89,  93, 118,  80,  94,  16,  92, 100,  22,   6, 108,\n",
      "         97,  99, 103,  85,  84,  86,  95,   1, 130,  83, 111, 146,  76,  88,\n",
      "        147,  96,  21, 106,  31, 145, 139,  70, 122,  82,   7, 110, 105,   5,\n",
      "          2, 141,  32,  10,  87,  61,  44, 148, 113,  50,  64,  24, 138,  30,\n",
      "         53,  60,  69,  62,  39,  77,  47,  40,  13,  57,  14,  23,  59,  63,\n",
      "        120,   3,  42,  37,  43,  18, 101])\n",
      "tensor([], dtype=torch.int64)\n",
      "~~~~~~~~~~~~~~~~~~~~~~~~~~~~\n",
      "tensor([0])\n",
      "-----node-----\n",
      "@@@@@@@@@@@@@@@@@@@@@@@@@@@@\n",
      "tensor([ 17,  33,  48,  97,  89,  74,  18,  12,  23,  13,   1, 111,  92,  36,\n",
      "         76, 120,  42,  46, 108,  22, 116, 103,  59,  90,  25,  79, 139,  30,\n",
      "         85, 132, 107,  40, 145, 122,  80, 104,  81, 112, 121,  87, 136,  19,\n",
      "         91,  75,  58,  29,  34,  20, 123,  62,  49, 133,  15,  82,  88,  69,\n",
      "         38,  16,  11,  37,  86, 102,  77,  21, 143,  60,   2,  93,  72,  24,\n",
      "          3, 114,  32,  50,  31,  96,   0,  73,  71,  35, 100, 115,  47,   4,\n",
      "          5, 106, 135, 110, 137,  57,  41, 105,  98,  26, 125,  43,  65, 101,\n",
      "        146,  66,  61, 113, 144,  63,  99,  14, 140, 138, 129,  95,  78,   6,\n",
      "         51, 127,  28,  39,  53,  56,  67])\n",
      "tensor([ 0.8550,  0.8388,  0.8354,  0.7899,  0.7603,  0.7571,  0.7367,  0.7224,\n",
      "         0.7201,  0.7193,  0.7019,  0.6403,  0.6133,  0.6002,  0.5725,  0.5538,\n",
      "         0.5511,  0.5425,  0.5374,  0.5369,  0.4940,  0.4647,  0.4456,  0.4233,\n",
      "         0.4192,  0.4179,  0.4132,  0.3691,  0.3634,  0.3266,  0.3196,  0.3193,\n",
      "         0.3112,  0.2868,  0.2717,  0.2664,  0.2582,  0.2538,  0.2527,  0.2469,\n",
      "         0.2432,  0.2186,  0.2085,  0.2079,  0.2064,  0.2018,  0.1992,  0.1901,\n",
      "         0.1873,  0.1857,  0.1751,  0.1698,  0.1659,  0.1617,  0.1514,  0.1486,\n",
      "         0.1400,  0.1346,  0.1229,  0.1182,  0.1149,  0.1141,  0.1064,  0.1016,\n",
      "         0.0989,  0.0981,  0.0896,  0.0887,  0.0858,  0.0797,  0.0778,  0.0773,\n",
      "         0.0753,  0.0642,  0.0638,  0.0620,  0.0577,  0.0245,  0.0071, -0.0143,\n",
      "        -0.0317, -0.0439, -0.0534, -0.0580, -0.0628, -0.0655, -0.0692, -0.0781,\n",
      "        -0.0975, -0.0996, -0.1050, -0.1050, -0.1161, -0.1244, -0.1435, -0.1678,\n",
      "        -0.1683, -0.1711, -0.1864, -0.2051, -0.2167, -0.2186, -0.2255, -0.2298,\n",
      "        -0.2328, -0.2393, -0.2428, -0.2433, -0.2438, -0.2447, -0.2502, -0.2589,\n",
      "        -0.2631, -0.2657, -0.2786, -0.2888, -0.2932, -0.2976, -0.3015],\n",
      "       grad_fn=<IndexBackward>)\n",
      "@@@@@@@@@@@@@@@@@@@@@@@@@@@@\n",
      "tensor([  0,   7,   2,   8,   9,  17,  58,   3,  42,  33,  38,  56,   5,   1,\n",
      "         70,  15,  49,  18,   6,  13,  40,  60, 100,  35,  88,  57,  52,  19,\n",
      "         30,  20,  86,  27,  82,  76,  16,  46,  44,  24, 103,  59,  23,  22,\n",
      "         50, 105,  10, 112,  78,  69,  37, 115,  31, 114,  28,  55,  47,   4,\n",
      "         39,  65,  72, 116, 118,  64,  25,  71,  62,  74,  83,  75,  63, 110,\n",
      "         68,  91,  41,  73, 101,  85,  11,  12,  67,  81,  80, 109,  95,  61,\n",
      "         94, 104,  98,  21,  92,  96,  48,  79,  54,  77,  84,  26])\n",
      "tensor([ 0.5733,  0.4557,  0.4538,  0.4179,  0.4134,  0.3990,  0.2553,  0.2277,\n",
      "         0.2204,  0.2166,  0.2100,  0.2068,  0.1962,  0.1899,  0.1834,  0.1830,\n",
      "         0.1779,  0.1699,  0.1613,  0.1599,  0.1537,  0.1521,  0.1480,  0.1307,\n",
      "         0.1187,  0.1122,  0.1069,  0.0952,  0.0916,  0.0795,  0.0779,  0.0767,\n",
      "         0.0751,  0.0644,  0.0534,  0.0519,  0.0483,  0.0225,  0.0186,  0.0126,\n",
      "         0.0022,  0.0017, -0.0015, -0.0159, -0.0215, -0.0339, -0.0344, -0.0404,\n",
      "        -0.0418, -0.0474, -0.0484, -0.0561, -0.0698, -0.0771, -0.0787, -0.0834,\n",
      "        -0.0856, -0.0892, -0.0933, -0.0936, -0.0936, -0.0941, -0.0983, -0.0997,\n",
      "        -0.1136, -0.1151, -0.1169, -0.1174, -0.1211, -0.1227, -0.1235, -0.1291,\n",
      "        -0.1321, -0.1321, -0.1358, -0.1453, -0.1453, -0.1484, -0.1484, -0.1501,\n",
      "        -0.1501, -0.1542, -0.1586, -0.1595, -0.1638, -0.1646, -0.1646, -0.1646,\n",
      "        -0.1646, -0.1646, -0.1649, -0.1651, -0.1651, -0.1657, -0.1664, -0.1673],\n",
      "       grad_fn=<IndexBackward>)\n",
      "@@@@@@@@@@@@@@@@@@@@@@@@@@@@\n",
      "tensor([55,  7, 26, 13, 12,  3, 19,  6, 52, 10,  0, 18, 17, 37, 34, 54,  2,  9,\n",
      "        43, 31, 66, 62, 56, 44, 76,  8, 28, 27, 33, 47, 40, 92, 36, 51, 53, 89,\n",
      "        69, 61, 83, 95, 78, 77, 39, 50, 45, 29,  4, 35, 14, 94, 48, 81, 41, 72,\n",
      "        68, 80, 85, 58, 23, 30, 25, 32, 70, 64, 63, 57, 87, 86, 88, 60, 16, 15,\n",
      "        20, 21,  1, 65, 67])\n",
      "tensor([0.3762, 0.3526, 0.3070, 0.3061, 0.2981, 0.2534, 0.2504, 0.2249, 0.2229,\n",
      "        0.2189, 0.2124, 0.2029, 0.2026, 0.2020, 0.1914, 0.1908, 0.1890, 0.1869,\n",
      "        0.1867, 0.1796, 0.1756, 0.1753, 0.1746, 0.1745, 0.1743, 0.1708, 0.1699,\n",
      "        0.1675, 0.1622, 0.1588, 0.1588, 0.1584, 0.1577, 0.1559, 0.1432, 0.1428,\n",
      "        0.1425, 0.1424, 0.1419, 0.1418, 0.1418, 0.1417, 0.1408, 0.1376, 0.1375,\n",
      "        0.1374, 0.1363, 0.1353, 0.1296, 0.1262, 0.1259, 0.1254, 0.1253, 0.1252,\n",
      "        0.1252, 0.1251, 0.1251, 0.1250, 0.1217, 0.1210, 0.1149, 0.1140, 0.1089,\n",
      "        0.1087, 0.1087, 0.1087, 0.1087, 0.1086, 0.1086, 0.1072, 0.1057, 0.1050,\n",
      "        0.1047, 0.1047, 0.0963, 0.0926, 0.0922], grad_fn=<IndexBackward>)\n",
      "tensor([ 90,  98,  16,  34,  75,  24,  37,  12,  86, 122,  18,  19, 109,  26,\n",
      "         43,  21,  49, 123,  15,  31,   5,  80,  88,   2, 112,  92, 108,  23,\n",
      "          1,  25,  91,  89,  59,  29,  70,  66,  79, 144, 103, 140,  94,  93,\n",
      "         38,  41,  52, 117,  14,  35,   4,   6, 113,  96,  60,  20,  22, 101,\n",
      "        100,  33, 105, 136,  17,  48,  73,  78, 115,  61, 104, 147,  99,  68,\n",
      "         63, 121, 137,  87,  13,  32,  97])\n",
      "tensor([], dtype=torch.int64)\n",
      "~~~~~~~~~~~~~~~~~~~~~~~~~~~~\n",
      "tensor([2])\n",
      "-----node-----\n",
      "@@@@@@@@@@@@@@@@@@@@@@@@@@@@\n",
      "tensor([ 89,  76,  99,  90, 102, 118, 110,  85,  77, 101, 103, 121, 141, 108,\n",
      "         96, 129,  23, 146,  88, 100, 140, 111,  33, 114, 116,  29, 144,  92,\n",
      "        107, 145,  62, 139,  34,  97,  46,  42,  91, 138,  17, 119,  47, 142,\n",
      "          2,  72, 132, 123,  87,   0,  82,  93, 127,  16, 122, 120,  59,  74,\n",
      "         70,  12,  22, 117,  94,  40,  48,  60, 126,  61,  38,   7,  20,  36,\n",
      "          5, 133,  75,  11,  63,  13,  80, 115,  15,  86,  30,  69,  84, 128,\n",
      "         58,  25, 106,  49,  98, 104, 125, 137,   4,  31,  81,  32,  37,   3,\n",
      "        131, 143,  73, 124,  41,  39,  44,  19, 112, 134,  95,  18,  64,  14,\n",
      "         55,  79,  10,  50,  83,  71,  51])\n",
      "tensor([ 0.9879,  0.9379,  0.9337,  0.9314,  0.8936,  0.8886,  0.8527,  0.8481,\n",
      "         0.8471,  0.8151,  0.8097,  0.8083,  0.8061,  0.7946,  0.7876,  0.7593,\n",
      "         0.7548,  0.7492,  0.7432,  0.7273,  0.7214,  0.7018,  0.6830,  0.6448,\n",
      "         0.6215,  0.5963,  0.5771,  0.5639,  0.5608,  0.5411,  0.5283,  0.5282,\n",
      "         0.5184,  0.5157,  0.4811,  0.4785,  0.4725,  0.4625,  0.4518,  0.4342,\n",
      "         0.4201,  0.4193,  0.4107,  0.4078,  0.4032,  0.3974,  0.3723,  0.3444,\n",
      "         0.3235,  0.3094,  0.2936,  0.2877,  0.2868,  0.2840,  0.2489,  0.2412,\n",
      "         0.2202,  0.2106,  0.2092,  0.1847,  0.1791,  0.1790,  0.1662,  0.1584,\n",
      "         0.1535,  0.1516,  0.1430,  0.1408,  0.1347,  0.1322,  0.1264,  0.1229,\n",
      "         0.1186,  0.1098,  0.1079,  0.0966,  0.0893,  0.0717,  0.0616,  0.0560,\n",
      "         0.0443,  0.0364,  0.0312,  0.0239,  0.0107,  0.0065, -0.0091, -0.0093,\n",
      "        -0.0104, -0.0110, -0.0268, -0.0339, -0.0343, -0.0444, -0.0509, -0.0582,\n",
      "        -0.0680, -0.0749, -0.0857, -0.1004, -0.1038, -0.1047, -0.1055, -0.1120,\n",
      "        -0.1126, -0.1252, -0.1310, -0.1364, -0.1384, -0.1453, -0.1458, -0.1475,\n",
      "        -0.1566, -0.1624, -0.1721, -0.1872, -0.1899, -0.1949, -0.1950],\n",
      "       grad_fn=<IndexBackward>)\n",
      "@@@@@@@@@@@@@@@@@@@@@@@@@@@@\n",
      "tensor([  0,   2,   4,   8,   1,   9,   5,  11,   3,  20,  12,   7,  17,  18,\n",
      "          6,  15,  19,  23,  21,  28,  10,  13,  24,  41,  27,  46,  50,  29,\n",
      "         90,  39,  36,  88,  31,  14,  83,  64,  52,  45,  44,  26,  76,  37,\n",
      "         86,  42,  48,  71,  67,  94,  60,  72,  49,  78, 107,  25,  56,  33,\n",
      "         98, 113,  79, 116,  59,  99,  70,  53,  77,  55, 101, 106,  16, 108,\n",
      "         30,  34,  38,  74,  40,  32,  47,  82,  57,  65,  80,  35,  66,  51,\n",
      "        111,  75,  22,  62,  92, 110,  81,  43,  89, 104,  93,  58])\n",
      "tensor([ 1.0000,  1.0000,  1.0000,  1.0000,  0.9999,  0.9999,  0.9999,  0.9998,\n",
      "         0.9998,  0.9997,  0.9996,  0.9996,  0.9995,  0.9990,  0.9989,  0.9981,\n",
      "         0.9980,  0.9974,  0.9973,  0.9951,  0.9936,  0.9925,  0.9881,  0.9828,\n",
      "         0.9742,  0.9735,  0.9708,  0.9703,  0.9697,  0.9674,  0.9632,  0.9498,\n",
      "         0.9480,  0.9446,  0.9419,  0.9266,  0.9089,  0.9038,  0.9019,  0.8965,\n",
      "         0.8401,  0.8254,  0.8105,  0.7962,  0.7884,  0.7739,  0.7702,  0.7313,\n",
      "         0.7277,  0.7181,  0.6583,  0.6357,  0.5822,  0.5006,  0.4469,  0.4432,\n",
      "         0.3872,  0.3770,  0.3268,  0.3078,  0.2828,  0.2645,  0.2165,  0.2054,\n",
      "         0.1966,  0.1782,  0.1718,  0.1524,  0.1316,  0.0916,  0.0903,  0.0903,\n",
      "         0.0566,  0.0523,  0.0337,  0.0289,  0.0246,  0.0135, -0.0200, -0.0287,\n",
      "        -0.0439, -0.0450, -0.0572, -0.0634, -0.0783, -0.0811, -0.0824, -0.0825,\n",
      "        -0.0831, -0.0923, -0.0974, -0.1080, -0.1097, -0.1208, -0.1226, -0.1242],\n",
      "       grad_fn=<IndexBackward>)\n",
      "@@@@@@@@@@@@@@@@@@@@@@@@@@@@\n",
      "tensor([68, 70, 75, 74, 76, 72, 71, 79, 80, 78, 81, 82, 91, 86, 83, 85, 87, 90,\n",
      "        73, 84, 95, 94, 93, 89, 88, 92, 77, 69, 59, 53, 67, 54, 62, 60, 66, 64,\n",
      "        63, 65, 61, 57, 58, 56, 55, 52, 44, 48, 46, 49, 47, 45, 43, 51, 39, 50,\n",
      "        42, 37, 27, 41, 38, 40, 36, 29, 33, 32, 35, 23, 31, 22, 34, 26, 30, 28,\n",
      "        18, 25, 21, 24, 20])\n",
      "tensor([ 0.2051,  0.1911,  0.1747,  0.1568,  0.1542,  0.1419,  0.1251,  0.1226,\n",
      "         0.1120,  0.1086,  0.1086,  0.1086,  0.0973,  0.0923,  0.0923,  0.0920,\n",
      "         0.0920,  0.0858,  0.0753,  0.0619,  0.0586,  0.0542,  0.0413,  0.0229,\n",
      "        -0.0176, -0.0606, -0.0764, -0.1511, -0.2444, -0.2448, -0.2458, -0.2497,\n",
      "        -0.2498, -0.2613, -0.3014, -0.3046, -0.3067, -0.3367, -0.3915, -0.4053,\n",
      "        -0.4116, -0.4340, -0.4652, -0.4725, -0.4919, -0.5374, -0.5488, -0.5596,\n",
      "        -0.5723, -0.5735, -0.5848, -0.6122, -0.6360, -0.6447, -0.6600, -0.6740,\n",
      "        -0.7151, -0.7260, -0.7284, -0.7660, -0.8192, -0.8223, -0.8248, -0.8483,\n",
      "        -0.8546, -0.8719, -0.8792, -0.8937, -0.8939, -0.9052, -0.9117, -0.9302,\n",
      "        -0.9333, -0.9378, -0.9420, -0.9449, -0.9479], grad_fn=<IndexBackward>)\n",
      "tensor([ 24,  63,  35,  48,   1,  18,  47,  62,  31,  13,  43,  39,  73,  34,\n",
      "         17,  14,  49,  70,  64,  15,  23,  32,  45,  65,   5, 105,  85,  96,\n",
      "         84,  30, 113,  71,   6, 118, 125, 116, 121,  75, 144,  80,  87, 132,\n",
      "         98, 135,  83,  95,   8,  76,  82, 134,   3,  16, 145,  94, 107, 124,\n",
      "        146, 139, 133,  81, 123, 120,  97, 140, 127, 143,  99, 117, 129, 128,\n",
      "         92, 126, 112,  88, 109,  93, 104])\n",
      "tensor([], dtype=torch.int64)\n",
      "~~~~~~~~~~~~~~~~~~~~~~~~~~~~\n",
      "tensor([2])\n",
      "-----node-----\n",
      "@@@@@@@@@@@@@@@@@@@@@@@@@@@@\n",
      "tensor([ 89,  76, 139, 118, 141,  23,  17, 102,  48,  77, 100,  12,  61,  88,\n",
      "        144,  63,  98, 103,  46, 129, 101,  91,  34, 140, 138, 142,  92, 119,\n",
      "         72,  99,   0,  83,  65,  62,  33,  47,  10,  30,  40,   5, 146,  69,\n",
      "        110, 111,  29,  38,  90,   2,  79, 123,  21, 117,  93, 115, 131,  22,\n",
      "         25,  81,  73, 116,  39,  13,  31, 107, 127, 132,  84,  82,  32,  96,\n",
      "         66,  45,  14, 134, 133,  35,  60,  36, 145,  59,  85,  87, 108,   3,\n",
      "         49,  56,  94, 143,   4,  19,   1,  15,  58, 120,  50,  97, 109,  16,\n",
      "         74, 125, 124,  26,  95, 128,  37, 113, 114, 136, 112, 104,  20,  75,\n",
      "         42, 137,  78, 106, 105, 122,  41])\n",
      "tensor([ 0.9690,  0.9029,  0.8673,  0.8090,  0.7870,  0.7626,  0.7431,  0.7303,\n",
      "         0.6671,  0.6559,  0.5945,  0.5932,  0.5884,  0.5721,  0.5640,  0.5620,\n",
      "         0.5583,  0.5565,  0.5172,  0.5145,  0.5106,  0.5092,  0.4849,  0.4836,\n",
      "         0.4505,  0.4284,  0.3924,  0.3917,  0.3748,  0.3567,  0.3320,  0.3285,\n",
      "         0.3210,  0.3010,  0.2864,  0.2778,  0.2703,  0.2640,  0.2335,  0.2211,\n",
      "         0.1599,  0.1524,  0.1278,  0.1240,  0.1183,  0.1158,  0.0990,  0.0988,\n",
      "         0.0914,  0.0890,  0.0842,  0.0821,  0.0797,  0.0796,  0.0624,  0.0517,\n",
      "         0.0431,  0.0271,  0.0268,  0.0194,  0.0163,  0.0073,  0.0046, -0.0061,\n",
      "        -0.0071, -0.0091, -0.0210, -0.0301, -0.0666, -0.0702, -0.0721, -0.0866,\n",
      "        -0.0908, -0.1037, -0.1049, -0.1059, -0.1064, -0.1078, -0.1204, -0.1225,\n",
      "        -0.1254, -0.1535, -0.1550, -0.1575, -0.1593, -0.1632, -0.1660, -0.1664,\n",
      "        -0.1684, -0.1719, -0.1765, -0.1786, -0.1819, -0.1886, -0.1923, -0.1935,\n",
      "        -0.1941, -0.1946, -0.1997, -0.1999, -0.2004, -0.2022, -0.2044, -0.2070,\n",
      "        -0.2112, -0.2172, -0.2222, -0.2275, -0.2279, -0.2289, -0.2330, -0.2402,\n",
      "        -0.2408, -0.2411, -0.2430, -0.2458, -0.2498, -0.2529, -0.2550],\n",
      "       grad_fn=<IndexBackward>)\n",
      "@@@@@@@@@@@@@@@@@@@@@@@@@@@@\n",
      "tensor([  0,   4,   1,   3,   7,  20,   9,  23,   2,  10,  25,  13,  29,  19,\n",
      "         21,  17,  27,  16,  14,  46,   5,  80,  57,  18,  99,   6,  24,  48,\n",
      "         15,  64,  67,  30,  81,  91,  12,  33,  11,  32,  44,  31,  37,  47,\n",
      "         22, 114,   8,  39,  41, 105,  26,  52,  72,  45,  54, 106, 117,  40,\n",
      "         36, 103,  98,  61,  35,  96,  62,  50,  51,  95,  88,  55,  60,  71,\n",
      "         97,  83,  87,  93,  66, 112,  63,  34, 116,  42,  43,  38,  75,  69,\n",
      "         82,  56, 109, 113, 107,  53, 108,  86, 101,  28,  70, 111])\n",
      "tensor([ 0.9999,  0.9987,  0.9982,  0.9959,  0.9955,  0.9906,  0.9880,  0.9872,\n",
      "         0.9735,  0.9693,  0.9586,  0.9346,  0.9332,  0.9289,  0.9254,  0.9122,\n",
      "         0.8847,  0.8558,  0.8486,  0.7943,  0.7863,  0.7360,  0.7314,  0.6519,\n",
      "         0.6182,  0.6159,  0.6151,  0.6053,  0.6025,  0.5800,  0.5730,  0.5729,\n",
      "         0.5590,  0.5263,  0.5195,  0.5125,  0.5106,  0.4683,  0.4372,  0.4318,\n",
      "         0.4211,  0.3959,  0.3948,  0.3652,  0.3650,  0.3444,  0.3248,  0.3194,\n",
      "         0.3093,  0.3015,  0.2943,  0.2910,  0.2906,  0.2499,  0.2367,  0.2093,\n",
      "         0.2063,  0.2018,  0.1794,  0.1731,  0.0990,  0.0594,  0.0394,  0.0175,\n",
      "        -0.0069, -0.0091, -0.0135, -0.0285, -0.0308, -0.0517, -0.0553, -0.0567,\n",
      "        -0.0619, -0.0761, -0.0877, -0.0892, -0.0984, -0.1025, -0.1030, -0.1054,\n",
      "        -0.1054, -0.1091, -0.1091, -0.1097, -0.1119, -0.1194, -0.1207, -0.1239,\n",
      "        -0.1239, -0.1255, -0.1324, -0.1445, -0.1461, -0.1487, -0.1589, -0.1615],\n",
      "       grad_fn=<IndexBackward>)\n",
      "@@@@@@@@@@@@@@@@@@@@@@@@@@@@\n",
      "tensor([77, 93, 85, 89, 81, 60, 82, 44, 95, 70, 91, 88, 86, 92, 94, 71, 62, 67,\n",
      "        78, 74, 75, 83, 72, 42, 59, 87, 66, 68, 51, 63, 69, 79, 20, 25, 46, 35,\n",
      "        64, 84, 65, 90, 80, 40, 73, 23, 50, 36, 28, 34, 76, 45, 37, 56, 31, 58,\n",
      "        41, 61, 38, 49, 39, 52, 48, 54, 33, 30, 53, 57, 43, 27, 47, 55, 26, 29,\n",
      "        22, 18, 32, 16, 24])\n",
      "tensor([ 1.6365e-01,  1.4765e-01,  1.4184e-01,  1.3227e-01,  1.1551e-01,\n",
      "         1.0226e-01,  9.9117e-02,  9.4917e-02,  9.0449e-02,  8.5553e-02,\n",
      "         7.8141e-02,  7.5495e-02,  7.4184e-02,  7.1078e-02,  6.7005e-02,\n",
      "         6.6346e-02,  5.6112e-02,  5.5470e-02,  5.2561e-02,  5.2345e-02,\n",
      "         5.1082e-02,  4.8769e-02,  4.1407e-02,  3.8554e-02,  3.6944e-02,\n",
      "         3.1365e-02,  3.0278e-02,  3.0006e-02,  2.5009e-02,  2.1189e-02,\n",
      "         1.5377e-02, -3.2654e-04, -4.5915e-03, -8.8368e-03, -8.8912e-03,\n",
      "        -1.0010e-02, -1.2069e-02, -1.4010e-02, -1.6604e-02, -1.6830e-02,\n",
      "        -1.7681e-02, -2.1189e-02, -2.4833e-02, -4.5988e-02, -5.1339e-02,\n",
      "        -5.4584e-02, -5.4772e-02, -5.8401e-02, -6.3661e-02, -6.9686e-02,\n",
      "        -7.7254e-02, -1.1188e-01, -1.2435e-01, -1.8674e-01, -2.0073e-01,\n",
      "        -2.0692e-01, -2.1671e-01, -2.1887e-01, -2.2853e-01, -2.3960e-01,\n",
      "        -2.4043e-01, -2.5900e-01, -2.6443e-01, -2.7679e-01, -2.9337e-01,\n",
      "        -3.0079e-01, -3.0964e-01, -3.1504e-01, -3.3193e-01, -3.3494e-01,\n",
      "        -3.5374e-01, -3.9799e-01, -4.4789e-01, -4.7826e-01, -4.9196e-01,\n",
      "        -5.0708e-01, -5.1812e-01], grad_fn=<IndexBackward>)\n",
      "tensor([ 34,  73,  26, 116,  41,  48,  36,  49,  76,  17,  95, 137, 105,  27,\n",
      "         67,   4,  32,  23, 106,  85,  43,  97, 144,  35,  14, 138,   5,  40,\n",
      "         39,  22,  46, 111,  24,  18,  70,  63, 118, 109,  98, 113, 112,  31,\n",
      "        121,  47,  15,  13,  64,  62, 108,   6,  66,  11,   1,  75,   3, 110,\n",
      "         30,  94,  84, 132,  93, 123,  16,  83, 115, 129,  79,  80, 114, 147,\n",
      "        139, 128,  82, 145,  88, 120, 126])\n",
      "tensor([], dtype=torch.int64)\n",
      "~~~~~~~~~~~~~~~~~~~~~~~~~~~~\n",
      "tensor([1])\n",
      "-----node-----\n",
      "@@@@@@@@@@@@@@@@@@@@@@@@@@@@\n",
      "tensor([139, 103,  89,  76, 102,  90, 119, 140,  82,  23,  48,  33,  98, 138,\n",
      "         99, 114,  40,  34,  83,  15, 107, 100,   5,  47, 101,  17,  16,  12,\n",
      "        116, 144,  32,  79, 145, 132, 121,  11,  69,  31, 134, 111,  62,  29,\n",
      "         93,  80,  65, 115,  73,  25, 118, 129,  74,  13, 106, 110,  77, 122,\n",
      "         38,  30, 108,  91,   3,  88,  46,  35,  81,   4,  70, 146, 123,  54,\n",
      "          2,  72,  84, 104,   0,  42, 133,  39,  21,  85, 141,  19,  10,  41,\n",
      "        127,  22,  63, 125,   6,  51,  92, 117,  96, 109,  97,  37, 105,  95,\n",
      "         14,  86, 120, 112, 142, 113,  94, 124,  36, 126,  43,   8, 128,  18,\n",
      "          1,   9,  87, 131, 135,  78,  50])\n",
      "tensor([ 0.9047,  0.8961,  0.8787,  0.7781,  0.6867,  0.6861,  0.6832,  0.6619,\n",
      "         0.6231,  0.6194,  0.6146,  0.6124,  0.5953,  0.5803,  0.5540,  0.5194,\n",
      "         0.4947,  0.4695,  0.4687,  0.4438,  0.4418,  0.4330,  0.4247,  0.4203,\n",
      "         0.4041,  0.3943,  0.3840,  0.3496,  0.3040,  0.3010,  0.2964,  0.2934,\n",
      "         0.2527,  0.2497,  0.1998,  0.1958,  0.1822,  0.1805,  0.1723,  0.1714,\n",
      "         0.1669,  0.1425,  0.1406,  0.1387,  0.1327,  0.1285,  0.1171,  0.1139,\n",
      "         0.1126,  0.1108,  0.1103,  0.1099,  0.1055,  0.0990,  0.0973,  0.0905,\n",
      "         0.0887,  0.0843,  0.0827,  0.0794,  0.0786,  0.0772,  0.0764,  0.0689,\n",
      "         0.0624,  0.0567,  0.0364,  0.0274,  0.0229, -0.0018, -0.0021, -0.0095,\n",
      "        -0.0291, -0.0308, -0.0365, -0.0536, -0.0561, -0.0698, -0.0926, -0.0927,\n",
      "        -0.0972, -0.1015, -0.1022, -0.1378, -0.1432, -0.1771, -0.1863, -0.1917,\n",
      "        -0.1979, -0.1989, -0.2095, -0.2096, -0.2188, -0.2216, -0.2355, -0.2403,\n",
      "        -0.2423, -0.2435, -0.2461, -0.2462, -0.2570, -0.2607, -0.2638, -0.2701,\n",
      "        -0.2802, -0.2956, -0.2988, -0.3006, -0.3064, -0.3064, -0.3088, -0.3101,\n",
      "        -0.3102, -0.3110, -0.3168, -0.3219, -0.3222, -0.3234, -0.3245],\n"
     ]
    },
    {
     "name": "stdout",
     "output_type": "stream",
     "text": [
      "       grad_fn=<IndexBackward>)\n",
      "@@@@@@@@@@@@@@@@@@@@@@@@@@@@\n",
      "tensor([  1,   0,   2,   8,   3,   6,  18,  29,  21,  13,  64,  31,  43,  19,\n",
      "          7,   4,  14,  66,  24,  12,  91,  48,  42,  44,  22,  72,  49,   5,\n",
      "         41,  88,  79,  55, 109,  50,  15,  70, 110,  54,  97,  34,  38,  11,\n",
      "         61, 117, 102,  23,  26,  17,  10,  25,  45,  16,   9,  92,  30,  27,\n",
      "        113,  90,  59,  84,  35,  67,  93,  39,  47,  28,  20,  56,  51,  62,\n",
      "         63,  73,  96,  69,  60, 115,  71,  32,  53,  87,  80,  75,  82,  83,\n",
      "         78,  81,  58, 104,  46,  85,  94, 100,  52,  65,  95,  98])\n",
      "tensor([ 0.9662,  0.9647,  0.9116,  0.9078,  0.8953,  0.8899,  0.8865,  0.8268,\n",
      "         0.7811,  0.7765,  0.7395,  0.6637,  0.6460,  0.6431,  0.6301,  0.5547,\n",
      "         0.4611,  0.4306,  0.4174,  0.4079,  0.3889,  0.3835,  0.3806,  0.3751,\n",
      "         0.3658,  0.3656,  0.3298,  0.2418,  0.2040,  0.2030,  0.1913,  0.1885,\n",
      "         0.1581,  0.1522,  0.1475,  0.1467,  0.1319,  0.1310,  0.1123,  0.0896,\n",
      "         0.0866,  0.0582,  0.0537,  0.0499,  0.0478,  0.0462,  0.0449,  0.0316,\n",
      "         0.0215,  0.0170,  0.0126,  0.0055,  0.0034, -0.0011, -0.0063, -0.0197,\n",
      "        -0.0224, -0.0243, -0.0257, -0.0263, -0.0427, -0.0541, -0.0560, -0.0573,\n",
      "        -0.0690, -0.0739, -0.0819, -0.0825, -0.0840, -0.0867, -0.0886, -0.0891,\n",
      "        -0.0891, -0.0932, -0.0943, -0.0960, -0.0965, -0.0979, -0.0979, -0.0998,\n",
      "        -0.0998, -0.1000, -0.1029, -0.1029, -0.1029, -0.1029, -0.1105, -0.1113,\n",
      "        -0.1175, -0.1271, -0.1347, -0.1352, -0.1365, -0.1383, -0.1389, -0.1395],\n",
      "       grad_fn=<IndexBackward>)\n",
      "@@@@@@@@@@@@@@@@@@@@@@@@@@@@\n",
      "tensor([41, 48, 65, 45, 47, 49, 52, 90, 81, 51, 66, 86, 63, 55, 46, 73, 64, 61,\n",
      "        68, 53, 76, 78, 60, 67, 84, 54, 69, 70, 74, 82, 95, 92, 89, 57, 58, 27,\n",
      "        16, 87, 37, 85, 83, 31, 77, 19, 91, 50, 39, 75, 94, 88, 80, 34, 62, 40,\n",
      "        42, 79, 71, 72, 28, 36, 93, 26, 56, 38, 59, 18, 30, 21, 44, 15, 33, 14,\n",
      "        32, 43, 35, 22, 20])\n",
      "tensor([ 0.2542,  0.2387,  0.1985,  0.1905,  0.1680,  0.1580,  0.1569,  0.1547,\n",
      "         0.1479,  0.1416,  0.1384,  0.1313,  0.1254,  0.1254,  0.1251,  0.1251,\n",
      "         0.1251,  0.1246,  0.1178,  0.1117,  0.1086,  0.1073,  0.1003,  0.0922,\n",
      "         0.0920,  0.0920,  0.0920,  0.0920,  0.0919,  0.0882,  0.0878,  0.0857,\n",
      "         0.0855,  0.0835,  0.0828,  0.0796,  0.0787,  0.0775,  0.0761,  0.0753,\n",
      "         0.0753,  0.0743,  0.0733,  0.0691,  0.0688,  0.0659,  0.0653,  0.0624,\n",
      "         0.0586,  0.0586,  0.0515,  0.0493,  0.0462,  0.0432,  0.0386,  0.0385,\n",
      "         0.0177,  0.0039, -0.0012, -0.0031, -0.0032, -0.0054, -0.0062, -0.0220,\n",
      "        -0.0226, -0.0228, -0.0258, -0.0298, -0.0319, -0.0333, -0.0345, -0.0498,\n",
      "        -0.0611, -0.0646, -0.0669, -0.0775, -0.1016], grad_fn=<IndexBackward>)\n",
      "tensor([ 34,  49, 117,  48,  35,  18,  24,  98,  43,  41, 108, 109, 112,  13,\n",
      "         17,  55,  26, 147,  14,  97,  73, 111,  12,  39,  22,  33,  47,  36,\n",
      "          4,  11,  15, 107,  23,  93,  92,  91, 100,  95,  78,  20,  42, 123,\n",
      "        146,  99, 121, 116, 122, 132,  38,  74, 142, 115, 110, 135,  89, 126,\n",
      "        105, 106,  30, 129,   5, 130,  10,  96, 128, 102,  86, 119, 143, 103,\n",
      "         75, 141,   9,  79,   3,  94, 118])\n",
      "tensor([], dtype=torch.int64)\n",
      "~~~~~~~~~~~~~~~~~~~~~~~~~~~~\n",
      "tensor([0])\n",
      "-----node-----\n",
      "@@@@@@@@@@@@@@@@@@@@@@@@@@@@\n",
      "tensor([ 90,  96, 146, 110, 145, 111, 122, 116,  85,  91,  97, 114, 120, 118,\n",
      "         77, 106, 107, 108, 123, 133, 141,  76,  88, 102,  59,  49, 125, 119,\n",
      "        112, 127,  60,  87,   1,  89,  50, 117, 138, 126,  93,  33,  58,  32,\n",
      "        140,  81, 121, 115,  37,  35,  48, 134, 135, 129,  71, 142,  31, 113,\n",
      "         46, 101, 109,  47,  23,  99,  86,  63,  84,  73,  30,  94,  75, 147,\n",
      "         13,  16,  34,  36,  12,  40,  92,  22,   0,  98,  74, 130,  17,  62,\n",
      "         69,   5, 137,  20, 103, 105, 144, 100,  11,  82, 136,  38,  25, 131,\n",
      "         51,  72,  95,   3,  79,  61,  39,  21,  43, 128,   4,  83,  14, 104,\n",
      "         15,  42,  52,  24,   9,  64, 124])\n",
      "tensor([ 0.9686,  0.9583,  0.9576,  0.9530,  0.9196,  0.9141,  0.8974,  0.8917,\n",
      "         0.8899,  0.8283,  0.7637,  0.7587,  0.7446,  0.7356,  0.6323,  0.6296,\n",
      "         0.6035,  0.5370,  0.5319,  0.4491,  0.4217,  0.3991,  0.3377,  0.3131,\n",
      "         0.3076,  0.2890,  0.2295,  0.1721,  0.1692,  0.1211,  0.0730,  0.0696,\n",
      "         0.0548,  0.0531,  0.0349, -0.0224, -0.0252, -0.0269, -0.0350, -0.0363,\n",
      "        -0.0527, -0.0557, -0.0608, -0.0657, -0.0669, -0.0727, -0.0862, -0.0942,\n",
      "        -0.1153, -0.1162, -0.1228, -0.1467, -0.1541, -0.1632, -0.1681, -0.1796,\n",
      "        -0.1830, -0.1899, -0.1911, -0.1922, -0.2142, -0.2230, -0.2325, -0.2339,\n",
      "        -0.2393, -0.2398, -0.2440, -0.2462, -0.2465, -0.2511, -0.2513, -0.2527,\n",
      "        -0.2572, -0.2710, -0.2723, -0.2743, -0.2755, -0.2839, -0.2854, -0.2915,\n",
      "        -0.2933, -0.2953, -0.2954, -0.2974, -0.3011, -0.3016, -0.3036, -0.3037,\n",
      "        -0.3048, -0.3050, -0.3121, -0.3148, -0.3183, -0.3185, -0.3185, -0.3197,\n",
      "        -0.3219, -0.3252, -0.3253, -0.3282, -0.3291, -0.3296, -0.3311, -0.3322,\n",
      "        -0.3335, -0.3336, -0.3340, -0.3347, -0.3355, -0.3361, -0.3366, -0.3370,\n",
      "        -0.3378, -0.3382, -0.3383, -0.3388, -0.3393, -0.3399, -0.3399],\n",
      "       grad_fn=<IndexBackward>)\n",
      "@@@@@@@@@@@@@@@@@@@@@@@@@@@@\n",
      "tensor([  3,   5,   4,   2,   7,  19,  18,   1,   6,  49,   8,   9,   0,  16,\n",
      "         17,  11,  14,  10,  44,  12,  26,  67,  13,  20,  31,  51,  76,  28,\n",
      "         68,  79,  50,  23,  22,  55,  61,  15,  37,  94,  35, 100,  57,  62,\n",
      "        118,  58,  69,  21,  29,  27,  86, 102,  89,  42, 107,  45,  80, 109,\n",
      "         53, 111,  33,  81,  91,  43,  97,  90,  93,  88,  54,  36, 115, 116,\n",
      "         40,  99,  98,  41, 103,  96, 117,  95, 101, 113, 108,  48,  46, 110,\n",
      "         47, 112, 104, 106, 114, 105,  24,  32,  92,  34,  30,  72])\n",
      "tensor([ 1.0000,  1.0000,  1.0000,  0.9999,  0.9998,  0.9994,  0.9994,  0.9992,\n",
      "         0.9954,  0.9908,  0.9797,  0.9673,  0.9641,  0.9593,  0.9304,  0.9262,\n",
      "         0.9056,  0.9045,  0.9027,  0.8917,  0.8688,  0.8480,  0.8295,  0.8271,\n",
      "         0.8209,  0.8125,  0.7395,  0.7160,  0.6733,  0.6590,  0.6534,  0.6285,\n",
      "         0.6006,  0.5685,  0.5522,  0.5478,  0.4220,  0.4175,  0.3817,  0.3797,\n",
      "         0.3663,  0.3620,  0.3607,  0.2937,  0.2930,  0.2826,  0.2670,  0.2607,\n",
      "         0.2435,  0.2129,  0.2011,  0.1922,  0.1678,  0.1305,  0.0915,  0.0694,\n",
      "        -0.0294, -0.0416, -0.0492, -0.0510, -0.0671, -0.0686, -0.0736, -0.1113,\n",
      "        -0.1113, -0.1113, -0.1278, -0.1453, -0.1694, -0.1694, -0.1694, -0.1694,\n",
      "        -0.1694, -0.1694, -0.1694, -0.1694, -0.1694, -0.1694, -0.1694, -0.1694,\n",
      "        -0.1694, -0.1694, -0.1694, -0.1694, -0.1694, -0.1694, -0.1694, -0.1694,\n",
      "        -0.1694, -0.1694, -0.1694, -0.1694, -0.1694, -0.1694, -0.1694, -0.1694],\n",
      "       grad_fn=<IndexBackward>)\n",
      "@@@@@@@@@@@@@@@@@@@@@@@@@@@@\n",
      "tensor([71, 87, 94, 83, 72, 91, 81, 75, 70, 89, 92, 82, 78, 68, 90, 88, 93, 95,\n",
      "        80, 85, 79, 76, 86, 77, 84, 69, 66, 56, 58, 73, 74, 61, 67, 57, 65, 63,\n",
      "        64, 60, 54, 47, 48, 62, 49, 46, 45, 51, 41, 55, 40, 31, 50, 33, 59, 36,\n",
      "        52, 32, 37, 22, 23, 27, 30, 24, 44, 35, 43, 34, 19, 29, 53, 20, 17, 39,\n",
      "        16, 38, 18, 42, 11])\n",
      "tensor([ 0.1416,  0.1086,  0.1086,  0.0920,  0.0920,  0.0920,  0.0920,  0.0753,\n",
      "         0.0753,  0.0753,  0.0753,  0.0586,  0.0586,  0.0586,  0.0586,  0.0586,\n",
      "         0.0586,  0.0423,  0.0419,  0.0419,  0.0251,  0.0251,  0.0251,  0.0251,\n",
      "         0.0251,  0.0251,  0.0224,  0.0181,  0.0142,  0.0084,  0.0084, -0.0030,\n",
      "        -0.0065, -0.0119, -0.0157, -0.0194, -0.0201, -0.0225, -0.1100, -0.1126,\n",
      "        -0.1232, -0.1294, -0.1296, -0.1462, -0.1523, -0.1908, -0.2026, -0.2132,\n",
      "        -0.2210, -0.2267, -0.2350, -0.2431, -0.2502, -0.2722, -0.2912, -0.3276,\n",
      "        -0.3351, -0.3412, -0.3549, -0.3651, -0.3673, -0.3903, -0.4091, -0.4325,\n",
      "        -0.4435, -0.4481, -0.4485, -0.4702, -0.4880, -0.5175, -0.5180, -0.5331,\n",
      "        -0.5685, -0.6047, -0.6073, -0.6096, -0.6114], grad_fn=<IndexBackward>)\n",
      "tensor([ 73,  44,  61,  15,  52,   2,  49,  26,  59,  22,  12,  38,   4,  25,\n",
      "         60,  53,  51,  35,   5,  16,  43,  65,  40,  39,  36,  10,  32, 143,\n",
      "         90,  33,  62,  82, 139, 105, 104, 145,  83, 101,  75, 120, 138, 132,\n",
      "         80, 128,  77, 141,  87,  84, 102, 103, 106, 114, 131, 127, 129,  89,\n",
      "        137, 119, 142, 113, 136,  88, 148, 107, 110, 100, 121,  99, 116, 126,\n",
      "         98,  96,  78, 118, 122, 125,  92])\n",
      "tensor([], dtype=torch.int64)\n",
      "~~~~~~~~~~~~~~~~~~~~~~~~~~~~\n",
      "tensor([0])\n",
      "-----node-----\n",
      "@@@@@@@@@@@@@@@@@@@@@@@@@@@@\n",
      "tensor([ 89, 139, 103,   0, 110,  48,  76, 146, 102,  49,  34, 118,  29,  72,\n",
      "         13,  33,  47, 145,  23,  17,  62, 121,  12, 108, 141,  46,  97,  79,\n",
      "         82,  22, 119,  77,  88, 116, 140, 100,  61, 111, 142,  15, 132, 107,\n",
      "         38,  31,   5, 144,  40, 122,  60,  93,  32,  63,  99,  81,   3, 129,\n",
      "         42,  30, 127, 101,  92,  59,  51,  16,  98,  74,  80,  69,  14,  85,\n",
      "         35, 117,  70,  96,  43,  37,  73,   1,  65,   9,  58,  90,  18,   2,\n",
      "          4,  75,  83,  25,  71,  44,  39, 104,  20, 109,  21,  36,  84,  50,\n",
      "         28, 123,  87, 114,  78, 138,  24, 133,  56, 131,  94, 128, 126, 115,\n",
      "        112, 125, 105,  91, 106,  86, 120])\n",
      "tensor([ 0.9148,  0.9008,  0.8684,  0.8600,  0.8573,  0.8482,  0.8414,  0.8099,\n",
      "         0.7843,  0.7805,  0.7804,  0.7774,  0.7764,  0.7743,  0.7630,  0.7564,\n",
      "         0.7557,  0.7463,  0.7461,  0.7434,  0.7431,  0.7413,  0.7249,  0.7133,\n",
      "         0.7016,  0.7006,  0.6378,  0.6370,  0.6356,  0.6132,  0.6090,  0.6058,\n",
      "         0.5880,  0.5788,  0.5630,  0.5464,  0.5457,  0.5396,  0.5258,  0.5240,\n",
      "         0.5120,  0.5024,  0.4900,  0.4731,  0.4647,  0.4611,  0.4538,  0.4515,\n",
      "         0.4354,  0.4330,  0.4247,  0.4167,  0.3978,  0.3902,  0.3891,  0.3821,\n",
      "         0.3813,  0.3705,  0.3604,  0.3530,  0.3493,  0.3426,  0.2853,  0.2849,\n",
      "         0.2532,  0.2486,  0.2421,  0.2337,  0.2270,  0.2038,  0.1825,  0.1803,\n",
      "         0.1723,  0.1686,  0.1408,  0.1358,  0.1254,  0.1229,  0.1144,  0.1067,\n",
      "         0.0974,  0.0641,  0.0621,  0.0612,  0.0579,  0.0478,  0.0383,  0.0359,\n",
      "         0.0281,  0.0110,  0.0068,  0.0022, -0.0188, -0.0202, -0.0226, -0.0319,\n",
      "        -0.0321, -0.0493, -0.0521, -0.0567, -0.0903, -0.0907, -0.0916, -0.0989,\n",
      "        -0.1074, -0.1129, -0.1215, -0.1219, -0.1280, -0.1296, -0.1398, -0.1498,\n",
      "        -0.1523, -0.1526, -0.1571, -0.1589, -0.1859, -0.1902, -0.2053],\n",
      "       grad_fn=<IndexBackward>)\n",
      "@@@@@@@@@@@@@@@@@@@@@@@@@@@@\n",
      "tensor([  0,   8,   2,   7,   1,   4,  11,   6,  21,  39,  10,  25,  24,  18,\n",
      "         20,  32,  34,  35,  59,  31,  38,  37,  17,   5,   3,  12,  30,  23,\n",
      "         27,  16,  43,  52,  19,  28,  41,  14,  53,  22,  55,  29,  58,  33,\n",
      "         42,  36,  64,  45,  66,  47,  51,  69,  40,  68,  78,  60,  44,  63,\n",
      "         57,  49,  56,   9,  15,  79, 101,  86,  26,  93,  98,  62,  46,  67,\n",
      "        102, 110,  54,  71,  72,  99, 105,  13,  85,  73,  50, 113,  90,  83,\n",
      "         81,  96,  48, 108, 116, 109,  84, 100, 103,  89,  65,  70])\n",
      "tensor([0.9987, 0.9979, 0.9962, 0.9949, 0.9940, 0.9927, 0.9923, 0.9911, 0.9878,\n",
      "        0.9861, 0.9846, 0.9806, 0.9805, 0.9793, 0.9760, 0.9736, 0.9727, 0.9670,\n",
      "        0.9650, 0.9639, 0.9628, 0.9620, 0.9602, 0.9550, 0.9544, 0.9531, 0.9481,\n",
      "        0.9477, 0.9449, 0.9378, 0.9367, 0.9349, 0.9294, 0.9246, 0.9238, 0.9203,\n",
      "        0.9102, 0.9053, 0.9021, 0.8998, 0.8950, 0.8918, 0.8819, 0.8685, 0.8649,\n",
      "        0.8640, 0.8598, 0.8585, 0.8457, 0.8454, 0.8331, 0.8240, 0.8122, 0.8092,\n",
      "        0.8062, 0.7880, 0.7854, 0.7786, 0.7715, 0.7562, 0.7465, 0.7335, 0.7185,\n",
      "        0.7043, 0.6867, 0.6749, 0.6590, 0.6517, 0.6353, 0.6317, 0.6243, 0.6189,\n",
      "        0.6146, 0.5972, 0.5593, 0.5553, 0.5079, 0.5034, 0.4926, 0.4721, 0.4665,\n",
      "        0.4588, 0.4564, 0.4472, 0.4381, 0.4297, 0.4128, 0.4062, 0.4032, 0.3687,\n",
      "        0.3661, 0.3542, 0.3484, 0.3187, 0.2785, 0.2094],\n",
      "       grad_fn=<IndexBackward>)\n",
      "@@@@@@@@@@@@@@@@@@@@@@@@@@@@\n",
      "tensor([95, 93, 92, 77, 80, 82, 87, 86, 76, 94, 68, 78, 75, 72, 85, 74, 90, 89,\n",
      "        83, 88, 67, 91, 81, 79, 60, 45, 84, 73, 48, 69, 55, 59, 63, 58, 66, 65,\n",
      "        56, 70, 42, 50, 71, 53, 61, 64, 43, 35, 37, 33, 41, 44, 62, 36, 32, 57,\n",
      "        26, 29, 23, 22, 52, 51, 46, 54, 21, 34, 38, 39, 40, 47, 13, 18, 49, 25,\n",
      "        24, 11, 20, 30, 17])\n",
      "tensor([-0.1033, -0.2153, -0.2183, -0.2292, -0.2334, -0.2368, -0.2593, -0.2807,\n",
      "        -0.2843, -0.2950, -0.2971, -0.3062, -0.3126, -0.3167, -0.3195, -0.3223,\n",
      "        -0.3318, -0.3332, -0.3381, -0.3692, -0.3706, -0.3862, -0.3876, -0.3888,\n",
      "        -0.3959, -0.4026, -0.4273, -0.4291, -0.4472, -0.4535, -0.4640, -0.4881,\n",
      "        -0.4968, -0.5245, -0.5334, -0.5346, -0.5421, -0.5460, -0.5495, -0.5503,\n",
      "        -0.5511, -0.5686, -0.5740, -0.5742, -0.5791, -0.5834, -0.5853, -0.5984,\n",
      "        -0.6065, -0.6140, -0.6149, -0.6159, -0.6189, -0.6226, -0.6327, -0.6396,\n",
      "        -0.6491, -0.6498, -0.6534, -0.6583, -0.6611, -0.6716, -0.6758, -0.6870,\n",
      "        -0.6930, -0.6931, -0.6964, -0.7038, -0.7049, -0.7248, -0.7259, -0.7298,\n",
      "        -0.7682, -0.7711, -0.7749, -0.7829, -0.7884], grad_fn=<IndexBackward>)\n",
      "tensor([ 36,  45, 139,  73,  33,  40,  95,  61, 134,  75,  41,  76, 124,   4,\n",
      "         85,  71,   5, 129,   3, 107,  52,  88, 126,  97,  34, 145,  91, 118,\n",
      "         64,  70,  17,  50,  84,  43,  29, 110,  31,  79,  39, 133, 127,  93,\n",
      "         10,  98,  62,  14,  13,  83, 117,  99, 115,  82,  18,  94, 120,  48,\n",
      "         49, 146,  66,  15,  81,   6, 112, 108, 130,  23, 128, 123,  24, 102,\n",
      "         86,  30,   1,  47, 143,  32, 101])\n",
      "tensor([], dtype=torch.int64)\n",
      "~~~~~~~~~~~~~~~~~~~~~~~~~~~~\n",
      "tensor([1])\n",
      "-----node-----\n",
      "@@@@@@@@@@@@@@@@@@@@@@@@@@@@\n",
      "tensor([ 23,  17,  89,  46,  12,   0,  34,  15,  30,  63,  62, 102,  98,  65,\n",
      "         88,  48,  76,  13,  90,  14,  31,  42,  77,   4, 118, 127,  22,  38,\n",
      "         26, 101,  33, 140,  11,  16, 142,  52,  97, 103,  69,  85,  61,  29,\n",
      "          3,  40, 100, 104, 126,  20, 135,  87,  74,  49,  51,  73,  37,  93,\n",
      "         25, 138, 141,  91,  36,  99, 129,  71,  92,  59, 116, 145, 132, 112,\n",
      "        120,  75, 115, 122, 108, 125, 146, 111,  94,   5, 133,  35,  32, 123,\n",
      "        143,  86, 137,  21, 139, 114, 105, 110, 121,  60,  78,  80,  84,   1,\n",
      "         79, 106, 131, 119, 107,  43,   2, 136,  82,  95,  19, 117,  47,  50,\n",
      "          9,  96,  83,  10,  24, 130,  28])\n",
      "tensor([ 9.9806e-01,  9.6723e-01,  9.5712e-01,  9.3199e-01,  9.2952e-01,\n",
      "         9.2216e-01,  9.2132e-01,  9.1036e-01,  8.9737e-01,  8.8467e-01,\n",
      "         8.7078e-01,  8.4912e-01,  8.4065e-01,  8.1647e-01,  7.9742e-01,\n",
      "         7.1351e-01,  5.9827e-01,  5.8706e-01,  5.8299e-01,  5.5982e-01,\n",
      "         5.3882e-01,  5.2116e-01,  4.9555e-01,  4.7282e-01,  4.6884e-01,\n",
      "         4.6325e-01,  4.2694e-01,  4.2375e-01,  3.9913e-01,  3.9374e-01,\n",
      "         3.5779e-01,  3.5314e-01,  3.5244e-01,  3.2558e-01,  2.8380e-01,\n",
      "         2.7845e-01,  2.7754e-01,  2.6978e-01,  2.3303e-01,  2.2870e-01,\n",
      "         2.2846e-01,  1.3154e-01,  1.1511e-01,  1.0141e-01,  7.7229e-02,\n",
      "         7.5741e-02,  4.4490e-02,  3.9089e-02,  1.4108e-02,  9.6870e-04,\n",
      "        -7.4495e-03, -1.7950e-02, -2.5422e-02, -3.8501e-02, -3.8601e-02,\n",
      "        -3.9605e-02, -4.7080e-02, -5.6077e-02, -5.6140e-02, -6.2266e-02,\n",
      "        -6.6034e-02, -6.8629e-02, -7.3943e-02, -8.0293e-02, -9.5398e-02,\n",
      "        -1.0113e-01, -1.1296e-01, -1.1872e-01, -1.2191e-01, -1.2543e-01,\n",
      "        -1.2819e-01, -1.2967e-01, -1.3307e-01, -1.3419e-01, -1.3886e-01,\n",
      "        -1.4461e-01, -1.5581e-01, -1.6273e-01, -1.7469e-01, -1.7504e-01,\n",
      "        -1.7573e-01, -1.7997e-01, -1.8475e-01, -1.9239e-01, -1.9713e-01,\n",
      "        -2.0860e-01, -2.1342e-01, -2.2167e-01, -2.3084e-01, -2.3928e-01,\n",
      "        -2.3964e-01, -2.4022e-01, -2.7205e-01, -2.7395e-01, -2.7402e-01,\n",
      "        -2.7536e-01, -2.8993e-01, -2.9193e-01, -2.9441e-01, -2.9513e-01,\n",
      "        -2.9763e-01, -2.9957e-01, -2.9977e-01, -3.0070e-01, -3.0103e-01,\n",
      "        -3.0177e-01, -3.0514e-01, -3.0885e-01, -3.0961e-01, -3.1080e-01,\n",
      "        -3.1198e-01, -3.1229e-01, -3.1325e-01, -3.2089e-01, -3.2463e-01,\n",
      "        -3.2537e-01, -3.2590e-01, -3.2620e-01, -3.2625e-01],\n",
      "       grad_fn=<IndexBackward>)\n",
      "@@@@@@@@@@@@@@@@@@@@@@@@@@@@\n",
      "tensor([  0,   1,   7,   5,   6,  10,   3,   8,   9,  13,   4,  23,  20,  19,\n",
      "         40,   2,  15,  17,  26,  27,  33,  38,  32,  11,  21,  35,  16,  14,\n",
      "         24,  12,  29,  79,  52,  22,  42,  25,  34, 110,  45,  31, 118,  39,\n",
      "         58,  18,  84,  48,  49,  61,  46,  98, 104,  94,  30,  75,  88,  43,\n",
      "         44, 105, 112,  28,  36,  62, 101,  47,  51,  95,  41, 114,  50,  73,\n",
      "         87,  93,  54, 116,  89,  37,  60,  63,  81,  56,  82,  59,  90,  91,\n",
      "         67,  64,  77,  76,  53, 103, 111,  92, 113,  74,  69,  85])\n",
      "tensor([ 1.0000,  1.0000,  1.0000,  1.0000,  1.0000,  1.0000,  1.0000,  1.0000,\n",
      "         1.0000,  0.9998,  0.9992,  0.9948,  0.9931,  0.9926,  0.9864,  0.9853,\n",
      "         0.9848,  0.9838,  0.9820,  0.9702,  0.9693,  0.9637,  0.9548,  0.9439,\n",
      "         0.9419,  0.9172,  0.8758,  0.8415,  0.8344,  0.8341,  0.7972,  0.7713,\n",
      "         0.7587,  0.7467,  0.7382,  0.7256,  0.6664,  0.6491,  0.6205,  0.5672,\n",
      "         0.5406,  0.5290,  0.5141,  0.4854,  0.4037,  0.3903,  0.3576,  0.3436,\n",
      "         0.3382,  0.3357,  0.2800,  0.1862,  0.1855,  0.1834,  0.1788,  0.1535,\n",
      "         0.1357,  0.1212,  0.1030,  0.1000,  0.0990,  0.0656,  0.0377,  0.0371,\n",
      "         0.0334,  0.0186,  0.0063, -0.0088, -0.0485, -0.0529, -0.0550, -0.0561,\n",
      "        -0.0647, -0.0652, -0.0689, -0.0747, -0.0750, -0.0787, -0.0798, -0.0798,\n",
      "        -0.1071, -0.1190, -0.1198, -0.1309, -0.1309, -0.1309, -0.1309, -0.1309,\n",
      "        -0.1548, -0.1658, -0.1658, -0.1660, -0.1660, -0.1660, -0.1667, -0.1667],\n",
      "       grad_fn=<IndexBackward>)\n",
      "@@@@@@@@@@@@@@@@@@@@@@@@@@@@\n",
      "tensor([81, 92, 93, 83, 91, 86, 87, 60, 69, 95, 84, 94, 85, 90, 75, 74, 68, 89,\n",
      "        82, 88, 76, 71, 77, 70, 61, 53, 62, 56, 79, 80, 43, 72, 65, 78, 51, 47,\n",
      "        46, 63, 48, 73, 64, 66, 42, 67, 57, 39, 52, 41, 59, 28, 58, 30, 36, 45,\n",
      "        35, 33, 27, 54, 55, 29, 44, 23, 49, 50, 38, 26, 37, 32, 31, 40, 34, 25,\n",
      "        19, 24, 15, 21, 14])\n",
      "tensor([ 0.1166,  0.1031,  0.0998,  0.0822,  0.0798,  0.0675,  0.0565,  0.0539,\n",
      "         0.0539,  0.0527,  0.0492,  0.0371,  0.0359,  0.0237,  0.0219,  0.0189,\n",
      "         0.0178,  0.0107, -0.0213, -0.0302, -0.0325, -0.0366, -0.0564, -0.0595,\n",
      "        -0.0642, -0.0742, -0.0782, -0.0795, -0.0814, -0.0862, -0.0897, -0.0897,\n",
      "        -0.0913, -0.1053, -0.1078, -0.1187, -0.1226, -0.1265, -0.1576, -0.1649,\n",
      "        -0.1700, -0.1716, -0.1759, -0.1783, -0.1804, -0.1823, -0.1875, -0.2067,\n",
      "        -0.2204, -0.2349, -0.2418, -0.2448, -0.2656, -0.2915, -0.2917, -0.3051,\n",
      "        -0.3073, -0.3197, -0.3218, -0.3833, -0.3988, -0.4075, -0.4163, -0.4343,\n",
      "        -0.5136, -0.5925, -0.6507, -0.6923, -0.6996, -0.7167, -0.7241, -0.8175,\n",
      "        -0.8333, -0.8435, -0.8545, -0.8704, -0.8854], grad_fn=<IndexBackward>)\n",
      "tensor([ 92,  97, 109, 111, 122, 112, 147,  98, 123,  87, 146, 113,  93,  51,\n",
      "        104, 115,  75,  44, 106,  74,  37,  61,  72,  22, 130, 126, 120, 101,\n",
      "         26,  33,  91,  38,  81,  36,  79, 100,  88,  21, 127,  25,  50,  30,\n",
      "        142,  84, 137, 141,  34,  86,  27, 119,  10, 102, 143, 136, 128,  78,\n",
      "         89, 140,  41,  99, 144, 103,  80,   3, 105,  77,  48,  52,   6,  29,\n",
      "          4,  53,  39,  43,  90,  70,  62])\n",
      "tensor([], dtype=torch.int64)\n",
      "~~~~~~~~~~~~~~~~~~~~~~~~~~~~\n",
      "tensor([0])\n",
      "-----node-----\n",
      "@@@@@@@@@@@@@@@@@@@@@@@@@@@@\n",
      "tensor([ 17,  12,  13,  23,  46,  48,  62,  63,  98, 125,  89,  31, 110, 111,\n",
      "         30, 132,  38, 102,  22,  29,  97,   0,  25,  11,  88,  33,  42, 115,\n",
      "         40, 123,  92, 108, 103,  74,  99,  16, 120, 127, 117,  69, 121, 107,\n",
      "         61,  73, 138,   9,  84,  21,  93,  79,  65,  85,  15,  94,  19,  91,\n",
      "        139, 100,  76, 129,  35,  32,  95,  10,  20,  34,  43,  77, 131, 122,\n",
      "        101,  83,  75,   4,  96,   1,  52,  49, 137,  14, 112,  86,  50,  37,\n",
      "          3,  87, 104,  90, 114,  36, 124,  47, 145, 134,  28,  82,   5, 119,\n",
      "        142,   2, 126, 105,  59, 144,  39,  78, 146,  71, 106, 140, 113,  26,\n",
      "        116, 147,   8, 143, 135, 141,  81])\n",
      "tensor([ 0.8547,  0.7466,  0.7309,  0.7182,  0.7161,  0.7039,  0.6421,  0.5696,\n",
      "         0.5392,  0.5343,  0.4977,  0.4327,  0.4159,  0.4007,  0.3904,  0.3833,\n",
      "         0.3417,  0.2861,  0.2849,  0.2741,  0.2439,  0.2202,  0.1908,  0.1715,\n",
      "         0.1563,  0.1514,  0.1362,  0.1176,  0.1142,  0.1119,  0.1116,  0.0995,\n",
      "         0.0951,  0.0820,  0.0755,  0.0657,  0.0627,  0.0587,  0.0512,  0.0473,\n",
      "         0.0454,  0.0151, -0.0019, -0.0194, -0.0294, -0.0468, -0.0565, -0.0624,\n",
      "        -0.0646, -0.0684, -0.0739, -0.0783, -0.0802, -0.1036, -0.1215, -0.1268,\n",
      "        -0.1332, -0.1478, -0.1487, -0.1501, -0.1652, -0.1824, -0.1914, -0.1951,\n",
      "        -0.2009, -0.2023, -0.2040, -0.2061, -0.2065, -0.2089, -0.2131, -0.2136,\n",
      "        -0.2148, -0.2206, -0.2241, -0.2270, -0.2290, -0.2320, -0.2329, -0.2342,\n",
      "        -0.2342, -0.2348, -0.2395, -0.2446, -0.2466, -0.2557, -0.2572, -0.2601,\n",
      "        -0.2603, -0.2705, -0.2721, -0.2736, -0.2767, -0.2782, -0.2808, -0.2821,\n",
      "        -0.2836, -0.2855, -0.2857, -0.2866, -0.2877, -0.2895, -0.3027, -0.3043,\n",
      "        -0.3045, -0.3054, -0.3059, -0.3071, -0.3095, -0.3104, -0.3164, -0.3190,\n",
      "        -0.3256, -0.3290, -0.3300, -0.3315, -0.3322, -0.3334, -0.3359],\n",
      "       grad_fn=<IndexBackward>)\n",
      "@@@@@@@@@@@@@@@@@@@@@@@@@@@@\n",
      "tensor([  0,   3,   1,   4,   6,   5,   2,  11,  16,   7,  21,  14,  42,  52,\n",
      "         18,  23,  35,  50,  39,  65, 104,  26,  73,  84,  96,  79,  28,  49,\n",
      "         76,  22,  45,  56,  91,  86, 101,  25, 115,  94,  10,  66,  47,  64,\n",
      "         77,  32,  19,  99,  58, 114,  83, 107,  20,  33, 111, 116,  81,  82,\n",
      "        113,  87,  80, 112, 117,  85, 100,  88, 106, 108, 102,  98, 105,  97,\n",
      "         89,  95,  90,  93, 109,  92, 110, 103,  59,  29,  27,  40,  38,  37,\n",
      "         36,  34,  31,  30,  43,  46,  24,  17,  15,  13,  12,   9])\n",
      "tensor([ 0.9901,  0.9805,  0.9698,  0.9696,  0.9609,  0.9031,  0.8998,  0.8661,\n",
      "         0.8545,  0.8447,  0.7969,  0.7945,  0.7352,  0.5592,  0.5567,  0.5050,\n",
      "         0.4918,  0.3831,  0.3681,  0.3540,  0.2555,  0.2329,  0.1837,  0.1475,\n",
      "         0.1110,  0.1077,  0.0919,  0.0333,  0.0098, -0.0067, -0.0411, -0.0492,\n",
      "        -0.0530, -0.0553, -0.0592, -0.0643, -0.1024, -0.1058, -0.1450, -0.1574,\n",
      "        -0.1584, -0.1584, -0.1584, -0.1599, -0.1599, -0.1599, -0.1599, -0.1599,\n",
      "        -0.1628, -0.1628, -0.1666, -0.1666, -0.1694, -0.1694, -0.1694, -0.1694,\n",
      "        -0.1694, -0.1694, -0.1694, -0.1694, -0.1694, -0.1694, -0.1694, -0.1694,\n",
      "        -0.1694, -0.1694, -0.1694, -0.1694, -0.1694, -0.1694, -0.1694, -0.1694,\n",
      "        -0.1694, -0.1694, -0.1694, -0.1694, -0.1694, -0.1694, -0.1694, -0.1694,\n",
      "        -0.1694, -0.1694, -0.1694, -0.1694, -0.1694, -0.1694, -0.1694, -0.1694,\n",
      "        -0.1694, -0.1694, -0.1694, -0.1694, -0.1694, -0.1694, -0.1694, -0.1694],\n",
      "       grad_fn=<IndexBackward>)\n",
      "@@@@@@@@@@@@@@@@@@@@@@@@@@@@\n",
      "tensor([38, 90, 43, 44, 31, 50, 85, 94, 91, 95, 66, 70, 61, 68, 51, 35, 83, 93,\n",
      "        87, 75, 80, 59, 82, 40, 41, 30, 46, 48, 39, 81, 54, 86, 92, 63, 45, 42,\n",
      "        67, 69, 60, 53, 62, 58, 57, 79, 71, 89, 52, 49, 37, 27, 74, 77, 84, 65,\n",
      "        64, 36, 47, 32, 55, 78, 72, 76, 73, 56, 88, 29, 33, 34, 21, 26, 25, 24,\n",
      "        23, 28, 22, 19, 18])\n",
      "tensor([ 3.4732e-01,  2.3895e-01,  2.2566e-01,  2.1515e-01,  1.9015e-01,\n",
      "         1.8673e-01,  1.5803e-01,  1.5799e-01,  1.4936e-01,  1.4167e-01,\n",
      "         1.3912e-01,  1.3550e-01,  1.2549e-01,  1.2505e-01,  1.2209e-01,\n",
      "         1.1797e-01,  1.0902e-01,  1.0858e-01,  1.0858e-01,  1.0858e-01,\n",
      "         1.0858e-01,  1.0837e-01,  1.0795e-01,  9.9004e-02,  9.8628e-02,\n",
      "         9.8154e-02,  9.6242e-02,  9.5298e-02,  9.2456e-02,  9.1987e-02,\n",
      "         9.1987e-02,  9.1987e-02,  9.1973e-02,  9.1973e-02,  8.5727e-02,\n",
      "         7.8646e-02,  7.5767e-02,  7.5552e-02,  7.5395e-02,  7.5333e-02,\n",
      "         7.5329e-02,  7.5319e-02,  7.5319e-02,  7.5319e-02,  7.4998e-02,\n",
      "         7.4728e-02,  7.1419e-02,  6.5756e-02,  6.5301e-02,  6.2633e-02,\n",
      "         5.8813e-02,  5.8666e-02,  5.8637e-02,  5.8623e-02,  5.8623e-02,\n",
      "         4.7344e-02,  4.5333e-02,  4.4371e-02,  4.2171e-02,  4.1937e-02,\n",
      "         4.1893e-02,  4.1893e-02,  4.1893e-02,  4.1893e-02,  4.0652e-02,\n",
      "         3.3367e-02,  1.6078e-02, -2.4728e-04, -4.4955e-02, -5.5752e-02,\n",
      "        -6.5977e-02, -8.5199e-02, -9.3592e-02, -1.0445e-01, -1.5266e-01,\n",
      "        -1.7650e-01, -1.9580e-01], grad_fn=<IndexBackward>)\n",
      "tensor([ 90,  89, 104,  30, 140,  98, 100, 111, 103, 126,  60,  37,  88,  79,\n",
      "         75,  34, 128, 112,  93, 146, 116, 117, 118,  22,  21,  10,  77,  38,\n",
      "         44, 122,  87, 109, 133, 115,   3,  50, 143, 120, 142, 136, 127, 113,\n",
      "         91, 124,  83,  85,  27,  72,  29,  80, 141, 145, 121, 107, 147, 144,\n",
      "          9,  48,  51, 130, 125, 114, 135, 148,  74,  26, 105, 106,  43,  41,\n",
      "         15,   6,   4,  53,   5,  35,  70])\n",
      "tensor([], dtype=torch.int64)\n",
      "~~~~~~~~~~~~~~~~~~~~~~~~~~~~\n",
      "tensor([2])\n",
      "-----node-----\n",
      "@@@@@@@@@@@@@@@@@@@@@@@@@@@@\n",
      "tensor([ 89,  46, 146,  62,   5,  15, 122,  23,  63,  90, 118,  48, 127,  85,\n",
      "         16, 119, 139, 108,  30,  40,  77,  99, 120, 121,  17,  12, 140,  14,\n",
      "        142, 141,  79,   3,  65,  81,  88,  97, 123, 114,  13,  47,  38,  53,\n",
      "         76, 145,  52,  59,  44, 112, 116,  69,  96, 102,  49, 135, 106, 103,\n",
      "         22,  72,  66,  80,  60, 107,  33, 110,  58,   4,   0, 113, 129,  87,\n",
      "         25,  82, 100,  11, 137, 144,  51,  31, 111,  21,  91,  50,   1,  86,\n",
      "          9,  34, 101,  39,  32, 136, 125,  61,  93,  42, 143,  20,  68,  75,\n",
      "         57,  71,   7, 104,  36,  43,  73, 133, 126, 109,  37,  92, 132,  78,\n",
      "         98,  74,  35,  45, 131, 128,   6])\n",
      "tensor([ 0.9911,  0.9845,  0.9665,  0.9539,  0.9530,  0.9519,  0.9519,  0.9372,\n",
      "         0.9036,  0.9005,  0.8916,  0.8842,  0.8767,  0.8619,  0.8449,  0.8359,\n",
      "         0.8046,  0.7997,  0.7844,  0.7692,  0.7646,  0.7610,  0.7547,  0.7523,\n",
      "         0.7510,  0.7440,  0.7285,  0.7279,  0.7212,  0.7178,  0.7163,  0.7127,\n",
      "         0.7122,  0.7062,  0.6897,  0.6852,  0.6762,  0.6700,  0.6621,  0.6610,\n",
      "         0.6580,  0.6396,  0.6385,  0.6102,  0.6024,  0.6006,  0.5747,  0.5615,\n",
      "         0.5296,  0.5259,  0.5167,  0.5087,  0.5059,  0.4944,  0.4694,  0.4566,\n",
      "         0.4485,  0.4401,  0.4394,  0.4256,  0.4254,  0.4184,  0.4163,  0.3942,\n",
      "         0.3849,  0.3826,  0.3659,  0.3620,  0.3305,  0.3211,  0.3148,  0.3071,\n",
      "         0.2721,  0.2719,  0.2718,  0.2694,  0.2623,  0.2577,  0.2467,  0.2453,\n",
      "         0.2328,  0.2327,  0.2314,  0.2250,  0.2004,  0.1892,  0.1842,  0.1661,\n",
      "         0.1617,  0.1497,  0.1394,  0.1120,  0.1024,  0.0957,  0.0925,  0.0897,\n",
      "         0.0809,  0.0778,  0.0689,  0.0624,  0.0351, -0.0046, -0.0055, -0.0158,\n",
      "        -0.0201, -0.0271, -0.0418, -0.0720, -0.0760, -0.0955, -0.1190, -0.1293,\n",
      "        -0.1543, -0.1619, -0.1799, -0.1984, -0.2234, -0.2251, -0.2345],\n",
      "       grad_fn=<IndexBackward>)\n",
      "@@@@@@@@@@@@@@@@@@@@@@@@@@@@\n",
      "tensor([  0,   1,   3,   7,   5,   8,  11,  20,   4,   2,  27,  28,  12,  15,\n",
      "         10,   6,  41,  30,  29,   9,  18,  44,  33,  23,  24,  40,  26,  37,\n",
      "         16,  14,  34,  42,  38,  13,  17,  32,  39,  31,  25,  65,  51,  35,\n",
      "         46,  21,  61,  49,  73, 100,  66,  36,  22,  80,  76,  54,  19,  86,\n",
      "         91,  59,  50, 118,  71,  69,  96,  48,  72, 106,  68,  74, 107,  58,\n",
      "         77,  90,  47,  67,  53,  87,  85,  78,  75,  55,  43, 112,  88, 101,\n",
      "        111,  62, 115,  70,  63, 113,  89,  57,  83,  94, 117,  84])\n",
      "tensor([1.0000, 1.0000, 1.0000, 0.9999, 0.9999, 0.9999, 0.9999, 0.9994, 0.9993,\n",
      "        0.9991, 0.9991, 0.9990, 0.9989, 0.9989, 0.9987, 0.9983, 0.9976, 0.9975,\n",
      "        0.9966, 0.9953, 0.9946, 0.9945, 0.9932, 0.9929, 0.9926, 0.9915, 0.9915,\n",
      "        0.9913, 0.9910, 0.9908, 0.9904, 0.9900, 0.9876, 0.9875, 0.9869, 0.9867,\n",
      "        0.9850, 0.9831, 0.9803, 0.9803, 0.9783, 0.9742, 0.9736, 0.9726, 0.9670,\n",
      "        0.9630, 0.9610, 0.9600, 0.9598, 0.9591, 0.9590, 0.9580, 0.9438, 0.9405,\n",
      "        0.9366, 0.9332, 0.9301, 0.9234, 0.9199, 0.9197, 0.8995, 0.8961, 0.8948,\n",
      "        0.8918, 0.8767, 0.8631, 0.8608, 0.8492, 0.8336, 0.8218, 0.8031, 0.7994,\n",
      "        0.7819, 0.7808, 0.7622, 0.7617, 0.7616, 0.7240, 0.7191, 0.7099, 0.7055,\n",
      "        0.6769, 0.6619, 0.6541, 0.6539, 0.6515, 0.6405, 0.6275, 0.6192, 0.6092,\n",
      "        0.6087, 0.6056, 0.5607, 0.4447, 0.4396, 0.4345],\n",
      "       grad_fn=<IndexBackward>)\n",
      "@@@@@@@@@@@@@@@@@@@@@@@@@@@@\n",
      "tensor([88, 95, 93, 92, 77, 85, 80, 90, 94, 78, 79, 73, 87, 72, 82, 70, 75, 83,\n",
      "        76, 84, 81, 91, 89, 61, 86, 74, 69, 71, 51, 63, 55, 68, 65, 53, 58, 64,\n",
      "        57, 60, 67, 66, 45, 40, 54, 49, 38, 56, 44, 50, 46, 29, 34, 33, 24, 59,\n",
      "        36, 41, 62, 48, 52, 43, 23, 25, 32, 19, 27, 37, 42, 26, 20, 31, 47, 22,\n",
      "        15, 39, 30, 28, 35])\n",
      "tensor([-0.3069, -0.3377, -0.3457, -0.3585, -0.3883, -0.4009, -0.4083, -0.4532,\n",
      "        -0.4580, -0.4604, -0.4736, -0.4750, -0.4868, -0.4960, -0.5081, -0.5100,\n",
      "        -0.5303, -0.5425, -0.5547, -0.5657, -0.5668, -0.5693, -0.5780, -0.6014,\n",
      "        -0.6125, -0.6653, -0.6668, -0.6800, -0.6807, -0.6847, -0.6892, -0.6893,\n",
      "        -0.7169, -0.7233, -0.7325, -0.7370, -0.7496, -0.7499, -0.7568, -0.7623,\n",
      "        -0.7710, -0.7739, -0.7786, -0.7870, -0.7963, -0.7976, -0.7996, -0.8034,\n",
      "        -0.8217, -0.8371, -0.8525, -0.8555, -0.8598, -0.8601, -0.8624, -0.8630,\n",
      "        -0.8682, -0.8701, -0.8741, -0.8761, -0.8769, -0.8786, -0.8849, -0.8916,\n",
      "        -0.8916, -0.9001, -0.9093, -0.9222, -0.9235, -0.9251, -0.9323, -0.9384,\n",
      "        -0.9462, -0.9465, -0.9465, -0.9472, -0.9524], grad_fn=<IndexBackward>)\n",
      "tensor([111,  10, 144,  87, 112,  34, 146, 137, 129, 145, 104, 114,  26, 113,\n",
      "         33,  32,  40, 105,  35,  79,  99,  73,  75,  88,  46, 136,  67, 126,\n",
      "         92, 117, 102, 110, 127, 107,  97, 101,  81,  83, 138, 130,  70, 103,\n",
      "         41, 124,  13,  62, 108, 121,  12,  17, 109,  86,  18,   7,  48,  98,\n",
      "         69,   1,  52, 100, 122,  39,  14,  91, 115,   4,  45, 141,  31,  77,\n",
      "          8,  82, 123,   5,  89, 140,  66])\n",
      "tensor([], dtype=torch.int64)\n",
      "~~~~~~~~~~~~~~~~~~~~~~~~~~~~\n",
      "tensor([2])\n",
      "-----node-----\n",
      "@@@@@@@@@@@@@@@@@@@@@@@@@@@@\n",
      "tensor([ 89, 139,  76, 103,  23,  81,  82, 119, 144,  29,  17,  34,  31, 102,\n",
      "         79, 100,   0,  46,  83,  12,  80,  48, 125,  62,  21, 138,  63,   1,\n",
      "         88,  84,  15,  36,  19,  59,  20,   2,  98,  41,  97, 101,  22,  92,\n",
      "         77,  99,  37,  58,  65,  13,   5, 140,  30,  49,  18,  47, 129,  60,\n",
      "        141,  85,  93,  71,  69,  74, 118,  78,  42,  38, 127, 142, 115,  87,\n",
      "        143,  50,  91, 131,  33,   8,  16,  26,  56,   4, 104,  73,  14,  40,\n",
      "          6,  72, 107,  94,  43, 121,  25,  51,   9,  61, 117,  75, 110, 111,\n",
      "        105,  35,   3, 108, 123, 146, 113,  64, 126, 116, 114,  90, 106, 145,\n",
      "         32,   7, 109,  10, 128,  52,  96])\n",
      "tensor([ 1.0000,  0.9999,  0.9985,  0.9981,  0.9967,  0.9921,  0.9920,  0.9866,\n",
      "         0.9780,  0.9634,  0.9563,  0.9533,  0.9376,  0.9371,  0.9318,  0.9296,\n",
      "         0.9159,  0.9101,  0.9099,  0.8886,  0.8842,  0.8784,  0.8745,  0.8635,\n",
      "         0.8419,  0.8222,  0.8136,  0.8119,  0.8071,  0.7896,  0.7829,  0.7730,\n",
      "         0.7710,  0.7674,  0.7234,  0.7217,  0.7178,  0.7022,  0.6955,  0.6917,\n",
      "         0.6886,  0.6824,  0.6612,  0.6539,  0.6286,  0.6259,  0.6189,  0.6124,\n",
      "         0.5770,  0.5655,  0.5639,  0.5572,  0.5485,  0.5464,  0.5359,  0.5358,\n",
      "         0.5307,  0.5166,  0.4739,  0.4586,  0.4550,  0.4264,  0.4150,  0.4028,\n",
      "         0.3943,  0.3910,  0.3855,  0.3700,  0.3237,  0.2831,  0.2774,  0.2606,\n",
      "         0.2307,  0.2002,  0.1960,  0.1775,  0.1525,  0.1464,  0.1393,  0.1379,\n",
      "         0.1265,  0.0691,  0.0656,  0.0636,  0.0448,  0.0373,  0.0340,  0.0324,\n",
      "         0.0267,  0.0100,  0.0094, -0.0036, -0.0120, -0.0206, -0.0221, -0.0302,\n",
      "        -0.0410, -0.0679, -0.0780, -0.0915, -0.1287, -0.1391, -0.1413, -0.1459,\n",
      "        -0.1505, -0.1508, -0.1543, -0.1575, -0.1734, -0.1740, -0.1781, -0.1805,\n",
      "        -0.1897, -0.2140, -0.2272, -0.2282, -0.2332, -0.2423, -0.2476],\n",
      "       grad_fn=<IndexBackward>)\n",
      "@@@@@@@@@@@@@@@@@@@@@@@@@@@@\n",
      "tensor([  0,   6,   1,   8,   7,  14,   5,   3,   2,  15,   4,   9,  30,  18,\n",
      "         20,  16,  25,  12,  46,  13,  29,  35,  10,  22,  11,  28,  48,  23,\n",
      "         36,  39,  49,  17,  54,  58,  26,  57,  43,  50,  63,  40,  84,  92,\n",
      "         62,  24,  67,  38,  19,  75,  42,  61,  60,  69,  66,  37,  56,  21,\n",
      "         41,  44, 113,  64,  31,  53,  94,  34,  68,  47,  27,  51,  55,  65,\n",
      "         45,  72,  73,  93,  52,  32,  88,  79,  70, 115,  33,  76,  89,  59,\n",
      "         85,  91,  74,  87, 118,  82,  98,  71, 106,  80,  90,  77])\n",
      "tensor([1.0000, 1.0000, 1.0000, 1.0000, 1.0000, 1.0000, 1.0000, 1.0000, 1.0000,\n",
      "        1.0000, 1.0000, 1.0000, 1.0000, 1.0000, 1.0000, 1.0000, 1.0000, 1.0000,\n",
      "        1.0000, 1.0000, 1.0000, 1.0000, 1.0000, 0.9999, 0.9999, 0.9999, 0.9999,\n",
      "        0.9999, 0.9999, 0.9998, 0.9998, 0.9998, 0.9997, 0.9996, 0.9996, 0.9996,\n",
      "        0.9994, 0.9993, 0.9987, 0.9984, 0.9982, 0.9979, 0.9975, 0.9974, 0.9970,\n",
      "        0.9968, 0.9963, 0.9961, 0.9959, 0.9950, 0.9940, 0.9939, 0.9910, 0.9907,\n",
      "        0.9902, 0.9898, 0.9896, 0.9892, 0.9884, 0.9876, 0.9876, 0.9865, 0.9857,\n",
      "        0.9834, 0.9794, 0.9791, 0.9773, 0.9766, 0.9755, 0.9729, 0.9716, 0.9691,\n",
      "        0.9668, 0.9616, 0.9460, 0.9426, 0.9392, 0.9362, 0.9317, 0.9305, 0.9180,\n",
      "        0.9043, 0.8999, 0.8855, 0.8804, 0.8795, 0.8748, 0.8670, 0.8488, 0.8431,\n",
      "        0.8417, 0.8341, 0.8309, 0.8051, 0.7919, 0.7893],\n",
      "       grad_fn=<IndexBackward>)\n",
      "@@@@@@@@@@@@@@@@@@@@@@@@@@@@\n",
      "tensor([80, 83, 91, 95, 81, 63, 67, 94, 60, 69, 92, 74, 93, 66, 70, 89, 88, 84,\n",
      "        86, 73, 90, 68, 85, 65, 87, 75, 78, 34, 55, 46, 77, 76, 57, 59, 72, 62,\n",
      "        42, 79, 82, 53, 52, 61, 71, 54, 43, 31, 50, 48, 44, 58, 47, 51, 39, 49,\n",
      "        27, 64, 56, 37, 41, 22, 30, 29, 38, 40, 36,  3, 45, 24, 32, 33, 35, 28,\n",
      "        16, 25, 20, 21, 23])\n",
      "tensor([-0.5747, -0.6365, -0.6415, -0.8026, -0.8103, -0.8114, -0.8173, -0.8190,\n",
      "        -0.8197, -0.8358, -0.8392, -0.8431, -0.8460, -0.8511, -0.8528, -0.8530,\n",
      "        -0.8562, -0.8644, -0.8651, -0.8725, -0.8747, -0.8806, -0.8807, -0.8981,\n",
      "        -0.9014, -0.9072, -0.9096, -0.9153, -0.9224, -0.9247, -0.9318, -0.9338,\n",
      "        -0.9425, -0.9426, -0.9455, -0.9471, -0.9497, -0.9501, -0.9595, -0.9614,\n",
      "        -0.9640, -0.9643, -0.9699, -0.9709, -0.9780, -0.9791, -0.9802, -0.9861,\n",
      "        -0.9867, -0.9873, -0.9890, -0.9913, -0.9916, -0.9923, -0.9924, -0.9926,\n",
      "        -0.9941, -0.9956, -0.9961, -0.9962, -0.9962, -0.9965, -0.9966, -0.9968,\n",
      "        -0.9971, -0.9976, -0.9978, -0.9981, -0.9982, -0.9987, -0.9989, -0.9992,\n",
      "        -0.9993, -0.9994, -0.9995, -0.9996, -0.9996], grad_fn=<IndexBackward>)\n",
      "tensor([ 60,  72,  51,  27,  17,  21,  50,  26,  37,  39, 127,  19, 105,   2,\n",
      "         59,  15,  97,  73,  34,  62, 106,  61,  52,  14,  95,  20, 144,  64,\n",
      "         49,  13,   5,  44,  38,  43, 132, 118, 119,  11, 122,  42, 128,  48,\n",
      "         92, 142,  22,  47,  70,  78, 143,   8,   9,  88,  23,  75,  63, 116,\n",
      "         93,  31,  10,  18, 141, 102,  79,   7, 100, 145,  98,  35, 130,  94,\n",
      "         86,  99, 139,  89,  85,   3, 126])\n",
      "tensor([], dtype=torch.int64)\n",
      "~~~~~~~~~~~~~~~~~~~~~~~~~~~~\n",
      "tensor([2])\n"
     ]
    },
    {
     "name": "stdout",
     "output_type": "stream",
     "text": [
      "-----node-----\n",
      "@@@@@@@@@@@@@@@@@@@@@@@@@@@@\n",
      "tensor([103, 129,  89, 100, 121,  93, 102, 138,  92,  97, 146,  33,  76, 107,\n",
      "         29,  59, 108,   1,  18,  90,  88, 122,  98, 120,  22,  36,  85, 140,\n",
      "         84,  20,  23,  17, 118,  99,  77,  15, 144,  49,  60,   0,  58,  82,\n",
      "        141, 110,  91,  72, 119,  62,  94,  56, 139,  79,  21, 117, 114,  69,\n",
      "         13,  86,  12,  71,  41,  81,  63, 135,  30,  31,  50, 145, 116,  26,\n",
      "        111, 115,   4,  96, 106,  34,  61, 132,  74,  42,  83,  37,  48, 125,\n",
      "         46,  40,   3,   5, 101, 112, 127,  47,  87, 142, 131,  25,  14, 137,\n",
      "         73,  75, 143,   9,  38,  19,   2,  68,  80, 123, 130, 126,  43,  32,\n",
      "         78,  51, 128, 109,  10, 133,  35])\n",
      "tensor([ 0.9561,  0.9527,  0.9219,  0.9105,  0.8889,  0.8542,  0.8497,  0.8445,\n",
      "         0.8306,  0.8009,  0.7977,  0.7878,  0.7759,  0.7508,  0.7399,  0.7335,\n",
      "         0.7115,  0.7082,  0.6867,  0.6783,  0.6573,  0.6412,  0.6384,  0.6383,\n",
      "         0.6207,  0.6042,  0.6026,  0.5906,  0.5685,  0.5590,  0.5586,  0.5571,\n",
      "         0.5407,  0.5341,  0.5237,  0.5178,  0.5099,  0.4909,  0.4890,  0.4882,\n",
      "         0.4706,  0.4666,  0.4576,  0.4513,  0.4463,  0.4442,  0.4240,  0.4199,\n",
      "         0.4153,  0.4147,  0.3884,  0.3733,  0.3719,  0.3545,  0.3534,  0.3520,\n",
      "         0.3505,  0.3343,  0.3343,  0.3152,  0.3115,  0.3080,  0.3039,  0.2996,\n",
      "         0.2989,  0.2922,  0.2785,  0.2650,  0.2641,  0.2589,  0.2308,  0.2230,\n",
      "         0.2185,  0.2169,  0.2152,  0.2150,  0.2112,  0.2106,  0.2091,  0.2062,\n",
      "         0.2011,  0.1947,  0.1892,  0.1786,  0.1703,  0.1693,  0.1480,  0.1445,\n",
      "         0.1418,  0.1300,  0.1128,  0.0884,  0.0675,  0.0649,  0.0641,  0.0497,\n",
      "         0.0423,  0.0326,  0.0276,  0.0202,  0.0123,  0.0056, -0.0082, -0.0121,\n",
      "        -0.0174, -0.0271, -0.0348, -0.0376, -0.0378, -0.0868, -0.0916, -0.0921,\n",
      "        -0.0924, -0.1138, -0.1246, -0.1256, -0.1259, -0.1293, -0.1325],\n",
      "       grad_fn=<IndexBackward>)\n",
      "@@@@@@@@@@@@@@@@@@@@@@@@@@@@\n",
      "tensor([  1,   0,   3,   5,   7,   8,   4,  10,  33,  28,  22,   2,  12,  14,\n",
      "          6,  27,  53,  36,  13,  29,  20,  50,  18,  34,  80,  25,  71,  41,\n",
      "         54,  69,  38,  17,  73,  40,  16,  46,  32,  44,  37,  19,  48,  43,\n",
      "         94,   9, 114,  15,  21,  11,  35,  61,  26,  24, 115,  70,  59,  88,\n",
      "        103,  79,  74, 101,  60,  81,  52,  68,  45,  66, 110,  49, 116,  23,\n",
      "         77,  42, 108,  99,  47, 107, 104,  67,  57, 106,  92,  83,  30,  75,\n",
      "         93,  51,  63,  39,  89,  62,  64,  65,  87,  97,  31,  78])\n",
      "tensor([0.9999, 0.9999, 0.9998, 0.9986, 0.9979, 0.9969, 0.9966, 0.9959, 0.9894,\n",
      "        0.9893, 0.9885, 0.9876, 0.9873, 0.9845, 0.9838, 0.9804, 0.9759, 0.9735,\n",
      "        0.9697, 0.9658, 0.9610, 0.9550, 0.9508, 0.9499, 0.9466, 0.9381, 0.9325,\n",
      "        0.9264, 0.9235, 0.9167, 0.9125, 0.9112, 0.9076, 0.9057, 0.9052, 0.9020,\n",
      "        0.9016, 0.9003, 0.8958, 0.8957, 0.8945, 0.8799, 0.8749, 0.8711, 0.8581,\n",
      "        0.8578, 0.8480, 0.8464, 0.8434, 0.8346, 0.8334, 0.8265, 0.8151, 0.8145,\n",
      "        0.8131, 0.8128, 0.8121, 0.8028, 0.7868, 0.7808, 0.7606, 0.7604, 0.7493,\n",
      "        0.7174, 0.7164, 0.6905, 0.6767, 0.6721, 0.6516, 0.6258, 0.6106, 0.5994,\n",
      "        0.5914, 0.5463, 0.5405, 0.5072, 0.5047, 0.4977, 0.4877, 0.4681, 0.4644,\n",
      "        0.4416, 0.3960, 0.3877, 0.3864, 0.3737, 0.3692, 0.3618, 0.3505, 0.3319,\n",
      "        0.3176, 0.2902, 0.2894, 0.2577, 0.2401, 0.2107],\n",
      "       grad_fn=<IndexBackward>)\n",
      "@@@@@@@@@@@@@@@@@@@@@@@@@@@@\n",
      "tensor([82, 87, 89, 90, 94, 93, 91, 74, 95, 88, 80, 78, 86, 92, 83, 69, 85, 81,\n",
      "        84, 67, 71, 51, 76, 46, 79, 65, 50, 43, 62, 77, 37, 75, 61, 66, 57, 47,\n",
      "        72, 54, 45, 64, 39, 73, 70, 58, 60, 38, 68, 34, 63, 53, 55, 36, 35, 49,\n",
      "        31, 30, 59, 25, 33, 42, 56, 48, 52, 19, 28, 27, 22, 32, 44, 29, 23, 17,\n",
      "        16, 41, 24, 40, 26])\n",
      "tensor([ 0.0559,  0.0211,  0.0153,  0.0094, -0.0152, -0.0838, -0.0842, -0.0854,\n",
      "        -0.0936, -0.0984, -0.1306, -0.1468, -0.1504, -0.1618, -0.1740, -0.1989,\n",
      "        -0.2163, -0.2492, -0.3077, -0.3465, -0.3856, -0.3862, -0.3889, -0.3901,\n",
      "        -0.3955, -0.3969, -0.4079, -0.4156, -0.4339, -0.4350, -0.4486, -0.4503,\n",
      "        -0.4557, -0.4574, -0.4698, -0.4700, -0.4728, -0.4811, -0.4827, -0.4892,\n",
      "        -0.5052, -0.5066, -0.5076, -0.5213, -0.5241, -0.5350, -0.5366, -0.5516,\n",
      "        -0.5614, -0.5682, -0.5734, -0.5843, -0.5929, -0.5945, -0.5952, -0.5976,\n",
      "        -0.5980, -0.6108, -0.6303, -0.6313, -0.6500, -0.6565, -0.6646, -0.6649,\n",
      "        -0.6937, -0.7034, -0.7041, -0.7114, -0.7187, -0.7359, -0.7363, -0.7633,\n",
      "        -0.7741, -0.7754, -0.7855, -0.7887, -0.8032], grad_fn=<IndexBackward>)\n",
      "tensor([ 24,   1,  64,  31,  18, 138,  32,  63,  75, 113,  88,  87, 136,   6,\n",
      "         35, 121,  80, 126, 143,  57, 142,  23,   3, 123,  81,  51,  86,  98,\n",
      "         22, 146,  92, 124,  38,  44,  43,  34, 131,  72,  60,  73,  91,  76,\n",
      "        133, 107,  42,  50,  11, 109, 117, 112, 102, 119, 120,  82,   2,  61,\n",
      "         10,  37,  59, 132,  20,  16, 110,  21, 115,  83,  19,  97, 129,  27,\n",
      "         78, 145, 118, 111,  84,  95, 116])\n",
      "tensor([], dtype=torch.int64)\n",
      "~~~~~~~~~~~~~~~~~~~~~~~~~~~~\n",
      "tensor([1])\n",
      "-----node-----\n",
      "@@@@@@@@@@@@@@@@@@@@@@@@@@@@\n",
      "tensor([ 89, 145, 116, 102,  76, 110,  77,  92, 111, 118, 101, 103, 115,  98,\n",
      "         88,  75, 146, 107, 140,  40,  85,  33,  17, 123,  90,  23,  99,  47,\n",
      "        121,  16,  34,  13,  97, 133,  32, 119, 108,  96,  29,  22,  12,  91,\n",
      "         82,  86, 139,  48, 127,   0, 120, 132,  15,  41, 100, 122,  81,  42,\n",
      "         46,  72,  38,  19, 142, 114, 144,  62,  74,  35,  31, 141, 138,  11,\n",
      "         69,  73,  93,  94, 112,  25, 129,  30, 125,  39, 106, 130,  36,  83,\n",
      "         95,  79, 105,   4,  84, 137,  26, 113,  61,  20,  18,   3, 104, 126,\n",
      "         37,  57, 117,  59,   5, 131,  49,  87,  65,  58,   1,  21,  60,  55,\n",
      "         71,  63,  80,  43, 135, 128, 134])\n",
      "tensor([ 9.9701e-01,  9.8095e-01,  9.8051e-01,  9.7595e-01,  9.4506e-01,\n",
      "         9.4264e-01,  9.2534e-01,  9.2187e-01,  9.1426e-01,  9.0134e-01,\n",
      "         8.9964e-01,  8.9036e-01,  8.8089e-01,  8.7695e-01,  8.6302e-01,\n",
      "         8.6207e-01,  8.6071e-01,  8.5999e-01,  8.5913e-01,  8.5820e-01,\n",
      "         8.4939e-01,  8.2850e-01,  8.2470e-01,  7.9829e-01,  7.9451e-01,\n",
      "         7.8774e-01,  7.7513e-01,  7.3155e-01,  7.0973e-01,  6.8965e-01,\n",
      "         6.8155e-01,  6.8150e-01,  6.4792e-01,  6.3306e-01,  5.9587e-01,\n",
      "         5.8451e-01,  5.0510e-01,  5.0478e-01,  4.9159e-01,  4.5046e-01,\n",
      "         4.1609e-01,  4.0615e-01,  3.9844e-01,  3.7515e-01,  3.6997e-01,\n",
      "         3.6822e-01,  3.6630e-01,  3.4981e-01,  3.4718e-01,  3.4511e-01,\n",
      "         3.4229e-01,  3.3913e-01,  3.1601e-01,  3.1521e-01,  3.0776e-01,\n",
      "         2.8512e-01,  2.8421e-01,  2.4529e-01,  2.4169e-01,  2.3393e-01,\n",
      "         2.3317e-01,  2.3141e-01,  1.9232e-01,  1.9017e-01,  1.3895e-01,\n",
      "         1.2887e-01,  1.2335e-01,  1.2091e-01,  1.1971e-01,  1.0491e-01,\n",
      "         8.3712e-02,  7.5803e-02,  7.2628e-02,  7.0412e-02,  6.2775e-02,\n",
      "         2.8247e-02,  2.4057e-02,  1.4270e-02,  4.9130e-03, -1.6102e-04,\n",
      "        -8.5042e-03, -1.1863e-02, -2.2949e-02, -2.8503e-02, -6.0342e-02,\n",
      "        -7.3131e-02, -1.0246e-01, -1.3692e-01, -1.3801e-01, -1.4265e-01,\n",
      "        -1.4930e-01, -1.5459e-01, -1.7192e-01, -1.7905e-01, -1.8352e-01,\n",
      "        -1.8399e-01, -1.9211e-01, -1.9905e-01, -2.0803e-01, -2.1584e-01,\n",
      "        -2.2212e-01, -2.2373e-01, -2.3512e-01, -2.4023e-01, -2.4296e-01,\n",
      "        -2.4981e-01, -2.5828e-01, -2.6073e-01, -2.6359e-01, -2.8151e-01,\n",
      "        -2.8766e-01, -2.9496e-01, -2.9822e-01, -2.9916e-01, -3.0411e-01,\n",
      "        -3.0413e-01, -3.0933e-01, -3.0967e-01, -3.1038e-01],\n",
      "       grad_fn=<IndexBackward>)\n",
      "@@@@@@@@@@@@@@@@@@@@@@@@@@@@\n",
      "tensor([  8,   7,   2,   0,   5,   3,  26,  13,   4,  16,   1,  10,   6,   9,\n",
      "         17,  12,  18,  15,  23,  20,  11,  33,  36,  14,  52,  49,  73,  76,\n",
      "         28,  67,  37,  61,  60,  44,  81,  24,  19,  41,  30,  35,  21,  46,\n",
      "         27,  22,  80,  84, 118,  54,  53, 117,  29,  72,  42, 114,  83,  31,\n",
      "         38,  45,  34,  97,  32,  62,  64,  25,  85,  78,  68, 100,  75,  43,\n",
      "         57,  69,  90,  88,  65,  39,  51, 103,  56,  58,  74,  63, 105,  91,\n",
      "         40,  50,  59,  71, 102,  89,  55,  98,  95, 106,  79,  48])\n",
      "tensor([1.0000, 1.0000, 1.0000, 1.0000, 1.0000, 1.0000, 1.0000, 1.0000, 1.0000,\n",
      "        1.0000, 1.0000, 1.0000, 1.0000, 1.0000, 0.9999, 0.9999, 0.9999, 0.9996,\n",
      "        0.9995, 0.9984, 0.9984, 0.9983, 0.9972, 0.9972, 0.9964, 0.9962, 0.9943,\n",
      "        0.9921, 0.9917, 0.9884, 0.9870, 0.9844, 0.9713, 0.9691, 0.9642, 0.9470,\n",
      "        0.9278, 0.8990, 0.8963, 0.8956, 0.8915, 0.8876, 0.8833, 0.8789, 0.8751,\n",
      "        0.8735, 0.8604, 0.8538, 0.8504, 0.8424, 0.8380, 0.7930, 0.7863, 0.7687,\n",
      "        0.7643, 0.7297, 0.6859, 0.6823, 0.6812, 0.6807, 0.6687, 0.6592, 0.6396,\n",
      "        0.6348, 0.6257, 0.6207, 0.5565, 0.5315, 0.5188, 0.5073, 0.4899, 0.4893,\n",
      "        0.4746, 0.4641, 0.4633, 0.4616, 0.4526, 0.4434, 0.3912, 0.3792, 0.3446,\n",
      "        0.3241, 0.3016, 0.2883, 0.2875, 0.2856, 0.2846, 0.2684, 0.2443, 0.2253,\n",
      "        0.2238, 0.1981, 0.1836, 0.1629, 0.1569, 0.1258],\n",
      "       grad_fn=<IndexBackward>)\n",
      "@@@@@@@@@@@@@@@@@@@@@@@@@@@@\n",
      "tensor([94, 87, 92, 95, 86, 84, 79, 85, 78, 90, 91, 71, 81, 75, 76, 74, 63, 57,\n",
      "        70, 93, 55, 68, 89, 42, 58, 43, 50, 61, 72, 82, 88, 83, 80, 40, 56, 36,\n",
      "        38, 69, 52, 64, 39, 65, 60, 73, 77, 66, 54, 47, 59, 32, 48, 67, 53, 62,\n",
      "        41, 46, 37, 44, 35, 49, 45, 51, 21, 34, 29, 33, 31, 30, 13, 25, 18, 28,\n",
      "        26, 22, 23, 19, 27])\n",
      "tensor([-0.0527, -0.0833, -0.0862, -0.1042, -0.1059, -0.1126, -0.1156, -0.1157,\n",
      "        -0.1189, -0.1241, -0.1293, -0.1412, -0.1476, -0.1603, -0.1700, -0.1781,\n",
      "        -0.1844, -0.1872, -0.1943, -0.1968, -0.2308, -0.2356, -0.2728, -0.2731,\n",
      "        -0.2743, -0.2851, -0.3140, -0.3291, -0.3360, -0.3559, -0.3604, -0.3620,\n",
      "        -0.3637, -0.3689, -0.3821, -0.4115, -0.4155, -0.4584, -0.4820, -0.5503,\n",
      "        -0.5776, -0.6098, -0.6225, -0.6262, -0.6453, -0.6608, -0.6660, -0.6691,\n",
      "        -0.7030, -0.7189, -0.7375, -0.7418, -0.7508, -0.7676, -0.7751, -0.7812,\n",
      "        -0.7984, -0.8251, -0.8541, -0.8658, -0.8753, -0.9005, -0.9289, -0.9320,\n",
      "        -0.9431, -0.9438, -0.9455, -0.9519, -0.9680, -0.9706, -0.9717, -0.9728,\n",
      "        -0.9741, -0.9834, -0.9841, -0.9879, -0.9884], grad_fn=<IndexBackward>)\n",
      "tensor([ 40,  74,   4, 121,  20,  13,  39,  16,  47,  43,  38,  12,  63,  23,\n",
      "         42,  36,  24,  49,  73,  66,  14,  26, 138,  48,  33,  18,  17, 145,\n",
      "         27,  88,   6, 114, 113,  34,  30,  41,  35,  87,  83,  80, 120, 126,\n",
      "         98,  85, 132, 139,  84,  82, 127, 143, 123, 118,  81,  75, 128, 135,\n",
      "         92, 107,  91, 129,  96,  94, 134, 131, 142, 140, 115,  97, 119, 133,\n",
      "        124, 122,  95, 109,  89,  86, 130])\n",
      "tensor([], dtype=torch.int64)\n",
      "~~~~~~~~~~~~~~~~~~~~~~~~~~~~\n",
      "tensor([1])\n",
      "-----node-----\n",
      "@@@@@@@@@@@@@@@@@@@@@@@@@@@@\n",
      "tensor([ 89,  88, 103, 102,  15,  13,  17,  23,  12,  48,  47, 101,  92, 111,\n",
      "        100, 138, 131,  34,  33,  84,  11,  98, 117,  93, 129, 115, 127,  25,\n",
      "         97,  76,  40,  38,  46,  30,  16,  85,  35, 125,   3,  62,  14, 146,\n",
      "         36,  69,   0,  87,  31,  71,   4, 135,  63,  32, 139,  42,  74,  26,\n",
      "         73, 126,  43,  75,  78,  99,  60,  29,  65,  56, 112,  18,  94,  10,\n",
      "        119,  37, 130,  22,  19,  51, 140,  52,  39, 141, 120,  86,  81, 110,\n",
      "        107, 132, 113,  82, 144, 142, 128,  91,  95,  61,  79,  83,  96, 124,\n",
      "        118,  21,  24,   5, 105,  72,   9,  28,  20,  80, 108,  49,   2, 116,\n",
      "          1, 122,  50,  67, 136,  90,  68])\n",
      "tensor([ 0.9650,  0.9621,  0.9599,  0.9486,  0.9213,  0.9193,  0.9120,  0.9056,\n",
      "         0.8689,  0.8639,  0.8504,  0.8334,  0.8288,  0.8257,  0.8089,  0.8075,\n",
      "         0.7660,  0.7528,  0.7514,  0.7283,  0.7054,  0.6905,  0.6842,  0.6821,\n",
      "         0.6720,  0.6655,  0.6299,  0.6269,  0.6240,  0.5895,  0.5224,  0.4811,\n",
      "         0.4718,  0.4590,  0.3677,  0.3460,  0.3460,  0.3436,  0.3386,  0.3272,\n",
      "         0.3252,  0.2865,  0.2604,  0.2498,  0.2488,  0.2071,  0.1804,  0.1423,\n",
      "         0.1216,  0.1161,  0.1097,  0.0954,  0.0949,  0.0897,  0.0785,  0.0674,\n",
      "         0.0482,  0.0182,  0.0157, -0.0028, -0.0053, -0.0400, -0.0526, -0.0536,\n",
      "        -0.0777, -0.0796, -0.0851, -0.0912, -0.0959, -0.1024, -0.1037, -0.1052,\n",
      "        -0.1146, -0.1153, -0.1178, -0.1275, -0.1367, -0.1403, -0.1438, -0.1611,\n",
      "        -0.1685, -0.1700, -0.1787, -0.1947, -0.1994, -0.2034, -0.2085, -0.2104,\n",
      "        -0.2138, -0.2170, -0.2295, -0.2303, -0.2335, -0.2350, -0.2355, -0.2389,\n",
      "        -0.2482, -0.2503, -0.2607, -0.2692, -0.2718, -0.2811, -0.2925, -0.2937,\n",
      "        -0.2964, -0.3048, -0.3049, -0.3058, -0.3113, -0.3136, -0.3141, -0.3159,\n",
      "        -0.3192, -0.3253, -0.3261, -0.3282, -0.3285, -0.3288, -0.3317],\n",
      "       grad_fn=<IndexBackward>)\n",
      "@@@@@@@@@@@@@@@@@@@@@@@@@@@@\n",
      "tensor([  2,  12,  14,  23,   6,  15,  19,  25,  16,   9,  22,   4,   5,  20,\n",
      "         24,   8,  10,  17,  21,   7,  38,  34,  27,  61,  68,  18,  59,  31,\n",
      "         32,  30,  41,  52,  46,  53,  40,   0,  13,  95,  39,  58,  92,  78,\n",
      "         76,  72,  85,  63,  93,  36,  84,  96,  83,  62,  42, 105,  90,  51,\n",
      "         70,  75,  33,  97,  69,  47,  55,  64,  50,  29,  48,  71, 115,  67,\n",
      "         65,  87,   1,  44,  43,  56,  73,  82,  99,  74,  88, 100,  28, 111,\n",
      "         11, 101, 103,  54,   3, 104,  57, 107, 117,  94,  26,  35])\n",
      "tensor([ 0.9988,  0.9963,  0.9936,  0.9911,  0.9907,  0.9902,  0.9839,  0.9826,\n",
      "         0.9808,  0.9727,  0.9682,  0.9674,  0.9661,  0.9556,  0.9482,  0.9421,\n",
      "         0.9183,  0.8987,  0.8980,  0.8945,  0.8886,  0.8881,  0.8564,  0.8260,\n",
      "         0.8250,  0.8169,  0.8150,  0.8086,  0.7913,  0.7905,  0.7870,  0.7683,\n",
      "         0.7439,  0.7409,  0.7315,  0.7225,  0.6668,  0.6403,  0.6013,  0.5926,\n",
      "         0.5857,  0.5810,  0.5382,  0.5149,  0.5061,  0.4910,  0.4861,  0.4562,\n",
      "         0.4547,  0.4467,  0.4254,  0.4040,  0.4008,  0.3858,  0.3835,  0.3689,\n",
      "         0.3662,  0.3590,  0.3590,  0.3285,  0.3229,  0.3202,  0.2917,  0.2714,\n",
      "         0.2638,  0.2575,  0.2528,  0.2471,  0.2445,  0.2250,  0.2179,  0.2128,\n",
      "         0.2082,  0.2042,  0.2034,  0.1802,  0.1597,  0.1539,  0.1498,  0.1338,\n",
      "         0.1176,  0.1145,  0.0854,  0.0777,  0.0341, -0.0011, -0.0095, -0.0338,\n",
      "        -0.0344, -0.0362, -0.0382, -0.0436, -0.0491, -0.0642, -0.0799, -0.0841],\n",
      "       grad_fn=<IndexBackward>)\n",
      "@@@@@@@@@@@@@@@@@@@@@@@@@@@@\n",
      "tensor([90, 94, 93, 95, 87, 82, 88, 86, 85, 91, 89, 76, 64, 74, 84, 92, 69, 81,\n",
      "        79, 73, 67, 58, 75, 70, 63, 72, 78, 80, 52, 66, 77, 62, 61, 55, 71, 65,\n",
      "        47, 60, 68, 51, 57, 38, 56, 83, 54, 46, 43, 45, 53, 39, 41, 59, 25, 28,\n",
      "        42, 27, 33, 48, 49, 32, 19, 44, 35, 40, 29, 50, 37, 22, 21, 34, 17, 16,\n",
      "        15, 31, 20, 36, 12])\n",
      "tensor([ 0.0884,  0.0467,  0.0465,  0.0422,  0.0406,  0.0175, -0.0072, -0.0127,\n",
      "        -0.0133, -0.0176, -0.0335, -0.0379, -0.0452, -0.0522, -0.0643, -0.0646,\n",
      "        -0.0799, -0.0836, -0.0906, -0.0960, -0.0973, -0.1084, -0.1090, -0.1109,\n",
      "        -0.1283, -0.1329, -0.1457, -0.1474, -0.1508, -0.1543, -0.1545, -0.1664,\n",
      "        -0.1675, -0.1693, -0.1845, -0.1877, -0.2057, -0.2101, -0.2171, -0.2253,\n",
      "        -0.2373, -0.2541, -0.2569, -0.2838, -0.2915, -0.2921, -0.2952, -0.3032,\n",
      "        -0.3125, -0.3129, -0.3180, -0.3286, -0.3365, -0.3405, -0.3429, -0.3631,\n",
      "        -0.3665, -0.3760, -0.3794, -0.3819, -0.3904, -0.3925, -0.4070, -0.4073,\n",
      "        -0.4154, -0.4161, -0.4410, -0.4414, -0.4483, -0.4691, -0.4728, -0.4925,\n",
      "        -0.5267, -0.5429, -0.5489, -0.5723, -0.6015], grad_fn=<IndexBackward>)\n",
      "tensor([127, 128,  80,  86,  75,  98, 103,  73,   6,  81,  10,  23,  64,  70,\n",
      "        102,  91,  19,  25,  20,   1,  38,  31,  74,  57,  66,  89,  22, 145,\n",
      "         37,   5,  82,  27,  72,  33,  83,  77,  36,  11,  68,  61,  52,  63,\n",
      "        120, 117, 129,  62, 131,  30,  29,  44,  40, 125,  34,  47, 141,  39,\n",
      "         43, 108,  97,  32,  24, 133,  90,  96,  41, 111,  84,  26,  17,  15,\n",
      "         35,  48,  13, 140,   4, 112,  14])\n",
      "tensor([], dtype=torch.int64)\n",
      "~~~~~~~~~~~~~~~~~~~~~~~~~~~~\n",
      "tensor([2])\n",
      "-----node-----\n",
      "@@@@@@@@@@@@@@@@@@@@@@@@@@@@\n",
      "tensor([122,  89, 118,  85, 103,  90, 102,  97, 121, 108, 146,  77,  23, 141,\n",
      "         17,  96, 120, 114, 107, 125,  48,  87,  91,  34, 113, 100, 127,  72,\n",
      "        110,  15, 140, 116, 139,  12, 112, 115,  88,  76, 101,  46, 145, 132,\n",
      "        129,   5,  42,  59,  19,  98,  63,  22,  86, 142, 117,  30,  99,  81,\n",
      "         49,  83,   1,   0,  84,  93,  21, 111,  58, 135,  36,  92, 106,  39,\n",
      "         94,  13,  38,  29,  60,  62,  16,  75, 119, 138,  14,  24,  51, 123,\n",
      "        124,  33,  40,  47, 144,  74,  95, 134, 133,  52,  69,  37,  50,  20,\n",
      "         32,  82,  79,  18,  80,  71, 131, 126,  65,  31, 136, 128,   2,   3,\n",
      "        137,  78, 105, 130,  10, 109,  35])\n",
      "tensor([ 0.9997,  0.9997,  0.9996,  0.9995,  0.9979,  0.9974,  0.9968,  0.9933,\n",
      "         0.9931,  0.9910,  0.9894,  0.9872,  0.9864,  0.9817,  0.9796,  0.9794,\n",
      "         0.9782,  0.9773,  0.9667,  0.9463,  0.9410,  0.9363,  0.9317,  0.9288,\n",
      "         0.9205,  0.9163,  0.9125,  0.9064,  0.8935,  0.8895,  0.8824,  0.8785,\n",
      "         0.8717,  0.8536,  0.8472,  0.8408,  0.8292,  0.7966,  0.7943,  0.7863,\n",
      "         0.7786,  0.7745,  0.7638,  0.7587,  0.7510,  0.7501,  0.7303,  0.7097,\n",
      "         0.6945,  0.6809,  0.6649,  0.6608,  0.6406,  0.6334,  0.6215,  0.5914,\n",
      "         0.5913,  0.5841,  0.5698,  0.5622,  0.5413,  0.5320,  0.5292,  0.5103,\n",
      "         0.5067,  0.5039,  0.5027,  0.4963,  0.4746,  0.4709,  0.4592,  0.4574,\n",
      "         0.4545,  0.4306,  0.4276,  0.4222,  0.4176,  0.4112,  0.3812,  0.3765,\n",
      "         0.3653,  0.3558,  0.3508,  0.3173,  0.2855,  0.2805,  0.2643,  0.2624,\n",
      "         0.2402,  0.2313,  0.2270,  0.2192,  0.2135,  0.2099,  0.2009,  0.1749,\n",
      "         0.1513,  0.1412,  0.1326,  0.1289,  0.1285,  0.1073,  0.1054,  0.0909,\n",
      "         0.0539,  0.0449,  0.0356,  0.0164, -0.0022, -0.0158, -0.0173, -0.0182,\n",
      "        -0.0297, -0.0453, -0.0974, -0.1045, -0.1072, -0.1161, -0.1295],\n",
      "       grad_fn=<IndexBackward>)\n",
      "@@@@@@@@@@@@@@@@@@@@@@@@@@@@\n",
      "tensor([  9,   8,   1,  21,   0,  11,  10,  17,  13,   7,   6,   5,   4,   3,\n",
      "          2,  15,  19,  18,  30,  22,  26,  16,  24,  54,  36,  34,  50,  38,\n",
      "         25,  31,  32,  51,  37,  42,  35,  28,  47,  14,  68,  12,  55,  65,\n",
      "        105,  63, 117, 113,  67,  39, 109,  41,  40,  29,  70,  20,  23, 100,\n",
      "         52,  89,  75,  83,  48,  78,  91, 102,  33,  57,  60,  53,  61,  77,\n",
      "        112,  59,  44, 108,  90,  80,  92,  72,  88,  71,  27,  76,  99,  79,\n",
      "         43,  84,  69,  49,  87, 104,  73,  93, 111,  81, 114,  56])\n",
      "tensor([1.0000, 1.0000, 1.0000, 1.0000, 1.0000, 1.0000, 1.0000, 1.0000, 1.0000,\n",
      "        1.0000, 1.0000, 1.0000, 1.0000, 1.0000, 1.0000, 1.0000, 1.0000, 1.0000,\n",
      "        1.0000, 1.0000, 1.0000, 1.0000, 1.0000, 1.0000, 1.0000, 1.0000, 1.0000,\n",
      "        1.0000, 1.0000, 1.0000, 1.0000, 1.0000, 1.0000, 0.9999, 0.9999, 0.9999,\n",
      "        0.9998, 0.9998, 0.9996, 0.9995, 0.9995, 0.9993, 0.9991, 0.9986, 0.9986,\n",
      "        0.9978, 0.9975, 0.9967, 0.9967, 0.9963, 0.9957, 0.9949, 0.9938, 0.9933,\n",
      "        0.9931, 0.9926, 0.9918, 0.9912, 0.9908, 0.9853, 0.9852, 0.9835, 0.9830,\n",
      "        0.9807, 0.9799, 0.9798, 0.9781, 0.9734, 0.9728, 0.9706, 0.9704, 0.9677,\n",
      "        0.9656, 0.9621, 0.9566, 0.9501, 0.9479, 0.9462, 0.9458, 0.9441, 0.9390,\n",
      "        0.9338, 0.9334, 0.9328, 0.9222, 0.9015, 0.8789, 0.8701, 0.8549, 0.8536,\n",
      "        0.8445, 0.7968, 0.7588, 0.7554, 0.7544, 0.7528],\n",
      "       grad_fn=<IndexBackward>)\n",
      "@@@@@@@@@@@@@@@@@@@@@@@@@@@@\n",
      "tensor([95, 93, 80, 92, 91, 87, 86, 88, 72, 77, 60, 90, 94, 79, 89, 81, 83, 64,\n",
      "        78, 71, 75, 82, 67, 76, 70, 84, 74, 85, 58, 53, 59, 47, 73, 66, 69, 65,\n",
      "        62, 54, 61, 68, 50, 63, 51, 56, 43, 39, 52, 49, 57, 38, 37, 44, 55, 46,\n",
      "        48, 35, 41, 19, 45, 40, 27, 26, 42, 32, 25, 34, 36, 31, 29, 22, 33, 21,\n",
      "        28, 30, 24, 23, 17])\n",
      "tensor([-0.2832, -0.5151, -0.5409, -0.5829, -0.5903, -0.6611, -0.6643, -0.7102,\n",
      "        -0.7327, -0.7485, -0.7594, -0.7743, -0.7813, -0.7998, -0.8161, -0.8170,\n",
      "        -0.8267, -0.8381, -0.8445, -0.8608, -0.8638, -0.8703, -0.8759, -0.8798,\n",
      "        -0.8803, -0.8865, -0.8937, -0.9029, -0.9085, -0.9174, -0.9287, -0.9362,\n",
      "        -0.9375, -0.9446, -0.9452, -0.9471, -0.9486, -0.9539, -0.9539, -0.9594,\n",
      "        -0.9619, -0.9733, -0.9753, -0.9757, -0.9771, -0.9785, -0.9824, -0.9849,\n",
      "        -0.9868, -0.9892, -0.9902, -0.9908, -0.9928, -0.9961, -0.9967, -0.9967,\n",
      "        -0.9973, -0.9975, -0.9982, -0.9983, -0.9984, -0.9986, -0.9988, -0.9991,\n",
      "        -0.9992, -0.9992, -0.9992, -0.9994, -0.9996, -0.9996, -0.9997, -0.9997,\n",
      "        -0.9999, -0.9999, -0.9999, -0.9999, -1.0000], grad_fn=<IndexBackward>)\n",
      "tensor([ 50,  25,  73,   4,  53,  23,  40,  48,  43,  39,  64,  30, 106,  14,\n",
      "        132,  17, 139,  13, 145,   1,  15,  83,  31, 134, 138,   6,  96, 125,\n",
      "         63,  49, 124,  47, 137,  85,  76,  84, 135,  35, 120,  94, 146,  81,\n",
      "         16, 118, 112,  24,  95, 133,  75, 107,  18, 110,  80,  93, 129, 111,\n",
      "        136,  92,  79,  82, 102,  87, 127,  77, 113, 116,  99, 143, 117, 114,\n",
      "        130, 121, 101, 140,  89, 100, 108])\n",
      "tensor([], dtype=torch.int64)\n",
      "~~~~~~~~~~~~~~~~~~~~~~~~~~~~\n",
      "tensor([0])\n",
      "-----node-----\n",
      "@@@@@@@@@@@@@@@@@@@@@@@@@@@@\n",
      "tensor([ 89,  90, 102,  91, 122,  34,  76,  97,  17,  23, 139, 108, 103,  12,\n",
      "         85,  48, 101,  77,   0, 140,  63,  81,  88, 114,  82,  62,  13,  29,\n",
      "        127, 119, 120,  46,  30,  22,  99,  65, 144, 107,  92, 100,  38,  15,\n",
      "         83,  31,  16, 118,  96,  33,  69,  98,  74, 115, 125, 129, 106,  40,\n",
      "        112,  47,  25,   8,  93,  79,  73,  87,  61, 110,   4,  37, 113,  59,\n",
      "          5,  84, 138,   2,  21,  32,  35,  42,  49,  20,  36,   1, 142, 141,\n",
      "          9,  11, 123, 137, 117, 111,  60,  50, 104,  28,  86,  41, 146, 132,\n",
      "         43, 128,  78, 135,  71,  44,  94,  24, 134, 145,  10,   3, 121,  26,\n",
      "         95,  19, 147, 105,  14,  75, 109])\n",
      "tensor([ 9.5580e-01,  8.8829e-01,  8.8546e-01,  8.8469e-01,  8.5381e-01,\n",
      "         7.9573e-01,  7.8019e-01,  7.7627e-01,  7.6647e-01,  7.5136e-01,\n",
      "         7.2029e-01,  7.0847e-01,  7.0074e-01,  6.8219e-01,  6.5701e-01,\n",
      "         6.4370e-01,  5.7196e-01,  5.6720e-01,  5.2658e-01,  5.1045e-01,\n",
      "         5.0949e-01,  5.0282e-01,  5.0216e-01,  4.7418e-01,  4.6530e-01,\n",
      "         4.6270e-01,  4.5003e-01,  4.3831e-01,  4.3435e-01,  3.9701e-01,\n",
      "         3.9171e-01,  3.7443e-01,  3.5062e-01,  2.7888e-01,  2.6470e-01,\n",
      "         2.5463e-01,  2.4816e-01,  2.3900e-01,  2.3518e-01,  2.3402e-01,\n",
      "         2.2995e-01,  2.2722e-01,  2.1670e-01,  2.0004e-01,  1.7877e-01,\n",
      "         1.6602e-01,  1.5884e-01,  1.3967e-01,  1.3070e-01,  1.2278e-01,\n",
      "         1.1450e-01,  9.3533e-02,  8.3133e-02,  7.9513e-02,  7.0053e-02,\n",
      "         6.3008e-02,  5.7089e-02,  5.0647e-02,  3.8794e-02,  2.5261e-02,\n",
      "         2.1406e-02,  1.2020e-02,  9.7254e-03,  3.1612e-04, -1.6742e-02,\n",
      "        -5.3602e-02, -6.4408e-02, -6.9091e-02, -7.5208e-02, -1.1963e-01,\n",
      "        -1.3246e-01, -1.3542e-01, -1.4973e-01, -1.5775e-01, -1.5893e-01,\n",
      "        -1.6100e-01, -1.6338e-01, -1.6841e-01, -1.7573e-01, -1.8736e-01,\n",
      "        -1.9118e-01, -1.9950e-01, -2.0051e-01, -2.0670e-01, -2.0869e-01,\n",
      "        -2.1630e-01, -2.2341e-01, -2.2547e-01, -2.2795e-01, -2.2925e-01,\n",
      "        -2.3334e-01, -2.4819e-01, -2.5244e-01, -2.5346e-01, -2.6241e-01,\n",
      "        -2.6721e-01, -2.6753e-01, -2.6756e-01, -2.7699e-01, -2.7733e-01,\n",
      "        -2.7791e-01, -2.7950e-01, -2.8324e-01, -2.8523e-01, -2.9272e-01,\n",
      "        -2.9441e-01, -2.9921e-01, -2.9938e-01, -3.0018e-01, -3.0141e-01,\n",
      "        -3.0227e-01, -3.0357e-01, -3.0704e-01, -3.0825e-01, -3.1274e-01,\n",
      "        -3.1808e-01, -3.1941e-01, -3.2092e-01, -3.2162e-01],\n"
     ]
    },
    {
     "name": "stdout",
     "output_type": "stream",
     "text": [
      "       grad_fn=<IndexBackward>)\n",
      "@@@@@@@@@@@@@@@@@@@@@@@@@@@@\n",
      "tensor([  9,   0,   4,   5,  41,  10,   8,  13,   3,  25,  12,  18,  20,   6,\n",
      "         21,  17,   2,  32,  29,  24,  39,  14,  31,  35,  42,   1,  16,  26,\n",
      "         61,  45,   7,  34,  40,  36,  30,  64,  66,  15,  19,  22,  63,  23,\n",
      "         52,  46,  11,  28,  44,  88,  33,  43,  48,  53,  38,  68,  27,  49,\n",
      "         56,  82,  70,  83,  99,  60,  71, 116,  50,  85, 110,  72,  94,  67,\n",
      "         57, 100,  59, 101,  92,  37,  73,  84,  87, 109,  55,  54, 118,  47,\n",
      "         65, 115,  58,  93, 112, 104,  51, 103,  96, 114,  98,  77])\n",
      "tensor([ 0.9053,  0.8972,  0.8709,  0.8506,  0.8484,  0.8194,  0.8161,  0.8053,\n",
      "         0.7721,  0.7636,  0.7624,  0.7578,  0.7291,  0.7158,  0.6883,  0.6597,\n",
      "         0.6516,  0.6388,  0.6166,  0.6156,  0.6139,  0.5985,  0.5946,  0.5771,\n",
      "         0.5586,  0.5579,  0.5435,  0.5153,  0.5112,  0.5032,  0.4909,  0.4630,\n",
      "         0.4591,  0.4470,  0.4385,  0.4354,  0.4163,  0.3957,  0.3787,  0.3704,\n",
      "         0.3675,  0.3071,  0.3043,  0.3032,  0.2997,  0.2891,  0.2867,  0.2594,\n",
      "         0.2464,  0.2429,  0.2347,  0.2274,  0.2170,  0.2066,  0.2052,  0.1901,\n",
      "         0.1811,  0.1740,  0.1666,  0.1600,  0.1570,  0.1450,  0.1201,  0.1070,\n",
      "         0.0840,  0.0781,  0.0712,  0.0660,  0.0521,  0.0305,  0.0261,  0.0022,\n",
      "        -0.0052, -0.0115, -0.0135, -0.0411, -0.0416, -0.0460, -0.0521, -0.0671,\n",
      "        -0.0724, -0.0823, -0.0921, -0.0925, -0.1068, -0.1069, -0.1138, -0.1141,\n",
      "        -0.1188, -0.1194, -0.1282, -0.1286, -0.1290, -0.1329, -0.1455, -0.1461],\n",
      "       grad_fn=<IndexBackward>)\n",
      "@@@@@@@@@@@@@@@@@@@@@@@@@@@@\n",
      "tensor([30, 83, 77, 75, 43, 10, 90, 31, 52, 87,  8, 79, 92, 94, 70, 86, 84, 55,\n",
      "        66, 81, 37, 80, 88, 44, 39, 64, 76, 91, 95, 61, 68,  1, 62, 47, 82, 41,\n",
      "        93, 89, 85, 73, 56,  2, 78, 72, 25, 40, 54, 67, 21, 16, 28, 71, 69, 38,\n",
      "        53, 60, 26, 74, 42, 51, 34, 45, 20, 59,  5, 65, 63, 48, 19, 57, 46, 24,\n",
      "        58, 29, 15, 49, 33])\n",
      "tensor([ 0.1628,  0.1416,  0.1373,  0.1268,  0.1257,  0.1124,  0.1118,  0.1055,\n",
      "         0.1022,  0.0985,  0.0922,  0.0915,  0.0897,  0.0889,  0.0870,  0.0869,\n",
      "         0.0863,  0.0822,  0.0784,  0.0782,  0.0773,  0.0751,  0.0722,  0.0711,\n",
      "         0.0692,  0.0674,  0.0661,  0.0660,  0.0656,  0.0647,  0.0642,  0.0620,\n",
      "         0.0595,  0.0581,  0.0568,  0.0559,  0.0517,  0.0454,  0.0454,  0.0453,\n",
      "         0.0448,  0.0380,  0.0379,  0.0319,  0.0309,  0.0309,  0.0294,  0.0254,\n",
      "         0.0215,  0.0209,  0.0207,  0.0192,  0.0161,  0.0152,  0.0132,  0.0100,\n",
      "         0.0099,  0.0088,  0.0074,  0.0065,  0.0038, -0.0048, -0.0056, -0.0084,\n",
      "        -0.0124, -0.0214, -0.0231, -0.0258, -0.0282, -0.0292, -0.0300, -0.0314,\n",
      "        -0.0363, -0.0396, -0.0425, -0.0516, -0.0551], grad_fn=<IndexBackward>)\n",
      "tensor([ 98,  34,  10, 108,  97, 104, 116, 100,  93,  29,  92,   4, 147,  44,\n",
      "         48,  26, 111,  99, 122, 107,  49,  41,  96, 109,  89,  75,   3,  45,\n",
      "         43,  94,  87,  90,  85, 118, 110, 115, 148,  95, 106, 136, 113, 123,\n",
      "        138,   9,  91,  88,  30, 139,  86, 103,  80,  79,  38, 141, 114, 129,\n",
      "        102, 105, 126, 130, 121, 128, 101, 142, 140,  12,  15,  23,  83, 143,\n",
      "         17,  84,   6, 119,  78,  32, 145])\n",
      "tensor([], dtype=torch.int64)\n",
      "~~~~~~~~~~~~~~~~~~~~~~~~~~~~\n",
      "tensor([1])\n",
      "-----node-----\n",
      "@@@@@@@@@@@@@@@@@@@@@@@@@@@@\n",
      "tensor([ 65,  89, 102,  49,   5,  22, 111,  59, 145,  29, 139,  88,  30,  42,\n",
      "         23,   0,  17, 116, 132, 140,  34, 146,  36,  15,   1,  21,  75,  58,\n",
      "         62,  69,  76, 118, 110,  31,  60,  16, 103,  63,  19,  20,  46,  79,\n",
      "        141, 133,  99,  77,  71, 142, 123,   3,  80,   4,  41,  50, 100,  40,\n",
      "         90, 119,  48, 127,  13,  97, 122,  33,  14,  12,  72,  37,  92,  85,\n",
      "        138, 101,  91,  61, 117,  47, 144,  82,  18, 129,  83,  52, 104,  84,\n",
      "         38,  93,  32, 107,  39,  25, 134,  74,   2,  81, 125, 105,  87, 136,\n",
      "        112,  45, 121, 120,  96,  98,  11,  73, 131, 108, 128,   6,  10, 114,\n",
      "         35,  66,   7, 126,  51,  70,  67])\n",
      "tensor([ 9.2192e-01,  9.0365e-01,  8.7539e-01,  8.6359e-01,  8.2944e-01,\n",
      "         8.2928e-01,  8.0161e-01,  7.9271e-01,  7.9101e-01,  7.8184e-01,\n",
      "         7.7956e-01,  7.7579e-01,  7.5937e-01,  7.4259e-01,  7.3193e-01,\n",
      "         7.2879e-01,  7.2352e-01,  7.0712e-01,  6.9902e-01,  6.9869e-01,\n",
      "         6.8357e-01,  6.6336e-01,  6.6295e-01,  6.6215e-01,  6.5804e-01,\n",
      "         6.2713e-01,  6.2459e-01,  6.1064e-01,  6.0657e-01,  5.9958e-01,\n",
      "         5.8463e-01,  5.8265e-01,  5.7365e-01,  5.6573e-01,  5.5920e-01,\n",
      "         5.4098e-01,  5.3542e-01,  5.2554e-01,  5.1316e-01,  4.9323e-01,\n",
      "         4.5506e-01,  4.4425e-01,  4.3964e-01,  4.3218e-01,  4.2529e-01,\n",
      "         4.0399e-01,  3.7545e-01,  3.5068e-01,  3.4929e-01,  3.4064e-01,\n",
      "         3.3709e-01,  3.0753e-01,  3.0492e-01,  2.9715e-01,  2.9444e-01,\n",
      "         2.9287e-01,  2.9216e-01,  2.8507e-01,  2.6235e-01,  2.6133e-01,\n",
      "         2.5261e-01,  2.0998e-01,  2.0874e-01,  2.0818e-01,  2.0244e-01,\n",
      "         1.9437e-01,  1.7609e-01,  1.7367e-01,  1.6453e-01,  1.5593e-01,\n",
      "         1.4964e-01,  1.3016e-01,  1.2799e-01,  1.1770e-01,  1.1330e-01,\n",
      "         9.5617e-02,  9.4917e-02,  8.7831e-02,  7.7744e-02,  6.4333e-02,\n",
      "         4.6537e-02,  4.1704e-02,  9.4440e-03,  1.3114e-03,  7.0759e-04,\n",
      "        -4.3022e-03, -2.6529e-02, -3.2402e-02, -3.5705e-02, -4.4442e-02,\n",
      "        -5.5563e-02, -5.7803e-02, -5.9801e-02, -6.2444e-02, -7.4583e-02,\n",
      "        -9.0370e-02, -9.0853e-02, -1.0998e-01, -1.1063e-01, -1.1537e-01,\n",
      "        -1.2276e-01, -1.2325e-01, -1.3049e-01, -1.3072e-01, -1.3873e-01,\n",
      "        -1.4026e-01, -1.4075e-01, -1.4376e-01, -1.4669e-01, -1.6042e-01,\n",
      "        -1.6754e-01, -1.7946e-01, -1.8631e-01, -1.8906e-01, -1.8940e-01,\n",
      "        -1.8940e-01, -1.9620e-01, -1.9819e-01, -2.0653e-01],\n",
      "       grad_fn=<IndexBackward>)\n",
      "@@@@@@@@@@@@@@@@@@@@@@@@@@@@\n",
      "tensor([  6,   3,  39,  13,   5,   2,  17,  28,  22,   0,  32,  24,  25,   1,\n",
      "          8,   7,   4,  34,  18,  14,  21,  33,  15,  27,  12,  67,  19,  26,\n",
      "         11,  20,  42,   9,  37,  46,  31,  43,  78,  47,  23,  16,  30,  29,\n",
      "         41,  45,  10,  48,  53,  52,  44,  38,  68,  51,  71,  40,  73,  90,\n",
      "         66,  69,  64, 110,  59,  36,  87,  35,  63,  50,  79, 100,  56,  54,\n",
      "        103,  60,  65,  62,  57, 107,  81, 102,  93, 109, 111,  74,  95,  96,\n",
      "         82,  58,  72,  92,  94, 108,  75,  85,  91, 116,  84,  80])\n",
      "tensor([0.9930, 0.9897, 0.9846, 0.9820, 0.9811, 0.9760, 0.9722, 0.9719, 0.9676,\n",
      "        0.9627, 0.9617, 0.9605, 0.9573, 0.9545, 0.9488, 0.9481, 0.9480, 0.9466,\n",
      "        0.9441, 0.9439, 0.9418, 0.9234, 0.9227, 0.9188, 0.9144, 0.9143, 0.9125,\n",
      "        0.9117, 0.8912, 0.8842, 0.8766, 0.8742, 0.8634, 0.8570, 0.8563, 0.8560,\n",
      "        0.8535, 0.8442, 0.8286, 0.8255, 0.8236, 0.8209, 0.8120, 0.8048, 0.7936,\n",
      "        0.7808, 0.7770, 0.7678, 0.7460, 0.7401, 0.7393, 0.7358, 0.7295, 0.6803,\n",
      "        0.6524, 0.6301, 0.6137, 0.6035, 0.5836, 0.5161, 0.5085, 0.4906, 0.4859,\n",
      "        0.4808, 0.4623, 0.4563, 0.4212, 0.4022, 0.4013, 0.3892, 0.3856, 0.3856,\n",
      "        0.3777, 0.3474, 0.3248, 0.3086, 0.3032, 0.2972, 0.2881, 0.2608, 0.2481,\n",
      "        0.2346, 0.2271, 0.2254, 0.2120, 0.1975, 0.1956, 0.1928, 0.1926, 0.1664,\n",
      "        0.1235, 0.1211, 0.0913, 0.0780, 0.0758, 0.0716],\n",
      "       grad_fn=<IndexBackward>)\n",
      "@@@@@@@@@@@@@@@@@@@@@@@@@@@@\n",
      "tensor([94, 95, 93, 92, 88, 84, 90, 85, 87, 78, 86, 82, 80, 91, 77, 83, 89, 76,\n",
      "        79, 73, 72, 70, 74, 62, 75, 65, 69, 60, 81, 68, 67, 71, 63, 34, 61, 66,\n",
      "        52, 57, 58, 41, 53, 51, 64, 32, 54, 50, 44, 55, 45, 37, 43, 48, 42, 40,\n",
      "        28, 59, 56, 24, 30, 38, 19, 26, 35, 10, 39, 49, 46, 13, 47, 33, 21, 22,\n",
      "        14, 31, 29, 27, 18])\n",
      "tensor([-0.0770, -0.0974, -0.1107, -0.1208, -0.1213, -0.1323, -0.1386, -0.1487,\n",
      "        -0.1573, -0.1604, -0.1609, -0.1631, -0.1725, -0.1757, -0.1782, -0.1786,\n",
      "        -0.1811, -0.1865, -0.1878, -0.1960, -0.2003, -0.2011, -0.2051, -0.2071,\n",
      "        -0.2105, -0.2165, -0.2325, -0.2413, -0.2455, -0.2479, -0.2480, -0.2703,\n",
      "        -0.2817, -0.2903, -0.3041, -0.3164, -0.3182, -0.3320, -0.3569, -0.3604,\n",
      "        -0.3784, -0.3914, -0.4006, -0.4079, -0.4201, -0.4339, -0.4381, -0.4383,\n",
      "        -0.4385, -0.4446, -0.4485, -0.4507, -0.4669, -0.4733, -0.4861, -0.4898,\n",
      "        -0.4899, -0.4913, -0.5117, -0.5171, -0.5189, -0.5191, -0.5262, -0.5290,\n",
      "        -0.5455, -0.5698, -0.5701, -0.5818, -0.5834, -0.5847, -0.5939, -0.6090,\n",
      "        -0.6112, -0.6265, -0.6270, -0.6323, -0.6390], grad_fn=<IndexBackward>)\n",
      "tensor([ 39,  84,  52,  75, 126, 105,  48,  49,   3,  82,  92, 106, 115,  94,\n",
      "         97,  88, 129,  53,   7, 123,  13,  99, 120, 108, 109,  81, 101, 128,\n",
      "        118,  91, 122,  14,  17, 119, 104, 130, 102,  86,  15,  70,  47,   5,\n",
      "         34,  64,  62,  93, 140, 135, 124, 143,  78, 100,  80,  77,  89,  11,\n",
      "         73,  31, 142,  16,  24, 141, 134, 111,  18,  20,  51,  90,  42,  72,\n",
      "         32,   1, 146,  30,  35,  76, 133])\n",
      "tensor([], dtype=torch.int64)\n",
      "~~~~~~~~~~~~~~~~~~~~~~~~~~~~\n",
      "tensor([2])\n",
      "-----node-----\n",
      "@@@@@@@@@@@@@@@@@@@@@@@@@@@@\n",
      "tensor([ 23,   0,  30,   5,  69,  62,  31,  63, 116, 110,  79, 111,  46,   4,\n",
      "        145,  17, 132,  61,  89,  76,  15, 139,  65,  12, 102,  98,  97, 103,\n",
      "         99, 146,  14, 100,  48,  34,  94, 133, 120,  85,  75,  87,  82, 104,\n",
      "         88, 123, 142,  29,  52, 140,  74,  90,  77,  42, 108, 101, 144,  33,\n",
      "         13, 119, 118,  96,  86,  40, 107,  80,  32, 136,  38,   2, 138,  91,\n",
      "        141, 114, 122,  92,  81, 137,  22,  16, 121,  19, 129, 127,  35,  47,\n",
      "         84,  83, 106, 130,  73,  93,  37,  25, 112, 143,  51,  41,  11,  60,\n",
      "         78,  28, 135,  59,   1, 113, 125,  36,  57, 105,   6,  49,   7,  20,\n",
      "        115,  26,  72,  18,  21,  24,  71])\n",
      "tensor([ 0.9984,  0.9957,  0.9804,  0.9776,  0.9768,  0.9633,  0.9621,  0.9565,\n",
      "         0.9274,  0.9267,  0.8765,  0.8489,  0.8305,  0.8118,  0.8080,  0.7954,\n",
      "         0.7861,  0.7619,  0.7282,  0.7152,  0.7137,  0.6960,  0.6545,  0.6260,\n",
      "         0.6100,  0.5358,  0.5326,  0.5277,  0.5116,  0.4827,  0.4510,  0.4376,\n",
      "         0.4164,  0.4149,  0.4031,  0.3845,  0.3836,  0.3538,  0.3496,  0.3482,\n",
      "         0.3377,  0.3223,  0.3114,  0.3112,  0.3040,  0.2968,  0.2888,  0.2824,\n",
      "         0.2668,  0.2645,  0.2570,  0.2542,  0.2503,  0.2487,  0.2474,  0.2441,\n",
      "         0.2390,  0.2243,  0.2138,  0.2016,  0.1993,  0.1948,  0.1896,  0.1702,\n",
      "         0.1462,  0.1446,  0.1300,  0.1278,  0.1219,  0.1097,  0.1053,  0.1032,\n",
      "         0.0949,  0.0832,  0.0670,  0.0549,  0.0274,  0.0259,  0.0191,  0.0104,\n",
      "         0.0028, -0.0137, -0.0231, -0.0314, -0.0577, -0.0587, -0.0599, -0.1024,\n",
      "        -0.1098, -0.1174, -0.1393, -0.1449, -0.1554, -0.1654, -0.1666, -0.1797,\n",
      "        -0.1846, -0.1850, -0.1886, -0.1896, -0.1948, -0.2005, -0.2041, -0.2048,\n",
      "        -0.2068, -0.2196, -0.2205, -0.2242, -0.2276, -0.2303, -0.2350, -0.2419,\n",
      "        -0.2492, -0.2533, -0.2536, -0.2574, -0.2656, -0.2676, -0.2683],\n",
      "       grad_fn=<IndexBackward>)\n",
      "@@@@@@@@@@@@@@@@@@@@@@@@@@@@\n",
      "tensor([  1,   0,   5,   3,   4,   2,   7,   6,  12,  17,  13,   9,   8,  11,\n",
      "         20,  15,  22,  10,  23,  30,  14,  16,  46,  34,  29,  35,  43,  56,\n",
      "         38,  25,  32,  33,  66,  73,  21,  27,  41,  18,  28,  51,  76,  80,\n",
      "        108,  59,  62,  94,  31,  42,  19,  24,  63,  45,  77,  96,  52,  67,\n",
      "        110,  83,  87,  74,  26,  47,  65,  44,  89,  58,  57,  53,  93,  40,\n",
      "        107,  85,  50,  78,  98,  54,  70, 112,  99,  48,  37,  61,  97,  86,\n"
     ]
    },
    {
     "name": "stdout",
     "output_type": "stream",
     "text": [
      "        113,  81,  55,  69, 116,  68,  39,  84,  91,  79,  75, 104])\n",
      "tensor([ 1.0000,  1.0000,  1.0000,  1.0000,  1.0000,  1.0000,  1.0000,  1.0000,\n",
      "         1.0000,  1.0000,  1.0000,  1.0000,  0.9998,  0.9997,  0.9997,  0.9996,\n",
      "         0.9996,  0.9995,  0.9988,  0.9988,  0.9984,  0.9962,  0.9936,  0.9925,\n",
      "         0.9884,  0.9882,  0.9734,  0.9699,  0.9678,  0.9650,  0.9434,  0.9373,\n",
      "         0.9347,  0.9057,  0.8792,  0.8778,  0.8703,  0.8544,  0.8373,  0.8156,\n",
      "         0.7975,  0.7915,  0.7817,  0.7795,  0.7732,  0.7655,  0.7540,  0.7443,\n",
      "         0.7067,  0.7054,  0.7011,  0.6660,  0.6616,  0.6564,  0.5676,  0.5628,\n",
      "         0.5455,  0.5366,  0.4967,  0.3976,  0.3819,  0.3742,  0.3643,  0.3147,\n",
      "         0.3144,  0.3124,  0.3069,  0.3027,  0.2978,  0.2967,  0.2719,  0.2532,\n",
      "         0.2443,  0.2319,  0.2266,  0.2095,  0.1776,  0.1657,  0.1620,  0.1329,\n",
      "         0.1305,  0.1184,  0.0889,  0.0843,  0.0837,  0.0745,  0.0575,  0.0535,\n",
      "         0.0505,  0.0367,  0.0234, -0.0157, -0.0228, -0.0248, -0.0387, -0.0651],\n",
      "       grad_fn=<IndexBackward>)\n",
      "@@@@@@@@@@@@@@@@@@@@@@@@@@@@\n",
      "tensor([90, 95, 65, 94, 76, 85, 80, 63, 75, 66, 72, 67, 91, 89, 79, 69, 88, 87,\n",
      "        61, 83, 71, 93, 74, 82, 86, 84, 92, 68, 73, 60, 78, 62, 70, 81, 77, 59,\n",
      "        49, 48, 54, 44, 58, 46, 64, 47, 40, 55, 56, 43, 57, 50, 37, 51, 41, 36,\n",
      "        38, 35, 39, 52, 29, 34, 42, 45, 53, 33, 26, 28, 24, 20, 25, 31, 32, 30,\n",
      "        23, 13, 21, 27, 22])\n",
      "tensor([ 4.4004e-02,  4.3969e-02,  9.5534e-04, -5.1588e-03, -1.2920e-02,\n",
      "        -2.7744e-02, -3.1098e-02, -3.1390e-02, -4.2622e-02, -4.3160e-02,\n",
      "        -4.5782e-02, -4.6269e-02, -5.2804e-02, -1.0751e-01, -1.0861e-01,\n",
      "        -1.1034e-01, -1.4660e-01, -1.5322e-01, -1.7190e-01, -1.9238e-01,\n",
      "        -2.0362e-01, -2.4035e-01, -2.5656e-01, -2.5749e-01, -2.5753e-01,\n",
      "        -2.6361e-01, -2.8192e-01, -2.9967e-01, -3.0723e-01, -3.2985e-01,\n",
      "        -3.3919e-01, -3.4124e-01, -3.4324e-01, -3.6808e-01, -3.7132e-01,\n",
      "        -3.8739e-01, -3.9017e-01, -4.7131e-01, -4.7610e-01, -5.0772e-01,\n",
      "        -5.2355e-01, -5.3145e-01, -5.3505e-01, -5.6753e-01, -6.1068e-01,\n",
      "        -6.1354e-01, -6.1434e-01, -6.1496e-01, -6.3052e-01, -6.4421e-01,\n",
      "        -6.5241e-01, -6.6302e-01, -6.6842e-01, -6.6844e-01, -6.9154e-01,\n",
      "        -7.1221e-01, -7.1805e-01, -7.1943e-01, -7.4131e-01, -7.4325e-01,\n",
      "        -7.4770e-01, -7.6139e-01, -7.8588e-01, -8.1529e-01, -8.2255e-01,\n",
      "        -8.5103e-01, -8.6031e-01, -8.6675e-01, -8.7827e-01, -8.8044e-01,\n",
      "        -8.8994e-01, -9.1231e-01, -9.2683e-01, -9.3712e-01, -9.4400e-01,\n",
      "        -9.5911e-01, -9.6568e-01], grad_fn=<IndexBackward>)\n",
      "tensor([ 88, 126, 119, 138, 142, 128,  86, 143, 145, 120,  78, 102,  85, 139,\n",
      "         75,  83,  22,  92, 141, 107,  84,  20,  79,  61,  34,  27,  26, 144,\n",
      "        122,  98,  29, 137, 106,  41, 116,  82, 103,  77, 109, 108, 131, 101,\n",
      "         94,  89,  23,   3,   8,  97,  48,  81,  90,  30, 130, 105, 100, 104,\n",
      "         43,  17,  99, 140,   7,  52,  12,  93, 124,  76, 147, 146, 134,  35,\n",
      "         39,  49,  95, 112, 133,  14,  53])\n",
      "tensor([], dtype=torch.int64)\n",
      "~~~~~~~~~~~~~~~~~~~~~~~~~~~~\n",
      "tensor([2])\n",
      "-----node-----\n",
      "@@@@@@@@@@@@@@@@@@@@@@@@@@@@\n",
      "tensor([103,  89,   1,  59,  49,  22, 129,  72,  58,  88,  42,  98,  23,  17,\n",
      "         60,  92,  71,  76,  20,  36, 145,  37, 146, 140, 139, 100, 102,  21,\n",
      "        116,  30,  79,   0, 144,  62, 125,  50, 119, 101,  63,  65, 110,  34,\n",
      "        118, 141, 142,  93,   5,  77, 111,  69,  75,  87,  31,  46,  82, 138,\n",
      "        114, 123, 133,  99,  15,  12, 132,  29,  56,  94,  13,  61,  18, 127,\n",
      "         48,  16,   4,  41, 131,   8,  84,  70,  51,  38,  19,  40,  33, 117,\n",
      "         83,  11,  74,  91,  97,  39,  81,  14,  52, 135, 120, 136,  78,  85,\n",
      "         25,  24,  54,   3,  32, 115,  43, 104,  26, 143,  47, 130,  67,  10,\n",
      "        122,   9,   2,  73, 107,  64, 137])\n",
      "tensor([ 0.9884,  0.9878,  0.9866,  0.9839,  0.9784,  0.9667,  0.9342,  0.9334,\n",
      "         0.9235,  0.9220,  0.9042,  0.9042,  0.8708,  0.8708,  0.8541,  0.8427,\n",
      "         0.8243,  0.8123,  0.7970,  0.7908,  0.7866,  0.7769,  0.7745,  0.7711,\n",
      "         0.7686,  0.7550,  0.7534,  0.7434,  0.7360,  0.7242,  0.7201,  0.7159,\n",
      "         0.7155,  0.7109,  0.7046,  0.6761,  0.6676,  0.6584,  0.6551,  0.6530,\n",
      "         0.6494,  0.6212,  0.6159,  0.5960,  0.5775,  0.5676,  0.5503,  0.5433,\n",
      "         0.5380,  0.4958,  0.4913,  0.4730,  0.4720,  0.4617,  0.4370,  0.4207,\n",
      "         0.4136,  0.3993,  0.3936,  0.3786,  0.3700,  0.3492,  0.3333,  0.3211,\n",
      "         0.3044,  0.2981,  0.2574,  0.2502,  0.2412,  0.2356,  0.2308,  0.2014,\n",
      "         0.1875,  0.1263,  0.0876,  0.0615,  0.0409,  0.0348,  0.0226,  0.0151,\n",
      "        -0.0048, -0.0138, -0.0331, -0.0497, -0.0500, -0.0619, -0.0703, -0.0704,\n",
      "        -0.0721, -0.0755, -0.0820, -0.0927, -0.1221, -0.1281, -0.1319, -0.1419,\n",
      "        -0.1462, -0.1468, -0.1470, -0.1511, -0.1606, -0.1643, -0.1712, -0.1740,\n",
      "        -0.1749, -0.1759, -0.1819, -0.2018, -0.2036, -0.2361, -0.2504, -0.2538,\n",
      "        -0.2561, -0.2679, -0.2723, -0.2740, -0.2789, -0.2818, -0.2833],\n",
      "       grad_fn=<IndexBackward>)\n",
      "@@@@@@@@@@@@@@@@@@@@@@@@@@@@\n",
      "tensor([  2,   4,  10,   1,   0,   8,   5,  19,   7,  18,   3,  11,  14,   9,\n",
      "         21,  16,   6,  27,  25,  68,  17,  37,  23,  35,  26,  73,  44,  40,\n",
      "         80,  24,  33,  36,  12,  42,  15,  32,  64,  41,  22,  59,  48,  30,\n",
      "         43,  39,  47, 104,  20,  82,  56,  52,  63,  45,  38,  28,  60,  34,\n",
      "         31,  13,  29,  50,  54,  46,  69,  57,  51,  58,  90,  55,  49,  99,\n",
      "         53,  97,  62, 113,  74, 103, 111,  65,  71,  98,  72, 106, 116,  91,\n",
      "        117,  76,  84,  75,  67,  61, 108,  96,  77, 100, 109,  83])\n",
      "tensor([1.0000, 1.0000, 1.0000, 1.0000, 1.0000, 1.0000, 1.0000, 1.0000, 1.0000,\n",
      "        1.0000, 0.9999, 0.9998, 0.9998, 0.9998, 0.9997, 0.9997, 0.9996, 0.9996,\n",
      "        0.9992, 0.9982, 0.9982, 0.9975, 0.9974, 0.9974, 0.9969, 0.9964, 0.9962,\n",
      "        0.9955, 0.9955, 0.9942, 0.9940, 0.9939, 0.9938, 0.9937, 0.9935, 0.9922,\n",
      "        0.9894, 0.9881, 0.9881, 0.9879, 0.9878, 0.9815, 0.9790, 0.9787, 0.9770,\n",
      "        0.9715, 0.9715, 0.9639, 0.9632, 0.9620, 0.9610, 0.9594, 0.9516, 0.9498,\n",
      "        0.9438, 0.9435, 0.9395, 0.9392, 0.9371, 0.9294, 0.9184, 0.9156, 0.8980,\n",
      "        0.8915, 0.8819, 0.8485, 0.8467, 0.8459, 0.8379, 0.8286, 0.8262, 0.8174,\n",
      "        0.8165, 0.8043, 0.8000, 0.7763, 0.7723, 0.7633, 0.7605, 0.7344, 0.7244,\n",
      "        0.7096, 0.6794, 0.6744, 0.6550, 0.5600, 0.5498, 0.5494, 0.5110, 0.5031,\n",
      "        0.4835, 0.3397, 0.3297, 0.3297, 0.3270, 0.3055],\n",
      "       grad_fn=<IndexBackward>)\n",
      "@@@@@@@@@@@@@@@@@@@@@@@@@@@@\n",
      "tensor([95, 92, 94, 89, 91, 77, 88, 86, 87, 82, 93, 67, 65, 68, 72, 85, 80, 70,\n",
      "        90, 60, 66, 75, 74, 63, 78, 58, 52, 83, 59, 56, 61, 64, 53, 76, 84, 71,\n",
      "        46, 62, 57, 73, 49, 81, 79, 69, 55, 33, 40, 51, 48, 35, 41, 31, 27, 44,\n",
      "        42, 32, 54, 30, 39, 38, 45, 47, 50, 34, 37, 43, 22, 36, 21, 29, 23, 24,\n",
      "        26, 18, 20, 15, 25])\n",
      "tensor([-0.2143, -0.2995, -0.3450, -0.4015, -0.4040, -0.4265, -0.4480, -0.4520,\n",
      "        -0.4520, -0.4571, -0.5229, -0.5278, -0.5754, -0.5789, -0.5872, -0.5925,\n",
      "        -0.6040, -0.6310, -0.6380, -0.6593, -0.6594, -0.6616, -0.6740, -0.6779,\n",
      "        -0.6993, -0.7139, -0.7157, -0.7554, -0.7619, -0.7657, -0.7690, -0.7784,\n",
      "        -0.7809, -0.7894, -0.8080, -0.8131, -0.8147, -0.8199, -0.8215, -0.8302,\n",
      "        -0.8316, -0.8394, -0.8397, -0.8421, -0.8543, -0.8643, -0.8719, -0.8737,\n",
      "        -0.8964, -0.8990, -0.9038, -0.9117, -0.9121, -0.9166, -0.9179, -0.9185,\n",
      "        -0.9193, -0.9242, -0.9267, -0.9312, -0.9321, -0.9390, -0.9395, -0.9421,\n",
      "        -0.9425, -0.9454, -0.9486, -0.9502, -0.9526, -0.9533, -0.9570, -0.9645,\n",
      "        -0.9678, -0.9708, -0.9740, -0.9830, -0.9863], grad_fn=<IndexBackward>)\n",
      "tensor([118,  71, 131,  13,  79,  95,  62,  84,   9, 108,  55, 139, 134,  70,\n",
      "        133,  85,   5,  47,  48,  83,  82, 116, 132, 124,  17,  31,  64,  15,\n",
      "         76,   1,   6,  88, 117,  11,  65,  86, 146, 128,  18,  10,  32,  27,\n",
      "         26,  25, 126, 119, 112,  94, 115, 145,  80, 120, 111,  78, 142,  24,\n",
      "         16,  63, 100, 147,  44,  34,  30,  93,  35,  66, 141,  57, 102, 140,\n",
      "         51, 103, 143, 101,  77,  72,  42])\n",
      "tensor([], dtype=torch.int64)\n",
      "~~~~~~~~~~~~~~~~~~~~~~~~~~~~\n",
      "tensor([2])\n",
      "-----node-----\n",
      "@@@@@@@@@@@@@@@@@@@@@@@@@@@@\n",
      "tensor([122, 123,  76, 118,  48, 146,  23,  63, 114,  16,  77,  89, 108,  62,\n",
      "         72, 120, 139,  34, 142,  47,  49, 112,  90,  12,  46, 140,  97, 126,\n",
      "        141, 132, 135, 102,  85, 116,  17, 129,   3, 100,  99,  87,  40,  75,\n",
      "         38,  22, 119,  88,  42, 111, 107, 145,  61, 144,  13,  33, 110,  96,\n",
      "        103,  92,  30,   5,  86, 106,  39, 101, 117,  65,  82, 125, 138,  59,\n",
      "         55,  32,  31,  91,  81,  11, 131,  69,  51, 113,   0, 121, 127,  60,\n",
      "         80,  84,  93,  94, 109, 128,  26,  14,   1,   4,  58, 124,  21,  71,\n",
      "        133,  73,  83,  74, 115,  20,  36,  79,  53, 130,  50,  67,  98, 134,\n",
      "         35,  15,  52, 137,  78,  37,  95])\n",
      "tensor([ 0.9997,  0.9967,  0.9943,  0.9940,  0.9897,  0.9881,  0.9848,  0.9820,\n",
      "         0.9767,  0.9690,  0.9682,  0.9642,  0.9641,  0.9634,  0.9611,  0.9610,\n",
      "         0.9597,  0.9567,  0.9557,  0.9511,  0.9451,  0.9370,  0.9301,  0.9256,\n",
      "         0.9206,  0.9139,  0.9082,  0.9051,  0.9033,  0.9017,  0.8968,  0.8903,\n",
      "         0.8572,  0.8486,  0.8395,  0.8286,  0.8283,  0.8122,  0.8022,  0.8022,\n",
      "         0.8009,  0.7976,  0.7969,  0.7957,  0.7934,  0.7897,  0.7897,  0.7733,\n",
      "         0.7695,  0.7640,  0.7600,  0.7549,  0.7344,  0.7328,  0.7308,  0.7283,\n",
      "         0.7236,  0.7115,  0.6768,  0.6633,  0.6554,  0.6461,  0.6221,  0.6113,\n",
      "         0.6110,  0.5726,  0.5685,  0.5258,  0.5052,  0.4922,  0.4887,  0.4883,\n",
      "         0.4844,  0.4762,  0.4688,  0.4628,  0.4440,  0.4423,  0.4333,  0.4127,\n",
      "         0.4127,  0.3790,  0.3767,  0.3763,  0.3762,  0.3588,  0.3124,  0.2908,\n",
      "         0.2679,  0.2555,  0.2548,  0.2261,  0.2028,  0.1754,  0.1635,  0.1576,\n",
      "         0.1556,  0.1526,  0.1261,  0.1154,  0.1147,  0.1032,  0.0992,  0.0957,\n",
      "         0.0956,  0.0593,  0.0589,  0.0306,  0.0294,  0.0189,  0.0047, -0.0062,\n",
      "        -0.0487, -0.0509, -0.0803, -0.0934, -0.1039, -0.1098, -0.1158],\n",
      "       grad_fn=<IndexBackward>)\n",
      "@@@@@@@@@@@@@@@@@@@@@@@@@@@@\n",
      "tensor([  8,   5,  10,   0,  11,   3,   2,   1,  27,   4,   6,  16,  18,  25,\n",
      "         28,   7,  45,  13,  31,  67,  35,  38,  14,  32,   9,  82,  24,  12,\n",
      "         17,  19,  39,  49,  37,  59,  63,  33,  73,  42,  26,  44,  65,  15,\n",
      "         29,  23,  36,  34,  50,  40,  52,  30,  48,  74,  22,  75,  54,  20,\n",
      "         56,  81,  55,  57,  89,  21,  53,  60, 110, 105,  58,  51,  47,  91,\n",
      "         41,  66,  64,  88,  84,  43, 101, 114,  62, 106,  80,  87,  77,  78,\n",
      "         61,  46, 109,  86,  98,  76, 113, 115,  71,  79, 107,  68])\n",
      "tensor([1.0000, 1.0000, 1.0000, 1.0000, 1.0000, 1.0000, 1.0000, 1.0000, 1.0000,\n",
      "        1.0000, 1.0000, 1.0000, 1.0000, 1.0000, 1.0000, 1.0000, 1.0000, 1.0000,\n",
      "        1.0000, 1.0000, 1.0000, 1.0000, 1.0000, 1.0000, 1.0000, 1.0000, 1.0000,\n",
      "        1.0000, 0.9999, 0.9999, 0.9999, 0.9999, 0.9999, 0.9999, 0.9999, 0.9998,\n",
      "        0.9998, 0.9998, 0.9998, 0.9998, 0.9998, 0.9998, 0.9998, 0.9998, 0.9997,\n",
      "        0.9997, 0.9997, 0.9997, 0.9996, 0.9995, 0.9995, 0.9994, 0.9994, 0.9994,\n",
      "        0.9994, 0.9994, 0.9993, 0.9993, 0.9992, 0.9991, 0.9991, 0.9991, 0.9990,\n",
      "        0.9990, 0.9989, 0.9989, 0.9988, 0.9987, 0.9985, 0.9980, 0.9978, 0.9978,\n",
      "        0.9976, 0.9975, 0.9973, 0.9971, 0.9968, 0.9967, 0.9959, 0.9948, 0.9945,\n",
      "        0.9936, 0.9935, 0.9895, 0.9887, 0.9863, 0.9859, 0.9809, 0.9797, 0.9780,\n",
      "        0.9723, 0.9713, 0.9704, 0.9695, 0.9676, 0.9612],\n",
      "       grad_fn=<IndexBackward>)\n",
      "@@@@@@@@@@@@@@@@@@@@@@@@@@@@\n",
      "tensor([93, 92, 95, 85, 91, 88, 68, 94, 82, 75, 84, 78, 63, 67, 80, 55, 87, 61,\n",
      "        56, 45, 89, 66, 83, 71, 34, 81, 43, 54, 47, 90, 86, 62, 37, 30, 73, 49,\n",
      "        72, 74, 44, 48, 70, 52, 26, 38, 41, 76, 50, 29, 51, 58, 36, 57, 39, 64,\n",
      "        46, 31, 32, 77, 79, 53, 69, 24, 60, 59, 65, 42, 35, 22, 18, 28, 23, 40,\n",
      "        27, 33, 25, 21, 15])\n",
      "tensor([-0.7922, -0.8136, -0.8826, -0.9009, -0.9125, -0.9250, -0.9394, -0.9399,\n",
      "        -0.9497, -0.9540, -0.9569, -0.9572, -0.9604, -0.9646, -0.9651, -0.9664,\n",
      "        -0.9670, -0.9674, -0.9683, -0.9706, -0.9714, -0.9730, -0.9773, -0.9791,\n",
      "        -0.9801, -0.9822, -0.9826, -0.9832, -0.9851, -0.9855, -0.9855, -0.9858,\n",
      "        -0.9870, -0.9872, -0.9872, -0.9879, -0.9884, -0.9892, -0.9896, -0.9901,\n",
      "        -0.9903, -0.9914, -0.9915, -0.9917, -0.9931, -0.9936, -0.9938, -0.9938,\n",
      "        -0.9941, -0.9943, -0.9945, -0.9945, -0.9946, -0.9948, -0.9948, -0.9952,\n",
      "        -0.9953, -0.9958, -0.9962, -0.9963, -0.9966, -0.9966, -0.9970, -0.9971,\n",
      "        -0.9971, -0.9973, -0.9974, -0.9980, -0.9980, -0.9982, -0.9985, -0.9986,\n",
      "        -0.9989, -0.9992, -0.9997, -0.9998, -0.9998], grad_fn=<IndexBackward>)\n",
      "tensor([114,  33, 139,  43, 138, 134, 112, 131,  70,  23, 107,  40,  87, 145,\n",
      "          1,  50,  94, 113, 104,  18, 132,  31,  52,  83, 102,  95,  13, 111,\n",
      "         41,  16,  68,  34,  39,  88, 110, 136, 118,  81,   4,  14,  76,  91,\n",
      "         47,  98, 121,  75, 108,  48,  82,  97,  92, 122, 120,  99,  62, 146,\n",
      "        101,  53,  54,  12,  15,  17, 129,  93,  80, 133, 117,  73, 103,  35,\n",
      "         86,  66, 109,   6, 128, 100,  64])\n",
      "tensor([], dtype=torch.int64)\n",
      "~~~~~~~~~~~~~~~~~~~~~~~~~~~~\n",
      "tensor([1])\n",
      "-----node-----\n",
      "@@@@@@@@@@@@@@@@@@@@@@@@@@@@\n",
      "tensor([103,  49,   5,   0,  89,  23,  30, 102, 129,  22,  17,  19,  75, 146,\n",
      "         88,  31, 141, 100, 117,  15,  65,  92, 118,  63,  77,  76,  69, 111,\n",
      "         48, 116,  93,  34, 138, 139, 142, 131,   3,  84,   1,  72,  99, 115,\n",
      "         59,  62,  58, 127,  37,  79,  40,  33,  16,   4,  98,  83,  10, 140,\n",
      "         85,  91,  21,  36, 101,  25,  90,  60,  13,  50, 110, 132,  56,  20,\n",
      "         71,  46, 145,  47,  42,  14,  73,  52,  18,  97, 135,  11,  94, 107,\n",
      "        126,  32, 130,  29, 120,  74, 144,  35,  78,  38,  12,  61,  80,  95,\n",
      "         43, 125,  26, 122,  87, 112, 114,  66,  96,  39, 133, 123, 128, 134,\n",
      "         64,  51,   6,  41, 136, 106, 108])\n",
      "tensor([ 0.7762,  0.7440,  0.7206,  0.7201,  0.6843,  0.6737,  0.6641,  0.6147,\n",
      "         0.6008,  0.5605,  0.5520,  0.5511,  0.5366,  0.5293,  0.5257,  0.5248,\n",
      "         0.5230,  0.5141,  0.5140,  0.4651,  0.4602,  0.4578,  0.4329,  0.4285,\n",
      "         0.4081,  0.3907,  0.3894,  0.3652,  0.3565,  0.3563,  0.3516,  0.3386,\n",
      "         0.3366,  0.3298,  0.3181,  0.3172,  0.3027,  0.3022,  0.2981,  0.2754,\n",
      "         0.2560,  0.2532,  0.2521,  0.2361,  0.2274,  0.1947,  0.1784,  0.1775,\n",
      "         0.1700,  0.1526,  0.1372,  0.1326,  0.0992,  0.0984,  0.0973,  0.0766,\n",
      "         0.0718,  0.0710,  0.0595,  0.0593,  0.0559,  0.0558,  0.0521,  0.0220,\n",
      "         0.0132,  0.0031,  0.0024, -0.0080, -0.0154, -0.0168, -0.0231, -0.0245,\n",
      "        -0.0267, -0.0270, -0.0314, -0.0341, -0.0378, -0.0432, -0.0439, -0.0474,\n",
      "        -0.0637, -0.0674, -0.0685, -0.0759, -0.0786, -0.0806, -0.0806, -0.0835,\n",
      "        -0.0945, -0.0948, -0.0956, -0.1143, -0.1184, -0.1274, -0.1364, -0.1462,\n",
      "        -0.1473, -0.1538, -0.1588, -0.1668, -0.1692, -0.1716, -0.1717, -0.1829,\n",
      "        -0.1867, -0.1869, -0.2097, -0.2145, -0.2157, -0.2181, -0.2185, -0.2322,\n",
      "        -0.2378, -0.2408, -0.2438, -0.2488, -0.2521, -0.2583, -0.2689],\n",
      "       grad_fn=<IndexBackward>)\n",
      "@@@@@@@@@@@@@@@@@@@@@@@@@@@@\n",
      "tensor([  7,   4,  25,  16,  22,  24,  34,  60,   0,  40,   8,  14,   2,  33,\n",
      "         17,  55,   3,   6,  56,  43,   5,  32,  18,  20,  30,  13,  23,  45,\n",
      "         15,  10,  37,  26,  19,  47,  62,  35,  52,  41,  12,  96,  21,  51,\n",
      "         53,  11,   1,  99,  54,  27,  84,  31,   9,  90,  75,  97,  46,  92,\n",
      "         71,  95,  57,  77,  86,  87,  98, 110, 106,  50, 111, 112,  89,  29,\n",
      "        102,  70,  66, 114,  94,  67,  28,  82, 115,  64,  80, 101, 104,  81,\n",
      "         83,  74,  93,  72, 100, 113,  63,  58, 118, 117,  73, 108])\n",
      "tensor([ 0.6715,  0.6061,  0.5791,  0.5641,  0.5391,  0.5089,  0.5038,  0.4523,\n",
      "         0.4363,  0.4251,  0.4218,  0.4095,  0.4091,  0.4003,  0.3910,  0.3859,\n",
      "         0.3685,  0.3180,  0.2765,  0.2545,  0.2544,  0.2501,  0.2487,  0.2475,\n",
      "         0.2273,  0.2215,  0.2055,  0.2013,  0.1805,  0.1575,  0.1551,  0.1542,\n",
      "         0.1536,  0.1495,  0.1483,  0.1444,  0.1380,  0.1311,  0.1208,  0.1173,\n",
      "         0.1149,  0.1148,  0.1044,  0.0732,  0.0693,  0.0612,  0.0547,  0.0524,\n",
      "         0.0123,  0.0121,  0.0121,  0.0078, -0.0097, -0.0167, -0.0207, -0.0237,\n",
      "        -0.0283, -0.0367, -0.0550, -0.0571, -0.0587, -0.0595, -0.0656, -0.0731,\n",
      "        -0.0794, -0.0809, -0.0844, -0.0864, -0.0872, -0.0883, -0.0946, -0.0953,\n",
      "        -0.0984, -0.0985, -0.0993, -0.1009, -0.1029, -0.1034, -0.1063, -0.1085,\n",
      "        -0.1140, -0.1180, -0.1184, -0.1209, -0.1349, -0.1371, -0.1443, -0.1586,\n",
      "        -0.1588, -0.1615, -0.1622, -0.1622, -0.1665, -0.1670, -0.1684, -0.1688],\n",
      "       grad_fn=<IndexBackward>)\n",
      "@@@@@@@@@@@@@@@@@@@@@@@@@@@@\n",
      "tensor([32,  1, 23,  8, 13, 22, 47, 12, 25, 76, 69, 38, 62, 16, 29, 33, 20, 40,\n",
      "        85, 50, 46, 19, 79, 30, 77, 72, 37, 64, 14, 58, 10, 43, 52, 41, 65, 73,\n",
      "        28, 61, 42, 24, 36, 53, 26, 89, 57, 91, 56, 87, 66, 83, 54, 21, 39, 67,\n",
      "        44, 17, 11, 18, 75, 59, 78, 92, 84, 49, 34, 55, 81,  9, 70, 82, 31, 74,\n",
      "        94, 90, 95, 45, 35])\n",
      "tensor([0.2996, 0.2982, 0.2974, 0.2963, 0.2936, 0.2416, 0.2345, 0.2342, 0.2204,\n",
      "        0.2084, 0.2077, 0.2075, 0.2066, 0.2057, 0.2046, 0.1925, 0.1906, 0.1880,\n",
      "        0.1752, 0.1729, 0.1729, 0.1608, 0.1595, 0.1592, 0.1587, 0.1586, 0.1586,\n",
      "        0.1583, 0.1507, 0.1506, 0.1464, 0.1423, 0.1421, 0.1417, 0.1413, 0.1413,\n",
      "        0.1401, 0.1398, 0.1392, 0.1391, 0.1277, 0.1259, 0.1258, 0.1258, 0.1256,\n",
      "        0.1255, 0.1254, 0.1253, 0.1252, 0.1242, 0.1241, 0.1239, 0.1232, 0.1229,\n",
      "        0.1223, 0.1212, 0.1193, 0.1121, 0.1095, 0.1093, 0.1093, 0.1087, 0.1081,\n",
      "        0.1070, 0.1055, 0.1024, 0.0993, 0.0973, 0.0964, 0.0954, 0.0935, 0.0930,\n",
      "        0.0924, 0.0923, 0.0920, 0.0896, 0.0894], grad_fn=<IndexBackward>)\n",
      "tensor([ 16,  90,  66, 104, 140, 118, 112,   6, 147,  49, 117,  76,  44,   1,\n",
      "         18,  80,  24,  93,  43,  23,  11,  63,  14,  85,  95, 111, 116,  97,\n",
      "        101,  92, 130,  20,  15,   5,  17,   7,  32,  30,  84,  94,  99,  96,\n",
      "         64,  52,  62,  22,  47, 146, 135,  12,  38, 139,  81,  65,  50,  31,\n",
      "         89,  86, 133,  53,  42, 109, 108,  35,  91,  79, 123, 100,  88, 115,\n",
      "         70,  13,  48,  61, 134, 126, 132])\n",
      "tensor([], dtype=torch.int64)\n",
      "~~~~~~~~~~~~~~~~~~~~~~~~~~~~\n",
      "tensor([2])\n",
      "-----node-----\n",
      "@@@@@@@@@@@@@@@@@@@@@@@@@@@@\n",
      "tensor([ 89,  76,  17, 103,  34, 123, 114,  23,  88, 118, 122,  99, 100, 111,\n",
      "        102, 142,  63,  72,  90,  85, 139, 101, 140,  48, 138,  92, 115,  22,\n",
      "        119,  77,   0,  65, 112, 117,  47,  62,  12,   5,  30, 146,   3, 120,\n",
      "        141,  93,  16, 108,  87, 116,  46, 144,  61,  42,  83,  97,  40,  15,\n",
      "        126,  31, 129,  91,  69,  13, 110,  33, 127,   1,  75,  84,  49,  96,\n",
      "         80,  98,  59,  38,  29,  81, 107,  20,  39,  82, 132, 121, 106,  73,\n",
      "         36,  21,  60, 124,   2,  71, 125,   4,  26,  58,  94,  51,  11,  74,\n",
      "         32, 145,  95,  14,  25, 130, 135,  86, 134,  50, 131,  24, 104,  37,\n",
      "         54,  35, 128,  57,  18, 105,  52])\n",
      "tensor([ 0.9985,  0.9780,  0.9480,  0.9402,  0.9230,  0.9227,  0.9136,  0.9121,\n",
      "         0.9076,  0.9067,  0.9025,  0.8967,  0.8789,  0.8727,  0.8722,  0.8653,\n",
      "         0.8632,  0.8556,  0.8397,  0.8371,  0.8342,  0.8300,  0.8204,  0.8200,\n",
      "         0.8119,  0.8066,  0.7720,  0.7667,  0.7658,  0.7650,  0.7525,  0.7082,\n",
      "         0.7051,  0.6995,  0.6980,  0.6933,  0.6859,  0.6780,  0.6686,  0.6557,\n",
      "         0.6342,  0.6271,  0.6220,  0.6206,  0.6163,  0.6116,  0.6107,  0.6084,\n",
      "         0.5816,  0.5577,  0.5558,  0.5557,  0.5524,  0.5520,  0.5425,  0.5357,\n",
      "         0.5261,  0.5250,  0.5197,  0.5098,  0.4966,  0.4888,  0.4844,  0.4607,\n",
      "         0.4271,  0.4259,  0.4143,  0.4107,  0.3857,  0.3809,  0.3644,  0.3635,\n",
      "         0.3428,  0.3402,  0.2838,  0.2639,  0.2595,  0.2530,  0.2506,  0.2353,\n",
      "         0.2142,  0.2083,  0.2051,  0.2039,  0.1885,  0.1837,  0.1667,  0.1661,\n",
      "         0.1477,  0.1309,  0.1264,  0.1216,  0.1020,  0.0962,  0.0943,  0.0848,\n",
      "         0.0834,  0.0807,  0.0465,  0.0339,  0.0314,  0.0152, -0.0026, -0.0164,\n",
      "        -0.0197, -0.0505, -0.0551, -0.0666, -0.0679, -0.0744, -0.0819, -0.0839,\n",
      "        -0.1160, -0.1213, -0.1307, -0.1320, -0.1412, -0.1561, -0.1567],\n",
      "       grad_fn=<IndexBackward>)\n",
      "@@@@@@@@@@@@@@@@@@@@@@@@@@@@\n",
      "tensor([  0,   1,  14,   8,   3,   9,  22,  29,  21,   6,  12,  11,  20,  15,\n",
      "         19,  10,  55,  64,  13,   7,   2,  28,  39,  42,  35,  71,  56,   4,\n",
      "         58,  70,  75,  31,  30,  16,  49,  52,  46,  37,  79,  38, 114,  24,\n",
      "         90,  25,  33,  18,  43,  23,  27,  59,  48,   5,  26,  74,  57,  44,\n",
      "         67, 101,  62,  45,  60,  81,  76,  34,  36,  99,  69, 118,  47,  97,\n",
      "         61,  40,  88,  91,  50,  32,  73,  53, 100,  96,  41, 104,  82,  17,\n",
      "         87,  92,  54, 108,  66, 105,  78,  95,  51,  80,  63,  94])\n",
      "tensor([1.0000, 1.0000, 1.0000, 1.0000, 1.0000, 1.0000, 1.0000, 1.0000, 1.0000,\n",
      "        1.0000, 1.0000, 1.0000, 0.9999, 0.9999, 0.9997, 0.9996, 0.9996, 0.9990,\n",
      "        0.9987, 0.9985, 0.9985, 0.9984, 0.9984, 0.9976, 0.9972, 0.9965, 0.9960,\n",
      "        0.9945, 0.9944, 0.9944, 0.9943, 0.9929, 0.9925, 0.9918, 0.9906, 0.9903,\n",
      "        0.9889, 0.9864, 0.9840, 0.9838, 0.9836, 0.9835, 0.9821, 0.9794, 0.9759,\n",
      "        0.9718, 0.9713, 0.9665, 0.9652, 0.9588, 0.9541, 0.9499, 0.9482, 0.9473,\n",
      "        0.9428, 0.9396, 0.9372, 0.9349, 0.9303, 0.9238, 0.9235, 0.9185, 0.9184,\n",
      "        0.9148, 0.9129, 0.9082, 0.8976, 0.8822, 0.8798, 0.8792, 0.8702, 0.8679,\n",
      "        0.8587, 0.8526, 0.8509, 0.8483, 0.8397, 0.8290, 0.8018, 0.7826, 0.7535,\n",
      "        0.7296, 0.6859, 0.6856, 0.6558, 0.6496, 0.6221, 0.6148, 0.5856, 0.5705,\n",
      "        0.5690, 0.5099, 0.5009, 0.4639, 0.4639, 0.4564],\n",
      "       grad_fn=<IndexBackward>)\n",
      "@@@@@@@@@@@@@@@@@@@@@@@@@@@@\n",
      "tensor([92, 94, 90, 86, 91, 85, 80, 89, 93, 95, 83, 82, 76, 87, 88, 64, 84, 79,\n",
      "        75, 70, 77, 74, 71, 50, 78, 63, 81, 55, 68, 60, 56, 66, 59, 47, 61, 49,\n",
      "        73, 72, 48, 69, 54, 45, 62, 67, 34, 33, 65, 39, 58, 51, 38, 57, 53, 41,\n",
      "        44, 52, 46, 19, 35, 27, 24, 32, 30, 28, 37, 40, 36, 29, 42, 20, 21, 43,\n",
      "        31, 25, 23, 26, 17])\n",
      "tensor([-0.3178, -0.3795, -0.4023, -0.4134, -0.4726, -0.5019, -0.5083, -0.5226,\n",
      "        -0.5288, -0.5293, -0.5355, -0.5379, -0.5483, -0.5582, -0.6302, -0.6340,\n",
      "        -0.6441, -0.6518, -0.6521, -0.6558, -0.6569, -0.6819, -0.6969, -0.7002,\n",
      "        -0.7005, -0.7400, -0.7440, -0.7575, -0.7675, -0.7725, -0.7738, -0.7760,\n",
      "        -0.7877, -0.7895, -0.7977, -0.8012, -0.8037, -0.8082, -0.8103, -0.8226,\n",
      "        -0.8324, -0.8362, -0.8365, -0.8385, -0.8517, -0.8535, -0.8565, -0.8658,\n",
      "        -0.8666, -0.8743, -0.8754, -0.8810, -0.8817, -0.8842, -0.8886, -0.8970,\n",
      "        -0.8973, -0.9171, -0.9356, -0.9376, -0.9377, -0.9379, -0.9408, -0.9452,\n",
      "        -0.9472, -0.9482, -0.9485, -0.9530, -0.9531, -0.9566, -0.9583, -0.9645,\n",
      "        -0.9656, -0.9759, -0.9794, -0.9854, -0.9901], grad_fn=<IndexBackward>)\n",
      "tensor([ 43,  34,  40,  41,  52,  27, 121,  87, 133,  95,  73, 107,  39, 132,\n",
      "         76,  13, 125,  12, 113,  14,  98,  62,   4,  47,  96,  48, 136,  17,\n",
      "        117,  70,  85,  97, 109,  49, 122,  92,   5,   3,  23,  75,  32,  91,\n",
      "        108,  53, 145,  64, 146,  31, 111, 124,  83,  15,  30, 139, 118, 116,\n",
      "         94,  24,  84,  35,  63,   1,  82, 130,   6, 129,  88,  81, 126,  18,\n",
      "        120,  93,  66,  99, 142, 127, 128])\n",
      "tensor([], dtype=torch.int64)\n",
      "~~~~~~~~~~~~~~~~~~~~~~~~~~~~\n",
      "tensor([1])\n",
      "-----node-----\n",
      "@@@@@@@@@@@@@@@@@@@@@@@@@@@@\n",
      "tensor([146,  98,  92, 123,  88, 116, 145, 129,  89, 118, 102,  30, 141, 110,\n",
      "        132, 111,  72,  77, 142,  94,  76,  22,  74,  17,   5, 100,  69,  15,\n",
      "        133,   0,  75,  79, 125,  63,  29,  62,  23, 101,  21, 140, 103,  26,\n",
      "         12, 127, 138,  61,  16,  46,  65,  68,  31,  85,   9,  49,  84,  36,\n",
      "         99,  78,  34,  97,   2,  60,  52, 107,  14, 139,  56,  20,  93,  40,\n",
      "        119,  50,  33, 137, 114,  42,  18,  91,  90, 147,  59,  25,  48, 108,\n",
      "        106, 105,  58,   4, 115,  83, 144, 126,  10,  19,  47,  73, 109,  43,\n",
      "         13, 128, 131,  55,   1,  38,  35,   3,  64,  87, 104, 136, 143, 134,\n",
      "         32, 135, 124,  37, 130,  39, 117])\n",
      "tensor([ 0.9446,  0.9294,  0.9174,  0.8825,  0.8671,  0.8402,  0.8359,  0.8263,\n",
      "         0.8241,  0.7993,  0.7695,  0.6898,  0.6770,  0.6719,  0.6663,  0.6598,\n",
      "         0.6251,  0.6242,  0.5995,  0.5705,  0.5537,  0.5513,  0.5278,  0.5226,\n",
      "         0.5065,  0.4924,  0.4682,  0.4539,  0.4073,  0.4044,  0.3801,  0.3787,\n",
      "         0.3700,  0.3689,  0.3408,  0.3355,  0.2954,  0.2953,  0.2916,  0.2886,\n",
      "         0.2844,  0.2801,  0.2585,  0.2435,  0.2321,  0.2237,  0.2051,  0.1870,\n",
      "         0.1853,  0.1806,  0.1661,  0.1635,  0.1477,  0.1446,  0.1258,  0.1135,\n",
      "         0.1101,  0.1085,  0.0975,  0.0898,  0.0870,  0.0804,  0.0799,  0.0755,\n",
      "         0.0578,  0.0536,  0.0430,  0.0426,  0.0384,  0.0367,  0.0347,  0.0229,\n",
      "         0.0219,  0.0102,  0.0048, -0.0037, -0.0125, -0.0137, -0.0137, -0.0226,\n",
      "        -0.0237, -0.0274, -0.0308, -0.0325, -0.0384, -0.0407, -0.0505, -0.0542,\n",
      "        -0.0684, -0.0706, -0.0720, -0.0739, -0.0916, -0.0945, -0.0960, -0.1018,\n",
      "        -0.1076, -0.1110, -0.1155, -0.1155, -0.1312, -0.1347, -0.1399, -0.1433,\n",
      "        -0.1494, -0.1550, -0.1634, -0.1682, -0.1707, -0.1760, -0.1778, -0.1803,\n",
      "        -0.1835, -0.1869, -0.1882, -0.2057, -0.2241, -0.2243, -0.2451],\n",
      "       grad_fn=<IndexBackward>)\n",
      "@@@@@@@@@@@@@@@@@@@@@@@@@@@@\n",
      "tensor([  1,   0,  15,   5,   3,   2,  13,  10,   4,   9,   6,  12,  17,   7,\n",
      "         18,   8,  14,  20,  28,  56,  39,  37,  19,  25,  30,  32,  51,  43,\n",
      "         96,  99,  91,  27,  63, 100,  49,  22, 107,  57, 113,  60,  74,  40,\n",
      "         68,  24, 116,  31,  83, 111,  11,  64,  36,  52,  35,  26,  88,  50,\n",
      "         33, 114,  29,  87,  34,  70,  48,  79,  62,  77,  41,  84,  78,  23,\n",
      "         47,  59, 108,  21,  85,  65,  42,  45,  54,  90,  44,  46,  58,  89,\n",
      "         73,  16, 110, 109, 118, 103,  82,  98,  94, 104,  38, 105])\n",
      "tensor([ 0.9995,  0.9995,  0.9981,  0.9973,  0.9971,  0.9963,  0.9938,  0.9922,\n",
      "         0.9904,  0.9892,  0.9871,  0.9813,  0.9811,  0.9772,  0.9761,  0.9744,\n",
      "         0.9735,  0.9722,  0.9642,  0.9634,  0.9558,  0.9527,  0.9524,  0.9219,\n",
      "         0.9096,  0.8863,  0.8053,  0.7534,  0.7491,  0.7376,  0.6871,  0.6861,\n",
      "         0.6200,  0.5494,  0.4776,  0.4766,  0.4764,  0.4634,  0.4556,  0.3832,\n",
      "         0.3766,  0.3765,  0.3648,  0.3207,  0.3075,  0.3060,  0.2976,  0.2968,\n",
      "         0.2561,  0.2524,  0.2208,  0.2005,  0.1941,  0.1893,  0.1873,  0.1798,\n",
      "         0.1780,  0.1709,  0.1601,  0.1536,  0.1151,  0.1047,  0.1026,  0.0960,\n",
      "         0.0875,  0.0853,  0.0794,  0.0663,  0.0429,  0.0310,  0.0090, -0.0239,\n",
      "        -0.0331, -0.0379, -0.0384, -0.0388, -0.0507, -0.0514, -0.0519, -0.0672,\n",
      "        -0.0708, -0.0791, -0.0847, -0.0984, -0.1019, -0.1044, -0.1140, -0.1140,\n",
      "        -0.1208, -0.1540, -0.1585, -0.1594, -0.1687, -0.1694, -0.1694, -0.1694],\n",
      "       grad_fn=<IndexBackward>)\n",
      "@@@@@@@@@@@@@@@@@@@@@@@@@@@@\n",
      "tensor([50, 69, 81, 48, 52, 62, 85, 43, 58, 90, 70, 73, 56, 91, 89, 76, 92, 53,\n",
      "        77, 45, 82, 55, 75, 72, 71, 74, 87, 95, 86, 59, 94, 84, 83, 79, 93, 64,\n",
      "        80, 88, 51, 60, 78, 61, 66, 49, 65, 67, 68, 39, 63, 46, 41, 47, 57, 44,\n",
      "        34, 35, 37, 54, 36, 31, 40, 30, 38, 32, 27, 42, 33, 26, 29, 28, 25, 21,\n",
      "        24, 14,  9, 23, 10])\n",
      "tensor([ 0.1930,  0.1907,  0.1562,  0.1533,  0.1412,  0.1411,  0.1409,  0.1327,\n",
      "         0.1288,  0.1257,  0.1256,  0.1241,  0.1212,  0.1183,  0.1094,  0.1089,\n",
      "         0.1066,  0.1048,  0.1030,  0.0965,  0.0925,  0.0879,  0.0771,  0.0747,\n",
      "         0.0726,  0.0661,  0.0639,  0.0587,  0.0530,  0.0437,  0.0385,  0.0351,\n",
      "         0.0180,  0.0156,  0.0084, -0.0098, -0.0115, -0.0485, -0.0504, -0.0563,\n",
      "        -0.0612, -0.0671, -0.0887, -0.1215, -0.1286, -0.1467, -0.1487, -0.1838,\n",
      "        -0.1902, -0.2196, -0.2274, -0.2791, -0.2804, -0.2810, -0.2898, -0.2941,\n",
      "        -0.2981, -0.3058, -0.3411, -0.3414, -0.3607, -0.3953, -0.4016, -0.4063,\n",
      "        -0.4411, -0.4422, -0.5587, -0.5691, -0.6017, -0.6092, -0.6334, -0.6367,\n",
      "        -0.7152, -0.7421, -0.7436, -0.7451, -0.7541], grad_fn=<IndexBackward>)\n",
      "tensor([ 24,  18,  17,  31,  63,  66,  73,   6,   1,  49,  47,  23,  64,  14,\n",
      "         39,  13,  48,  70,  62,  80,  35,  32, 140, 105,  98, 106, 137,   4,\n",
      "        144,   5,  22, 138,  84, 145,  36,  53, 139, 118,  10,  30,  85, 120,\n",
      "         27,  15,  92, 107,  91,   3, 148, 109, 104, 135, 125, 131,  69,  75,\n",
      "         79, 116,  88,  16, 115, 127, 136, 108, 128,  94, 132,  86, 129, 110,\n",
      "        126, 102,  76, 143, 119, 101, 146])\n",
      "tensor([], dtype=torch.int64)\n",
      "~~~~~~~~~~~~~~~~~~~~~~~~~~~~\n",
      "tensor([2])\n",
      "-----node-----\n",
      "@@@@@@@@@@@@@@@@@@@@@@@@@@@@\n",
      "tensor([ 17,  89,  90,  77,  23,  48,  72,  85,  62,  99, 102, 103,  12,  63,\n",
      "         13, 116,  88, 141,  34, 118, 122, 140,  97,  47,  16,  22,  46, 120,\n",
      "         42,  14,  30, 123,  15,  92, 146,  49,  96, 114, 108,  69,  59,  33,\n",
      "         76, 101, 115, 117,  31,  98, 142,  53, 110,  40, 107,  91,   5,  38,\n",
      "        145,  39, 112,   0, 106,  20, 127, 139,  51,  58,  83,  26,  87,  18,\n",
      "        131, 121, 111,  94,  36, 100, 138,   3,  24, 132,  79,  60,   4, 129,\n",
      "         95, 126,  32,  93,  75, 119,  37, 113, 135,  86,  71,  61,  11, 125,\n",
      "        137,   1,  21,  19, 133,  65, 144,  82,  50,  57,  73,  80,  84,  74,\n",
      "        105, 136,  81, 134, 104,  78, 109])\n",
      "tensor([ 9.9237e-01,  9.9001e-01,  9.8626e-01,  9.8547e-01,  9.7651e-01,\n",
      "         9.6871e-01,  9.6753e-01,  9.6301e-01,  9.5892e-01,  9.4910e-01,\n",
      "         9.3808e-01,  9.3543e-01,  9.3438e-01,  9.2086e-01,  9.1352e-01,\n",
      "         9.0406e-01,  8.8915e-01,  8.8868e-01,  8.8033e-01,  8.5341e-01,\n",
      "         8.5247e-01,  8.5163e-01,  8.2686e-01,  8.2200e-01,  8.2144e-01,\n",
      "         8.1837e-01,  8.1742e-01,  8.1622e-01,  8.0122e-01,  7.8313e-01,\n",
      "         7.8235e-01,  7.7440e-01,  7.7035e-01,  7.6499e-01,  7.5992e-01,\n",
      "         7.5917e-01,  7.2740e-01,  7.1727e-01,  6.8818e-01,  6.8046e-01,\n",
      "         6.6184e-01,  6.4604e-01,  6.3850e-01,  6.2898e-01,  6.2705e-01,\n",
      "         6.2392e-01,  6.1218e-01,  6.0824e-01,  5.9950e-01,  5.9628e-01,\n",
      "         5.8679e-01,  5.8604e-01,  5.8024e-01,  5.7747e-01,  5.7289e-01,\n",
      "         5.4916e-01,  5.3125e-01,  5.3040e-01,  5.2802e-01,  5.1598e-01,\n",
      "         5.0547e-01,  5.0523e-01,  4.9884e-01,  4.7005e-01,  4.6766e-01,\n",
      "         4.4198e-01,  4.3680e-01,  4.3016e-01,  4.2770e-01,  4.2640e-01,\n",
      "         3.9001e-01,  3.8963e-01,  3.8666e-01,  3.8631e-01,  3.6411e-01,\n",
      "         3.5190e-01,  3.1531e-01,  3.0005e-01,  2.9736e-01,  2.8877e-01,\n",
      "         2.8008e-01,  2.7820e-01,  2.5767e-01,  2.5547e-01,  2.4297e-01,\n",
      "         2.3083e-01,  2.1859e-01,  2.0187e-01,  1.9938e-01,  1.8160e-01,\n",
      "         1.7921e-01,  1.6270e-01,  1.5673e-01,  1.5641e-01,  1.4770e-01,\n",
      "         1.2525e-01,  1.0859e-01,  1.0666e-01,  9.6373e-02, -3.4143e-04,\n",
      "        -1.8826e-03, -5.3677e-03, -3.2115e-02, -3.4004e-02, -3.5883e-02,\n",
      "        -3.7334e-02, -3.8713e-02, -4.7107e-02, -6.9120e-02, -7.1813e-02,\n",
      "        -8.0954e-02, -9.2100e-02, -9.3272e-02, -1.0419e-01, -1.2348e-01,\n",
      "        -1.2600e-01, -1.3738e-01, -1.3790e-01, -1.5137e-01],\n",
      "       grad_fn=<IndexBackward>)\n",
      "@@@@@@@@@@@@@@@@@@@@@@@@@@@@\n",
      "tensor([  3,   4,   1,   8,   9,   0,   5,   2,  13,  10,   7,  32,  17,  19,\n",
      "         18,  29,  14,  21,  30,  16,  26,  20,  43,  23,  11,  59,  54,  48,\n",
      "         24,  42,  96,  12,   6,  47,  34,  37,  53,  68,  71,  52,  38,  41,\n",
      "         39,  62,  55,  27,  28,  15,  22,  36,  25,  49,  31,  51,  35,  95,\n",
      "         82,  46,  75,  72,  60,  33,  77,  80,  57,  97,  63,  83,  85,  64,\n",
      "         50,  89,  58, 118, 103,  91,  67,  56,  74,  90, 117,  61,  81,  66,\n",
      "         45,  93,  69,  98,  79,  44,  40,  86,  92,  73,  65,  94])\n",
      "tensor([1.0000, 1.0000, 1.0000, 1.0000, 1.0000, 1.0000, 1.0000, 1.0000, 1.0000,\n",
      "        1.0000, 0.9999, 0.9999, 0.9999, 0.9998, 0.9998, 0.9998, 0.9997, 0.9997,\n",
      "        0.9995, 0.9995, 0.9994, 0.9993, 0.9993, 0.9993, 0.9989, 0.9985, 0.9985,\n",
      "        0.9983, 0.9983, 0.9983, 0.9980, 0.9979, 0.9973, 0.9972, 0.9965, 0.9964,\n",
      "        0.9963, 0.9962, 0.9954, 0.9953, 0.9950, 0.9946, 0.9937, 0.9916, 0.9907,\n",
      "        0.9906, 0.9905, 0.9899, 0.9887, 0.9885, 0.9848, 0.9787, 0.9783, 0.9757,\n",
      "        0.9743, 0.9734, 0.9730, 0.9699, 0.9688, 0.9643, 0.9633, 0.9598, 0.9593,\n",
      "        0.9591, 0.9548, 0.9538, 0.9506, 0.9455, 0.9396, 0.9320, 0.9313, 0.9302,\n",
      "        0.9199, 0.9069, 0.8790, 0.8742, 0.8734, 0.8719, 0.8545, 0.8485, 0.8349,\n",
      "        0.8109, 0.8067, 0.7968, 0.7863, 0.7807, 0.7754, 0.7704, 0.7508, 0.7435,\n",
      "        0.7419, 0.7349, 0.7334, 0.7295, 0.7165, 0.7136],\n",
      "       grad_fn=<IndexBackward>)\n",
      "@@@@@@@@@@@@@@@@@@@@@@@@@@@@\n",
      "tensor([93, 81, 90, 91, 95, 89, 88, 82, 84, 94, 78, 86, 85, 87, 75, 92, 77, 83,\n",
      "        79, 72, 70, 57, 76, 73, 64, 71, 52, 80, 62, 60, 68, 54, 59, 69, 65, 67,\n",
      "        61, 50, 53, 44, 74, 55, 58, 45, 63, 49, 48, 47, 66, 56, 31, 46, 36, 38,\n",
      "        42, 40, 35, 43, 51, 20, 32, 28, 13, 27, 39, 41, 21, 37, 34, 18, 23, 22,\n",
      "        29, 25, 33, 17, 26])\n",
      "tensor([-0.4626, -0.4706, -0.4708, -0.5237, -0.5277, -0.5339, -0.5398, -0.5552,\n",
      "        -0.5692, -0.5774, -0.5844, -0.6101, -0.6162, -0.6327, -0.6606, -0.6642,\n",
      "        -0.6821, -0.6893, -0.6897, -0.7248, -0.7522, -0.7989, -0.8038, -0.8315,\n",
      "        -0.8411, -0.8426, -0.8431, -0.8481, -0.8520, -0.8541, -0.8554, -0.8669,\n",
      "        -0.8716, -0.8721, -0.8749, -0.8761, -0.8768, -0.8833, -0.8851, -0.8887,\n",
      "        -0.8983, -0.8997, -0.9023, -0.9053, -0.9138, -0.9141, -0.9199, -0.9242,\n",
      "        -0.9266, -0.9298, -0.9346, -0.9363, -0.9409, -0.9424, -0.9438, -0.9453,\n",
      "        -0.9504, -0.9511, -0.9515, -0.9608, -0.9617, -0.9635, -0.9644, -0.9683,\n",
      "        -0.9689, -0.9704, -0.9750, -0.9765, -0.9792, -0.9793, -0.9808, -0.9823,\n"
     ]
    },
    {
     "name": "stdout",
     "output_type": "stream",
     "text": [
      "        -0.9845, -0.9859, -0.9883, -0.9899, -0.9920], grad_fn=<IndexBackward>)\n",
      "tensor([ 95,  21,  60,  33,  72, 116, 133,  61, 118,  59,  37,  19,  87, 138,\n",
      "        114, 136, 146,  84,  38, 113, 111,  32,  27, 110,  40, 120, 124,  79,\n",
      "          4, 107, 127,  50, 112,  52, 126, 130,  93,  23,  41,  39,  66,  62,\n",
      "        101, 121,  80,  97,  98, 117, 140,   5,  13,  43,  92, 122,  70, 109,\n",
      "        115, 128,  54,  47,  73,  17, 119, 143, 108,  34, 123,  88, 147,  31,\n",
      "         48, 102,  77,   1,  99, 141,   6])\n",
      "tensor([], dtype=torch.int64)\n",
      "~~~~~~~~~~~~~~~~~~~~~~~~~~~~\n",
      "tensor([0])\n",
      "-----node-----\n",
      "@@@@@@@@@@@@@@@@@@@@@@@@@@@@\n",
      "tensor([  5,  79,  97,   0,  17, 108,  89, 145, 146,  92,  31, 107, 139,  30,\n",
      "         23,  98,  62, 116,  88,  69, 132, 141,  90,  86, 102,  63, 120, 103,\n",
      "        110,  12,  65,  61, 142, 121,  81,   4,  87,  15, 122,  91, 118, 112,\n",
      "         99,  74, 111, 127,  46,  22,  48,  34,  96,  85,  49,  76, 129, 119,\n",
      "        125, 131, 126, 100, 114,  29, 123,  94,  51,  75, 133, 104, 106,  39,\n",
      "        137, 140,  13, 101,  72,  78,  77,  33, 105,  14,  40,  16,  11,  80,\n",
      "        138,  25, 136,  52,  93,  73, 144,  19,  26,  35,   6,  32, 117, 128,\n",
      "         82, 115,  42, 109, 143,  47,  95,  84,   7,  36,  60, 135,  20,  38,\n",
      "          3, 124,  83,  59,   9,  21,  43])\n",
      "tensor([ 0.6369,  0.5528,  0.4775,  0.4388,  0.4241,  0.4093,  0.4068,  0.4031,\n",
      "         0.3787,  0.3783,  0.3774,  0.3753,  0.3729,  0.3232,  0.3229,  0.3144,\n",
      "         0.3051,  0.2963,  0.2889,  0.2884,  0.2760,  0.2734,  0.2689,  0.2615,\n",
      "         0.2326,  0.1956,  0.1813,  0.1684,  0.1321,  0.1105,  0.0971,  0.0933,\n",
      "         0.0920,  0.0919,  0.0817,  0.0648,  0.0637,  0.0627,  0.0624,  0.0517,\n",
      "         0.0506,  0.0392,  0.0390,  0.0361,  0.0298,  0.0230,  0.0198,  0.0175,\n",
      "         0.0074, -0.0025, -0.0049, -0.0265, -0.0290, -0.0516, -0.0548, -0.0608,\n",
      "        -0.0898, -0.0951, -0.0955, -0.0994, -0.1029, -0.1059, -0.1109, -0.1119,\n",
      "        -0.1136, -0.1155, -0.1193, -0.1240, -0.1294, -0.1297, -0.1344, -0.1368,\n",
      "        -0.1430, -0.1470, -0.1506, -0.1508, -0.1524, -0.1652, -0.1663, -0.1672,\n",
      "        -0.1863, -0.1919, -0.1957, -0.2118, -0.2187, -0.2301, -0.2419, -0.2486,\n",
      "        -0.2494, -0.2497, -0.2501, -0.2558, -0.2579, -0.2585, -0.2635, -0.2779,\n",
      "        -0.2869, -0.2872, -0.2881, -0.2882, -0.2915, -0.2934, -0.2955, -0.2964,\n",
      "        -0.2972, -0.2976, -0.2981, -0.3023, -0.3028, -0.3040, -0.3051, -0.3072,\n",
      "        -0.3075, -0.3129, -0.3135, -0.3141, -0.3172, -0.3189, -0.3198],\n",
      "       grad_fn=<IndexBackward>)\n",
      "@@@@@@@@@@@@@@@@@@@@@@@@@@@@\n",
      "tensor([ 10,  16,  13,   0,   3,  19,  14,   1,  25,  35,   4,  30,  49,  52,\n",
      "         47,  67,  12,  37,  78,  79,  46,  31,  29,  87,  83,  94,  64,  88,\n",
      "         80,  90,  76,  97,  73,  74,  75,  86,  77,  85,  81,  82,  84,  89,\n",
      "         71, 112, 114, 109, 110, 111, 107, 113, 105, 115, 116, 117, 108,  91,\n",
      "        106,  98, 100,  93,  95,  96,  92,  99, 104, 101, 102, 103,  72,  59,\n",
      "         70,  26,  27,  22,  23,  24,  20,  18,  28,  32,  33,  21,  36,   7,\n",
      "          8,   2,   5,   6,  39,  17,   9,  11,  15,  34,  69,  38])\n",
      "tensor([-0.0422, -0.0473, -0.0517, -0.0536, -0.0551, -0.0596, -0.0639, -0.0756,\n",
      "        -0.0940, -0.1003, -0.1040, -0.1198, -0.1234, -0.1234, -0.1234, -0.1285,\n",
      "        -0.1421, -0.1429, -0.1455, -0.1476, -0.1488, -0.1502, -0.1502, -0.1598,\n",
      "        -0.1624, -0.1624, -0.1677, -0.1694, -0.1694, -0.1694, -0.1694, -0.1694,\n",
      "        -0.1694, -0.1694, -0.1694, -0.1694, -0.1694, -0.1694, -0.1694, -0.1694,\n",
      "        -0.1694, -0.1694, -0.1694, -0.1694, -0.1694, -0.1694, -0.1694, -0.1694,\n",
      "        -0.1694, -0.1694, -0.1694, -0.1694, -0.1694, -0.1694, -0.1694, -0.1694,\n",
      "        -0.1694, -0.1694, -0.1694, -0.1694, -0.1694, -0.1694, -0.1694, -0.1694,\n",
      "        -0.1694, -0.1694, -0.1694, -0.1694, -0.1694, -0.1694, -0.1694, -0.1694,\n",
      "        -0.1694, -0.1694, -0.1694, -0.1694, -0.1694, -0.1694, -0.1694, -0.1694,\n",
      "        -0.1694, -0.1694, -0.1694, -0.1694, -0.1694, -0.1694, -0.1694, -0.1694,\n",
      "        -0.1694, -0.1694, -0.1694, -0.1694, -0.1694, -0.1694, -0.1694, -0.1694],\n",
      "       grad_fn=<IndexBackward>)\n",
      "@@@@@@@@@@@@@@@@@@@@@@@@@@@@\n",
      "tensor([16,  7, 17,  3, 72, 87, 11, 85, 10, 36, 19, 33,  4, 14, 25,  0,  6, 92,\n",
      "        84, 26, 39, 67, 93, 54,  1, 80, 75, 38, 20, 86, 90, 69,  2, 12, 13, 61,\n",
      "        24, 27, 23, 58, 57, 56, 28, 55, 40, 91, 74, 77, 88, 21, 73, 59, 63, 71,\n",
      "        68, 64, 95, 29, 30, 37, 46, 35, 22,  9, 50,  8, 45, 34, 79, 18, 82, 43,\n",
      "        70, 44, 66, 89, 48])\n",
      "tensor([0.3604, 0.3457, 0.3007, 0.3007, 0.2699, 0.2699, 0.2699, 0.2543, 0.2543,\n",
      "        0.1905, 0.1905, 0.1905, 0.1905, 0.1905, 0.1743, 0.1743, 0.1743, 0.1743,\n",
      "        0.1580, 0.1580, 0.1580, 0.1580, 0.1580, 0.1580, 0.1580, 0.1416, 0.1416,\n",
      "        0.1416, 0.1416, 0.1416, 0.1416, 0.1416, 0.1416, 0.1416, 0.1416, 0.1416,\n",
      "        0.1416, 0.1416, 0.1416, 0.1251, 0.1251, 0.1251, 0.1251, 0.1251, 0.1251,\n",
      "        0.1251, 0.1251, 0.1251, 0.1251, 0.1251, 0.1086, 0.1086, 0.1086, 0.1086,\n",
      "        0.1086, 0.1086, 0.1086, 0.1086, 0.1086, 0.1086, 0.1086, 0.1086, 0.1086,\n",
      "        0.1086, 0.1086, 0.1086, 0.0920, 0.0920, 0.0920, 0.0920, 0.0920, 0.0920,\n",
      "        0.0920, 0.0920, 0.0920, 0.0920, 0.0920], grad_fn=<IndexBackward>)\n",
      "tensor([140,  80,  16,   6, 104,  90,  66,  98,  18,  34,  15,  73,   1,  23,\n",
      "          7,  32,  24,  99, 147,  52,  12,  48,  82,  61,  63, 122, 103,  17,\n",
      "         47, 109,  93, 101,  31,  35,  50, 118,  81,  94,  53,  43,  83,   8,\n",
      "         41,  20, 139, 108,  87,  89,  92,  62,  91,  36, 116, 121,  14,  96,\n",
      "        123, 145,  78,  26,  21, 137,  13,   5,  85,  64, 136,  79, 143, 106,\n",
      "         88,   4, 138,  84, 144, 117,  37])\n",
      "tensor([], dtype=torch.int64)\n",
      "dict_keys([])\n",
      "dict_keys([])\n"
     ]
    },
    {
     "data": {
      "text/plain": [
       "<BarContainer object of 148 artists>"
      ]
     },
     "execution_count": 66,
     "metadata": {},
     "output_type": "execute_result"
    },
    {
     "data": {
      "image/png": "[encoded data removed]",
      "text/plain": [
       "<Figure size 432x288 with 1 Axes>"
      ]
     },
     "metadata": {
      "needs_background": "light"
     },
     "output_type": "display_data"
    },
    {
     "data": {
      "image/png": "[encoded data removed]",
      "text/plain": [
       "<Figure size 432x288 with 1 Axes>"
      ]
     },
     "metadata": {
      "needs_background": "light"
     },
     "output_type": "display_data"
    }
   ],
   "source": [
    "from torch_geometric.data import DataLoader\n",
    "\n",
    "\n",
    "\n",
    "cnt_dict = []\n",
    "cnt_dict.append({i+1:0 for i in range(148)})\n",
    "cnt_dict.append({i+1:0 for i in range(148)})\n",
    "\n",
    "for tc,d  in enumerate(DataLoader(model.dataset['test'], batch_size = 1)):\n",
    "        \n",
    "    \n",
    "    print('~~~~~~~~~~~~~~~~~~~~~~~~~~~~')\n",
    "\n",
    "    #if(d.y == 0) : continue\n",
    "    \n",
    "    print(d.y)\n",
    "    node = torch.tensor(range(1,149))\n",
    "    ps,ss = model.model.get_att(d)\n",
    "    #print(ps[0].shape, ps[1].shape, ps[2].shape)\n",
    "    len_ps = len(ps)\n",
    "    #print(len_ps)\n",
    "    \n",
    "    print('-----node-----')\n",
    "    #node = node[ps[0]]\n",
    "    #node = node[ps[1]]\n",
    "    #node = node[ps[2]]\n",
    "    for i in range(len_ps):\n",
    "        node = node[ps[i]]\n",
    "        print('@@@@@@@@@@@@@@@@@@@@@@@@@@@@')\n",
    "        print(ps[i])\n",
    "        print(ss[i])\n",
    "        \n",
    "    \n",
    "    print(node)\n",
    "    #print(ss[-1])\n",
    "    #print(ss[-2])\n",
    "    \n",
    "    \n",
    "    print(node[(ss[-1]>0.5)])\n",
    "    for v in node[(ss[-1]>0.5)].tolist():\n",
    "        cnt_dict[d.y][v] =  cnt_dict[d.y][v] + 1\n",
    "    \n",
    "    \n",
    "    #if(tc >= 5): break\n",
    "plt.figure(0)\n",
    "print(dict(filter(lambda elem:elem[1]>=5, cnt_dict[0].items())).keys())\n",
    "plt.bar(cnt_dict[0].keys(),cnt_dict[0].values())\n",
    "\n",
    "\n",
    "plt.figure(1)\n",
    "print(dict(filter(lambda elem:elem[1]>=6, cnt_dict[1].items())).keys())\n",
    "plt.bar(cnt_dict[1].keys(),cnt_dict[1].values())\n",
    "\n"
   ]
  },
  {
   "cell_type": "code",
   "execution_count": 32,
   "metadata": {},
   "outputs": [
    {
     "data": {
      "text/plain": [
       "[torch.Size([119]), torch.Size([96]), torch.Size([77])]"
      ]
     },
     "execution_count": 32,
     "metadata": {},
     "output_type": "execute_result"
    }
   ],
   "source": [
    "[ss_.shape for ss_ in ss]"
   ]
  },
  {
   "cell_type": "code",
   "execution_count": 90,
   "metadata": {},
   "outputs": [],
   "source": [
    "node = torch.tensor(range(148))\n",
    "no"
   ]
  },
  {
   "cell_type": "code",
   "execution_count": 78,
   "metadata": {},
   "outputs": [
    {
     "data": {
      "text/plain": [
       "[6, 2, 8, 22, 18, 13, 9, 23, 11, 7, 5, 12]"
      ]
     },
     "execution_count": 78,
     "metadata": {},
     "output_type": "execute_result"
    }
   ],
   "source": [
    "\n",
    "[ 6,  2,  8, 22, 18, 13,  9, 23, 11,  7,  5, 12]\n",
    "[35, 20, 77, 19,  0, 15, 50, 26,  5, 17, 81, 28, 22, 24, 75,  9, 69, 36,\n",
    "        11, 14, 16, 79, 47, 56,  6, 52, 94,  8,  1,  7, 45]"
   ]
  }
 ],
 "metadata": {
  "kernelspec": {
   "display_name": "gmker",
   "language": "python",
   "name": "graph_matching"
  },
  "language_info": {
   "codemirror_mode": {
    "name": "ipython",
    "version": 3
   },
   "file_extension": ".py",
   "mimetype": "text/x-python",
   "name": "python",
   "nbconvert_exporter": "python",
   "pygments_lexer": "ipython3",
   "version": "3.8.5"
  }
 },
 "nbformat": 4,
 "nbformat_minor": 4
}
